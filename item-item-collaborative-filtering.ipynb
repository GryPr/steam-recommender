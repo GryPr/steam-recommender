{
 "cells": [
  {
   "attachments": {},
   "cell_type": "markdown",
   "metadata": {},
   "source": [
    "# Item-item collaborative filtering"
   ]
  },
  {
   "cell_type": "code",
   "execution_count": 198,
   "metadata": {},
   "outputs": [],
   "source": [
    "from pyspark.sql.functions import mean, row_number, when, udf, stddev_pop, col, lit, collect_list, avg, stddev, collect_list, udf, size\n",
    "from pyspark.ml.stat import Correlation\n",
    "from pyspark.sql import SparkSession\n",
    "from pyspark.sql.types import ArrayType, DoubleType, FloatType\n",
    "from pyspark.sql.window import Window\n",
    "from pyspark.ml.linalg import Vectors, VectorUDT\n",
    "import math"
   ]
  },
  {
   "attachments": {},
   "cell_type": "markdown",
   "metadata": {},
   "source": [
    "## Overview\n",
    "1. Load dataset\n",
    "2. Split the dataset\n",
    "3. Normalize the dataset playtime into a 1-5 rating scale\n",
    "4. Compute Pearson correlation matrix\n",
    "5. Rating prediction by doing a weighted average of the k most similar items that the user has played before"
   ]
  },
  {
   "attachments": {},
   "cell_type": "markdown",
   "metadata": {},
   "source": [
    "## Load Dataset\n",
    "The dataset is loaded from MariaDB into a dataframe."
   ]
  },
  {
   "cell_type": "code",
   "execution_count": 199,
   "metadata": {},
   "outputs": [],
   "source": [
    "spark = SparkSession.builder.appName('ReadMariaDB') \\\n",
    ".config(\"spark.driver.memory\", \"32g\") \\\n",
    ".config(\"spark.sql.pivotMaxValues\", \"1000000\") \\\n",
    ".getOrCreate()\n",
    "\n",
    "spark.sparkContext.setLogLevel(\"ERROR\")\n",
    "\n",
    "\n",
    "sql = \"select * from 01_sampled_games_2v2 WHERE playtime_forever IS NOT NULL AND playtime_forever > 0\"\n",
    "database = \"steam\"\n",
    "user = \"root\"\n",
    "password = \"example\"\n",
    "server = \"127.0.0.1\"\n",
    "port = 3306\n",
    "jdbc_url = f\"jdbc:mysql://{server}:{port}/{database}?permitMysqlScheme\"\n",
    "jdbc_driver = \"org.mariadb.jdbc.Driver\"\n",
    "\n",
    "# Create a data frame by reading data from Oracle via JDBC\n",
    "df = spark.read.format(\"jdbc\") \\\n",
    "    .option(\"url\", jdbc_url) \\\n",
    "    .option(\"query\", sql) \\\n",
    "    .option(\"user\", user) \\\n",
    "    .option(\"password\", password) \\\n",
    "    .option(\"driver\", jdbc_driver) \\\n",
    "    .load()\n",
    "\n",
    "df = df.drop(\"playtime_2weeks\", \"dateretrieved\")"
   ]
  },
  {
   "cell_type": "code",
   "execution_count": 200,
   "metadata": {},
   "outputs": [
    {
     "name": "stdout",
     "output_type": "stream",
     "text": [
      "The DataFrame has 408349 rows.\n",
      "+-----------------+-----+----------------+\n",
      "|          steamid|appid|playtime_forever|\n",
      "+-----------------+-----+----------------+\n",
      "|76561197960268000|   10|               8|\n",
      "|76561197960268000|   20|               1|\n",
      "|76561197960268000|   50|            1719|\n",
      "|76561197960268000|   60|               1|\n",
      "|76561197960268000|   70|            1981|\n",
      "|76561197960268000|  130|             175|\n",
      "|76561197960268000|  220|            3873|\n",
      "|76561197960268000|  240|             221|\n",
      "|76561197960268000|  320|               1|\n",
      "|76561197960268000|  280|            1242|\n",
      "|76561197960268000|  300|             109|\n",
      "|76561197960268000|  360|               3|\n",
      "|76561197960268000| 1300|              94|\n",
      "|76561197960268000| 1313|             213|\n",
      "|76561197960268000|  380|             944|\n",
      "|76561197960268000| 2100|             110|\n",
      "|76561197960268000| 4000|             152|\n",
      "|76561197960268000| 3970|             586|\n",
      "|76561197960268000| 2600|              59|\n",
      "|76561197960268000| 6910|            1729|\n",
      "+-----------------+-----+----------------+\n",
      "only showing top 20 rows\n",
      "\n"
     ]
    }
   ],
   "source": [
    "# Count the number of rows in the DataFrame\n",
    "row_count = df.count()\n",
    "\n",
    "# Print the row count\n",
    "print(\"The DataFrame has\", row_count, \"rows.\")\n",
    "\n",
    "df.show()"
   ]
  },
  {
   "attachments": {},
   "cell_type": "markdown",
   "metadata": {},
   "source": [
    "## Split the dataset"
   ]
  },
  {
   "cell_type": "code",
   "execution_count": 201,
   "metadata": {},
   "outputs": [],
   "source": [
    "# Randomly split the data into 70% training and 30% test data\n",
    "training, test = df.randomSplit([0.7, 0.3], seed=1234)"
   ]
  },
  {
   "attachments": {},
   "cell_type": "markdown",
   "metadata": {},
   "source": [
    "## Per-Game 1-5 Rating Normalization\n",
    "For each game, we calculate the mean and standard deviation. We then create buckets for each rating:\n",
    "### Scaling factor\n",
    "The cut points are scaled on a per-user basis since some users are more casual gamers while others may spend a lot more time gaming. The scaling factor is calculated as follows:\n",
    "\n",
    "(user_playtime_average)/(global_playtime_average)\n",
    "\n",
    "### Cut points\n",
    "* Cut point 1: (mean - std_dev*0.5) * scaling_factor if > 0, else 0\n",
    "* Cut point 2: mean\n",
    "* Cut point 3: (mean + std_dev*0.5) * scaling_factor\n",
    "* Cut point 4: (mean + std_dev) * scaling_factor\n",
    "### Ratings\n",
    "* Rating 1: 0 < x < cut point 1\n",
    "* Rating 2: cut point 1 < x < cut point 2\n",
    "* Rating 3: cut point 2 < x < cut point 3\n",
    "* Rating 4: cut point 3 < x < cut point 4\n",
    "* Rating 5: cut point 5 < x < inf"
   ]
  },
  {
   "cell_type": "code",
   "execution_count": 202,
   "metadata": {},
   "outputs": [
    {
     "name": "stderr",
     "output_type": "stream",
     "text": [
      "ERROR:root:KeyboardInterrupt while sending command.][Stage 2995:> (0 + 1) / 1]  \n",
      "Traceback (most recent call last):\n",
      "  File \"/home/kevin/Documents/Repositories/steam-recommender/venv/lib/python3.10/site-packages/py4j/java_gateway.py\", line 1038, in send_command\n",
      "    response = connection.send_command(command)\n",
      "  File \"/home/kevin/Documents/Repositories/steam-recommender/venv/lib/python3.10/site-packages/py4j/clientserver.py\", line 511, in send_command\n",
      "    answer = smart_decode(self.stream.readline()[:-1])\n",
      "  File \"/usr/lib/python3.10/socket.py\", line 705, in readinto\n",
      "    return self._sock.recv_into(b)\n",
      "KeyboardInterrupt\n",
      "                                                                                \r"
     ]
    },
    {
     "ename": "KeyboardInterrupt",
     "evalue": "",
     "output_type": "error",
     "traceback": [
      "\u001b[0;31m---------------------------------------------------------------------------\u001b[0m",
      "\u001b[0;31mKeyboardInterrupt\u001b[0m                         Traceback (most recent call last)",
      "Cell \u001b[0;32mIn[202], line 46\u001b[0m\n\u001b[1;32m     43\u001b[0m \u001b[39m# Normalize the training dataset\u001b[39;00m\n\u001b[1;32m     44\u001b[0m training \u001b[39m=\u001b[39m normalize_dataset(training)\n\u001b[0;32m---> 46\u001b[0m training\u001b[39m.\u001b[39;49mshow()\n",
      "File \u001b[0;32m~/Documents/Repositories/steam-recommender/venv/lib/python3.10/site-packages/pyspark/sql/dataframe.py:606\u001b[0m, in \u001b[0;36mDataFrame.show\u001b[0;34m(self, n, truncate, vertical)\u001b[0m\n\u001b[1;32m    603\u001b[0m     \u001b[39mraise\u001b[39;00m \u001b[39mTypeError\u001b[39;00m(\u001b[39m\"\u001b[39m\u001b[39mParameter \u001b[39m\u001b[39m'\u001b[39m\u001b[39mvertical\u001b[39m\u001b[39m'\u001b[39m\u001b[39m must be a bool\u001b[39m\u001b[39m\"\u001b[39m)\n\u001b[1;32m    605\u001b[0m \u001b[39mif\u001b[39;00m \u001b[39misinstance\u001b[39m(truncate, \u001b[39mbool\u001b[39m) \u001b[39mand\u001b[39;00m truncate:\n\u001b[0;32m--> 606\u001b[0m     \u001b[39mprint\u001b[39m(\u001b[39mself\u001b[39;49m\u001b[39m.\u001b[39;49m_jdf\u001b[39m.\u001b[39;49mshowString(n, \u001b[39m20\u001b[39;49m, vertical))\n\u001b[1;32m    607\u001b[0m \u001b[39melse\u001b[39;00m:\n\u001b[1;32m    608\u001b[0m     \u001b[39mtry\u001b[39;00m:\n",
      "File \u001b[0;32m~/Documents/Repositories/steam-recommender/venv/lib/python3.10/site-packages/py4j/java_gateway.py:1320\u001b[0m, in \u001b[0;36mJavaMember.__call__\u001b[0;34m(self, *args)\u001b[0m\n\u001b[1;32m   1313\u001b[0m args_command, temp_args \u001b[39m=\u001b[39m \u001b[39mself\u001b[39m\u001b[39m.\u001b[39m_build_args(\u001b[39m*\u001b[39margs)\n\u001b[1;32m   1315\u001b[0m command \u001b[39m=\u001b[39m proto\u001b[39m.\u001b[39mCALL_COMMAND_NAME \u001b[39m+\u001b[39m\\\n\u001b[1;32m   1316\u001b[0m     \u001b[39mself\u001b[39m\u001b[39m.\u001b[39mcommand_header \u001b[39m+\u001b[39m\\\n\u001b[1;32m   1317\u001b[0m     args_command \u001b[39m+\u001b[39m\\\n\u001b[1;32m   1318\u001b[0m     proto\u001b[39m.\u001b[39mEND_COMMAND_PART\n\u001b[0;32m-> 1320\u001b[0m answer \u001b[39m=\u001b[39m \u001b[39mself\u001b[39;49m\u001b[39m.\u001b[39;49mgateway_client\u001b[39m.\u001b[39;49msend_command(command)\n\u001b[1;32m   1321\u001b[0m return_value \u001b[39m=\u001b[39m get_return_value(\n\u001b[1;32m   1322\u001b[0m     answer, \u001b[39mself\u001b[39m\u001b[39m.\u001b[39mgateway_client, \u001b[39mself\u001b[39m\u001b[39m.\u001b[39mtarget_id, \u001b[39mself\u001b[39m\u001b[39m.\u001b[39mname)\n\u001b[1;32m   1324\u001b[0m \u001b[39mfor\u001b[39;00m temp_arg \u001b[39min\u001b[39;00m temp_args:\n",
      "File \u001b[0;32m~/Documents/Repositories/steam-recommender/venv/lib/python3.10/site-packages/py4j/java_gateway.py:1038\u001b[0m, in \u001b[0;36mGatewayClient.send_command\u001b[0;34m(self, command, retry, binary)\u001b[0m\n\u001b[1;32m   1036\u001b[0m connection \u001b[39m=\u001b[39m \u001b[39mself\u001b[39m\u001b[39m.\u001b[39m_get_connection()\n\u001b[1;32m   1037\u001b[0m \u001b[39mtry\u001b[39;00m:\n\u001b[0;32m-> 1038\u001b[0m     response \u001b[39m=\u001b[39m connection\u001b[39m.\u001b[39;49msend_command(command)\n\u001b[1;32m   1039\u001b[0m     \u001b[39mif\u001b[39;00m binary:\n\u001b[1;32m   1040\u001b[0m         \u001b[39mreturn\u001b[39;00m response, \u001b[39mself\u001b[39m\u001b[39m.\u001b[39m_create_connection_guard(connection)\n",
      "File \u001b[0;32m~/Documents/Repositories/steam-recommender/venv/lib/python3.10/site-packages/py4j/clientserver.py:511\u001b[0m, in \u001b[0;36mClientServerConnection.send_command\u001b[0;34m(self, command)\u001b[0m\n\u001b[1;32m    509\u001b[0m \u001b[39mtry\u001b[39;00m:\n\u001b[1;32m    510\u001b[0m     \u001b[39mwhile\u001b[39;00m \u001b[39mTrue\u001b[39;00m:\n\u001b[0;32m--> 511\u001b[0m         answer \u001b[39m=\u001b[39m smart_decode(\u001b[39mself\u001b[39;49m\u001b[39m.\u001b[39;49mstream\u001b[39m.\u001b[39;49mreadline()[:\u001b[39m-\u001b[39m\u001b[39m1\u001b[39m])\n\u001b[1;32m    512\u001b[0m         logger\u001b[39m.\u001b[39mdebug(\u001b[39m\"\u001b[39m\u001b[39mAnswer received: \u001b[39m\u001b[39m{0}\u001b[39;00m\u001b[39m\"\u001b[39m\u001b[39m.\u001b[39mformat(answer))\n\u001b[1;32m    513\u001b[0m         \u001b[39m# Happens when a the other end is dead. There might be an empty\u001b[39;00m\n\u001b[1;32m    514\u001b[0m         \u001b[39m# answer before the socket raises an error.\u001b[39;00m\n",
      "File \u001b[0;32m/usr/lib/python3.10/socket.py:705\u001b[0m, in \u001b[0;36mSocketIO.readinto\u001b[0;34m(self, b)\u001b[0m\n\u001b[1;32m    703\u001b[0m \u001b[39mwhile\u001b[39;00m \u001b[39mTrue\u001b[39;00m:\n\u001b[1;32m    704\u001b[0m     \u001b[39mtry\u001b[39;00m:\n\u001b[0;32m--> 705\u001b[0m         \u001b[39mreturn\u001b[39;00m \u001b[39mself\u001b[39;49m\u001b[39m.\u001b[39;49m_sock\u001b[39m.\u001b[39;49mrecv_into(b)\n\u001b[1;32m    706\u001b[0m     \u001b[39mexcept\u001b[39;00m timeout:\n\u001b[1;32m    707\u001b[0m         \u001b[39mself\u001b[39m\u001b[39m.\u001b[39m_timeout_occurred \u001b[39m=\u001b[39m \u001b[39mTrue\u001b[39;00m\n",
      "\u001b[0;31mKeyboardInterrupt\u001b[0m: "
     ]
    }
   ],
   "source": [
    "def normalize_dataset(df):\n",
    "    # Calculate the per-game mean and standard deviation of the playtime column\n",
    "    game_stats = df.filter(col(\"playtime_forever\") > 0).groupBy(\"appid\").agg(\n",
    "        mean(\"playtime_forever\").alias(\"game_mean_playtime\"),\n",
    "        stddev_pop(\"playtime_forever\").alias(\"game_stddev_playtime\")\n",
    "    )\n",
    "\n",
    "    # Calculate the overall playtime average\n",
    "    overall_playtime_avg = df.filter(col(\"playtime_forever\") > 0).agg(avg(\"playtime_forever\")).collect()[0][0]\n",
    "\n",
    "    # Calculate the per-steamid playtime average\n",
    "    user_playtime_avg = df.filter(col(\"playtime_forever\") > 0).groupBy(\"steamid\").agg(avg(\"playtime_forever\")).withColumnRenamed(\"avg(playtime_forever)\", \"user_playtime_avg\")\n",
    "\n",
    "    # Join the user_playtime_avg dataframe with the main dataframe\n",
    "    df = df.join(user_playtime_avg, \"steamid\")\n",
    "\n",
    "    # Join the game_stats dataframe with the main dataframe\n",
    "    df = df.join(game_stats, \"appid\")\n",
    "\n",
    "    # Calculate the scaling factor based on the ratio of user playtime to overall playtime\n",
    "    df = df.withColumn(\"scaling_factor\", col(\"user_playtime_avg\") / overall_playtime_avg)\n",
    "\n",
    "    # Calculate the adjusted cut points\n",
    "    df = df.withColumn(\"cut_point_1\", when((col(\"game_mean_playtime\") - col(\"game_stddev_playtime\") * 0.5) * col(\"scaling_factor\") > 0, col(\"game_mean_playtime\") - (col(\"game_stddev_playtime\") * 0.5 * col(\"scaling_factor\"))).otherwise(0))\n",
    "    df = df.withColumn(\"cut_point_2\", col(\"game_mean_playtime\") * col(\"scaling_factor\"))\n",
    "    df = df.withColumn(\"cut_point_3\", (col(\"game_mean_playtime\") + col(\"game_stddev_playtime\") * 0.5) * col(\"scaling_factor\"))\n",
    "    df = df.withColumn(\"cut_point_4\", (col(\"game_mean_playtime\") + col(\"game_stddev_playtime\")) * col(\"scaling_factor\"))\n",
    "\n",
    "    # Assign ratings based on adjusted cut points\n",
    "    df = df.withColumn(\n",
    "        \"ratings\",\n",
    "        when(col(\"playtime_forever\") <= col(\"cut_point_1\"), lit(1))\n",
    "        .when((col(\"playtime_forever\") > col(\"cut_point_1\")) & (col(\"playtime_forever\") <= col(\"cut_point_2\")), lit(2))\n",
    "        .when((col(\"playtime_forever\") > col(\"cut_point_2\")) & (col(\"playtime_forever\") <= col(\"cut_point_3\")), lit(3))\n",
    "        .when((col(\"playtime_forever\") > col(\"cut_point_3\")) & (col(\"playtime_forever\") <= col(\"cut_point_4\")), lit(4))\n",
    "        .otherwise(lit(5))\n",
    "    )\n",
    "\n",
    "    # Drop the columns that are no longer needed\n",
    "    df = df.drop(\"playtime_forever\", \"game_mean_playtime\", \"game_stddev_playtime\", \"user_playtime_avg\", \"scaling_factor\", \"cut_point_1\", \"cut_point_2\", \"cut_point_3\", \"cut_point_4\")\n",
    "    return df\n",
    "\n",
    "# Normalize the training dataset\n",
    "training = normalize_dataset(training)\n",
    "\n",
    "training.show()"
   ]
  },
  {
   "attachments": {},
   "cell_type": "markdown",
   "metadata": {},
   "source": [
    "## Pearson Correlation Matrix\n",
    "Since the dataset contains at most ~4500 games, we can expect a 4500^2=81,000,000 sized matrix. Each float entry takes 4 bytes in memory. Therefore, the pearson correlation matrix would take up 324 MB of memory.\n",
    "\n",
    "Since the memory used is relatively small, we will pre-compute the person correlation matrix and store it for use later in the algorithm."
   ]
  },
  {
   "attachments": {},
   "cell_type": "markdown",
   "metadata": {},
   "source": [
    "To start off, we create a list of features for each game (appid) using the playtime_forever of all users who have played the game."
   ]
  },
  {
   "cell_type": "code",
   "execution_count": null,
   "metadata": {},
   "outputs": [
    {
     "name": "stderr",
     "output_type": "stream",
     "text": [
      "                                                                                \r"
     ]
    }
   ],
   "source": [
    "# Compute the maximum length of the lists of ratings values\n",
    "max_len = training.filter(\"ratings IS NOT NULL\") \\\n",
    "    .groupBy('appid').agg(size(collect_list('ratings')).alias('num_playtimes')) \\\n",
    "    .agg({'num_playtimes': 'max'}).collect()[0][0]\n",
    "\n",
    "# Define a UDF to pad lists with zeros\n",
    "pad_zeros = udf(lambda x: x + [0.0]*(max_len-len(x)), ArrayType(DoubleType()))\n",
    "\n",
    "# Create playtime vectors for each game\n",
    "list_to_dense = udf(lambda l: Vectors.dense(l), VectorUDT())\n",
    "vectors = training.filter(\"ratings IS NOT NULL\")\\\n",
    "    .groupBy('appid').agg(collect_list('ratings'))\\\n",
    "        .withColumn('padded_features', pad_zeros('collect_list(ratings)')) \\\n",
    "        .withColumn('features', list_to_dense('padded_features'))"
   ]
  },
  {
   "attachments": {},
   "cell_type": "markdown",
   "metadata": {},
   "source": [
    "We add a row number column to the dataframe so that we can match the appid with the row number in the correlation matrix."
   ]
  },
  {
   "cell_type": "code",
   "execution_count": null,
   "metadata": {},
   "outputs": [
    {
     "name": "stderr",
     "output_type": "stream",
     "text": [
      "[Stage 2831:>                                                       (0 + 1) / 1]\r"
     ]
    },
    {
     "name": "stdout",
     "output_type": "stream",
     "text": [
      "+-----+---------------------+--------------------+--------------------+-------+\n",
      "|appid|collect_list(ratings)|     padded_features|            features|row_num|\n",
      "+-----+---------------------+--------------------+--------------------+-------+\n",
      "|   10| [2, 2, 3, 2, 2, 2...|[null, null, null...|[2.0,2.0,3.0,2.0,...|      1|\n",
      "|   20| [2, 3, 2, 2, 2, 3...|[null, null, null...|[2.0,3.0,2.0,2.0,...|      2|\n",
      "|   30| [4, 2, 2, 3, 2, 2...|[null, null, null...|[4.0,2.0,2.0,3.0,...|      3|\n",
      "|   40| [2, 2, 2, 2, 2, 5...|[null, null, null...|[2.0,2.0,2.0,2.0,...|      4|\n",
      "|   50| [5, 4, 2, 2, 4, 2...|[null, null, null...|[5.0,4.0,2.0,2.0,...|      5|\n",
      "|   60| [2, 2, 2, 3, 4, 2...|[null, null, null...|[2.0,2.0,2.0,3.0,...|      6|\n",
      "|   70| [2, 5, 2, 5, 3, 2...|[null, null, null...|[2.0,5.0,2.0,5.0,...|      7|\n",
      "|   80| [3, 2, 2, 3, 2, 2...|[null, null, null...|[3.0,2.0,2.0,3.0,...|      8|\n",
      "|   92| [2, 5, 1, 1, 1, 5...|[null, null, null...|[2.0,5.0,1.0,1.0,...|      9|\n",
      "|  100| [5, 2, 2, 2, 4, 2...|[null, null, null...|[5.0,2.0,2.0,2.0,...|     10|\n",
      "|  130| [3, 2, 5, 5, 2, 4...|[null, null, null...|[3.0,2.0,5.0,5.0,...|     11|\n",
      "|  211| [4, 2, 4, 2, 2, 4...|[null, null, null...|[4.0,2.0,4.0,2.0,...|     12|\n",
      "|  220| [3, 2, 5, 1, 5, 2...|[null, null, null...|[3.0,2.0,5.0,1.0,...|     13|\n",
      "|  240| [2, 2, 2, 2, 2, 3...|[null, null, null...|[2.0,2.0,2.0,2.0,...|     14|\n",
      "|  280| [1, 5, 1, 2, 1, 1...|[null, null, null...|[1.0,5.0,1.0,2.0,...|     15|\n",
      "|  300| [2, 2, 2, 2, 2, 3...|[null, null, null...|[2.0,2.0,2.0,2.0,...|     16|\n",
      "|  320| [2, 2, 3, 2, 3, 2...|[null, null, null...|[2.0,2.0,3.0,2.0,...|     17|\n",
      "|  340| [3, 5, 2, 3, 2, 4...|[null, null, null...|[3.0,5.0,2.0,3.0,...|     18|\n",
      "|  360| [5, 3, 3, 2, 5, 2...|[null, null, null...|[5.0,3.0,3.0,2.0,...|     19|\n",
      "|  380| [2, 5, 3, 5, 2, 5...|[null, null, null...|[2.0,5.0,3.0,5.0,...|     20|\n",
      "+-----+---------------------+--------------------+--------------------+-------+\n",
      "only showing top 20 rows\n",
      "\n"
     ]
    },
    {
     "name": "stderr",
     "output_type": "stream",
     "text": [
      "                                                                                \r"
     ]
    }
   ],
   "source": [
    "# Add a row number column to the game matrix\n",
    "windowSpec = Window.orderBy(\"appid\")\n",
    "vectors = vectors.withColumn(\"row_num\", row_number().over(windowSpec))\n",
    "vectors.show()"
   ]
  },
  {
   "attachments": {},
   "cell_type": "markdown",
   "metadata": {},
   "source": [
    "Using the correlation method provided by Pyspark, we compute the correlation matrix."
   ]
  },
  {
   "cell_type": "code",
   "execution_count": null,
   "metadata": {},
   "outputs": [
    {
     "name": "stderr",
     "output_type": "stream",
     "text": [
      "                                                                                \r"
     ]
    },
    {
     "name": "stdout",
     "output_type": "stream",
     "text": [
      "[[ 1.00000000e+00 -5.28235375e-03  4.51223406e-02 ... -2.59413205e-03\n",
      "  -2.59413205e-03 -2.59413205e-03]\n",
      " [-5.28235375e-03  1.00000000e+00  1.34916033e-01 ... -1.68386308e-03\n",
      "  -1.68386308e-03 -1.68386308e-03]\n",
      " [ 4.51223406e-02  1.34916033e-01  1.00000000e+00 ...  7.59441798e-04\n",
      "   7.59441798e-04  7.59441798e-04]\n",
      " ...\n",
      " [-2.59413205e-03 -1.68386308e-03  7.59441798e-04 ...  1.00000000e+00\n",
      "   1.00000000e+00  1.00000000e+00]\n",
      " [-2.59413205e-03 -1.68386308e-03  7.59441798e-04 ...  1.00000000e+00\n",
      "   1.00000000e+00  1.00000000e+00]\n",
      " [-2.59413205e-03 -1.68386308e-03  7.59441798e-04 ...  1.00000000e+00\n",
      "   1.00000000e+00  1.00000000e+00]]\n"
     ]
    }
   ],
   "source": [
    "pearson_matrix = Correlation.corr(vectors.orderBy(\"row_num\"), \"features\", \"pearson\")\n",
    "corr_array = pearson_matrix.head()[0].toArray()\n",
    "print(corr_array)"
   ]
  },
  {
   "cell_type": "code",
   "execution_count": null,
   "metadata": {},
   "outputs": [
    {
     "name": "stderr",
     "output_type": "stream",
     "text": [
      "                                                                                \r"
     ]
    },
    {
     "name": "stdout",
     "output_type": "stream",
     "text": [
      "{Decimal('10'): 1, Decimal('20'): 2, Decimal('30'): 3, Decimal('40'): 4, Decimal('50'): 5, Decimal('60'): 6, Decimal('70'): 7, Decimal('80'): 8, Decimal('92'): 9, Decimal('100'): 10, Decimal('130'): 11, Decimal('211'): 12, Decimal('220'): 13, Decimal('240'): 14, Decimal('280'): 15, Decimal('300'): 16, Decimal('320'): 17, Decimal('340'): 18, Decimal('360'): 19, Decimal('380'): 20, Decimal('400'): 21, Decimal('420'): 22, Decimal('440'): 23, Decimal('500'): 24, Decimal('550'): 25, Decimal('570'): 26, Decimal('620'): 27, Decimal('630'): 28, Decimal('730'): 29, Decimal('1002'): 30, Decimal('1200'): 31, Decimal('1210'): 32, Decimal('1230'): 33, Decimal('1250'): 34, Decimal('1280'): 35, Decimal('1300'): 36, Decimal('1309'): 37, Decimal('1313'): 38, Decimal('1320'): 39, Decimal('1500'): 40, Decimal('1510'): 41, Decimal('1520'): 42, Decimal('1525'): 43, Decimal('1530'): 44, Decimal('1600'): 45, Decimal('1610'): 46, Decimal('1630'): 47, Decimal('1640'): 48, Decimal('1670'): 49, Decimal('1690'): 50, Decimal('1700'): 51, Decimal('1840'): 52, Decimal('1900'): 53, Decimal('1920'): 54, Decimal('1930'): 55, Decimal('2100'): 56, Decimal('2130'): 57, Decimal('2200'): 58, Decimal('2210'): 59, Decimal('2270'): 60, Decimal('2280'): 61, Decimal('2290'): 62, Decimal('2300'): 63, Decimal('2310'): 64, Decimal('2320'): 65, Decimal('2330'): 66, Decimal('2340'): 67, Decimal('2350'): 68, Decimal('2360'): 69, Decimal('2370'): 70, Decimal('2390'): 71, Decimal('2400'): 72, Decimal('2420'): 73, Decimal('2430'): 74, Decimal('2450'): 75, Decimal('2500'): 76, Decimal('2520'): 77, Decimal('2525'): 78, Decimal('2540'): 79, Decimal('2545'): 80, Decimal('2550'): 81, Decimal('2570'): 82, Decimal('2590'): 83, Decimal('2600'): 84, Decimal('2610'): 85, Decimal('2620'): 86, Decimal('2630'): 87, Decimal('2640'): 88, Decimal('2680'): 89, Decimal('2690'): 90, Decimal('2700'): 91, Decimal('2710'): 92, Decimal('2720'): 93, Decimal('2760'): 94, Decimal('2780'): 95, Decimal('2790'): 96, Decimal('2800'): 97, Decimal('2810'): 98, Decimal('2820'): 99, Decimal('2840'): 100, Decimal('2850'): 101, Decimal('2870'): 102, Decimal('2900'): 103, Decimal('2910'): 104, Decimal('2920'): 105, Decimal('2930'): 106, Decimal('2990'): 107, Decimal('3000'): 108, Decimal('3010'): 109, Decimal('3020'): 110, Decimal('3050'): 111, Decimal('3130'): 112, Decimal('3150'): 113, Decimal('3160'): 114, Decimal('3170'): 115, Decimal('3200'): 116, Decimal('3220'): 117, Decimal('3230'): 118, Decimal('3260'): 119, Decimal('3270'): 120, Decimal('3300'): 121, Decimal('3310'): 122, Decimal('3320'): 123, Decimal('3330'): 124, Decimal('3340'): 125, Decimal('3350'): 126, Decimal('3360'): 127, Decimal('3370'): 128, Decimal('3380'): 129, Decimal('3390'): 130, Decimal('3400'): 131, Decimal('3410'): 132, Decimal('3420'): 133, Decimal('3430'): 134, Decimal('3440'): 135, Decimal('3450'): 136, Decimal('3460'): 137, Decimal('3470'): 138, Decimal('3480'): 139, Decimal('3483'): 140, Decimal('3490'): 141, Decimal('3500'): 142, Decimal('3510'): 143, Decimal('3520'): 144, Decimal('3530'): 145, Decimal('3540'): 146, Decimal('3560'): 147, Decimal('3570'): 148, Decimal('3580'): 149, Decimal('3590'): 150, Decimal('3600'): 151, Decimal('3610'): 152, Decimal('3620'): 153, Decimal('3630'): 154, Decimal('3700'): 155, Decimal('3710'): 156, Decimal('3720'): 157, Decimal('3730'): 158, Decimal('3800'): 159, Decimal('3810'): 160, Decimal('3820'): 161, Decimal('3830'): 162, Decimal('3900'): 163, Decimal('3910'): 164, Decimal('3920'): 165, Decimal('3960'): 166, Decimal('3970'): 167, Decimal('3980'): 168, Decimal('3990'): 169, Decimal('4000'): 170, Decimal('4100'): 171, Decimal('4230'): 172, Decimal('4290'): 173, Decimal('4300'): 174, Decimal('4320'): 175, Decimal('4420'): 176, Decimal('4460'): 177, Decimal('4470'): 178, Decimal('4500'): 179, Decimal('4520'): 180, Decimal('4530'): 181, Decimal('4540'): 182, Decimal('4550'): 183, Decimal('4560'): 184, Decimal('4570'): 185, Decimal('4580'): 186, Decimal('4600'): 187, Decimal('4700'): 188, Decimal('4720'): 189, Decimal('4730'): 190, Decimal('4760'): 191, Decimal('4770'): 192, Decimal('4800'): 193, Decimal('4830'): 194, Decimal('4850'): 195, Decimal('4870'): 196, Decimal('4880'): 197, Decimal('4890'): 198, Decimal('4900'): 199, Decimal('4920'): 200, Decimal('6000'): 201, Decimal('6010'): 202, Decimal('6020'): 203, Decimal('6030'): 204, Decimal('6040'): 205, Decimal('6060'): 206, Decimal('6080'): 207, Decimal('6090'): 208, Decimal('6100'): 209, Decimal('6120'): 210, Decimal('6200'): 211, Decimal('6210'): 212, Decimal('6220'): 213, Decimal('6250'): 214, Decimal('6270'): 215, Decimal('6300'): 216, Decimal('6310'): 217, Decimal('6330'): 218, Decimal('6340'): 219, Decimal('6350'): 220, Decimal('6370'): 221, Decimal('6400'): 222, Decimal('6420'): 223, Decimal('6510'): 224, Decimal('6550'): 225, Decimal('6570'): 226, Decimal('6600'): 227, Decimal('6800'): 228, Decimal('6810'): 229, Decimal('6830'): 230, Decimal('6840'): 231, Decimal('6850'): 232, Decimal('6860'): 233, Decimal('6870'): 234, Decimal('6880'): 235, Decimal('6900'): 236, Decimal('6910'): 237, Decimal('6920'): 238, Decimal('6980'): 239, Decimal('7000'): 240, Decimal('7010'): 241, Decimal('7020'): 242, Decimal('7060'): 243, Decimal('7110'): 244, Decimal('7200'): 245, Decimal('7210'): 246, Decimal('7220'): 247, Decimal('7260'): 248, Decimal('7340'): 249, Decimal('7400'): 250, Decimal('7450'): 251, Decimal('7470'): 252, Decimal('7500'): 253, Decimal('7510'): 254, Decimal('7520'): 255, Decimal('7530'): 256, Decimal('7600'): 257, Decimal('7610'): 258, Decimal('7620'): 259, Decimal('7650'): 260, Decimal('7660'): 261, Decimal('7670'): 262, Decimal('7730'): 263, Decimal('7740'): 264, Decimal('7760'): 265, Decimal('7770'): 266, Decimal('7780'): 267, Decimal('7800'): 268, Decimal('7810'): 269, Decimal('7830'): 270, Decimal('7840'): 271, Decimal('7850'): 272, Decimal('7860'): 273, Decimal('7870'): 274, Decimal('7880'): 275, Decimal('7900'): 276, Decimal('7910'): 277, Decimal('7940'): 278, Decimal('7970'): 279, Decimal('7980'): 280, Decimal('7990'): 281, Decimal('8000'): 282, Decimal('8060'): 283, Decimal('8080'): 284, Decimal('8100'): 285, Decimal('8140'): 286, Decimal('8160'): 287, Decimal('8170'): 288, Decimal('8190'): 289, Decimal('8200'): 290, Decimal('8210'): 291, Decimal('8220'): 292, Decimal('8230'): 293, Decimal('8240'): 294, Decimal('8250'): 295, Decimal('8260'): 296, Decimal('8270'): 297, Decimal('8280'): 298, Decimal('8290'): 299, Decimal('8300'): 300, Decimal('8310'): 301, Decimal('8330'): 302, Decimal('8340'): 303, Decimal('8350'): 304, Decimal('8360'): 305, Decimal('8370'): 306, Decimal('8380'): 307, Decimal('8400'): 308, Decimal('8500'): 309, Decimal('8600'): 310, Decimal('8620'): 311, Decimal('8640'): 312, Decimal('8650'): 313, Decimal('8660'): 314, Decimal('8690'): 315, Decimal('8790'): 316, Decimal('8800'): 317, Decimal('8840'): 318, Decimal('8850'): 319, Decimal('8870'): 320, Decimal('8880'): 321, Decimal('8890'): 322, Decimal('8930'): 323, Decimal('8970'): 324, Decimal('8980'): 325, Decimal('9000'): 326, Decimal('9010'): 327, Decimal('9030'): 328, Decimal('9040'): 329, Decimal('9050'): 330, Decimal('9060'): 331, Decimal('9070'): 332, Decimal('9160'): 333, Decimal('9180'): 334, Decimal('9200'): 335, Decimal('9310'): 336, Decimal('9340'): 337, Decimal('9350'): 338, Decimal('9400'): 339, Decimal('9420'): 340, Decimal('9450'): 341, Decimal('9460'): 342, Decimal('9480'): 343, Decimal('9500'): 344, Decimal('9710'): 345, Decimal('9730'): 346, Decimal('9740'): 347, Decimal('9760'): 348, Decimal('9800'): 349, Decimal('9850'): 350, Decimal('9860'): 351, Decimal('9870'): 352, Decimal('9880'): 353, Decimal('9900'): 354, Decimal('9930'): 355, Decimal('9940'): 356, Decimal('9960'): 357, Decimal('9970'): 358, Decimal('9980'): 359, Decimal('9990'): 360, Decimal('10000'): 361, Decimal('10040'): 362, Decimal('10080'): 363, Decimal('10090'): 364, Decimal('10100'): 365, Decimal('10110'): 366, Decimal('10120'): 367, Decimal('10130'): 368, Decimal('10140'): 369, Decimal('10150'): 370, Decimal('10170'): 371, Decimal('10180'): 372, Decimal('10190'): 373, Decimal('10220'): 374, Decimal('10230'): 375, Decimal('10250'): 376, Decimal('10260'): 377, Decimal('10270'): 378, Decimal('10430'): 379, Decimal('10460'): 380, Decimal('10490'): 381, Decimal('10500'): 382, Decimal('10530'): 383, Decimal('10540'): 384, Decimal('10560'): 385, Decimal('10590'): 386, Decimal('10650'): 387, Decimal('10660'): 388, Decimal('10680'): 389, Decimal('10690'): 390, Decimal('10700'): 391, Decimal('11040'): 392, Decimal('11050'): 393, Decimal('11060'): 394, Decimal('11120'): 395, Decimal('11130'): 396, Decimal('11140'): 397, Decimal('11150'): 398, Decimal('11170'): 399, Decimal('11180'): 400, Decimal('11190'): 401, Decimal('11200'): 402, Decimal('11230'): 403, Decimal('11240'): 404, Decimal('11250'): 405, Decimal('11260'): 406, Decimal('11280'): 407, Decimal('11330'): 408, Decimal('11340'): 409, Decimal('11360'): 410, Decimal('11370'): 411, Decimal('11390'): 412, Decimal('11420'): 413, Decimal('11440'): 414, Decimal('11450'): 415, Decimal('11480'): 416, Decimal('11500'): 417, Decimal('11520'): 418, Decimal('11550'): 419, Decimal('11560'): 420, Decimal('11590'): 421, Decimal('11610'): 422, Decimal('11900'): 423, Decimal('11920'): 424, Decimal('12100'): 425, Decimal('12110'): 426, Decimal('12120'): 427, Decimal('12130'): 428, Decimal('12140'): 429, Decimal('12150'): 430, Decimal('12160'): 431, Decimal('12170'): 432, Decimal('12180'): 433, Decimal('12190'): 434, Decimal('12200'): 435, Decimal('12210'): 436, Decimal('12220'): 437, Decimal('12230'): 438, Decimal('12240'): 439, Decimal('12250'): 440, Decimal('12260'): 441, Decimal('12310'): 442, Decimal('12320'): 443, Decimal('12330'): 444, Decimal('12340'): 445, Decimal('12360'): 446, Decimal('12370'): 447, Decimal('12380'): 448, Decimal('12390'): 449, Decimal('12420'): 450, Decimal('12430'): 451, Decimal('12440'): 452, Decimal('12450'): 453, Decimal('12460'): 454, Decimal('12470'): 455, Decimal('12480'): 456, Decimal('12500'): 457, Decimal('12510'): 458, Decimal('12520'): 459, Decimal('12530'): 460, Decimal('12540'): 461, Decimal('12550'): 462, Decimal('12560'): 463, Decimal('12590'): 464, Decimal('12600'): 465, Decimal('12630'): 466, Decimal('12640'): 467, Decimal('12650'): 468, Decimal('12670'): 469, Decimal('12690'): 470, Decimal('12710'): 471, Decimal('12750'): 472, Decimal('12770'): 473, Decimal('12790'): 474, Decimal('12800'): 475, Decimal('12810'): 476, Decimal('12830'): 477, Decimal('12840'): 478, Decimal('12860'): 479, Decimal('12900'): 480, Decimal('13000'): 481, Decimal('13140'): 482, Decimal('13200'): 483, Decimal('13210'): 484, Decimal('13230'): 485, Decimal('13240'): 486, Decimal('13250'): 487, Decimal('13500'): 488, Decimal('13510'): 489, Decimal('13520'): 490, Decimal('13530'): 491, Decimal('13540'): 492, Decimal('13560'): 493, Decimal('13570'): 494, Decimal('13580'): 495, Decimal('13600'): 496, Decimal('13620'): 497, Decimal('13630'): 498, Decimal('13640'): 499, Decimal('13700'): 500, Decimal('15000'): 501, Decimal('15060'): 502, Decimal('15080'): 503, Decimal('15100'): 504, Decimal('15120'): 505, Decimal('15130'): 506, Decimal('15140'): 507, Decimal('15150'): 508, Decimal('15160'): 509, Decimal('15170'): 510, Decimal('15190'): 511, Decimal('15200'): 512, Decimal('15210'): 513, Decimal('15220'): 514, Decimal('15230'): 515, Decimal('15240'): 516, Decimal('15260'): 517, Decimal('15270'): 518, Decimal('15300'): 519, Decimal('15310'): 520, Decimal('15320'): 521, Decimal('15330'): 522, Decimal('15350'): 523, Decimal('15370'): 524, Decimal('15380'): 525, Decimal('15390'): 526, Decimal('15400'): 527, Decimal('15500'): 528, Decimal('15520'): 529, Decimal('15540'): 530, Decimal('15560'): 531, Decimal('15620'): 532, Decimal('15700'): 533, Decimal('15710'): 534, Decimal('15740'): 535, Decimal('15750'): 536, Decimal('15900'): 537, Decimal('15910'): 538, Decimal('15920'): 539, Decimal('15930'): 540, Decimal('15950'): 541, Decimal('15960'): 542, Decimal('15970'): 543, Decimal('15990'): 544, Decimal('16000'): 545, Decimal('16020'): 546, Decimal('16030'): 547, Decimal('16040'): 548, Decimal('16060'): 549, Decimal('16100'): 550, Decimal('16110'): 551, Decimal('16120'): 552, Decimal('16130'): 553, Decimal('16180'): 554, Decimal('16200'): 555, Decimal('16300'): 556, Decimal('16450'): 557, Decimal('16480'): 558, Decimal('16600'): 559, Decimal('16620'): 560, Decimal('16700'): 561, Decimal('16710'): 562, Decimal('16720'): 563, Decimal('16730'): 564, Decimal('16810'): 565, Decimal('17020'): 566, Decimal('17080'): 567, Decimal('17100'): 568, Decimal('17120'): 569, Decimal('17140'): 570, Decimal('17300'): 571, Decimal('17330'): 572, Decimal('17340'): 573, Decimal('17390'): 574, Decimal('17400'): 575, Decimal('17410'): 576, Decimal('17420'): 577, Decimal('17430'): 578, Decimal('17440'): 579, Decimal('17450'): 580, Decimal('17460'): 581, Decimal('17470'): 582, Decimal('17480'): 583, Decimal('17500'): 584, Decimal('17510'): 585, Decimal('17520'): 586, Decimal('17530'): 587, Decimal('17550'): 588, Decimal('17570'): 589, Decimal('17580'): 590, Decimal('17600'): 591, Decimal('17700'): 592, Decimal('17710'): 593, Decimal('17730'): 594, Decimal('17740'): 595, Decimal('17800'): 596, Decimal('17810'): 597, Decimal('18000'): 598, Decimal('18020'): 599, Decimal('18040'): 600, Decimal('18050'): 601, Decimal('18070'): 602, Decimal('18100'): 603, Decimal('18110'): 604, Decimal('18120'): 605, Decimal('18300'): 606, Decimal('18400'): 607, Decimal('18420'): 608, Decimal('18450'): 609, Decimal('18460'): 610, Decimal('18470'): 611, Decimal('18480'): 612, Decimal('18490'): 613, Decimal('18500'): 614, Decimal('18600'): 615, Decimal('18700'): 616, Decimal('18820'): 617, Decimal('19000'): 618, Decimal('19020'): 619, Decimal('19030'): 620, Decimal('19090'): 621, Decimal('19200'): 622, Decimal('19500'): 623, Decimal('19680'): 624, Decimal('19800'): 625, Decimal('19830'): 626, Decimal('19840'): 627, Decimal('19900'): 628, Decimal('19930'): 629, Decimal('19980'): 630, Decimal('19990'): 631, Decimal('20200'): 632, Decimal('20500'): 633, Decimal('20510'): 634, Decimal('20530'): 635, Decimal('20540'): 636, Decimal('20550'): 637, Decimal('20570'): 638, Decimal('20590'): 639, Decimal('20700'): 640, Decimal('20710'): 641, Decimal('20820'): 642, Decimal('20840'): 643, Decimal('20900'): 644, Decimal('20920'): 645, Decimal('21000'): 646, Decimal('21010'): 647, Decimal('21030'): 648, Decimal('21070'): 649, Decimal('21080'): 650, Decimal('21090'): 651, Decimal('21100'): 652, Decimal('21110'): 653, Decimal('21120'): 654, Decimal('21130'): 655, Decimal('21140'): 656, Decimal('21170'): 657, Decimal('21300'): 658, Decimal('21500'): 659, Decimal('21600'): 660, Decimal('21640'): 661, Decimal('21660'): 662, Decimal('21670'): 663, Decimal('21680'): 664, Decimal('21690'): 665, Decimal('21730'): 666, Decimal('21750'): 667, Decimal('21760'): 668, Decimal('21780'): 669, Decimal('21800'): 670, Decimal('21900'): 671, Decimal('21910'): 672, Decimal('21920'): 673, Decimal('21950'): 674, Decimal('21970'): 675, Decimal('21980'): 676, Decimal('22000'): 677, Decimal('22100'): 678, Decimal('22120'): 679, Decimal('22130'): 680, Decimal('22140'): 681, Decimal('22180'): 682, Decimal('22200'): 683, Decimal('22230'): 684, Decimal('22300'): 685, Decimal('22310'): 686, Decimal('22320'): 687, Decimal('22330'): 688, Decimal('22340'): 689, Decimal('22350'): 690, Decimal('22370'): 691, Decimal('22380'): 692, Decimal('22450'): 693, Decimal('22490'): 694, Decimal('22500'): 695, Decimal('22600'): 696, Decimal('22610'): 697, Decimal('22650'): 698, Decimal('22670'): 699, Decimal('23100'): 700, Decimal('23120'): 701, Decimal('23130'): 702, Decimal('23140'): 703, Decimal('23150'): 704, Decimal('23200'): 705, Decimal('23300'): 706, Decimal('23310'): 707, Decimal('23360'): 708, Decimal('23380'): 709, Decimal('23390'): 710, Decimal('23400'): 711, Decimal('23420'): 712, Decimal('23440'): 713, Decimal('23450'): 714, Decimal('23460'): 715, Decimal('23490'): 716, Decimal('23500'): 717, Decimal('23510'): 718, Decimal('23530'): 719, Decimal('23600'): 720, Decimal('23700'): 721, Decimal('24010'): 722, Decimal('24130'): 723, Decimal('24140'): 724, Decimal('24170'): 725, Decimal('24180'): 726, Decimal('24200'): 727, Decimal('24220'): 728, Decimal('24240'): 729, Decimal('24400'): 730, Decimal('24410'): 731, Decimal('24420'): 732, Decimal('24460'): 733, Decimal('24470'): 734, Decimal('24480'): 735, Decimal('24600'): 736, Decimal('24630'): 737, Decimal('24650'): 738, Decimal('24660'): 739, Decimal('24670'): 740, Decimal('24700'): 741, Decimal('24720'): 742, Decimal('24740'): 743, Decimal('24780'): 744, Decimal('24790'): 745, Decimal('24800'): 746, Decimal('24810'): 747, Decimal('24840'): 748, Decimal('24850'): 749, Decimal('24860'): 750, Decimal('24870'): 751, Decimal('24920'): 752, Decimal('24960'): 753, Decimal('24980'): 754, Decimal('25000'): 755, Decimal('25010'): 756, Decimal('25500'): 757, Decimal('25600'): 758, Decimal('25620'): 759, Decimal('25700'): 760, Decimal('25800'): 761, Decimal('25830'): 762, Decimal('25840'): 763, Decimal('25850'): 764, Decimal('25860'): 765, Decimal('25870'): 766, Decimal('25890'): 767, Decimal('25900'): 768, Decimal('25910'): 769, Decimal('25920'): 770, Decimal('25930'): 771, Decimal('25940'): 772, Decimal('25980'): 773, Decimal('25990'): 774, Decimal('26000'): 775, Decimal('26500'): 776, Decimal('26800'): 777, Decimal('26900'): 778, Decimal('27000'): 779, Decimal('27020'): 780, Decimal('27040'): 781, Decimal('27220'): 782, Decimal('27300'): 783, Decimal('27330'): 784, Decimal('27400'): 785, Decimal('27800'): 786, Decimal('27810'): 787, Decimal('27900'): 788, Decimal('27920'): 789, Decimal('27940'): 790, Decimal('28000'): 791, Decimal('28050'): 792, Decimal('29110'): 793, Decimal('29130'): 794, Decimal('29160'): 795, Decimal('29180'): 796, Decimal('29500'): 797, Decimal('29520'): 798, Decimal('29550'): 799, Decimal('29640'): 800, Decimal('29650'): 801, Decimal('29660'): 802, Decimal('29670'): 803, Decimal('29690'): 804, Decimal('29720'): 805, Decimal('29800'): 806, Decimal('29900'): 807, Decimal('31100'): 808, Decimal('31110'): 809, Decimal('31120'): 810, Decimal('31130'): 811, Decimal('31170'): 812, Decimal('31180'): 813, Decimal('31190'): 814, Decimal('31200'): 815, Decimal('31210'): 816, Decimal('31220'): 817, Decimal('31230'): 818, Decimal('31240'): 819, Decimal('31250'): 820, Decimal('31260'): 821, Decimal('31270'): 822, Decimal('31280'): 823, Decimal('31290'): 824, Decimal('31410'): 825, Decimal('31500'): 826, Decimal('31700'): 827, Decimal('31800'): 828, Decimal('31820'): 829, Decimal('31830'): 830, Decimal('31840'): 831, Decimal('31850'): 832, Decimal('31860'): 833, Decimal('31880'): 834, Decimal('31890'): 835, Decimal('31900'): 836, Decimal('31910'): 837, Decimal('31920'): 838, Decimal('31930'): 839, Decimal('31980'): 840, Decimal('32000'): 841, Decimal('32110'): 842, Decimal('32120'): 843, Decimal('32140'): 844, Decimal('32150'): 845, Decimal('32160'): 846, Decimal('32200'): 847, Decimal('32310'): 848, Decimal('32330'): 849, Decimal('32340'): 850, Decimal('32350'): 851, Decimal('32360'): 852, Decimal('32370'): 853, Decimal('32380'): 854, Decimal('32390'): 855, Decimal('32400'): 856, Decimal('32410'): 857, Decimal('32420'): 858, Decimal('32430'): 859, Decimal('32440'): 860, Decimal('32450'): 861, Decimal('32460'): 862, Decimal('32470'): 863, Decimal('32500'): 864, Decimal('32510'): 865, Decimal('32610'): 866, Decimal('32620'): 867, Decimal('32630'): 868, Decimal('32640'): 869, Decimal('32660'): 870, Decimal('32670'): 871, Decimal('32680'): 872, Decimal('32690'): 873, Decimal('32700'): 874, Decimal('32710'): 875, Decimal('32720'): 876, Decimal('32730'): 877, Decimal('32760'): 878, Decimal('32800'): 879, Decimal('32900'): 880, Decimal('33100'): 881, Decimal('33110'): 882, Decimal('33120'): 883, Decimal('33130'): 884, Decimal('33180'): 885, Decimal('33210'): 886, Decimal('33220'): 887, Decimal('33230'): 888, Decimal('33250'): 889, Decimal('33260'): 890, Decimal('33280'): 891, Decimal('33320'): 892, Decimal('33340'): 893, Decimal('33350'): 894, Decimal('33390'): 895, Decimal('33420'): 896, Decimal('33440'): 897, Decimal('33460'): 898, Decimal('33510'): 899, Decimal('33520'): 900, Decimal('33530'): 901, Decimal('33540'): 902, Decimal('33570'): 903, Decimal('33580'): 904, Decimal('33600'): 905, Decimal('33610'): 906, Decimal('33620'): 907, Decimal('33650'): 908, Decimal('33660'): 909, Decimal('33670'): 910, Decimal('33680'): 911, Decimal('33730'): 912, Decimal('33740'): 913, Decimal('33750'): 914, Decimal('33770'): 915, Decimal('33780'): 916, Decimal('33900'): 917, Decimal('33910'): 918, Decimal('33930'): 919, Decimal('33950'): 920, Decimal('33980'): 921, Decimal('33990'): 922, Decimal('34000'): 923, Decimal('34010'): 924, Decimal('34030'): 925, Decimal('34180'): 926, Decimal('34190'): 927, Decimal('34220'): 928, Decimal('34270'): 929, Decimal('34330'): 930, Decimal('34410'): 931, Decimal('34420'): 932, Decimal('34440'): 933, Decimal('34450'): 934, Decimal('34460'): 935, Decimal('34500'): 936, Decimal('34600'): 937, Decimal('34630'): 938, Decimal('34640'): 939, Decimal('34670'): 940, Decimal('34800'): 941, Decimal('34810'): 942, Decimal('34820'): 943, Decimal('34830'): 944, Decimal('34860'): 945, Decimal('34870'): 946, Decimal('34900'): 947, Decimal('34920'): 948, Decimal('35000'): 949, Decimal('35010'): 950, Decimal('35030'): 951, Decimal('35070'): 952, Decimal('35130'): 953, Decimal('35140'): 954, Decimal('35300'): 955, Decimal('35310'): 956, Decimal('35320'): 957, Decimal('35420'): 958, Decimal('35450'): 959, Decimal('35460'): 960, Decimal('35480'): 961, Decimal('35500'): 962, Decimal('35510'): 963, Decimal('35600'): 964, Decimal('35700'): 965, Decimal('35720'): 966, Decimal('35800'): 967, Decimal('36000'): 968, Decimal('36190'): 969, Decimal('36320'): 970, Decimal('36620'): 971, Decimal('36630'): 972, Decimal('36700'): 973, Decimal('37000'): 974, Decimal('37010'): 975, Decimal('37030'): 976, Decimal('37100'): 977, Decimal('37200'): 978, Decimal('37220'): 979, Decimal('37230'): 980, Decimal('37240'): 981, Decimal('37250'): 982, Decimal('37260'): 983, Decimal('37270'): 984, Decimal('37280'): 985, Decimal('37290'): 986, Decimal('37300'): 987, Decimal('37320'): 988, Decimal('37330'): 989, Decimal('37360'): 990, Decimal('37380'): 991, Decimal('37400'): 992, Decimal('37420'): 993, Decimal('37500'): 994, Decimal('37600'): 995, Decimal('37700'): 996, Decimal('37800'): 997, Decimal('37900'): 998, Decimal('37910'): 999, Decimal('37930'): 1000, Decimal('37940'): 1001, Decimal('37950'): 1002, Decimal('37960'): 1003, Decimal('37970'): 1004, Decimal('37980'): 1005, Decimal('37990'): 1006, Decimal('38000'): 1007, Decimal('38010'): 1008, Decimal('38020'): 1009, Decimal('38040'): 1010, Decimal('38050'): 1011, Decimal('38060'): 1012, Decimal('38080'): 1013, Decimal('38090'): 1014, Decimal('38110'): 1015, Decimal('38120'): 1016, Decimal('38130'): 1017, Decimal('38140'): 1018, Decimal('38150'): 1019, Decimal('38170'): 1020, Decimal('38180'): 1021, Decimal('38190'): 1022, Decimal('38200'): 1023, Decimal('38210'): 1024, Decimal('38220'): 1025, Decimal('38230'): 1026, Decimal('38400'): 1027, Decimal('38410'): 1028, Decimal('38420'): 1029, Decimal('38440'): 1030, Decimal('38450'): 1031, Decimal('38460'): 1032, Decimal('38480'): 1033, Decimal('38490'): 1034, Decimal('38530'): 1035, Decimal('38600'): 1036, Decimal('38700'): 1037, Decimal('38720'): 1038, Decimal('38740'): 1039, Decimal('38830'): 1040, Decimal('38900'): 1041, Decimal('39000'): 1042, Decimal('39110'): 1043, Decimal('39120'): 1044, Decimal('39140'): 1045, Decimal('39150'): 1046, Decimal('39160'): 1047, Decimal('39190'): 1048, Decimal('39200'): 1049, Decimal('39210'): 1050, Decimal('39250'): 1051, Decimal('39260'): 1052, Decimal('39310'): 1053, Decimal('39320'): 1054, Decimal('39330'): 1055, Decimal('39360'): 1056, Decimal('39380'): 1057, Decimal('39500'): 1058, Decimal('39510'): 1059, Decimal('39530'): 1060, Decimal('39540'): 1061, Decimal('39550'): 1062, Decimal('39560'): 1063, Decimal('39630'): 1064, Decimal('39640'): 1065, Decimal('39650'): 1066, Decimal('39660'): 1067, Decimal('39670'): 1068, Decimal('39680'): 1069, Decimal('39690'): 1070, Decimal('39710'): 1071, Decimal('39800'): 1072, Decimal('39900'): 1073, Decimal('40000'): 1074, Decimal('40100'): 1075, Decimal('40300'): 1076, Decimal('40320'): 1077, Decimal('40330'): 1078, Decimal('40340'): 1079, Decimal('40350'): 1080, Decimal('40370'): 1081, Decimal('40380'): 1082, Decimal('40390'): 1083, Decimal('40400'): 1084, Decimal('40420'): 1085, Decimal('40500'): 1086, Decimal('40700'): 1087, Decimal('40720'): 1088, Decimal('40800'): 1089, Decimal('40920'): 1090, Decimal('40930'): 1091, Decimal('40950'): 1092, Decimal('40960'): 1093, Decimal('40970'): 1094, Decimal('40980'): 1095, Decimal('40990'): 1096, Decimal('41000'): 1097, Decimal('41010'): 1098, Decimal('41050'): 1099, Decimal('41060'): 1100, Decimal('41070'): 1101, Decimal('41100'): 1102, Decimal('41210'): 1103, Decimal('41300'): 1104, Decimal('41500'): 1105, Decimal('41600'): 1106, Decimal('41700'): 1107, Decimal('41730'): 1108, Decimal('41740'): 1109, Decimal('41800'): 1110, Decimal('41900'): 1111, Decimal('42120'): 1112, Decimal('42140'): 1113, Decimal('42160'): 1114, Decimal('42170'): 1115, Decimal('42200'): 1116, Decimal('42210'): 1117, Decimal('42220'): 1118, Decimal('42230'): 1119, Decimal('42500'): 1120, Decimal('42640'): 1121, Decimal('42650'): 1122, Decimal('42670'): 1123, Decimal('42680'): 1124, Decimal('42690'): 1125, Decimal('42700'): 1126, Decimal('42710'): 1127, Decimal('42730'): 1128, Decimal('42800'): 1129, Decimal('42810'): 1130, Decimal('42820'): 1131, Decimal('42830'): 1132, Decimal('42850'): 1133, Decimal('42890'): 1134, Decimal('42910'): 1135, Decimal('42920'): 1136, Decimal('42930'): 1137, Decimal('42940'): 1138, Decimal('42950'): 1139, Decimal('42960'): 1140, Decimal('42980'): 1141, Decimal('42990'): 1142, Decimal('43000'): 1143, Decimal('43100'): 1144, Decimal('43110'): 1145, Decimal('43160'): 1146, Decimal('43190'): 1147, Decimal('43500'): 1148, Decimal('43600'): 1149, Decimal('44100'): 1150, Decimal('44200'): 1151, Decimal('44310'): 1152, Decimal('44320'): 1153, Decimal('44340'): 1154, Decimal('44350'): 1155, Decimal('44360'): 1156, Decimal('44600'): 1157, Decimal('44620'): 1158, Decimal('44630'): 1159, Decimal('44650'): 1160, Decimal('44660'): 1161, Decimal('44670'): 1162, Decimal('44680'): 1163, Decimal('44690'): 1164, Decimal('45000'): 1165, Decimal('45100'): 1166, Decimal('45300'): 1167, Decimal('45400'): 1168, Decimal('45410'): 1169, Decimal('45450'): 1170, Decimal('45500'): 1171, Decimal('45700'): 1172, Decimal('45710'): 1173, Decimal('45720'): 1174, Decimal('45730'): 1175, Decimal('45740'): 1176, Decimal('45750'): 1177, Decimal('45760'): 1178, Decimal('45770'): 1179, Decimal('45900'): 1180, Decimal('46000'): 1181, Decimal('46200'): 1182, Decimal('46210'): 1183, Decimal('46220'): 1184, Decimal('46230'): 1185, Decimal('46250'): 1186, Decimal('46260'): 1187, Decimal('46270'): 1188, Decimal('46280'): 1189, Decimal('46290'): 1190, Decimal('46320'): 1191, Decimal('46330'): 1192, Decimal('46340'): 1193, Decimal('46350'): 1194, Decimal('46360'): 1195, Decimal('46370'): 1196, Decimal('46380'): 1197, Decimal('46400'): 1198, Decimal('46410'): 1199, Decimal('46420'): 1200, Decimal('46430'): 1201, Decimal('46440'): 1202, Decimal('46450'): 1203, Decimal('46460'): 1204, Decimal('46480'): 1205, Decimal('46490'): 1206, Decimal('46500'): 1207, Decimal('46510'): 1208, Decimal('46520'): 1209, Decimal('46540'): 1210, Decimal('46550'): 1211, Decimal('46560'): 1212, Decimal('46570'): 1213, Decimal('46600'): 1214, Decimal('46700'): 1215, Decimal('46710'): 1216, Decimal('46720'): 1217, Decimal('46730'): 1218, Decimal('46740'): 1219, Decimal('46750'): 1220, Decimal('46760'): 1221, Decimal('46770'): 1222, Decimal('46790'): 1223, Decimal('46830'): 1224, Decimal('46850'): 1225, Decimal('47000'): 1226, Decimal('47130'): 1227, Decimal('47400'): 1228, Decimal('47410'): 1229, Decimal('47500'): 1230, Decimal('47520'): 1231, Decimal('47540'): 1232, Decimal('47700'): 1233, Decimal('47730'): 1234, Decimal('47780'): 1235, Decimal('47790'): 1236, Decimal('47800'): 1237, Decimal('47810'): 1238, Decimal('47830'): 1239, Decimal('47850'): 1240, Decimal('47870'): 1241, Decimal('47890'): 1242, Decimal('47900'): 1243, Decimal('47920'): 1244, Decimal('48000'): 1245, Decimal('48110'): 1246, Decimal('48120'): 1247, Decimal('48160'): 1248, Decimal('48180'): 1249, Decimal('48190'): 1250, Decimal('48210'): 1251, Decimal('48220'): 1252, Decimal('48240'): 1253, Decimal('48700'): 1254, Decimal('48720'): 1255, Decimal('48800'): 1256, Decimal('48900'): 1257, Decimal('48950'): 1258, Decimal('49000'): 1259, Decimal('49300'): 1260, Decimal('49320'): 1261, Decimal('49330'): 1262, Decimal('49400'): 1263, Decimal('49470'): 1264, Decimal('49520'): 1265, Decimal('49540'): 1266, Decimal('49600'): 1267, Decimal('49700'): 1268, Decimal('49800'): 1269, Decimal('49810'): 1270, Decimal('49900'): 1271, Decimal('50000'): 1272, Decimal('50120'): 1273, Decimal('50130'): 1274, Decimal('50300'): 1275, Decimal('50310'): 1276, Decimal('50400'): 1277, Decimal('50510'): 1278, Decimal('50620'): 1279, Decimal('50640'): 1280, Decimal('50650'): 1281, Decimal('50820'): 1282, Decimal('50920'): 1283, Decimal('50930'): 1284, Decimal('50940'): 1285, Decimal('50960'): 1286, Decimal('51000'): 1287, Decimal('51030'): 1288, Decimal('51060'): 1289, Decimal('51100'): 1290, Decimal('55000'): 1291, Decimal('55020'): 1292, Decimal('55040'): 1293, Decimal('55100'): 1294, Decimal('55110'): 1295, Decimal('55130'): 1296, Decimal('55140'): 1297, Decimal('55150'): 1298, Decimal('55190'): 1299, Decimal('55230'): 1300, Decimal('55370'): 1301, Decimal('56400'): 1302, Decimal('57000'): 1303, Decimal('57200'): 1304, Decimal('57300'): 1305, Decimal('57400'): 1306, Decimal('57600'): 1307, Decimal('57620'): 1308, Decimal('57640'): 1309, Decimal('57650'): 1310, Decimal('57680'): 1311, Decimal('57690'): 1312, Decimal('57700'): 1313, Decimal('57730'): 1314, Decimal('57740'): 1315, Decimal('57800'): 1316, Decimal('57900'): 1317, Decimal('57970'): 1318, Decimal('58200'): 1319, Decimal('58230'): 1320, Decimal('58300'): 1321, Decimal('58400'): 1322, Decimal('58510'): 1323, Decimal('58520'): 1324, Decimal('58540'): 1325, Decimal('58550'): 1326, Decimal('58560'): 1327, Decimal('58570'): 1328, Decimal('58610'): 1329, Decimal('60340'): 1330, Decimal('60350'): 1331, Decimal('60600'): 1332, Decimal('60700'): 1333, Decimal('60800'): 1334, Decimal('61000'): 1335, Decimal('61010'): 1336, Decimal('61100'): 1337, Decimal('61220'): 1338, Decimal('61310'): 1339, Decimal('61500'): 1340, Decimal('61510'): 1341, Decimal('61520'): 1342, Decimal('61530'): 1343, Decimal('61600'): 1344, Decimal('61700'): 1345, Decimal('61730'): 1346, Decimal('61800'): 1347, Decimal('61820'): 1348, Decimal('62000'): 1349, Decimal('62100'): 1350, Decimal('63000'): 1351, Decimal('63110'): 1352, Decimal('63200'): 1353, Decimal('63380'): 1354, Decimal('63500'): 1355, Decimal('63600'): 1356, Decimal('63610'): 1357, Decimal('63620'): 1358, Decimal('63630'): 1359, Decimal('63640'): 1360, Decimal('63650'): 1361, Decimal('63660'): 1362, Decimal('63700'): 1363, Decimal('63710'): 1364, Decimal('63800'): 1365, Decimal('63900'): 1366, Decimal('63910'): 1367, Decimal('63940'): 1368, Decimal('63950'): 1369, Decimal('63960'): 1370, Decimal('64000'): 1371, Decimal('65070'): 1372, Decimal('65080'): 1373, Decimal('65100'): 1374, Decimal('65200'): 1375, Decimal('65270'): 1376, Decimal('65300'): 1377, Decimal('65400'): 1378, Decimal('65500'): 1379, Decimal('65530'): 1380, Decimal('65540'): 1381, Decimal('65560'): 1382, Decimal('65600'): 1383, Decimal('65610'): 1384, Decimal('65700'): 1385, Decimal('65710'): 1386, Decimal('65720'): 1387, Decimal('65730'): 1388, Decimal('65740'): 1389, Decimal('65780'): 1390, Decimal('65790'): 1391, Decimal('65800'): 1392, Decimal('65930'): 1393, Decimal('65950'): 1394, Decimal('67000'): 1395, Decimal('67370'): 1396, Decimal('70000'): 1397, Decimal('70100'): 1398, Decimal('70110'): 1399, Decimal('70120'): 1400, Decimal('70200'): 1401, Decimal('70210'): 1402, Decimal('70300'): 1403, Decimal('70400'): 1404, Decimal('70420'): 1405, Decimal('70500'): 1406, Decimal('70600'): 1407, Decimal('70620'): 1408, Decimal('70640'): 1409, Decimal('70650'): 1410, Decimal('70660'): 1411, Decimal('70900'): 1412, Decimal('71000'): 1413, Decimal('71230'): 1414, Decimal('71240'): 1415, Decimal('71250'): 1416, Decimal('71260'): 1417, Decimal('71270'): 1418, Decimal('71310'): 1419, Decimal('71320'): 1420, Decimal('71340'): 1421, Decimal('71390'): 1422, Decimal('71420'): 1423, Decimal('72000'): 1424, Decimal('72200'): 1425, Decimal('72300'): 1426, Decimal('72400'): 1427, Decimal('72500'): 1428, Decimal('72850'): 1429, Decimal('72900'): 1430, Decimal('73010'): 1431, Decimal('73020'): 1432, Decimal('73060'): 1433, Decimal('73170'): 1434, Decimal('73190'): 1435, Decimal('73210'): 1436, Decimal('73220'): 1437, Decimal('73230'): 1438, Decimal('78000'): 1439, Decimal('80000'): 1440, Decimal('80200'): 1441, Decimal('80300'): 1442, Decimal('80310'): 1443, Decimal('80330'): 1444, Decimal('80340'): 1445, Decimal('80350'): 1446, Decimal('80360'): 1447, Decimal('90100'): 1448, Decimal('90200'): 1449, Decimal('90400'): 1450, Decimal('90500'): 1451, Decimal('90530'): 1452, Decimal('90800'): 1453, Decimal('91100'): 1454, Decimal('91200'): 1455, Decimal('91310'): 1456, Decimal('91330'): 1457, Decimal('91600'): 1458, Decimal('91700'): 1459, Decimal('91800'): 1460, Decimal('91810'): 1461, Decimal('91900'): 1462, Decimal('92000'): 1463, Decimal('92100'): 1464, Decimal('92200'): 1465, Decimal('92210'): 1466, Decimal('92220'): 1467, Decimal('92300'): 1468, Decimal('92400'): 1469, Decimal('92500'): 1470, Decimal('92600'): 1471, Decimal('92700'): 1472, Decimal('92800'): 1473, Decimal('92900'): 1474, Decimal('93200'): 1475, Decimal('94000'): 1476, Decimal('94200'): 1477, Decimal('94300'): 1478, Decimal('94400'): 1479, Decimal('94500'): 1480, Decimal('94510'): 1481, Decimal('94520'): 1482, Decimal('94530'): 1483, Decimal('94590'): 1484, Decimal('94600'): 1485, Decimal('94610'): 1486, Decimal('94620'): 1487, Decimal('95000'): 1488, Decimal('95300'): 1489, Decimal('95400'): 1490, Decimal('95500'): 1491, Decimal('95900'): 1492, Decimal('96000'): 1493, Decimal('96100'): 1494, Decimal('96200'): 1495, Decimal('96300'): 1496, Decimal('96400'): 1497, Decimal('96800'): 1498, Decimal('96900'): 1499, Decimal('97000'): 1500, Decimal('97100'): 1501, Decimal('97110'): 1502, Decimal('97120'): 1503, Decimal('97130'): 1504, Decimal('97330'): 1505, Decimal('98100'): 1506, Decimal('98200'): 1507, Decimal('98300'): 1508, Decimal('98400'): 1509, Decimal('98500'): 1510, Decimal('98510'): 1511, Decimal('98600'): 1512, Decimal('98800'): 1513, Decimal('98810'): 1514, Decimal('98900'): 1515, Decimal('99100'): 1516, Decimal('99120'): 1517, Decimal('99200'): 1518, Decimal('99300'): 1519, Decimal('99400'): 1520, Decimal('99410'): 1521, Decimal('99700'): 1522, Decimal('99810'): 1523, Decimal('99830'): 1524, Decimal('99890'): 1525, Decimal('99900'): 1526, Decimal('99910'): 1527, Decimal('99920'): 1528, Decimal('100400'): 1529, Decimal('100410'): 1530, Decimal('100970'): 1531, Decimal('100980'): 1532, Decimal('102200'): 1533, Decimal('102400'): 1534, Decimal('102500'): 1535, Decimal('102600'): 1536, Decimal('102700'): 1537, Decimal('102820'): 1538, Decimal('102840'): 1539, Decimal('102850'): 1540, Decimal('104000'): 1541, Decimal('104020'): 1542, Decimal('104100'): 1543, Decimal('104200'): 1544, Decimal('104320'): 1545, Decimal('104600'): 1546, Decimal('104700'): 1547, Decimal('104900'): 1548, Decimal('105000'): 1549, Decimal('105100'): 1550, Decimal('105200'): 1551, Decimal('105300'): 1552, Decimal('105400'): 1553, Decimal('105420'): 1554, Decimal('105430'): 1555, Decimal('105450'): 1556, Decimal('105600'): 1557, Decimal('105700'): 1558, Decimal('105800'): 1559, Decimal('106000'): 1560, Decimal('106010'): 1561, Decimal('107000'): 1562, Decimal('107100'): 1563, Decimal('107200'): 1564, Decimal('107300'): 1565, Decimal('107310'): 1566, Decimal('107400'): 1567, Decimal('107410'): 1568, Decimal('107430'): 1569, Decimal('107600'): 1570, Decimal('107800'): 1571, Decimal('107900'): 1572, Decimal('108100'): 1573, Decimal('108110'): 1574, Decimal('108200'): 1575, Decimal('108210'): 1576, Decimal('108500'): 1577, Decimal('108600'): 1578, Decimal('108700'): 1579, Decimal('108710'): 1580, Decimal('108800'): 1581, Decimal('109200'): 1582, Decimal('109400'): 1583, Decimal('109410'): 1584, Decimal('109500'): 1585, Decimal('109600'): 1586, Decimal('109700'): 1587, Decimal('110400'): 1588, Decimal('110500'): 1589, Decimal('110600'): 1590, Decimal('110610'): 1591, Decimal('110630'): 1592, Decimal('110800'): 1593, Decimal('111000'): 1594, Decimal('111010'): 1595, Decimal('111100'): 1596, Decimal('111300'): 1597, Decimal('111400'): 1598, Decimal('111600'): 1599, Decimal('111800'): 1600, Decimal('111900'): 1601, Decimal('112100'): 1602, Decimal('113020'): 1603, Decimal('113200'): 1604, Decimal('113400'): 1605, Decimal('113420'): 1606, Decimal('113900'): 1607, Decimal('115100'): 1608, Decimal('115110'): 1609, Decimal('115120'): 1610, Decimal('115200'): 1611, Decimal('115210'): 1612, Decimal('115220'): 1613, Decimal('115320'): 1614, Decimal('116100'): 1615, Decimal('116120'): 1616, Decimal('200010'): 1617, Decimal('200020'): 1618, Decimal('200050'): 1619, Decimal('200060'): 1620, Decimal('200080'): 1621, Decimal('200110'): 1622, Decimal('200130'): 1623, Decimal('200170'): 1624, Decimal('200190'): 1625, Decimal('200210'): 1626, Decimal('200230'): 1627, Decimal('200260'): 1628, Decimal('200350'): 1629, Decimal('200370'): 1630, Decimal('200390'): 1631, Decimal('200410'): 1632, Decimal('200490'): 1633, Decimal('200510'): 1634, Decimal('200550'): 1635, Decimal('200630'): 1636, Decimal('200670'): 1637, Decimal('200710'): 1638, Decimal('200900'): 1639, Decimal('200910'): 1640, Decimal('200940'): 1641, Decimal('200960'): 1642, Decimal('200980'): 1643, Decimal('200990'): 1644, Decimal('201000'): 1645, Decimal('201010'): 1646, Decimal('201020'): 1647, Decimal('201040'): 1648, Decimal('201070'): 1649, Decimal('201190'): 1650, Decimal('201230'): 1651, Decimal('201280'): 1652, Decimal('201290'): 1653, Decimal('201310'): 1654, Decimal('201420'): 1655, Decimal('201480'): 1656, Decimal('201490'): 1657, Decimal('201510'): 1658, Decimal('201570'): 1659, Decimal('201700'): 1660, Decimal('201760'): 1661, Decimal('201790'): 1662, Decimal('201810'): 1663, Decimal('201830'): 1664, Decimal('201870'): 1665, Decimal('202070'): 1666, Decimal('202090'): 1667, Decimal('202130'): 1668, Decimal('202170'): 1669, Decimal('202200'): 1670, Decimal('202270'): 1671, Decimal('202310'): 1672, Decimal('202370'): 1673, Decimal('202410'): 1674, Decimal('202530'): 1675, Decimal('202570'): 1676, Decimal('202670'): 1677, Decimal('202690'): 1678, Decimal('202710'): 1679, Decimal('202730'): 1680, Decimal('202750'): 1681, Decimal('202860'): 1682, Decimal('202970'): 1683, Decimal('202990'): 1684, Decimal('203140'): 1685, Decimal('203160'): 1686, Decimal('203210'): 1687, Decimal('203250'): 1688, Decimal('203290'): 1689, Decimal('203350'): 1690, Decimal('203510'): 1691, Decimal('203560'): 1692, Decimal('203630'): 1693, Decimal('203650'): 1694, Decimal('203680'): 1695, Decimal('203730'): 1696, Decimal('203750'): 1697, Decimal('203770'): 1698, Decimal('203810'): 1699, Decimal('203830'): 1700, Decimal('203850'): 1701, Decimal('203990'): 1702, Decimal('204030'): 1703, Decimal('204060'): 1704, Decimal('204080'): 1705, Decimal('204100'): 1706, Decimal('204120'): 1707, Decimal('204140'): 1708, Decimal('204180'): 1709, Decimal('204220'): 1710, Decimal('204240'): 1711, Decimal('204300'): 1712, Decimal('204340'): 1713, Decimal('204360'): 1714, Decimal('204390'): 1715, Decimal('204440'): 1716, Decimal('204450'): 1717, Decimal('204510'): 1718, Decimal('204530'): 1719, Decimal('204560'): 1720, Decimal('204580'): 1721, Decimal('204630'): 1722, Decimal('204760'): 1723, Decimal('204840'): 1724, Decimal('204860'): 1725, Decimal('204880'): 1726, Decimal('204940'): 1727, Decimal('204960'): 1728, Decimal('205060'): 1729, Decimal('205070'): 1730, Decimal('205080'): 1731, Decimal('205100'): 1732, Decimal('205190'): 1733, Decimal('205230'): 1734, Decimal('205250'): 1735, Decimal('205270'): 1736, Decimal('205330'): 1737, Decimal('205350'): 1738, Decimal('205530'): 1739, Decimal('205550'): 1740, Decimal('205590'): 1741, Decimal('205610'): 1742, Decimal('205650'): 1743, Decimal('205690'): 1744, Decimal('205710'): 1745, Decimal('205730'): 1746, Decimal('205790'): 1747, Decimal('205810'): 1748, Decimal('205830'): 1749, Decimal('205840'): 1750, Decimal('205870'): 1751, Decimal('205910'): 1752, Decimal('205930'): 1753, Decimal('205950'): 1754, Decimal('205990'): 1755, Decimal('206020'): 1756, Decimal('206040'): 1757, Decimal('206060'): 1758, Decimal('206190'): 1759, Decimal('206210'): 1760, Decimal('206250'): 1761, Decimal('206270'): 1762, Decimal('206370'): 1763, Decimal('206410'): 1764, Decimal('206420'): 1765, Decimal('206440'): 1766, Decimal('206480'): 1767, Decimal('206500'): 1768, Decimal('206610'): 1769, Decimal('206690'): 1770, Decimal('206740'): 1771, Decimal('206760'): 1772, Decimal('206980'): 1773, Decimal('207000'): 1774, Decimal('207020'): 1775, Decimal('207040'): 1776, Decimal('207060'): 1777, Decimal('207080'): 1778, Decimal('207140'): 1779, Decimal('207150'): 1780, Decimal('207170'): 1781, Decimal('207190'): 1782, Decimal('207210'): 1783, Decimal('207230'): 1784, Decimal('207250'): 1785, Decimal('207320'): 1786, Decimal('207350'): 1787, Decimal('207370'): 1788, Decimal('207380'): 1789, Decimal('207400'): 1790, Decimal('207420'): 1791, Decimal('207430'): 1792, Decimal('207490'): 1793, Decimal('207530'): 1794, Decimal('207570'): 1795, Decimal('207610'): 1796, Decimal('207650'): 1797, Decimal('207670'): 1798, Decimal('207690'): 1799, Decimal('207710'): 1800, Decimal('207730'): 1801, Decimal('207750'): 1802, Decimal('207790'): 1803, Decimal('207890'): 1804, Decimal('207930'): 1805, Decimal('208030'): 1806, Decimal('208090'): 1807, Decimal('208110'): 1808, Decimal('208140'): 1809, Decimal('208200'): 1810, Decimal('208400'): 1811, Decimal('208460'): 1812, Decimal('208480'): 1813, Decimal('208500'): 1814, Decimal('208520'): 1815, Decimal('208580'): 1816, Decimal('208600'): 1817, Decimal('208610'): 1818, Decimal('208620'): 1819, Decimal('208630'): 1820, Decimal('208640'): 1821, Decimal('208670'): 1822, Decimal('208710'): 1823, Decimal('208730'): 1824, Decimal('208860'): 1825, Decimal('209000'): 1826, Decimal('209060'): 1827, Decimal('209080'): 1828, Decimal('209100'): 1829, Decimal('209120'): 1830, Decimal('209160'): 1831, Decimal('209170'): 1832, Decimal('209190'): 1833, Decimal('209230'): 1834, Decimal('209270'): 1835, Decimal('209330'): 1836, Decimal('209340'): 1837, Decimal('209360'): 1838, Decimal('209370'): 1839, Decimal('209390'): 1840, Decimal('209520'): 1841, Decimal('209540'): 1842, Decimal('209610'): 1843, Decimal('209630'): 1844, Decimal('209670'): 1845, Decimal('209690'): 1846, Decimal('209710'): 1847, Decimal('209730'): 1848, Decimal('209750'): 1849, Decimal('209790'): 1850, Decimal('209830'): 1851, Decimal('209850'): 1852, Decimal('209870'): 1853, Decimal('209950'): 1854, Decimal('210150'): 1855, Decimal('210170'): 1856, Decimal('210230'): 1857, Decimal('210350'): 1858, Decimal('210390'): 1859, Decimal('210410'): 1860, Decimal('210490'): 1861, Decimal('210550'): 1862, Decimal('210770'): 1863, Decimal('210870'): 1864, Decimal('210950'): 1865, Decimal('210990'): 1866, Decimal('211010'): 1867, Decimal('211050'): 1868, Decimal('211070'): 1869, Decimal('211120'): 1870, Decimal('211140'): 1871, Decimal('211160'): 1872, Decimal('211180'): 1873, Decimal('211260'): 1874, Decimal('211280'): 1875, Decimal('211340'): 1876, Decimal('211360'): 1877, Decimal('211380'): 1878, Decimal('211400'): 1879, Decimal('211420'): 1880, Decimal('211440'): 1881, Decimal('211500'): 1882, Decimal('211580'): 1883, Decimal('211600'): 1884, Decimal('211670'): 1885, Decimal('211740'): 1886, Decimal('211780'): 1887, Decimal('211800'): 1888, Decimal('211820'): 1889, Decimal('211880'): 1890, Decimal('211900'): 1891, Decimal('211970'): 1892, Decimal('212010'): 1893, Decimal('212030'): 1894, Decimal('212050'): 1895, Decimal('212070'): 1896, Decimal('212110'): 1897, Decimal('212160'): 1898, Decimal('212180'): 1899, Decimal('212200'): 1900, Decimal('212240'): 1901, Decimal('212370'): 1902, Decimal('212390'): 1903, Decimal('212410'): 1904, Decimal('212480'): 1905, Decimal('212500'): 1906, Decimal('212580'): 1907, Decimal('212630'): 1908, Decimal('212680'): 1909, Decimal('212700'): 1910, Decimal('212780'): 1911, Decimal('212800'): 1912, Decimal('212910'): 1913, Decimal('213030'): 1914, Decimal('213120'): 1915, Decimal('213330'): 1916, Decimal('213350'): 1917, Decimal('213610'): 1918, Decimal('213630'): 1919, Decimal('213650'): 1920, Decimal('213670'): 1921, Decimal('213850'): 1922, Decimal('214100'): 1923, Decimal('214130'): 1924, Decimal('214150'): 1925, Decimal('214170'): 1926, Decimal('214190'): 1927, Decimal('214230'): 1928, Decimal('214250'): 1929, Decimal('214310'): 1930, Decimal('214320'): 1931, Decimal('214340'): 1932, Decimal('214360'): 1933, Decimal('214400'): 1934, Decimal('214420'): 1935, Decimal('214510'): 1936, Decimal('214550'): 1937, Decimal('214560'): 1938, Decimal('214570'): 1939, Decimal('214590'): 1940, Decimal('214610'): 1941, Decimal('214630'): 1942, Decimal('214640'): 1943, Decimal('214700'): 1944, Decimal('214730'): 1945, Decimal('214770'): 1946, Decimal('214790'): 1947, Decimal('214830'): 1948, Decimal('214850'): 1949, Decimal('214870'): 1950, Decimal('214910'): 1951, Decimal('214950'): 1952, Decimal('214970'): 1953, Decimal('215080'): 1954, Decimal('215100'): 1955, Decimal('215120'): 1956, Decimal('215160'): 1957, Decimal('215280'): 1958, Decimal('215390'): 1959, Decimal('215450'): 1960, Decimal('215470'): 1961, Decimal('215510'): 1962, Decimal('215530'): 1963, Decimal('215630'): 1964, Decimal('215670'): 1965, Decimal('215690'): 1966, Decimal('215710'): 1967, Decimal('215770'): 1968, Decimal('215790'): 1969, Decimal('215870'): 1970, Decimal('215930'): 1971, Decimal('216090'): 1972, Decimal('216110'): 1973, Decimal('216130'): 1974, Decimal('216150'): 1975, Decimal('216210'): 1976, Decimal('216250'): 1977, Decimal('216260'): 1978, Decimal('216290'): 1979, Decimal('216370'): 1980, Decimal('216390'): 1981, Decimal('216570'): 1982, Decimal('216610'): 1983, Decimal('216670'): 1984, Decimal('216890'): 1985, Decimal('216910'): 1986, Decimal('217060'): 1987, Decimal('217080'): 1988, Decimal('217100'): 1989, Decimal('217140'): 1990, Decimal('217200'): 1991, Decimal('217270'): 1992, Decimal('217290'): 1993, Decimal('217490'): 1994, Decimal('217690'): 1995, Decimal('217750'): 1996, Decimal('217790'): 1997, Decimal('217860'): 1998, Decimal('217920'): 1999, Decimal('217980'): 2000, Decimal('218020'): 2001, Decimal('218040'): 2002, Decimal('218060'): 2003, Decimal('218090'): 2004, Decimal('218130'): 2005, Decimal('218170'): 2006, Decimal('218210'): 2007, Decimal('218230'): 2008, Decimal('218310'): 2009, Decimal('218330'): 2010, Decimal('218410'): 2011, Decimal('218450'): 2012, Decimal('218470'): 2013, Decimal('218510'): 2014, Decimal('218620'): 2015, Decimal('218640'): 2016, Decimal('218660'): 2017, Decimal('218680'): 2018, Decimal('218700'): 2019, Decimal('218740'): 2020, Decimal('218820'): 2021, Decimal('218980'): 2022, Decimal('219070'): 2023, Decimal('219150'): 2024, Decimal('219190'): 2025, Decimal('219200'): 2026, Decimal('219340'): 2027, Decimal('219540'): 2028, Decimal('219600'): 2029, Decimal('219640'): 2030, Decimal('219680'): 2031, Decimal('219700'): 2032, Decimal('219740'): 2033, Decimal('219760'): 2034, Decimal('219780'): 2035, Decimal('219800'): 2036, Decimal('219830'): 2037, Decimal('219870'): 2038, Decimal('219890'): 2039, Decimal('219910'): 2040, Decimal('219950'): 2041, Decimal('219990'): 2042, Decimal('220050'): 2043, Decimal('220090'): 2044, Decimal('220160'): 2045, Decimal('220200'): 2046, Decimal('220240'): 2047, Decimal('220260'): 2048, Decimal('220420'): 2049, Decimal('220440'): 2050, Decimal('220460'): 2051, Decimal('220660'): 2052, Decimal('220680'): 2053, Decimal('220700'): 2054, Decimal('220740'): 2055, Decimal('220780'): 2056, Decimal('220820'): 2057, Decimal('220823'): 2058, Decimal('220860'): 2059, Decimal('220900'): 2060, Decimal('221020'): 2061, Decimal('221040'): 2062, Decimal('221080'): 2063, Decimal('221100'): 2064, Decimal('221200'): 2065, Decimal('221220'): 2066, Decimal('221260'): 2067, Decimal('221300'): 2068, Decimal('221340'): 2069, Decimal('221360'): 2070, Decimal('221380'): 2071, Decimal('221430'): 2072, Decimal('221540'): 2073, Decimal('221560'): 2074, Decimal('221640'): 2075, Decimal('221680'): 2076, Decimal('221790'): 2077, Decimal('221810'): 2078, Decimal('221830'): 2079, Decimal('221910'): 2080, Decimal('222140'): 2081, Decimal('222160'): 2082, Decimal('222320'): 2083, Decimal('222480'): 2084, Decimal('222520'): 2085, Decimal('222640'): 2086, Decimal('222660'): 2087, Decimal('222710'): 2088, Decimal('222730'): 2089, Decimal('222750'): 2090, Decimal('222820'): 2091, Decimal('222880'): 2092, Decimal('222900'): 2093, Decimal('222940'): 2094, Decimal('222980'): 2095, Decimal('223000'): 2096, Decimal('223220'): 2097, Decimal('223280'): 2098, Decimal('223330'): 2099, Decimal('223390'): 2100, Decimal('223410'): 2101, Decimal('223430'): 2102, Decimal('223450'): 2103, Decimal('223470'): 2104, Decimal('223490'): 2105, Decimal('223510'): 2106, Decimal('223530'): 2107, Decimal('223630'): 2108, Decimal('223670'): 2109, Decimal('223710'): 2110, Decimal('223730'): 2111, Decimal('223750'): 2112, Decimal('223810'): 2113, Decimal('223830'): 2114, Decimal('223850'): 2115, Decimal('223870'): 2116, Decimal('224060'): 2117, Decimal('224220'): 2118, Decimal('224260'): 2119, Decimal('224300'): 2120, Decimal('224320'): 2121, Decimal('224340'): 2122, Decimal('224380'): 2123, Decimal('224420'): 2124, Decimal('224440'): 2125, Decimal('224460'): 2126, Decimal('224480'): 2127, Decimal('224500'): 2128, Decimal('224540'): 2129, Decimal('224580'): 2130, Decimal('224600'): 2131, Decimal('224700'): 2132, Decimal('224740'): 2133, Decimal('224760'): 2134, Decimal('224780'): 2135, Decimal('224820'): 2136, Decimal('224860'): 2137, Decimal('224900'): 2138, Decimal('224920'): 2139, Decimal('224940'): 2140, Decimal('224960'): 2141, Decimal('224980'): 2142, Decimal('225000'): 2143, Decimal('225020'): 2144, Decimal('225080'): 2145, Decimal('225140'): 2146, Decimal('225160'): 2147, Decimal('225180'): 2148, Decimal('225200'): 2149, Decimal('225220'): 2150, Decimal('225260'): 2151, Decimal('225280'): 2152, Decimal('225300'): 2153, Decimal('225320'): 2154, Decimal('225360'): 2155, Decimal('225420'): 2156, Decimal('225600'): 2157, Decimal('225640'): 2158, Decimal('225760'): 2159, Decimal('226100'): 2160, Decimal('226120'): 2161, Decimal('226320'): 2162, Decimal('226620'): 2163, Decimal('226700'): 2164, Decimal('226720'): 2165, Decimal('226740'): 2166, Decimal('226760'): 2167, Decimal('226780'): 2168, Decimal('226820'): 2169, Decimal('226840'): 2170, Decimal('226860'): 2171, Decimal('226960'): 2172, Decimal('226980'): 2173, Decimal('227000'): 2174, Decimal('227020'): 2175, Decimal('227060'): 2176, Decimal('227080'): 2177, Decimal('227100'): 2178, Decimal('227160'): 2179, Decimal('227180'): 2180, Decimal('227200'): 2181, Decimal('227220'): 2182, Decimal('227240'): 2183, Decimal('227260'): 2184, Decimal('227280'): 2185, Decimal('227300'): 2186, Decimal('227320'): 2187, Decimal('227380'): 2188, Decimal('227480'): 2189, Decimal('227560'): 2190, Decimal('227580'): 2191, Decimal('227600'): 2192, Decimal('227680'): 2193, Decimal('227700'): 2194, Decimal('227720'): 2195, Decimal('227760'): 2196, Decimal('227780'): 2197, Decimal('227800'): 2198, Decimal('227860'): 2199, Decimal('227900'): 2200, Decimal('227920'): 2201, Decimal('227940'): 2202, Decimal('227980'): 2203, Decimal('228200'): 2204, Decimal('228260'): 2205, Decimal('228280'): 2206, Decimal('228300'): 2207, Decimal('228320'): 2208, Decimal('228380'): 2209, Decimal('228400'): 2210, Decimal('228440'): 2211, Decimal('228560'): 2212, Decimal('228760'): 2213, Decimal('228940'): 2214, Decimal('228960'): 2215, Decimal('229100'): 2216, Decimal('229480'): 2217, Decimal('229520'): 2218, Decimal('229580'): 2219, Decimal('229600'): 2220, Decimal('229810'): 2221, Decimal('229870'): 2222, Decimal('229890'): 2223, Decimal('229970'): 2224, Decimal('230050'): 2225, Decimal('230070'): 2226, Decimal('230150'): 2227, Decimal('230170'): 2228, Decimal('230190'): 2229, Decimal('230230'): 2230, Decimal('230310'): 2231, Decimal('230330'): 2232, Decimal('230350'): 2233, Decimal('230410'): 2234, Decimal('230650'): 2235, Decimal('230700'): 2236, Decimal('230780'): 2237, Decimal('230820'): 2238, Decimal('230840'): 2239, Decimal('230860'): 2240, Decimal('230980'): 2241, Decimal('231020'): 2242, Decimal('231040'): 2243, Decimal('231060'): 2244, Decimal('231140'): 2245, Decimal('231160'): 2246, Decimal('231180'): 2247, Decimal('231200'): 2248, Decimal('231310'): 2249, Decimal('231330'): 2250, Decimal('231430'): 2251, Decimal('231670'): 2252, Decimal('231720'): 2253, Decimal('231740'): 2254, Decimal('231910'): 2255, Decimal('232010'): 2256, Decimal('232050'): 2257, Decimal('232210'): 2258, Decimal('232430'): 2259, Decimal('232450'): 2260, Decimal('232750'): 2261, Decimal('232770'): 2262, Decimal('232790'): 2263, Decimal('232810'): 2264, Decimal('232910'): 2265, Decimal('232950'): 2266, Decimal('232970'): 2267, Decimal('233110'): 2268, Decimal('233130'): 2269, Decimal('233150'): 2270, Decimal('233190'): 2271, Decimal('233210'): 2272, Decimal('233230'): 2273, Decimal('233250'): 2274, Decimal('233270'): 2275, Decimal('233290'): 2276, Decimal('233310'): 2277, Decimal('233350'): 2278, Decimal('233370'): 2279, Decimal('233390'): 2280, Decimal('233410'): 2281, Decimal('233450'): 2282, Decimal('233470'): 2283, Decimal('233510'): 2284, Decimal('233530'): 2285, Decimal('233550'): 2286, Decimal('233630'): 2287, Decimal('233680'): 2288, Decimal('233700'): 2289, Decimal('233720'): 2290, Decimal('233740'): 2291, Decimal('233840'): 2292, Decimal('233860'): 2293, Decimal('233980'): 2294, Decimal('234000'): 2295, Decimal('234060'): 2296, Decimal('234080'): 2297, Decimal('234160'): 2298, Decimal('234190'): 2299, Decimal('234290'): 2300, Decimal('234310'): 2301, Decimal('234330'): 2302, Decimal('234370'): 2303, Decimal('234390'): 2304, Decimal('234490'): 2305, Decimal('234530'): 2306, Decimal('234630'): 2307, Decimal('234650'): 2308, Decimal('234670'): 2309, Decimal('234710'): 2310, Decimal('234740'): 2311, Decimal('234820'): 2312, Decimal('234900'): 2313, Decimal('234940'): 2314, Decimal('234980'): 2315, Decimal('235070'): 2316, Decimal('235210'): 2317, Decimal('235250'): 2318, Decimal('235320'): 2319, Decimal('235340'): 2320, Decimal('235360'): 2321, Decimal('235400'): 2322, Decimal('235460'): 2323, Decimal('235600'): 2324, Decimal('235620'): 2325, Decimal('235660'): 2326, Decimal('235700'): 2327, Decimal('235720'): 2328, Decimal('235760'): 2329, Decimal('235780'): 2330, Decimal('235800'): 2331, Decimal('235820'): 2332, Decimal('235900'): 2333, Decimal('235980'): 2334, Decimal('236090'): 2335, Decimal('236130'): 2336, Decimal('236150'): 2337, Decimal('236370'): 2338, Decimal('236390'): 2339, Decimal('236430'): 2340, Decimal('236450'): 2341, Decimal('236470'): 2342, Decimal('236490'): 2343, Decimal('236510'): 2344, Decimal('236730'): 2345, Decimal('236790'): 2346, Decimal('236830'): 2347, Decimal('236850'): 2348, Decimal('236930'): 2349, Decimal('236970'): 2350, Decimal('237110'): 2351, Decimal('237310'): 2352, Decimal('237370'): 2353, Decimal('237430'): 2354, Decimal('237470'): 2355, Decimal('237550'): 2356, Decimal('237570'): 2357, Decimal('237590'): 2358, Decimal('237630'): 2359, Decimal('237740'): 2360, Decimal('237760'): 2361, Decimal('237870'): 2362, Decimal('237890'): 2363, Decimal('237930'): 2364, Decimal('237950'): 2365, Decimal('237990'): 2366, Decimal('238010'): 2367, Decimal('238050'): 2368, Decimal('238070'): 2369, Decimal('238090'): 2370, Decimal('238110'): 2371, Decimal('238170'): 2372, Decimal('238210'): 2373, Decimal('238240'): 2374, Decimal('238260'): 2375, Decimal('238280'): 2376, Decimal('238320'): 2377, Decimal('238430'): 2378, Decimal('238460'): 2379, Decimal('238530'): 2380, Decimal('238630'): 2381, Decimal('238710'): 2382, Decimal('238750'): 2383, Decimal('238870'): 2384, Decimal('238890'): 2385, Decimal('238910'): 2386, Decimal('238930'): 2387, Decimal('238960'): 2388, Decimal('239030'): 2389, Decimal('239070'): 2390, Decimal('239090'): 2391, Decimal('239120'): 2392, Decimal('239160'): 2393, Decimal('239200'): 2394, Decimal('239220'): 2395, Decimal('239250'): 2396, Decimal('239350'): 2397, Decimal('239410'): 2398, Decimal('239430'): 2399, Decimal('239450'): 2400, Decimal('239660'): 2401, Decimal('239700'): 2402, Decimal('239720'): 2403, Decimal('239760'): 2404, Decimal('239800'): 2405, Decimal('239820'): 2406, Decimal('239840'): 2407, Decimal('240160'): 2408, Decimal('240200'): 2409, Decimal('240320'): 2410, Decimal('240340'): 2411, Decimal('240360'): 2412, Decimal('240380'): 2413, Decimal('240600'): 2414, Decimal('240660'): 2415, Decimal('240760'): 2416, Decimal('240970'): 2417, Decimal('241070'): 2418, Decimal('241240'): 2419, Decimal('241320'): 2420, Decimal('241410'): 2421, Decimal('241540'): 2422, Decimal('241560'): 2423, Decimal('241600'): 2424, Decimal('241620'): 2425, Decimal('241640'): 2426, Decimal('241660'): 2427, Decimal('241720'): 2428, Decimal('241790'): 2429, Decimal('241910'): 2430, Decimal('242050'): 2431, Decimal('242110'): 2432, Decimal('242360'): 2433, Decimal('242460'): 2434, Decimal('242480'): 2435, Decimal('242530'): 2436, Decimal('242550'): 2437, Decimal('242570'): 2438, Decimal('242590'): 2439, Decimal('242640'): 2440, Decimal('242680'): 2441, Decimal('242700'): 2442, Decimal('242720'): 2443, Decimal('242760'): 2444, Decimal('242780'): 2445, Decimal('242800'): 2446, Decimal('242820'): 2447, Decimal('242840'): 2448, Decimal('242860'): 2449, Decimal('242880'): 2450, Decimal('242920'): 2451, Decimal('242940'): 2452, Decimal('242960'): 2453, Decimal('242980'): 2454, Decimal('243040'): 2455, Decimal('243120'): 2456, Decimal('243140'): 2457, Decimal('243180'): 2458, Decimal('243200'): 2459, Decimal('243220'): 2460, Decimal('243280'): 2461, Decimal('243320'): 2462, Decimal('243360'): 2463, Decimal('243380'): 2464, Decimal('243450'): 2465, Decimal('243470'): 2466, Decimal('243560'): 2467, Decimal('243580'): 2468, Decimal('243780'): 2469, Decimal('243800'): 2470, Decimal('243870'): 2471, Decimal('243930'): 2472, Decimal('243950'): 2473, Decimal('243970'): 2474, Decimal('244030'): 2475, Decimal('244050'): 2476, Decimal('244070'): 2477, Decimal('244090'): 2478, Decimal('244210'): 2479, Decimal('244410'): 2480, Decimal('244430'): 2481, Decimal('244450'): 2482, Decimal('244590'): 2483, Decimal('244630'): 2484, Decimal('244690'): 2485, Decimal('244710'): 2486, Decimal('244730'): 2487, Decimal('244810'): 2488, Decimal('244850'): 2489, Decimal('244870'): 2490, Decimal('244890'): 2491, Decimal('244930'): 2492, Decimal('245050'): 2493, Decimal('245130'): 2494, Decimal('245150'): 2495, Decimal('245170'): 2496, Decimal('245280'): 2497, Decimal('245390'): 2498, Decimal('245410'): 2499, Decimal('245430'): 2500, Decimal('245450'): 2501, Decimal('245470'): 2502, Decimal('245490'): 2503, Decimal('245550'): 2504, Decimal('245620'): 2505, Decimal('245730'): 2506, Decimal('245760'): 2507, Decimal('246070'): 2508, Decimal('246090'): 2509, Decimal('246260'): 2510, Decimal('246280'): 2511, Decimal('246300'): 2512, Decimal('246360'): 2513, Decimal('246400'): 2514, Decimal('246420'): 2515, Decimal('246580'): 2516, Decimal('246600'): 2517, Decimal('246620'): 2518, Decimal('246680'): 2519, Decimal('246700'): 2520, Decimal('246720'): 2521, Decimal('246740'): 2522, Decimal('246760'): 2523, Decimal('246800'): 2524, Decimal('246840'): 2525, Decimal('246880'): 2526, Decimal('246900'): 2527, Decimal('246940'): 2528, Decimal('246960'): 2529, Decimal('246980'): 2530, Decimal('247000'): 2531, Decimal('247020'): 2532, Decimal('247080'): 2533, Decimal('247120'): 2534, Decimal('247140'): 2535, Decimal('247240'): 2536, Decimal('247310'): 2537, Decimal('247350'): 2538, Decimal('247370'): 2539, Decimal('247430'): 2540, Decimal('247580'): 2541, Decimal('247660'): 2542, Decimal('247730'): 2543, Decimal('247770'): 2544, Decimal('247830'): 2545, Decimal('247870'): 2546, Decimal('247910'): 2547, Decimal('247930'): 2548, Decimal('247950'): 2549, Decimal('248170'): 2550, Decimal('248190'): 2551, Decimal('248290'): 2552, Decimal('248310'): 2553, Decimal('248350'): 2554, Decimal('248370'): 2555, Decimal('248390'): 2556, Decimal('248410'): 2557, Decimal('248450'): 2558, Decimal('248470'): 2559, Decimal('248490'): 2560, Decimal('248510'): 2561, Decimal('248530'): 2562, Decimal('248550'): 2563, Decimal('248570'): 2564, Decimal('248610'): 2565, Decimal('248630'): 2566, Decimal('248650'): 2567, Decimal('248710'): 2568, Decimal('248730'): 2569, Decimal('248800'): 2570, Decimal('248820'): 2571, Decimal('248860'): 2572, Decimal('248970'): 2573, Decimal('249050'): 2574, Decimal('249130'): 2575, Decimal('249230'): 2576, Decimal('249330'): 2577, Decimal('249360'): 2578, Decimal('249380'): 2579, Decimal('249570'): 2580, Decimal('249590'): 2581, Decimal('249610'): 2582, Decimal('249630'): 2583, Decimal('249650'): 2584, Decimal('249680'): 2585, Decimal('249870'): 2586, Decimal('249950'): 2587, Decimal('249990'): 2588, Decimal('250030'): 2589, Decimal('250110'): 2590, Decimal('250180'): 2591, Decimal('250240'): 2592, Decimal('250260'): 2593, Decimal('250280'): 2594, Decimal('250320'): 2595, Decimal('250340'): 2596, Decimal('250360'): 2597, Decimal('250380'): 2598, Decimal('250400'): 2599, Decimal('250420'): 2600, Decimal('250460'): 2601, Decimal('250500'): 2602, Decimal('250520'): 2603, Decimal('250560'): 2604, Decimal('250580'): 2605, Decimal('250600'): 2606, Decimal('250620'): 2607, Decimal('250640'): 2608, Decimal('250660'): 2609, Decimal('250700'): 2610, Decimal('250720'): 2611, Decimal('250740'): 2612, Decimal('250760'): 2613, Decimal('250820'): 2614, Decimal('250870'): 2615, Decimal('251020'): 2616, Decimal('251060'): 2617, Decimal('251150'): 2618, Decimal('251170'): 2619, Decimal('251210'): 2620, Decimal('251310'): 2621, Decimal('251370'): 2622, Decimal('251390'): 2623, Decimal('251410'): 2624, Decimal('251430'): 2625, Decimal('251470'): 2626, Decimal('251510'): 2627, Decimal('251530'): 2628, Decimal('251570'): 2629, Decimal('251610'): 2630, Decimal('251630'): 2631, Decimal('251670'): 2632, Decimal('251690'): 2633, Decimal('251710'): 2634, Decimal('251770'): 2635, Decimal('251850'): 2636, Decimal('251870'): 2637, Decimal('251890'): 2638, Decimal('251910'): 2639, Decimal('251970'): 2640, Decimal('251990'): 2641, Decimal('252010'): 2642, Decimal('252030'): 2643, Decimal('252050'): 2644, Decimal('252070'): 2645, Decimal('252150'): 2646, Decimal('252170'): 2647, Decimal('252210'): 2648, Decimal('252250'): 2649, Decimal('252270'): 2650, Decimal('252310'): 2651, Decimal('252330'): 2652, Decimal('252350'): 2653, Decimal('252370'): 2654, Decimal('252410'): 2655, Decimal('252490'): 2656, Decimal('252530'): 2657, Decimal('252550'): 2658, Decimal('252570'): 2659, Decimal('252630'): 2660, Decimal('252670'): 2661, Decimal('252690'): 2662, Decimal('252710'): 2663, Decimal('252730'): 2664, Decimal('252750'): 2665, Decimal('252770'): 2666, Decimal('252890'): 2667, Decimal('252910'): 2668, Decimal('253030'): 2669, Decimal('253110'): 2670, Decimal('253130'): 2671, Decimal('253150'): 2672, Decimal('253350'): 2673, Decimal('253370'): 2674, Decimal('253410'): 2675, Decimal('253430'): 2676, Decimal('253470'): 2677, Decimal('253510'): 2678, Decimal('253570'): 2679, Decimal('253610'): 2680, Decimal('253630'): 2681, Decimal('253650'): 2682, Decimal('253690'): 2683, Decimal('253710'): 2684, Decimal('253750'): 2685, Decimal('253770'): 2686, Decimal('253790'): 2687, Decimal('253860'): 2688, Decimal('253880'): 2689, Decimal('253900'): 2690, Decimal('253920'): 2691, Decimal('253940'): 2692, Decimal('253960'): 2693, Decimal('253980'): 2694, Decimal('254020'): 2695, Decimal('254060'): 2696, Decimal('254080'): 2697, Decimal('254100'): 2698, Decimal('254130'): 2699, Decimal('254200'): 2700, Decimal('254440'): 2701, Decimal('254460'): 2702, Decimal('254480'): 2703, Decimal('254590'): 2704, Decimal('254650'): 2705, Decimal('254700'): 2706, Decimal('254960'): 2707, Decimal('254980'): 2708, Decimal('255070'): 2709, Decimal('255220'): 2710, Decimal('255260'): 2711, Decimal('255280'): 2712, Decimal('255300'): 2713, Decimal('255320'): 2714, Decimal('255340'): 2715, Decimal('255370'): 2716, Decimal('255420'): 2717, Decimal('255480'): 2718, Decimal('255500'): 2719, Decimal('255520'): 2720, Decimal('255870'): 2721, Decimal('255920'): 2722, Decimal('255940'): 2723, Decimal('256010'): 2724, Decimal('256030'): 2725, Decimal('256050'): 2726, Decimal('256070'): 2727, Decimal('256190'): 2728, Decimal('256290'): 2729, Decimal('256330'): 2730, Decimal('256370'): 2731, Decimal('256390'): 2732, Decimal('256410'): 2733, Decimal('256440'): 2734, Decimal('257050'): 2735, Decimal('257080'): 2736, Decimal('257120'): 2737, Decimal('257170'): 2738, Decimal('257220'): 2739, Decimal('257350'): 2740, Decimal('257400'): 2741, Decimal('257610'): 2742, Decimal('257630'): 2743, Decimal('257670'): 2744, Decimal('257710'): 2745, Decimal('257730'): 2746, Decimal('257750'): 2747, Decimal('257770'): 2748, Decimal('257790'): 2749, Decimal('257830'): 2750, Decimal('257870'): 2751, Decimal('257890'): 2752, Decimal('257930'): 2753, Decimal('257970'): 2754, Decimal('257990'): 2755, Decimal('258010'): 2756, Decimal('258050'): 2757, Decimal('258070'): 2758, Decimal('258090'): 2759, Decimal('258180'): 2760, Decimal('258200'): 2761, Decimal('258220'): 2762, Decimal('258240'): 2763, Decimal('258590'): 2764, Decimal('258700'): 2765, Decimal('258760'): 2766, Decimal('258880'): 2767, Decimal('258890'): 2768, Decimal('258950'): 2769, Decimal('258970'): 2770, Decimal('259020'): 2771, Decimal('259060'): 2772, Decimal('259080'): 2773, Decimal('259130'): 2774, Decimal('259190'): 2775, Decimal('259280'): 2776, Decimal('259300'): 2777, Decimal('259340'): 2778, Decimal('259360'): 2779, Decimal('259390'): 2780, Decimal('259430'): 2781, Decimal('259470'): 2782, Decimal('259510'): 2783, Decimal('259530'): 2784, Decimal('259550'): 2785, Decimal('259600'): 2786, Decimal('259620'): 2787, Decimal('259640'): 2788, Decimal('259660'): 2789, Decimal('259680'): 2790, Decimal('259700'): 2791, Decimal('259720'): 2792, Decimal('259740'): 2793, Decimal('259760'): 2794, Decimal('259810'): 2795, Decimal('259830'): 2796, Decimal('259890'): 2797, Decimal('259910'): 2798, Decimal('259940'): 2799, Decimal('259980'): 2800, Decimal('260000'): 2801, Decimal('260060'): 2802, Decimal('260130'): 2803, Decimal('260160'): 2804, Decimal('260190'): 2805, Decimal('260210'): 2806, Decimal('260230'): 2807, Decimal('260250'): 2808, Decimal('260270'): 2809, Decimal('260330'): 2810, Decimal('260510'): 2811, Decimal('260570'): 2812, Decimal('260690'): 2813, Decimal('260710'): 2814, Decimal('260730'): 2815, Decimal('260750'): 2816, Decimal('260770'): 2817, Decimal('260790'): 2818, Decimal('260930'): 2819, Decimal('261030'): 2820, Decimal('261110'): 2821, Decimal('261180'): 2822, Decimal('261350'): 2823, Decimal('261470'): 2824, Decimal('261510'): 2825, Decimal('261530'): 2826, Decimal('261600'): 2827, Decimal('261700'): 2828, Decimal('261720'): 2829, Decimal('261740'): 2830, Decimal('261760'): 2831, Decimal('261820'): 2832, Decimal('261880'): 2833, Decimal('261920'): 2834, Decimal('261980'): 2835, Decimal('262080'): 2836, Decimal('262120'): 2837, Decimal('262150'): 2838, Decimal('262210'): 2839, Decimal('262260'): 2840, Decimal('262300'): 2841, Decimal('262390'): 2842, Decimal('262410'): 2843, Decimal('262450'): 2844, Decimal('262550'): 2845, Decimal('262690'): 2846, Decimal('262750'): 2847, Decimal('262770'): 2848, Decimal('262790'): 2849, Decimal('262830'): 2850, Decimal('262850'): 2851, Decimal('262900'): 2852, Decimal('262940'): 2853, Decimal('262980'): 2854, Decimal('263020'): 2855, Decimal('263060'): 2856, Decimal('263080'): 2857, Decimal('263100'): 2858, Decimal('263200'): 2859, Decimal('263260'): 2860, Decimal('263280'): 2861, Decimal('263300'): 2862, Decimal('263320'): 2863, Decimal('263340'): 2864, Decimal('263360'): 2865, Decimal('263380'): 2866, Decimal('263400'): 2867, Decimal('263420'): 2868, Decimal('263440'): 2869, Decimal('263460'): 2870, Decimal('263500'): 2871, Decimal('263540'): 2872, Decimal('263560'): 2873, Decimal('263620'): 2874, Decimal('263680'): 2875, Decimal('263700'): 2876, Decimal('263740'): 2877, Decimal('263760'): 2878, Decimal('263820'): 2879, Decimal('263840'): 2880, Decimal('263860'): 2881, Decimal('263880'): 2882, Decimal('263960'): 2883, Decimal('264060'): 2884, Decimal('264080'): 2885, Decimal('264120'): 2886, Decimal('264140'): 2887, Decimal('264160'): 2888, Decimal('264200'): 2889, Decimal('264220'): 2890, Decimal('264240'): 2891, Decimal('264280'): 2892, Decimal('264320'): 2893, Decimal('264340'): 2894, Decimal('264360'): 2895, Decimal('264380'): 2896, Decimal('264520'): 2897, Decimal('264540'): 2898, Decimal('264690'): 2899, Decimal('264730'): 2900, Decimal('265120'): 2901, Decimal('265170'): 2902, Decimal('265210'): 2903, Decimal('265330'): 2904, Decimal('265380'): 2905, Decimal('265400'): 2906, Decimal('265420'): 2907, Decimal('265550'): 2908, Decimal('265590'): 2909, Decimal('265610'): 2910, Decimal('265630'): 2911, Decimal('265650'): 2912, Decimal('265670'): 2913, Decimal('265690'): 2914, Decimal('265750'): 2915, Decimal('265770'): 2916, Decimal('265810'): 2917, Decimal('265890'): 2918, Decimal('265930'): 2919, Decimal('265950'): 2920, Decimal('265990'): 2921, Decimal('266010'): 2922, Decimal('266030'): 2923, Decimal('266070'): 2924, Decimal('266090'): 2925, Decimal('266110'): 2926, Decimal('266130'): 2927, Decimal('266170'): 2928, Decimal('266210'): 2929, Decimal('266230'): 2930, Decimal('266270'): 2931, Decimal('266290'): 2932, Decimal('266330'): 2933, Decimal('266370'): 2934, Decimal('266390'): 2935, Decimal('266430'): 2936, Decimal('266450'): 2937, Decimal('266490'): 2938, Decimal('266510'): 2939, Decimal('266550'): 2940, Decimal('266840'): 2941, Decimal('267060'): 2942, Decimal('267220'): 2943, Decimal('267340'): 2944, Decimal('267360'): 2945, Decimal('267490'): 2946, Decimal('267530'): 2947, Decimal('267550'): 2948, Decimal('267600'): 2949, Decimal('267610'): 2950, Decimal('267670'): 2951, Decimal('267750'): 2952, Decimal('267790'): 2953, Decimal('267900'): 2954, Decimal('267960'): 2955, Decimal('267980'): 2956, Decimal('268200'): 2957, Decimal('268220'): 2958, Decimal('268240'): 2959, Decimal('268360'): 2960, Decimal('268400'): 2961, Decimal('268420'): 2962, Decimal('268540'): 2963, Decimal('268650'): 2964, Decimal('268670'): 2965, Decimal('268750'): 2966, Decimal('268810'): 2967, Decimal('268830'): 2968, Decimal('268850'): 2969, Decimal('268890'): 2970, Decimal('269010'): 2971, Decimal('269030'): 2972, Decimal('269050'): 2973, Decimal('269110'): 2974, Decimal('269150'): 2975, Decimal('269210'): 2976, Decimal('269230'): 2977, Decimal('269250'): 2978, Decimal('269270'): 2979, Decimal('269290'): 2980, Decimal('269330'): 2981, Decimal('269370'): 2982, Decimal('269390'): 2983, Decimal('269450'): 2984, Decimal('269470'): 2985, Decimal('269490'): 2986, Decimal('269570'): 2987, Decimal('269610'): 2988, Decimal('269730'): 2989, Decimal('269790'): 2990, Decimal('269810'): 2991, Decimal('269910'): 2992, Decimal('270050'): 2993, Decimal('270090'): 2994, Decimal('270110'): 2995, Decimal('270150'): 2996, Decimal('270170'): 2997, Decimal('270210'): 2998, Decimal('270330'): 2999, Decimal('270430'): 3000, Decimal('270450'): 3001, Decimal('270510'): 3002, Decimal('270550'): 3003, Decimal('270570'): 3004, Decimal('270630'): 3005, Decimal('270750'): 3006, Decimal('270760'): 3007, Decimal('270770'): 3008, Decimal('270790'): 3009, Decimal('270850'): 3010, Decimal('270950'): 3011, Decimal('271290'): 3012, Decimal('271500'): 3013, Decimal('271550'): 3014, Decimal('271570'): 3015, Decimal('271640'): 3016, Decimal('271670'): 3017, Decimal('271820'): 3018, Decimal('271860'): 3019, Decimal('271900'): 3020, Decimal('272010'): 3021, Decimal('272040'): 3022, Decimal('272060'): 3023, Decimal('272350'): 3024, Decimal('272470'): 3025, Decimal('272510'): 3026, Decimal('272670'): 3027, Decimal('272860'): 3028, Decimal('272890'): 3029, Decimal('272990'): 3030, Decimal('273030'): 3031, Decimal('273070'): 3032, Decimal('273240'): 3033, Decimal('273390'): 3034, Decimal('273500'): 3035, Decimal('273550'): 3036, Decimal('273570'): 3037, Decimal('273580'): 3038, Decimal('273590'): 3039, Decimal('273620'): 3040, Decimal('273760'): 3041, Decimal('273770'): 3042, Decimal('273940'): 3043, Decimal('274010'): 3044, Decimal('274190'): 3045, Decimal('274250'): 3046, Decimal('274290'): 3047, Decimal('274310'): 3048, Decimal('274450'): 3049, Decimal('274480'): 3050, Decimal('274520'): 3051, Decimal('274900'): 3052, Decimal('274920'): 3053, Decimal('274980'): 3054, Decimal('275080'): 3055, Decimal('275290'): 3056, Decimal('275310'): 3057, Decimal('275390'): 3058, Decimal('275470'): 3059, Decimal('275490'): 3060, Decimal('275530'): 3061, Decimal('275570'): 3062, Decimal('275610'): 3063, Decimal('275670'): 3064, Decimal('275810'): 3065, Decimal('276460'): 3066, Decimal('276890'): 3067, Decimal('277110'): 3068, Decimal('277270'): 3069, Decimal('277430'): 3070, Decimal('277450'): 3071, Decimal('277460'): 3072, Decimal('277470'): 3073, Decimal('277500'): 3074, Decimal('277540'): 3075, Decimal('277560'): 3076, Decimal('277590'): 3077, Decimal('277630'): 3078, Decimal('277890'): 3079, Decimal('277910'): 3080, Decimal('277930'): 3081, Decimal('277950'): 3082, Decimal('278080'): 3083, Decimal('278360'): 3084, Decimal('278440'): 3085, Decimal('278460'): 3086, Decimal('278570'): 3087, Decimal('278890'): 3088, Decimal('278910'): 3089, Decimal('278930'): 3090, Decimal('279140'): 3091, Decimal('279160'): 3092, Decimal('279260'): 3093, Decimal('279480'): 3094, Decimal('279520'): 3095, Decimal('279560'): 3096, Decimal('280040'): 3097, Decimal('280140'): 3098, Decimal('280220'): 3099, Decimal('280320'): 3100, Decimal('280440'): 3101, Decimal('280500'): 3102, Decimal('280520'): 3103, Decimal('280540'): 3104, Decimal('280560'): 3105, Decimal('280620'): 3106, Decimal('280680'): 3107, Decimal('280740'): 3108, Decimal('280830'): 3109, Decimal('280910'): 3110, Decimal('280930'): 3111, Decimal('281060'): 3112, Decimal('281220'): 3113, Decimal('281280'): 3114, Decimal('281350'): 3115, Decimal('281390'): 3116, Decimal('281410'): 3117, Decimal('281430'): 3118, Decimal('281820'): 3119, Decimal('281840'): 3120, Decimal('281860'): 3121, Decimal('281920'): 3122, Decimal('282010'): 3123, Decimal('282100'): 3124, Decimal('282400'): 3125, Decimal('282440'): 3126, Decimal('282530'): 3127, Decimal('282590'): 3128, Decimal('282760'): 3129, Decimal('282800'): 3130, Decimal('282860'): 3131, Decimal('283000'): 3132, Decimal('283100'): 3133, Decimal('283290'): 3134, Decimal('283330'): 3135, Decimal('283430'): 3136, Decimal('283490'): 3137, Decimal('283660'): 3138, Decimal('283680'): 3139, Decimal('283880'): 3140, Decimal('283920'): 3141, Decimal('283940'): 3142, Decimal('283960'): 3143, Decimal('283980'): 3144, Decimal('284100'): 3145, Decimal('284160'): 3146, Decimal('284390'): 3147, Decimal('284710'): 3148, Decimal('284790'): 3149, Decimal('284830'): 3150, Decimal('284950'): 3151, Decimal('284970'): 3152, Decimal('285030'): 3153, Decimal('285110'): 3154, Decimal('285130'): 3155, Decimal('285160'): 3156, Decimal('285310'): 3157, Decimal('285330'): 3158, Decimal('285400'): 3159, Decimal('285420'): 3160, Decimal('285440'): 3161, Decimal('285500'): 3162, Decimal('285580'): 3163, Decimal('285800'): 3164, Decimal('285840'): 3165, Decimal('285900'): 3166, Decimal('285960'): 3167, Decimal('286040'): 3168, Decimal('286080'): 3169, Decimal('286100'): 3170, Decimal('286120'): 3171, Decimal('286160'): 3172, Decimal('286200'): 3173, Decimal('286320'): 3174, Decimal('286340'): 3175, Decimal('286360'): 3176, Decimal('286380'): 3177, Decimal('286460'): 3178, Decimal('286540'): 3179, Decimal('286690'): 3180, Decimal('286810'): 3181, Decimal('287020'): 3182, Decimal('287100'): 3183, Decimal('287120'): 3184, Decimal('287200'): 3185, Decimal('287340'): 3186, Decimal('287390'): 3187, Decimal('287450'): 3188, Decimal('287580'): 3189, Decimal('287720'): 3190, Decimal('287860'): 3191, Decimal('287980'): 3192, Decimal('288040'): 3193, Decimal('288060'): 3194, Decimal('288120'): 3195, Decimal('288160'): 3196, Decimal('288220'): 3197, Decimal('288370'): 3198, Decimal('288470'): 3199, Decimal('288570'): 3200, Decimal('288650'): 3201, Decimal('288690'): 3202, Decimal('288730'): 3203, Decimal('288830'): 3204, Decimal('288840'): 3205, Decimal('288880'): 3206, Decimal('288970'): 3207, Decimal('289090'): 3208, Decimal('289130'): 3209, Decimal('289220'): 3210, Decimal('289240'): 3211, Decimal('289280'): 3212, Decimal('289300'): 3213, Decimal('289340'): 3214, Decimal('289360'): 3215, Decimal('289400'): 3216, Decimal('289420'): 3217, Decimal('289440'): 3218, Decimal('289500'): 3219, Decimal('289520'): 3220, Decimal('289600'): 3221, Decimal('289620'): 3222, Decimal('289760'): 3223, Decimal('289800'): 3224, Decimal('289820'): 3225, Decimal('289840'): 3226, Decimal('289890'): 3227, Decimal('290000'): 3228, Decimal('290060'): 3229, Decimal('290260'): 3230, Decimal('290280'): 3231, Decimal('290320'): 3232, Decimal('290460'): 3233, Decimal('290650'): 3234, Decimal('290710'): 3235, Decimal('290730'): 3236, Decimal('290770'): 3237, Decimal('290810'): 3238, Decimal('290970'): 3239, Decimal('291030'): 3240, Decimal('291050'): 3241, Decimal('291070'): 3242, Decimal('291130'): 3243, Decimal('291150'): 3244, Decimal('291250'): 3245, Decimal('291290'): 3246, Decimal('291330'): 3247, Decimal('291370'): 3248, Decimal('291450'): 3249, Decimal('291480'): 3250, Decimal('291710'): 3251, Decimal('291910'): 3252, Decimal('291930'): 3253, Decimal('292060'): 3254, Decimal('292090'): 3255, Decimal('292180'): 3256, Decimal('292200'): 3257, Decimal('292230'): 3258, Decimal('292400'): 3259, Decimal('292410'): 3260, Decimal('292420'): 3261, Decimal('292570'): 3262, Decimal('292620'): 3263, Decimal('292660'): 3264, Decimal('292780'): 3265, Decimal('292800'): 3266, Decimal('292910'): 3267, Decimal('292930'): 3268, Decimal('293010'): 3269, Decimal('293320'): 3270, Decimal('293500'): 3271, Decimal('293540'): 3272, Decimal('293680'): 3273, Decimal('293740'): 3274, Decimal('293780'): 3275, Decimal('293860'): 3276, Decimal('293900'): 3277, Decimal('293940'): 3278, Decimal('294000'): 3279, Decimal('294020'): 3280, Decimal('294140'): 3281, Decimal('294230'): 3282, Decimal('294440'): 3283, Decimal('294530'): 3284, Decimal('294550'): 3285, Decimal('294570'): 3286, Decimal('294660'): 3287, Decimal('294750'): 3288, Decimal('294770'): 3289, Decimal('294830'): 3290, Decimal('295250'): 3291, Decimal('295550'): 3292, Decimal('295610'): 3293, Decimal('295710'): 3294, Decimal('295730'): 3295, Decimal('295750'): 3296, Decimal('295770'): 3297, Decimal('295850'): 3298, Decimal('295870'): 3299, Decimal('295930'): 3300, Decimal('296070'): 3301, Decimal('296150'): 3302, Decimal('296210'): 3303, Decimal('296240'): 3304, Decimal('296470'): 3305, Decimal('296530'): 3306, Decimal('296570'): 3307, Decimal('296610'): 3308, Decimal('296650'): 3309, Decimal('296770'): 3310, Decimal('296910'): 3311, Decimal('296930'): 3312, Decimal('297020'): 3313, Decimal('297060'): 3314, Decimal('297100'): 3315, Decimal('297110'): 3316, Decimal('297120'): 3317, Decimal('297210'): 3318, Decimal('297330'): 3319, Decimal('297410'): 3320, Decimal('297490'): 3321, Decimal('297570'): 3322, Decimal('297590'): 3323, Decimal('297750'): 3324, Decimal('297810'): 3325, Decimal('298260'): 3326, Decimal('298340'): 3327, Decimal('298400'): 3328, Decimal('298480'): 3329, Decimal('298520'): 3330, Decimal('298600'): 3331, Decimal('298630'): 3332, Decimal('299070'): 3333, Decimal('299170'): 3334, Decimal('299340'): 3335, Decimal('299420'): 3336, Decimal('299460'): 3337, Decimal('299500'): 3338, Decimal('299540'): 3339, Decimal('299700'): 3340, Decimal('299780'): 3341, Decimal('299860'): 3342, Decimal('300040'): 3343, Decimal('300220'): 3344, Decimal('300300'): 3345, Decimal('300320'): 3346, Decimal('300360'): 3347, Decimal('300540'): 3348, Decimal('300610'): 3349, Decimal('300920'): 3350, Decimal('300970'): 3351, Decimal('301150'): 3352, Decimal('301200'): 3353, Decimal('301220'): 3354, Decimal('301300'): 3355, Decimal('301360'): 3356, Decimal('301460'): 3357, Decimal('301480'): 3358, Decimal('301520'): 3359, Decimal('301540'): 3360, Decimal('301740'): 3361, Decimal('301750'): 3362, Decimal('301970'): 3363, Decimal('302060'): 3364, Decimal('302080'): 3365, Decimal('302160'): 3366, Decimal('302170'): 3367, Decimal('302270'): 3368, Decimal('302310'): 3369, Decimal('302330'): 3370, Decimal('302350'): 3371, Decimal('302380'): 3372, Decimal('302390'): 3373, Decimal('302470'): 3374, Decimal('302590'): 3375, Decimal('302610'): 3376, Decimal('302950'): 3377, Decimal('302970'): 3378, Decimal('303390'): 3379, Decimal('303410'): 3380, Decimal('303470'): 3381, Decimal('303680'): 3382, Decimal('303760'): 3383, Decimal('303790'): 3384, Decimal('304030'): 3385, Decimal('304270'): 3386, Decimal('304290'): 3387, Decimal('304350'): 3388, Decimal('304650'): 3389, Decimal('304670'): 3390, Decimal('304730'): 3391, Decimal('304890'): 3392, Decimal('304930'): 3393, Decimal('305070'): 3394, Decimal('305260'): 3395, Decimal('305280'): 3396, Decimal('305620'): 3397, Decimal('305640'): 3398, Decimal('305780'): 3399, Decimal('305860'): 3400, Decimal('306130'): 3401, Decimal('306410'): 3402, Decimal('306490'): 3403, Decimal('306550'): 3404, Decimal('306630'): 3405, Decimal('306660'): 3406, Decimal('306830'): 3407, Decimal('307010'): 3408, Decimal('307190'): 3409, Decimal('307270'): 3410, Decimal('307290'): 3411, Decimal('307640'): 3412, Decimal('307760'): 3413, Decimal('307930'): 3414, Decimal('307980'): 3415, Decimal('307990'): 3416, Decimal('308080'): 3417, Decimal('308360'): 3418, Decimal('310080'): 3419, Decimal('310450'): 3420, Decimal('310970'): 3421, Decimal('311040'): 3422, Decimal('311190'): 3423, Decimal('311870'): 3424, Decimal('311980'): 3425, Decimal('312010'): 3426, Decimal('312150'): 3427, Decimal('312210'): 3428, Decimal('312220'): 3429, Decimal('312300'): 3430, Decimal('312350'): 3431, Decimal('312360'): 3432, Decimal('312410'): 3433, Decimal('312630'): 3434, Decimal('312750'): 3435, Decimal('312990'): 3436, Decimal('313020'): 3437, Decimal('313040'): 3438, Decimal('313340'): 3439, Decimal('313620'): 3440, Decimal('313730'): 3441, Decimal('313740'): 3442, Decimal('314200'): 3443, Decimal('314230'): 3444, Decimal('314240'): 3445, Decimal('314250'): 3446, Decimal('314280'): 3447, Decimal('314320'): 3448, Decimal('314380'): 3449, Decimal('314420'): 3450, Decimal('314470'): 3451, Decimal('314980'): 3452, Decimal('315260'): 3453, Decimal('315640'): 3454, Decimal('316020'): 3455, Decimal('316460'): 3456, Decimal('316570'): 3457, Decimal('316720'): 3458, Decimal('317410'): 3459, Decimal('317470'): 3460, Decimal('317710'): 3461, Decimal('317760'): 3462, Decimal('317950'): 3463, Decimal('319510'): 3464, Decimal('321840'): 3465}\n"
     ]
    }
   ],
   "source": [
    "# Create a dictionary of appids and row numbers\n",
    "all_row_num = vectors.select(\"appid\", \"row_num\").rdd.collectAsMap()\n",
    "\n",
    "print(all_row_num)\n",
    "\n",
    "# Create a dictionary of appids cast to Integer and row numbers\n",
    "# all_row_num = vectors.select(\"appid\", \"row_num\").rdd.map(lambda x: (int(x[0]), x[1])).collectAsMap()"
   ]
  },
  {
   "attachments": {},
   "cell_type": "markdown",
   "metadata": {},
   "source": [
    "## Rating Prediction\n"
   ]
  },
  {
   "attachments": {},
   "cell_type": "markdown",
   "metadata": {},
   "source": [
    "For a given user (steamid) and game (appid), we can compute the predicted rating of the game (appid) for the user (steamid) using the weighted average of the k most similar games to the game (appid) that the user (steamid) has played.\n",
    "\n",
    "This is the same item-item collaborative filtering formula that was shown in class."
   ]
  },
  {
   "cell_type": "code",
   "execution_count": null,
   "metadata": {},
   "outputs": [],
   "source": [
    "def predict_rating(appid, user_ratings_dict, k=3):\n",
    "\n",
    "    # Get appid row number from the vectors dataframe\n",
    "    if appid in all_row_num:\n",
    "        appid_row_num = all_row_num[appid] - 1\n",
    "    else:\n",
    "        return 0.0\n",
    "\n",
    "    # Get a list of correlations between the appid and all other games\n",
    "    corr = corr_array[appid_row_num]\n",
    "\n",
    "    # Create a dict of appids and correlations\n",
    "    corr_dict = {}\n",
    "    for appid in all_row_num:\n",
    "        if appid in user_ratings_dict:\n",
    "            corr_dict[appid] = corr[all_row_num[appid]]\n",
    "\n",
    "    # Make a list of tuples of (appid, correlation, rating)\n",
    "    corr_list = []\n",
    "    for appid, corr in corr_dict.items():\n",
    "        # Only add the appid to the list if the user has rated it\n",
    "        if appid in user_ratings_dict:\n",
    "            corr_list.append((appid, corr, user_ratings_dict[appid]))\n",
    "\n",
    "    # Sort the list by correlation\n",
    "    corr_list.sort(key=lambda x: x[1], reverse=True)\n",
    "\n",
    "    # Get the top 10 most similar appids\n",
    "    top_k = corr_list[1:k+1]\n",
    "\n",
    "    # Calculate the weighted average of the top 10 appids\n",
    "    numerator = 0\n",
    "    denominator = 0\n",
    "    for appid, corr, rating in top_k:\n",
    "        numerator += corr * rating\n",
    "        denominator += corr\n",
    "    if denominator != 0:\n",
    "        return float(numerator / denominator)\n",
    "    else:\n",
    "        return 0.0\n",
    "\n",
    "def predict_single_rating(steamid, appid, training_df):\n",
    "    # Get all the user's ratings\n",
    "    user_ratings_dict = training_df.filter(col(\"steamid\") == steamid).select(\"appid\", \"ratings\").rdd.collectAsMap()\n",
    "\n",
    "    # Predict the user's rating for the appid\n",
    "    return predict_rating(appid, user_ratings_dict)"
   ]
  },
  {
   "cell_type": "code",
   "execution_count": null,
   "metadata": {},
   "outputs": [
    {
     "name": "stderr",
     "output_type": "stream",
     "text": [
      "[Stage 2876:> (0 + 1) / 1][Stage 2877:> (0 + 1) / 1][Stage 2878:> (0 + 1) / 1]\r"
     ]
    },
    {
     "name": "stdout",
     "output_type": "stream",
     "text": [
      "Predicted rating for steamid [76561198023872000] and appid [500]: 3.333620801884141\n"
     ]
    },
    {
     "name": "stderr",
     "output_type": "stream",
     "text": [
      "                                                                                \r"
     ]
    }
   ],
   "source": [
    "# Test the function for a given user and game\n",
    "test_steamid = 76561198023872000\n",
    "test_appid = 500\n",
    "print(f'Predicted rating for steamid [{test_steamid}] and appid [{test_appid}]: {predict_single_rating(test_steamid, test_appid, training)}')"
   ]
  },
  {
   "attachments": {},
   "cell_type": "markdown",
   "metadata": {},
   "source": [
    "## Recommender\n",
    "\n"
   ]
  },
  {
   "attachments": {},
   "cell_type": "markdown",
   "metadata": {},
   "source": [
    "We run in parallel the rating prediction for each game that the user has not played before. We then sort the games by the predicted rating and return the top k games."
   ]
  },
  {
   "cell_type": "code",
   "execution_count": null,
   "metadata": {},
   "outputs": [
    {
     "name": "stderr",
     "output_type": "stream",
     "text": [
      "                                                                                \r"
     ]
    }
   ],
   "source": [
    "# Get all unique appids\n",
    "all_appids = vectors.select(\"appid\").rdd.flatMap(lambda x: x).collect()"
   ]
  },
  {
   "cell_type": "code",
   "execution_count": null,
   "metadata": {},
   "outputs": [
    {
     "name": "stderr",
     "output_type": "stream",
     "text": [
      "[Stage 2906:===========================================>          (13 + 3) / 16]\r"
     ]
    },
    {
     "name": "stdout",
     "output_type": "stream",
     "text": [
      "Predicted top 3 games for steamid [76561198023872000]: [Decimal('235340'), Decimal('233840'), Decimal('229580')]\n"
     ]
    },
    {
     "name": "stderr",
     "output_type": "stream",
     "text": [
      "                                                                                \r"
     ]
    }
   ],
   "source": [
    "def predict_user_ratings(steamid, recommendation_count=3):\n",
    "    # Get all_appids that the user has not rated\n",
    "    user_ratings_dict = training.filter(col(\"steamid\") == steamid).select(\"appid\", \"ratings\").rdd.collectAsMap()\n",
    "    not_rated = [appid for appid in all_appids if appid not in user_ratings_dict]\n",
    "    not_rated_rdd = spark.sparkContext.parallelize(not_rated)\n",
    "\n",
    "    # Run predict_rating for each appid and output a list of tuples of (appid, predicted rating)\n",
    "    predictions = not_rated_rdd.map(lambda appid: (appid, predict_rating(appid, user_ratings_dict))).collect()\n",
    "\n",
    "    # Sort the list by predicted rating\n",
    "    predictions.sort(key=lambda x: x[1], reverse=True)\n",
    "    \n",
    "    # Return top 3 appids outside of the tuple\n",
    "    return [appid for appid, rating in predictions[:recommendation_count]]\n",
    "\n",
    "print(f'Predicted top 3 games for steamid [{test_steamid}]: {predict_user_ratings(test_steamid)}')"
   ]
  },
  {
   "attachments": {},
   "cell_type": "markdown",
   "metadata": {},
   "source": [
    "## RMSE"
   ]
  },
  {
   "cell_type": "code",
   "execution_count": null,
   "metadata": {},
   "outputs": [
    {
     "name": "stderr",
     "output_type": "stream",
     "text": [
      "[Stage 2910:> (0 + 1) / 1][Stage 2911:> (0 + 1) / 1][Stage 2912:> (0 + 1) / 1]  \r"
     ]
    },
    {
     "name": "stdout",
     "output_type": "stream",
     "text": [
      "+------+-----------------+-------+\n",
      "| appid|          steamid|ratings|\n",
      "+------+-----------------+-------+\n",
      "|    80|76561197960389000|      3|\n",
      "|   240|76561197960389000|      2|\n",
      "|   240|76561197961433000|      2|\n",
      "|   730|76561197961433000|      2|\n",
      "| 10180|76561197961433000|      1|\n",
      "|228200|76561197961433000|      2|\n",
      "|   240|76561197962565000|      2|\n",
      "|   300|76561197962565000|      2|\n",
      "|  8930|76561197962565000|      2|\n",
      "| 10500|76561197962565000|      3|\n",
      "|202970|76561197962565000|      2|\n",
      "|212910|76561197962565000|      2|\n",
      "|    30|76561197967974000|      4|\n",
      "|    50|76561197967974000|      2|\n",
      "|   440|76561197970517000|      3|\n",
      "|   500|76561197970517000|      2|\n",
      "|   620|76561197970517000|      2|\n",
      "|   320|76561197971279000|      3|\n",
      "|  1250|76561197975983000|      3|\n",
      "| 91310|76561197975983000|      5|\n",
      "+------+-----------------+-------+\n",
      "only showing top 20 rows\n",
      "\n"
     ]
    },
    {
     "name": "stderr",
     "output_type": "stream",
     "text": [
      "                                                                                \r"
     ]
    }
   ],
   "source": [
    "# Normalize the test dataset\n",
    "test_normalized = normalize_dataset(test)\n",
    "test_normalized.show()"
   ]
  },
  {
   "cell_type": "code",
   "execution_count": null,
   "metadata": {},
   "outputs": [
    {
     "name": "stderr",
     "output_type": "stream",
     "text": [
      "                                                                                \r"
     ]
    },
    {
     "name": "stdout",
     "output_type": "stream",
     "text": [
      "+-----------------+--------------------+--------------------+--------------------+--------------------+--------------------+\n",
      "|          steamid|        train_appids|       train_ratings|         test_appids|        test_ratings|         predictions|\n",
      "+-----------------+--------------------+--------------------+--------------------+--------------------+--------------------+\n",
      "|76561197960271000|       [10, 30, 400]|           [2, 3, 4]|               [440]|                 [2]|         [2.7207913]|\n",
      "|76561197960291000|                [30]|                 [3]|            [10, 20]|              [2, 4]|          [0.0, 0.0]|\n",
      "|76561197960294000|                [10]|                 [2]|               [240]|                 [2]|               [0.0]|\n",
      "|76561197960334000|[70, 80, 220, 240...|[3, 3, 1, 2, 5, 4...|[400, 730, 13240,...|        [1, 2, 1, 1]|[3.5767725, 2.340...|\n",
      "|76561197960338000| [50, 380, 400, 420]|        [4, 5, 5, 1]|      [10, 240, 630]|           [2, 2, 5]|[4.767692, 3.2707...|\n",
      "|76561197960342000|[10, 30, 70, 240,...|[2, 3, 2, 2, 2, 5...|[20, 440, 730, 33...|[2, 2, 4, 1, 2, 2...|[2.4191413, 2.0, ...|\n",
      "|76561197960389000|                [10]|                 [2]|           [80, 240]|              [3, 2]|          [0.0, 0.0]|\n",
      "|76561197960425000|[10, 30, 70, 440,...|[2, 4, 2, 2, 4, 3...|[400, 8930, 12800...|     [5, 3, 1, 1, 5]|[3.9933782, 3.344...|\n",
      "|76561197960458000|[10, 30, 320, 550...|[2, 2, 3, 3, 2, 4...|[240, 300, 440, 2...|[3, 2, 2, 5, 3, 1...|[2.9835289, 2.991...|\n",
      "|76561197960476000|[130, 340, 380, 4...|[2, 2, 2, 3, 3, 1...|[10, 50, 220, 240...|  [2, 2, 3, 2, 2, 4]|[1.6631712, 2.319...|\n",
      "|76561197960668000|       [10, 30, 220]|           [2, 3, 1]|                [70]|                 [4]|         [2.7340593]|\n",
      "|76561197960816000|[10, 570, 41010, ...|[2, 2, 1, 5, 2, 2...|    [202170, 202970]|              [5, 3]|[1.6705444, 2.541...|\n",
      "|76561197960884000|[440, 630, 730, 8...|[2, 2, 2, 2, 1, 3...|[10, 240, 91600, ...|  [2, 2, 5, 1, 5, 1]|[2.0, 2.0, 2.3250...|\n",
      "|76561197960944000|[10, 240, 730, 28...|[2, 2, 3, 1, 2, 2...|[300, 440, 6910, ...|[2, 3, 2, 2, 2, 2...|[2.5398748, 1.836...|\n",
      "|76561197960951000|[10, 220, 400, 57...|[2, 3, 2, 2, 1, 4...|       [240, 201810]|              [2, 1]|[1.6728184, 2.582...|\n",
      "|76561197961103000|[220, 730, 40800,...|        [1, 2, 2, 1]|[400, 440, 6120, ...|        [1, 3, 2, 1]|[1.1556917, 1.143...|\n",
      "|76561197961143000|[130, 220, 340, 3...|[2, 3, 2, 2, 2, 1...|[10, 630, 1300, 1...|[3, 3, 1, 2, 5, 4...|[2.6708434, 1.660...|\n",
      "|76561197961149000|[20, 30, 70, 440,...|  [2, 3, 2, 3, 2, 2]|           [10, 730]|              [2, 2]|    [2.0, 2.6883307]|\n",
      "|76561197961196000|                [70]|                 [5]|                [10]|                 [2]|               [0.0]|\n",
      "|76561197961312000|[220, 400, 440, 5...|[1, 2, 5, 2, 2, 2...|[70, 1250, 1500, ...|[4, 3, 5, 1, 2, 5...|[2.9976077, 2.993...|\n",
      "+-----------------+--------------------+--------------------+--------------------+--------------------+--------------------+\n",
      "only showing top 20 rows\n",
      "\n"
     ]
    },
    {
     "name": "stderr",
     "output_type": "stream",
     "text": [
      "                                                                                \r"
     ]
    },
    {
     "name": "stdout",
     "output_type": "stream",
     "text": [
      "+-----------------+--------------------+--------------------+--------------------+--------------------+--------------------+----------+\n",
      "|          steamid|        train_appids|       train_ratings|         test_appids|        test_ratings|         predictions|      rmse|\n",
      "+-----------------+--------------------+--------------------+--------------------+--------------------+--------------------+----------+\n",
      "|76561197960271000|       [10, 30, 400]|           [2, 3, 4]|               [440]|                 [2]|         [2.7207913]|0.72079134|\n",
      "|76561197960291000|                [30]|                 [3]|            [10, 20]|              [2, 4]|          [0.0, 0.0]|       0.0|\n",
      "|76561197960294000|                [10]|                 [2]|               [240]|                 [2]|               [0.0]|       0.0|\n",
      "|76561197960334000|[70, 80, 220, 240...|[3, 3, 1, 2, 5, 4...|[400, 730, 13240,...|        [1, 2, 1, 1]|[3.5767725, 2.340...| 1.7201945|\n",
      "|76561197960338000| [50, 380, 400, 420]|        [4, 5, 5, 1]|      [10, 240, 630]|           [2, 2, 5]|[4.767692, 3.2707...| 1.7621384|\n",
      "|76561197960342000|[10, 30, 70, 240,...|[2, 3, 2, 2, 2, 5...|[20, 440, 730, 33...|[2, 2, 4, 1, 2, 2...|[2.4191413, 2.0, ...| 0.6786366|\n",
      "|76561197960389000|                [10]|                 [2]|           [80, 240]|              [3, 2]|          [0.0, 0.0]|       0.0|\n",
      "|76561197960425000|[10, 30, 70, 440,...|[2, 4, 2, 2, 4, 3...|[400, 8930, 12800...|     [5, 3, 1, 1, 5]|[3.9933782, 3.344...| 1.5486499|\n",
      "|76561197960458000|[10, 30, 320, 550...|[2, 2, 3, 3, 2, 4...|[240, 300, 440, 2...|[3, 2, 2, 5, 3, 1...|[2.9835289, 2.991...| 1.2972053|\n",
      "|76561197960476000|[130, 340, 380, 4...|[2, 2, 2, 3, 3, 1...|[10, 50, 220, 240...|  [2, 2, 3, 2, 2, 4]|[1.6631712, 2.319...|0.89828557|\n",
      "|76561197960668000|       [10, 30, 220]|           [2, 3, 1]|                [70]|                 [4]|         [2.7340593]| 1.2659407|\n",
      "|76561197960816000|[10, 570, 41010, ...|[2, 2, 1, 5, 2, 2...|    [202170, 202970]|              [5, 3]|[1.6705444, 2.541...|  2.376524|\n",
      "|76561197960884000|[440, 630, 730, 8...|[2, 2, 2, 2, 1, 3...|[10, 240, 91600, ...|  [2, 2, 5, 1, 5, 1]|[2.0, 2.0, 2.3250...| 1.2337894|\n",
      "|76561197960944000|[10, 240, 730, 28...|[2, 2, 3, 1, 2, 2...|[300, 440, 6910, ...|[2, 3, 2, 2, 2, 2...|[2.5398748, 1.836...| 0.7266331|\n",
      "|76561197960951000|[10, 220, 400, 57...|[2, 3, 2, 2, 1, 4...|       [240, 201810]|              [2, 1]|[1.6728184, 2.582...| 1.1426861|\n",
      "|76561197961103000|[220, 730, 40800,...|        [1, 2, 2, 1]|[400, 440, 6120, ...|        [1, 3, 2, 1]|[1.1556917, 1.143...| 1.0790273|\n",
      "|76561197961143000|[130, 220, 340, 3...|[2, 3, 2, 2, 2, 1...|[10, 630, 1300, 1...|[3, 3, 1, 2, 5, 4...|[2.6708434, 1.660...| 1.5536547|\n",
      "|76561197961149000|[20, 30, 70, 440,...|  [2, 3, 2, 3, 2, 2]|           [10, 730]|              [2, 2]|    [2.0, 2.6883307]|0.48672327|\n",
      "|76561197961196000|                [70]|                 [5]|                [10]|                 [2]|               [0.0]|       0.0|\n",
      "|76561197961312000|[220, 400, 440, 5...|[1, 2, 5, 2, 2, 2...|[70, 1250, 1500, ...|[4, 3, 5, 1, 2, 5...|[2.9976077, 2.993...| 1.7145063|\n",
      "+-----------------+--------------------+--------------------+--------------------+--------------------+--------------------+----------+\n",
      "only showing top 20 rows\n",
      "\n"
     ]
    },
    {
     "name": "stderr",
     "output_type": "stream",
     "text": [
      "                                                                                \r"
     ]
    },
    {
     "name": "stdout",
     "output_type": "stream",
     "text": [
      "RMSE: 1.1087727828081508\n"
     ]
    },
    {
     "name": "stderr",
     "output_type": "stream",
     "text": [
      "                                                                                \r"
     ]
    },
    {
     "name": "stdout",
     "output_type": "stream",
     "text": [
      "Standard deviation of ratings: 1.408466228662225\n"
     ]
    }
   ],
   "source": [
    "# Create dataframe with only one row per steamid, a list of appids and ratings from the training set and a list of appids and ratings from the test set\n",
    "steamid_ratings = training.groupBy(\"steamid\").agg(collect_list(\"appid\").alias(\"train_appids\"), collect_list(\"ratings\").alias(\"train_ratings\"))\n",
    "steamid_ratings = steamid_ratings.join(test_normalized.groupBy(\"steamid\").agg(collect_list(\"appid\").alias(\"test_appids\"), collect_list(\"ratings\").alias(\"test_ratings\")), on=\"steamid\", how=\"inner\")\n",
    "\n",
    "\n",
    "def predict_target_ratings(train_appids, train_ratings, test_appids):\n",
    "    # If the test_appids list is empty, return an empty list\n",
    "    if len(test_appids) == 0:\n",
    "        return []\n",
    "    # Get dictionary of appids and ratings from train_appids and train_ratings\n",
    "    train_ratings_dict = dict(zip(train_appids, train_ratings))\n",
    "\n",
    "    # For each appid in test_appids, do predict_rating and return a list of tuples of (appid, predicted rating)\n",
    "    predictions = [predict_rating(appid, train_ratings_dict) for appid in test_appids]\n",
    "    return predictions\n",
    "\n",
    "# Create a udf for predict_target_ratings\n",
    "predict_target_ratings_udf = udf(predict_target_ratings, ArrayType(FloatType()))\n",
    "\n",
    "# For each row in the steamid_ratings dataframe, run predict_target_ratings and add the predictions list into a new column\n",
    "steamid_ratings = steamid_ratings.withColumn(\"predictions\", predict_target_ratings_udf(\"train_appids\", \"train_ratings\", \"test_appids\"))\n",
    "\n",
    "# For each column in the predictions column, calculate the rmse\n",
    "def calculate_rmse(predictions, test_ratings):\n",
    "    # If the predictions list is empty, return 0.0\n",
    "    if len(predictions) == 0:\n",
    "        return 0.0\n",
    "    # Calculate the rmse for the predictions list\n",
    "    rmse = 0\n",
    "    prediction_num = 0\n",
    "    for prediction, test_rating in zip(predictions, test_ratings):\n",
    "        # Check if prediction is not 0.0\n",
    "        if prediction != 0.0:\n",
    "            rmse += (prediction - test_rating) ** 2\n",
    "            prediction_num += 1\n",
    "    # Do square root\n",
    "    rmse = math.sqrt(rmse / len(predictions))\n",
    "    return rmse\n",
    "\n",
    "# Create a udf for calculate_rmse\n",
    "calculate_rmse_udf = udf(calculate_rmse, FloatType())\n",
    "\n",
    "# For each row in the steamid_ratings dataframe, run calculate_rmse and add the rmse into a new column\n",
    "steamid_ratings = steamid_ratings.withColumn(\"rmse\", calculate_rmse_udf(\"predictions\", \"test_ratings\"))\n",
    "\n",
    "# Remove all rows where rmse is 0.0\n",
    "steamid_ratings = steamid_ratings.filter(col(\"rmse\") != 0.0)\n",
    "\n",
    "# Get the rmse for the table\n",
    "rmse = steamid_ratings.select(avg(\"rmse\")).collect()[0][0]\n",
    "print(f'RMSE: {rmse}')\n",
    "\n",
    "# Calculate the standard deviation of the ratings\n",
    "ratings_std = test_normalized.select(stddev(\"ratings\")).collect()[0][0]\n",
    "print(f'Standard deviation of ratings: {ratings_std}')"
   ]
  }
 ],
 "metadata": {
  "kernelspec": {
   "display_name": "venv",
   "language": "python",
   "name": "python3"
  },
  "language_info": {
   "codemirror_mode": {
    "name": "ipython",
    "version": 3
   },
   "file_extension": ".py",
   "mimetype": "text/x-python",
   "name": "python",
   "nbconvert_exporter": "python",
   "pygments_lexer": "ipython3",
   "version": "3.10.6"
  },
  "orig_nbformat": 4,
  "vscode": {
   "interpreter": {
    "hash": "34e120910b4957e5cd755e2a42b93193ccb3c34461c3543db7ce9f360eefaa4c"
   }
  }
 },
 "nbformat": 4,
 "nbformat_minor": 2
}
