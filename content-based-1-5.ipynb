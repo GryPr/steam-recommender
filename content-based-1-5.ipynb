{
 "cells": [
  {
   "cell_type": "markdown",
   "id": "bd8a60f3",
   "metadata": {},
   "source": [
    "Imports"
   ]
  },
  {
   "cell_type": "code",
   "execution_count": null,
   "id": "f301e724",
   "metadata": {},
   "outputs": [],
   "source": [
    "from pyspark.sql import SparkSession\n",
    "from pyspark.rdd import RDD\n",
    "from pyspark.sql import Row\n",
    "from pyspark.sql import DataFrame\n",
    "from pyspark.sql.window import Window #for ranking\n",
    "from pyspark.sql.functions import lit, mean, stddev_pop\n",
    "from pyspark.sql.functions import collect_set, collect_list\n",
    "from pyspark.sql.functions import struct\n",
    "from pyspark.sql.functions import slice\n",
    "from pyspark.sql.functions import col\n",
    "from pyspark.sql.functions import desc\n",
    "from pyspark.sql.functions import udf\n",
    "from pyspark.ml.evaluation import RegressionEvaluator\n",
    "from pyspark.ml.recommendation import ALS\n",
    "from pyspark.sql.types import DecimalType, ArrayType, IntegerType, FloatType\n",
    "import pyspark.sql.functions as F\n",
    "from pyspark.sql.functions import avg, broadcast, when"
   ]
  },
  {
   "cell_type": "markdown",
   "id": "7de79e64",
   "metadata": {},
   "source": [
    "Define cosine similarity and weighted avg functions"
   ]
  },
  {
   "cell_type": "code",
   "execution_count": null,
   "id": "6a10972c",
   "metadata": {},
   "outputs": [],
   "source": [
    "# cosine similarity function\n",
    "def cosine_similarity_udf(a, b):\n",
    "    dot_product = sum([x * y for x, y in zip(a, b)])\n",
    "    norm_a = sum([x**2 for x in a])**0.5\n",
    "    norm_b = sum([x**2 for x in b])**0.5\n",
    "    return dot_product / (norm_a * norm_b)\n",
    "\n",
    "\n",
    "# weighted average features function\n",
    "def weighted_avg_features(ratings, features):\n",
    "    if not ratings or not features:\n",
    "        return []\n",
    "\n",
    "    weighted_sum = [0] * len(features[0])\n",
    "    total_weight = 0\n",
    "\n",
    "    for rating, feature in zip(ratings, features):\n",
    "        weight = float(rating)\n",
    "        total_weight += weight\n",
    "        weighted_sum = [ws + weight * f for ws, f in zip(weighted_sum, feature)]\n",
    "\n",
    "    if total_weight == 0:\n",
    "        return weighted_sum\n",
    "\n",
    "    return [ws / total_weight for ws in weighted_sum]"
   ]
  },
  {
   "cell_type": "markdown",
   "id": "5a51592b",
   "metadata": {},
   "source": [
    "Load Dataset"
   ]
  },
  {
   "cell_type": "code",
   "execution_count": 16,
   "id": "bb3c729c",
   "metadata": {},
   "outputs": [],
   "source": [
    "spark = SparkSession.builder.appName('ReadMySQL') \\\n",
    ".config(\"spark.driver.memory\", \"32g\") \\\n",
    ".config(\"spark.sql.pivotMaxValues\", \"1000000\") \\\n",
    ".config(\"spark.jars\", \"C:\\\\Program Files (x86)\\\\MySQL\\\\Connector J 8.0\\\\mysql-connector-j-8.0.32.jar\") \\\n",
    ".getOrCreate()\n",
    "\n",
    "# sql = \"select * from 01_sampled_games_2v2 WHERE playtime_forever IS NOT NULL AND playtime_forever > 0\"\n",
    "sql = \"\"\"\n",
    "SELECT p.steamid, p.appid, p.playtime_2weeks, p.playtime_forever, p.dateretrieved, g.genre\n",
    "FROM 01_sampled_games_2v2 AS p\n",
    "JOIN games_genres AS g ON p.appid = g.appid\n",
    "WHERE p.playtime_forever IS NOT NULL AND p.playtime_forever > 0\n",
    "\"\"\"\n",
    "database = \"steam\"\n",
    "user = \"root\"\n",
    "password = \"root\"\n",
    "server = \"127.0.0.1\"\n",
    "port = 3307\n",
    "jdbc_url = f\"jdbc:mysql://{server}:{port}/{database}\"\n",
    "jdbc_driver = \"com.mysql.cj.jdbc.Driver\"\n",
    "\n",
    "# Create a data frame by reading data from Oracle via JDBC\n",
    "df = spark.read.format(\"jdbc\") \\\n",
    "    .option(\"url\", jdbc_url) \\\n",
    "    .option(\"query\", sql) \\\n",
    "    .option(\"user\", user) \\\n",
    "    .option(\"password\", password) \\\n",
    "    .option(\"driver\", jdbc_driver) \\\n",
    "    .load()\n",
    "\n",
    "df = df.drop(\"playtime_2weeks\", \"dateretrieved\")"
   ]
  },
  {
   "cell_type": "code",
   "execution_count": 17,
   "id": "da0d1a81",
   "metadata": {},
   "outputs": [
    {
     "name": "stdout",
     "output_type": "stream",
     "text": [
      "Dataframe has 177826  rows.\n",
      "+-----------------+-----+----------------+----------+\n",
      "|          steamid|appid|playtime_forever|     genre|\n",
      "+-----------------+-----+----------------+----------+\n",
      "|76561197960268000|  300|             109|    Action|\n",
      "|76561197960268000| 1300|              94|    Action|\n",
      "|76561197960268000| 2100|             110|    Action|\n",
      "|76561197960268000| 2100|             110|       RPG|\n",
      "|76561197960268000| 4000|             152|     Indie|\n",
      "|76561197960268000| 4000|             152|Simulation|\n",
      "|76561197960268000| 2600|              59|    Action|\n",
      "|76561197960268000| 9000|               2|    Action|\n",
      "|76561197960268000| 2300|              40|    Action|\n",
      "|76561197960268000| 2200|             210|    Action|\n",
      "|76561197960268000| 4500|            1002|    Action|\n",
      "|76561197960268000| 4500|            1002|       RPG|\n",
      "|76561197960268000|  400|             380|    Action|\n",
      "|76561197960268000|17300|            4312|    Action|\n",
      "|76561197960268000|  500|             198|    Action|\n",
      "|76561197960268000|22300|             425|       RPG|\n",
      "|76561197960268000|19900|             111|    Action|\n",
      "|76561197960268000|18500|            1160|     Indie|\n",
      "|76561197960268000|18500|            1160|  Strategy|\n",
      "|76561197960268000|22200|              20|    Action|\n",
      "+-----------------+-----+----------------+----------+\n",
      "only showing top 20 rows\n",
      "\n"
     ]
    }
   ],
   "source": [
    "# count number of rows in the dataframe\n",
    "row_count = df.count()\n",
    "# print the row count\n",
    "print(\"Dataframe has\", row_count, \" rows.\")\n",
    "df.show()"
   ]
  },
  {
   "cell_type": "markdown",
   "id": "e53d5692",
   "metadata": {},
   "source": [
    "Build item profiles"
   ]
  },
  {
   "cell_type": "code",
   "execution_count": 18,
   "id": "9bb761a1",
   "metadata": {},
   "outputs": [
    {
     "name": "stdout",
     "output_type": "stream",
     "text": [
      "+-----+-----------------+----------------+----------+--------------------+\n",
      "|appid|          steamid|playtime_forever|     genre|        genre_vector|\n",
      "+-----+-----------------+----------------+----------+--------------------+\n",
      "|  300|76561197960268000|             109|    Action|[1, 0, 0, 0, 0, 0...|\n",
      "| 1300|76561197960268000|              94|    Action|[1, 0, 0, 0, 0, 0...|\n",
      "| 2100|76561197960268000|             110|    Action|[1, 0, 0, 0, 0, 0...|\n",
      "| 2100|76561197960268000|             110|       RPG|[1, 0, 0, 0, 0, 0...|\n",
      "| 4000|76561197960268000|             152|     Indie|[0, 0, 0, 0, 0, 0...|\n",
      "| 4000|76561197960268000|             152|Simulation|[0, 0, 0, 0, 0, 0...|\n",
      "| 2600|76561197960268000|              59|    Action|[1, 0, 0, 0, 0, 0...|\n",
      "| 9000|76561197960268000|               2|    Action|[1, 0, 0, 0, 0, 0...|\n",
      "| 2300|76561197960268000|              40|    Action|[1, 0, 0, 0, 0, 0...|\n",
      "| 2200|76561197960268000|             210|    Action|[1, 0, 0, 0, 0, 0...|\n",
      "| 4500|76561197960268000|            1002|    Action|[1, 0, 0, 0, 0, 0...|\n",
      "| 4500|76561197960268000|            1002|       RPG|[1, 0, 0, 0, 0, 0...|\n",
      "|  400|76561197960268000|             380|    Action|[1, 0, 0, 0, 0, 0...|\n",
      "|17300|76561197960268000|            4312|    Action|[1, 0, 0, 0, 0, 0...|\n",
      "|  500|76561197960268000|             198|    Action|[1, 0, 0, 0, 0, 0...|\n",
      "|22300|76561197960268000|             425|       RPG|[0, 0, 0, 0, 0, 0...|\n",
      "|19900|76561197960268000|             111|    Action|[1, 0, 0, 0, 0, 0...|\n",
      "|18500|76561197960268000|            1160|     Indie|[0, 0, 0, 0, 0, 0...|\n",
      "|18500|76561197960268000|            1160|  Strategy|[0, 0, 0, 0, 0, 0...|\n",
      "|22200|76561197960268000|              20|    Action|[1, 0, 0, 0, 0, 0...|\n",
      "+-----+-----------------+----------------+----------+--------------------+\n",
      "only showing top 20 rows\n",
      "\n"
     ]
    }
   ],
   "source": [
    "# build the item profiles\n",
    "# Group the data by 'appid' and collect the genres for each game into a list\n",
    "games_genres_df = df.groupBy(\"appid\").agg(collect_set(\"genre\").alias(\"genres\"))\n",
    "\n",
    "# Create a list of unique genres\n",
    "unique_genres = sorted(df.select(\"genre\").distinct().rdd.flatMap(lambda x: x).collect())\n",
    "\n",
    "# Define a UDF to create a binary vector for each game's genres\n",
    "@udf(returnType=ArrayType(IntegerType()))\n",
    "def genre_vector(genres):\n",
    "    return [1 if genre in genres else 0 for genre in unique_genres]\n",
    "# Add a new column 'genre_vector' to the DataFrame\n",
    "# the genre vector will now have a 1 for each genre that the game belongs to\n",
    "games_genres_df = games_genres_df.withColumn(\"genre_vector\", genre_vector(\"genres\"))\n",
    "\n",
    "# games_genres_df.show(truncate=False)\n",
    "# Join the main DataFrame with the games_genres_df on appid to include the genre_vector\n",
    "df = df.join(broadcast(games_genres_df.select(\"appid\", \"genre_vector\")), on=\"appid\")\n",
    "df.show()"
   ]
  },
  {
   "cell_type": "markdown",
   "id": "c1345b29",
   "metadata": {},
   "source": [
    "Build the user profile"
   ]
  },
  {
   "cell_type": "code",
   "execution_count": 19,
   "id": "8c3bde4d",
   "metadata": {
    "scrolled": true
   },
   "outputs": [
    {
     "name": "stdout",
     "output_type": "stream",
     "text": [
      "+-----+-----------------+----------------+----------+--------------------+----------------------+------------------------+------------------+------------------+------------------+------------------+-------+\n",
      "|appid|          steamid|playtime_forever|     genre|        genre_vector|game_mean_playtime_new|game_stddev_playtime_new|       cut_point_1|       cut_point_2|       cut_point_3|       cut_point_4|ratings|\n",
      "+-----+-----------------+----------------+----------+--------------------+----------------------+------------------------+------------------+------------------+------------------+------------------+-------+\n",
      "|  300|76561197960268000|             109|    Action|[1, 0, 0, 0, 0, 0...|    2007.2104545454545|       8925.191214339735|               0.0|2007.2104545454545| 6469.806061715322| 10932.40166888519|      2|\n",
      "| 1300|76561197960268000|              94|    Action|[1, 0, 0, 0, 0, 0...|    214.26760563380282|       331.9995739750567| 48.26781864627446|214.26760563380282|380.26739262133117| 546.2671796088596|      2|\n",
      "| 2100|76561197960268000|             110|    Action|[1, 0, 0, 0, 0, 0...|     452.2992125984252|       673.1296492096071|115.73438799362162| 452.2992125984252| 788.8640372032287|1125.4288618080323|      1|\n",
      "| 2100|76561197960268000|             110|       RPG|[1, 0, 0, 0, 0, 0...|     452.2992125984252|       673.1296492096071|115.73438799362162| 452.2992125984252| 788.8640372032287|1125.4288618080323|      1|\n",
      "| 4000|76561197960268000|             152|     Indie|[0, 0, 0, 0, 0, 0...|     5367.418955629339|      16075.204964338252|               0.0| 5367.418955629339|13405.021437798465| 21442.62391996759|      2|\n",
      "| 4000|76561197960268000|             152|Simulation|[0, 0, 0, 0, 0, 0...|     5367.418955629339|      16075.204964338252|               0.0| 5367.418955629339|13405.021437798465| 21442.62391996759|      2|\n",
      "| 2600|76561197960268000|              59|    Action|[1, 0, 0, 0, 0, 0...|     973.3930348258707|      1979.9458532601423|               0.0| 973.3930348258707| 1963.365961455942| 2953.338888086013|      2|\n",
      "| 9000|76561197960268000|               2|    Action|[1, 0, 0, 0, 0, 0...|    402.82758620689657|      1767.3547556567273|               0.0|402.82758620689657|1286.5049640352602| 2170.182341863624|      2|\n",
      "| 2300|76561197960268000|              40|    Action|[1, 0, 0, 0, 0, 0...|    59.041666666666664|      150.93407662324344|               0.0|59.041666666666664| 134.5087049782884| 209.9757432899101|      2|\n",
      "| 2200|76561197960268000|             210|    Action|[1, 0, 0, 0, 0, 0...|    123.20779220779221|       267.5856138107995|               0.0|123.20779220779221| 257.0005991131919|390.79340601859167|      3|\n",
      "| 4500|76561197960268000|            1002|    Action|[1, 0, 0, 0, 0, 0...|     786.8337236533957|      2398.6285538960174|               0.0| 786.8337236533957|1986.1480006014044| 3185.462277549413|      3|\n",
      "| 4500|76561197960268000|            1002|       RPG|[1, 0, 0, 0, 0, 0...|     786.8337236533957|      2398.6285538960174|               0.0| 786.8337236533957|1986.1480006014044| 3185.462277549413|      3|\n",
      "|  400|76561197960268000|             380|    Action|[1, 0, 0, 0, 0, 0...|     316.5763139775075|       771.9276465164435|               0.0| 316.5763139775075| 702.5401372357292| 1088.503960493951|      3|\n",
      "|17300|76561197960268000|            4312|    Action|[1, 0, 0, 0, 0, 0...|     459.8156312625251|       560.8330174151648|179.39912255494266| 459.8156312625251| 740.2321399701075|1020.6486486776898|      5|\n",
      "|  500|76561197960268000|             198|    Action|[1, 0, 0, 0, 0, 0...|     2284.593676262388|       4974.715169440603|               0.0| 2284.593676262388| 4771.951260982689| 7259.308845702991|      2|\n",
      "|22300|76561197960268000|             425|       RPG|[0, 0, 0, 0, 0, 0...|     1866.350710900474|      3408.7493738999756|161.97602395048625| 1866.350710900474| 3570.725397850462|  5275.10008480045|      2|\n",
      "|19900|76561197960268000|             111|    Action|[1, 0, 0, 0, 0, 0...|     617.9130434782609|      1506.4923971109108|               0.0| 617.9130434782609|1371.1592420337163|2124.4054405891716|      2|\n",
      "|18500|76561197960268000|            1160|     Indie|[0, 0, 0, 0, 0, 0...|    1276.6711229946525|       3744.071969915118|               0.0|1276.6711229946525|3148.7071079522116| 5020.743092909771|      2|\n",
      "|18500|76561197960268000|            1160|  Strategy|[0, 0, 0, 0, 0, 0...|    1276.6711229946525|       3744.071969915118|               0.0|1276.6711229946525|3148.7071079522116| 5020.743092909771|      2|\n",
      "|22200|76561197960268000|              20|    Action|[1, 0, 0, 0, 0, 0...|     166.4311377245509|      398.15500365389573|               0.0| 166.4311377245509|365.50863955149873| 564.5861413784467|      2|\n",
      "+-----+-----------------+----------------+----------+--------------------+----------------------+------------------------+------------------+------------------+------------------+------------------+-------+\n",
      "only showing top 20 rows\n",
      "\n"
     ]
    }
   ],
   "source": [
    "# Calculate the per-game mean and standard deviation of the playtime column\n",
    "game_stats = df.filter(col(\"playtime_forever\") > 0).groupBy(\"appid\").agg(\n",
    "    mean(\"playtime_forever\").alias(\"game_mean_playtime\"),\n",
    "    stddev_pop(\"playtime_forever\").alias(\"game_stddev_playtime\")\n",
    ")\n",
    "\n",
    "# Rename the columns in game_stats dataframe\n",
    "game_stats = game_stats.withColumnRenamed(\"game_mean_playtime\", \"game_mean_playtime_new\")\n",
    "game_stats = game_stats.withColumnRenamed(\"game_stddev_playtime\", \"game_stddev_playtime_new\")\n",
    "\n",
    "# Join the game_stats dataframe with the main dataframe\n",
    "df = df.join(game_stats, \"appid\")\n",
    "\n",
    "# Drop the ambiguous columns after the join operation\n",
    "df = df.drop(\"game_mean_playtime\", \"game_stddev_playtime\")\n",
    "\n",
    "# Calculate the cut points and assign ratings\n",
    "df = df.withColumn(\"cut_point_1\", when(col(\"game_mean_playtime_new\") - (col(\"game_stddev_playtime_new\") * 0.5) > 0, col(\"game_mean_playtime_new\") - (col(\"game_stddev_playtime_new\") * 0.5)).otherwise(0))\n",
    "df = df.withColumn(\"cut_point_2\", col(\"game_mean_playtime_new\"))\n",
    "df = df.withColumn(\"cut_point_3\", col(\"game_mean_playtime_new\") + (col(\"game_stddev_playtime_new\") * 0.5))\n",
    "df = df.withColumn(\"cut_point_4\", col(\"game_mean_playtime_new\") + col(\"game_stddev_playtime_new\"))\n",
    "\n",
    "df = df.withColumn(\n",
    "    \"ratings\",\n",
    "    when(col(\"playtime_forever\") <= col(\"cut_point_1\"), lit(1))\n",
    "    .when((col(\"playtime_forever\") > col(\"cut_point_1\")) & (col(\"playtime_forever\") <= col(\"cut_point_2\")), lit(2))\n",
    "    .when((col(\"playtime_forever\") > col(\"cut_point_2\")) & (col(\"playtime_forever\") <= col(\"cut_point_3\")), lit(3))\n",
    "    .when((col(\"playtime_forever\") > col(\"cut_point_3\")) & (col(\"playtime_forever\") <= col(\"cut_point_4\")), lit(4))\n",
    "    .otherwise(lit(5))\n",
    ")\n",
    "\n",
    "# Update the user profile calculation to use the new ratings column\n",
    "user_aggregated_data = df.groupBy(\"steamid\").agg(\n",
    "    collect_list(\"genre_vector\").alias(\"genres_list\"),\n",
    "    collect_list(\"ratings\").alias(\"ratings_list\")\n",
    ")\n",
    "df.show()"
   ]
  },
  {
   "cell_type": "markdown",
   "id": "794b5918",
   "metadata": {},
   "source": [
    "Build user profile off this"
   ]
  },
  {
   "cell_type": "code",
   "execution_count": 23,
   "id": "130c4401",
   "metadata": {},
   "outputs": [
    {
     "name": "stdout",
     "output_type": "stream",
     "text": [
      "+-----------------+--------------------+--------------------+--------------------+\n",
      "|          steamid|         genres_list|        ratings_list|        user_profile|\n",
      "+-----------------+--------------------+--------------------+--------------------+\n",
      "|76561197960271000|[[1, 0, 0, 0, 0, ...|                 [2]|[1.0, 0.0, 0.0, 0...|\n",
      "|76561197960292000|[[1, 0, 0, 0, 0, ...|           [2, 3, 2]|[0.5714286, 0.0, ...|\n",
      "|76561197960306000|[[1, 0, 0, 0, 0, ...|[2, 2, 2, 2, 2, 2...|[0.6454918, 0.252...|\n",
      "|76561197960314000|[[1, 0, 0, 0, 0, ...|              [2, 2]|[1.0, 0.0, 0.0, 0...|\n",
      "|76561197960334000|[[1, 0, 0, 0, 0, ...|[4, 2, 2, 2, 2, 1...|[1.0, 0.2, 0.0, 0...|\n",
      "|76561197960338000|[[1, 0, 0, 0, 0, ...|                 [2]|[1.0, 0.0, 0.0, 0...|\n",
      "|76561197960342000|[[1, 0, 0, 0, 0, ...|[2, 2, 2, 2, 2, 2...|[1.0, 0.5555556, ...|\n",
      "|76561197960346000|[[1, 0, 0, 0, 0, ...|                 [2]|[1.0, 0.0, 0.0, 0...|\n",
      "|76561197960394000|[[0, 0, 0, 0, 0, ...|              [2, 2]|[0.0, 0.0, 0.0, 0...|\n",
      "|76561197960400000|[[1, 0, 0, 0, 0, ...|        [2, 2, 2, 2]|[1.0, 0.0, 0.0, 0...|\n",
      "|76561197960421000|[[0, 0, 0, 0, 0, ...|[3, 2, 5, 4, 3, 4...|[0.6136364, 0.227...|\n",
      "|76561197960425000|[[0, 0, 0, 0, 0, ...|           [2, 2, 2]|[0.33333334, 0.0,...|\n",
      "|76561197960444000|[[1, 0, 0, 0, 0, ...|[2, 2, 2, 1, 2, 1...|[0.43137255, 0.15...|\n",
      "|76561197960445000|[[1, 0, 0, 0, 0, ...|[2, 1, 1, 2, 2, 2...|[0.7692308, 0.25,...|\n",
      "|76561197960458000|[[1, 0, 0, 0, 0, ...|[2, 2, 2, 1, 1, 1...|[1.0, 0.0, 0.0, 0...|\n",
      "|76561197960476000|[[1, 0, 0, 0, 0, ...|              [2, 2]|[1.0, 0.0, 0.0, 0...|\n",
      "|76561197960560000|[[1, 0, 0, 0, 0, ...|[2, 5, 5, 3, 2, 2...|[0.62857145, 0.18...|\n",
      "|76561197960563000|[[1, 0, 0, 0, 0, ...|[2, 2, 2, 2, 2, 2...|[0.8, 0.0, 0.0, 0...|\n",
      "|76561197960575000|[[1, 0, 0, 0, 0, ...|           [2, 2, 2]|[1.0, 0.0, 0.0, 0...|\n",
      "|76561197960600000|[[0, 0, 0, 0, 0, ...|        [1, 2, 1, 1]|[0.4, 0.0, 0.0, 0...|\n",
      "+-----------------+--------------------+--------------------+--------------------+\n",
      "only showing top 20 rows\n",
      "\n"
     ]
    }
   ],
   "source": [
    "# Update the user profile calculation to use the new ratings column\n",
    "user_aggregated_data = df.groupBy(\"steamid\").agg(\n",
    "    collect_list(\"genre_vector\").alias(\"genres_list\"),\n",
    "    collect_list(\"ratings\").alias(\"ratings_list\")\n",
    ")\n",
    "\n",
    "# Define a UDF to calculate the weighted average of genre vectors\n",
    "weighted_avg_features_udf = udf(weighted_avg_features, ArrayType(FloatType()))\n",
    "\n",
    "# Calculate the user profile as the weighted average of rated item profiles (genre vectors)\n",
    "user_profiles = user_aggregated_data.withColumn(\"user_profile\", weighted_avg_features_udf(\"ratings_list\", \"genres_list\"))\n",
    "\n",
    "user_profiles.show()"
   ]
  },
  {
   "cell_type": "markdown",
   "id": "d6a4ab37",
   "metadata": {},
   "source": [
    "Cosine similarity"
   ]
  },
  {
   "cell_type": "code",
   "execution_count": 24,
   "id": "d70bbca6",
   "metadata": {},
   "outputs": [
    {
     "name": "stdout",
     "output_type": "stream",
     "text": [
      "+-----+--------+--------------------+-----------------+--------------------+------------+--------------------+----------+\n",
      "|appid|  genres|        genre_vector|          steamid|         genres_list|ratings_list|        user_profile|similarity|\n",
      "+-----+--------+--------------------+-----------------+--------------------+------------+--------------------+----------+\n",
      "| 2200|[Action]|[1, 0, 0, 0, 0, 0...|76561197960271000|[[1, 0, 0, 0, 0, ...|         [2]|[1.0, 0.0, 0.0, 0...|       1.0|\n",
      "| 6000|[Action]|[1, 0, 0, 0, 0, 0...|76561197960271000|[[1, 0, 0, 0, 0, ...|         [2]|[1.0, 0.0, 0.0, 0...|       1.0|\n",
      "| 2300|[Action]|[1, 0, 0, 0, 0, 0...|76561197960271000|[[1, 0, 0, 0, 0, ...|         [2]|[1.0, 0.0, 0.0, 0...|       1.0|\n",
      "|  300|[Action]|[1, 0, 0, 0, 0, 0...|76561197960271000|[[1, 0, 0, 0, 0, ...|         [2]|[1.0, 0.0, 0.0, 0...|       1.0|\n",
      "| 2500|[Action]|[1, 0, 0, 0, 0, 0...|76561197960271000|[[1, 0, 0, 0, 0, ...|         [2]|[1.0, 0.0, 0.0, 0...|       1.0|\n",
      "| 2600|[Action]|[1, 0, 0, 0, 0, 0...|76561197960271000|[[1, 0, 0, 0, 0, ...|         [2]|[1.0, 0.0, 0.0, 0...|       1.0|\n",
      "| 1200|[Action]|[1, 0, 0, 0, 0, 0...|76561197960271000|[[1, 0, 0, 0, 0, ...|         [2]|[1.0, 0.0, 0.0, 0...|       1.0|\n",
      "| 3200|[Action]|[1, 0, 0, 0, 0, 0...|76561197960271000|[[1, 0, 0, 0, 0, ...|         [2]|[1.0, 0.0, 0.0, 0...|       1.0|\n",
      "|  100|[Action]|[1, 0, 0, 0, 0, 0...|76561197960271000|[[1, 0, 0, 0, 0, ...|         [2]|[1.0, 0.0, 0.0, 0...|       1.0|\n",
      "| 3800|[Action]|[1, 0, 0, 0, 0, 0...|76561197960271000|[[1, 0, 0, 0, 0, ...|         [2]|[1.0, 0.0, 0.0, 0...|       1.0|\n",
      "+-----+--------+--------------------+-----------------+--------------------+------------+--------------------+----------+\n",
      "only showing top 10 rows\n",
      "\n"
     ]
    }
   ],
   "source": [
    "# prediction heuristics\n",
    "# calculate cosine distance of an item and user profile\n",
    "\n",
    "# 1. create udf for cosine similarity\n",
    "cosine_similarity = udf(cosine_similarity_udf, FloatType())\n",
    "# cross join the game_genres_df with the user_profiles\n",
    "cross_joined = games_genres_df.crossJoin(user_profiles)\n",
    "\n",
    "# calculate the cosine similarity between each item and user\n",
    "recommendations = cross_joined.withColumn(\n",
    "    \"similarity\", cosine_similarity(\"genre_vector\", \"user_profile\")\n",
    ")\n",
    "\n",
    "# sort based on similarity score\n",
    "sorted_recommendations = recommendations.sort(desc(\"similarity\"))\n",
    "\n",
    "sorted_recommendations.show(10)"
   ]
  },
  {
   "cell_type": "markdown",
   "id": "76ff5337",
   "metadata": {},
   "source": [
    "recommender"
   ]
  },
  {
   "cell_type": "code",
   "execution_count": 25,
   "id": "225f173a",
   "metadata": {},
   "outputs": [
    {
     "name": "stdout",
     "output_type": "stream",
     "text": [
      "+------+--------------------+--------------------+-----------------+--------------------+--------------------+--------------------+----------+----+\n",
      "| appid|              genres|        genre_vector|          steamid|         genres_list|        ratings_list|        user_profile|similarity|rank|\n",
      "+------+--------------------+--------------------+-----------------+--------------------+--------------------+--------------------+----------+----+\n",
      "|  2400|[RPG, Action, Indie]|[1, 0, 0, 0, 0, 0...|76561197960334000|[[1, 0, 0, 0, 0, ...|[4, 2, 2, 2, 2, 1...|[1.0, 0.2, 0.0, 0...|0.92450035|   1|\n",
      "| 33100|[RPG, Action, Indie]|[1, 0, 0, 0, 0, 0...|76561197960334000|[[1, 0, 0, 0, 0, ...|[4, 2, 2, 2, 2, 1...|[1.0, 0.2, 0.0, 0...|0.92450035|   2|\n",
      "| 37100|[RPG, Action, Indie]|[1, 0, 0, 0, 0, 0...|76561197960334000|[[1, 0, 0, 0, 0, ...|[4, 2, 2, 2, 2, 1...|[1.0, 0.2, 0.0, 0...|0.92450035|   3|\n",
      "| 91700|[RPG, Action, Indie]|[1, 0, 0, 0, 0, 0...|76561197960334000|[[1, 0, 0, 0, 0, ...|[4, 2, 2, 2, 2, 1...|[1.0, 0.2, 0.0, 0...|0.92450035|   4|\n",
      "| 96400|[RPG, Action, Indie]|[1, 0, 0, 0, 0, 0...|76561197960334000|[[1, 0, 0, 0, 0, ...|[4, 2, 2, 2, 2, 1...|[1.0, 0.2, 0.0, 0...|0.92450035|   5|\n",
      "|107100|[RPG, Action, Indie]|[1, 0, 0, 0, 0, 0...|76561197960334000|[[1, 0, 0, 0, 0, ...|[4, 2, 2, 2, 2, 1...|[1.0, 0.2, 0.0, 0...|0.92450035|   6|\n",
      "|241600|[RPG, Action, Indie]|[1, 0, 0, 0, 0, 0...|76561197960334000|[[1, 0, 0, 0, 0, ...|[4, 2, 2, 2, 2, 1...|[1.0, 0.2, 0.0, 0...|0.92450035|   7|\n",
      "|  4300|     [Action, Indie]|[1, 0, 0, 0, 0, 0...|76561197960334000|[[1, 0, 0, 0, 0, ...|[4, 2, 2, 2, 2, 1...|[1.0, 0.2, 0.0, 0...| 0.9058216|   8|\n",
      "| 19200|     [Action, Indie]|[1, 0, 0, 0, 0, 0...|76561197960334000|[[1, 0, 0, 0, 0, ...|[4, 2, 2, 2, 2, 1...|[1.0, 0.2, 0.0, 0...| 0.9058216|   9|\n",
      "| 22200|     [Action, Indie]|[1, 0, 0, 0, 0, 0...|76561197960334000|[[1, 0, 0, 0, 0, ...|[4, 2, 2, 2, 2, 1...|[1.0, 0.2, 0.0, 0...| 0.9058216|  10|\n",
      "+------+--------------------+--------------------+-----------------+--------------------+--------------------+--------------------+----------+----+\n",
      "only showing top 10 rows\n",
      "\n"
     ]
    }
   ],
   "source": [
    "# Create a window by steamid and similarity to get ranking\n",
    "window_spec = Window.partitionBy(\"steamid\").orderBy(desc(\"similarity\"))\n",
    "\n",
    "ranked_recommendations = sorted_recommendations.withColumn(\"rank\", F.row_number().over(window_spec))\n",
    "\n",
    "top_10_recommendations = ranked_recommendations.filter(ranked_recommendations.rank <= 10)\n",
    "top_10_recommendations.show(10)"
   ]
  },
  {
   "cell_type": "code",
   "execution_count": null,
   "id": "5d5ecb85",
   "metadata": {},
   "outputs": [],
   "source": []
  }
 ],
 "metadata": {
  "kernelspec": {
   "display_name": "Python 3 (ipykernel)",
   "language": "python",
   "name": "python3"
  },
  "language_info": {
   "codemirror_mode": {
    "name": "ipython",
    "version": 3
   },
   "file_extension": ".py",
   "mimetype": "text/x-python",
   "name": "python",
   "nbconvert_exporter": "python",
   "pygments_lexer": "ipython3",
   "version": "3.8.11"
  }
 },
 "nbformat": 4,
 "nbformat_minor": 5
}
