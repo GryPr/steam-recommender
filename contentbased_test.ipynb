{
 "cells": [
  {
   "cell_type": "code",
   "execution_count": 1,
   "id": "16284030",
   "metadata": {},
   "outputs": [],
   "source": [
    "from pyspark.sql import SparkSession\n",
    "\n",
    "from pyspark.sql.functions import split\n",
    "from pyspark.sql.functions import explode\n",
    "from pyspark.sql.functions import trim\n",
    "from pyspark.sql.functions import col\n",
    "from pyspark.sql.functions import regexp_replace\n",
    "from pyspark.sql.functions import array\n",
    "\n",
    "from pyspark.sql.functions import collect_list"
   ]
  },
  {
   "cell_type": "code",
   "execution_count": 2,
   "id": "398ac8ff",
   "metadata": {},
   "outputs": [],
   "source": [
    "# create a SparkSession object\n",
    "spark = SparkSession.builder \\\n",
    "    .appName(\"MyApp\") \\\n",
    "    .config(\"spark.some.config.option\", \"some-value\") \\\n",
    "    .getOrCreate()"
   ]
  },
  {
   "cell_type": "code",
   "execution_count": 3,
   "id": "7da4f922",
   "metadata": {},
   "outputs": [
    {
     "name": "stdout",
     "output_type": "stream",
     "text": [
      "+-------+--------------------+\n",
      "| App ID|               genre|\n",
      "+-------+--------------------+\n",
      "|     10|              Action|\n",
      "|1000000|Action,Adventure,...|\n",
      "|1000010|Adventure,Indie,R...|\n",
      "|1000030|Action,Indie,Simu...|\n",
      "|1000040|Action,Casual,Ind...|\n",
      "|1000080|Action,Adventure,...|\n",
      "|1000100|Adventure,Indie,R...|\n",
      "|1000110|Action,Adventure,...|\n",
      "|1000130|        Casual,Indie|\n",
      "|1000280|           Indie,RPG|\n",
      "|1000310| Action,RPG,Strategy|\n",
      "|1000360|  Action,EarlyAccess|\n",
      "|1000370|               Indie|\n",
      "|1000380|Action,Adventure,...|\n",
      "|1000410|  Action,EarlyAccess|\n",
      "|1000470| Adventure,Indie,RPG|\n",
      "|1000480|Action,Indie,RPG,...|\n",
      "|1000500|Action,Casual,Ind...|\n",
      "|1000510|           Education|\n",
      "|1000540|Casual,FreetoPlay...|\n",
      "+-------+--------------------+\n",
      "only showing top 20 rows\n",
      "\n"
     ]
    }
   ],
   "source": [
    "games_data = spark.read.option(\"delimiter\", \";\").csv(\"data/steam/steam_games.csv\", header=True)\n",
    "games_data = games_data.select('App ID', 'genre')\n",
    "games_data = games_data.select('App ID', regexp_replace(col(\"genre\"), \" \", \"\").alias('genre'))\n",
    "games_data = games_data.filter(~col(\"genre\").like(\"%https%\"))\n",
    "games_data.show()"
   ]
  },
  {
   "cell_type": "code",
   "execution_count": 4,
   "id": "911643cd",
   "metadata": {},
   "outputs": [
    {
     "name": "stdout",
     "output_type": "stream",
     "text": [
      "+-----------------+------+----------------+\n",
      "|          steamid| appid|playtime_forever|\n",
      "+-----------------+------+----------------+\n",
      "|76561198015117260| 32430|             715|\n",
      "|76561198015116850|   320|               7|\n",
      "|76561198015116840|  1500|               6|\n",
      "|76561198015116840| 10150|             479|\n",
      "|76561198015116840|  8190|              77|\n",
      "|76561198015116600|   240|            3004|\n",
      "|76561198015115520|  8190|            5266|\n",
      "|76561198015115080| 12520|              33|\n",
      "|76561198015115080|  7600|             958|\n",
      "|76561198015115030| 26900|               9|\n",
      "|76561198015115030| 22000|             197|\n",
      "|76561198015114670|    10|          125969|\n",
      "|76561198015114350|    10|            9549|\n",
      "|76561198015113950|   320|               7|\n",
      "|76561198015113950|202970|             344|\n",
      "|76561198015113900| 50130|            1025|\n",
      "|76561198015113900|   620|             957|\n",
      "|76561198015113900| 72850|            7415|\n",
      "|76561198015113900| 46570|            1227|\n",
      "|76561198015113900|233470|             179|\n",
      "+-----------------+------+----------------+\n",
      "only showing top 20 rows\n",
      "\n"
     ]
    }
   ],
   "source": [
    "playtime_data = spark.read.csv(\"data/steam/games_1_sample.csv\", header=True)\n",
    "playtime_data = playtime_data.filter(playtime_data.playtime_forever.isNotNull())\n",
    "playtime_data = playtime_data.join(games_data, playtime_data['appid'] == games_data['App ID']).select('steamid', 'appid', 'playtime_forever')\n",
    "playtime_data.show()"
   ]
  },
  {
   "cell_type": "code",
   "execution_count": 5,
   "id": "a89984d3",
   "metadata": {
    "scrolled": false
   },
   "outputs": [
    {
     "name": "stdout",
     "output_type": "stream",
     "text": [
      "+-------+--------------------+--------------------+\n",
      "| App ID|               genre|         genre_array|\n",
      "+-------+--------------------+--------------------+\n",
      "|     10|              Action|            [Action]|\n",
      "|1000000|Action,Adventure,...|[Action, Adventur...|\n",
      "|1000010|Adventure,Indie,R...|[Adventure, Indie...|\n",
      "|1000030|Action,Indie,Simu...|[Action, Indie, S...|\n",
      "|1000040|Action,Casual,Ind...|[Action, Casual, ...|\n",
      "|1000080|Action,Adventure,...|[Action, Adventur...|\n",
      "|1000100|Adventure,Indie,R...|[Adventure, Indie...|\n",
      "|1000110|Action,Adventure,...|[Action, Adventur...|\n",
      "|1000130|        Casual,Indie|     [Casual, Indie]|\n",
      "|1000280|           Indie,RPG|        [Indie, RPG]|\n",
      "|1000310| Action,RPG,Strategy|[Action, RPG, Str...|\n",
      "|1000360|  Action,EarlyAccess|[Action, EarlyAcc...|\n",
      "|1000370|               Indie|             [Indie]|\n",
      "|1000380|Action,Adventure,...|[Action, Adventur...|\n",
      "|1000410|  Action,EarlyAccess|[Action, EarlyAcc...|\n",
      "|1000470| Adventure,Indie,RPG|[Adventure, Indie...|\n",
      "|1000480|Action,Indie,RPG,...|[Action, Indie, R...|\n",
      "|1000500|Action,Casual,Ind...|[Action, Casual, ...|\n",
      "|1000510|           Education|         [Education]|\n",
      "|1000540|Casual,FreetoPlay...|[Casual, FreetoPl...|\n",
      "+-------+--------------------+--------------------+\n",
      "only showing top 20 rows\n",
      "\n"
     ]
    }
   ],
   "source": [
    "games_data = games_data.withColumn(\"genre_array\", split(games_data.genre, \",\"))\n",
    "games_data.show()"
   ]
  },
  {
   "cell_type": "code",
   "execution_count": 6,
   "id": "5a2b7152",
   "metadata": {},
   "outputs": [
    {
     "name": "stdout",
     "output_type": "stream",
     "text": [
      "+-------+----------+\n",
      "| App ID|     genre|\n",
      "+-------+----------+\n",
      "|1599250|    Action|\n",
      "|1599250| Adventure|\n",
      "|1599250|    Casual|\n",
      "|1599250|     Indie|\n",
      "|1599250|       RPG|\n",
      "|1599250|Simulation|\n",
      "+-------+----------+\n",
      "\n"
     ]
    }
   ],
   "source": [
    "games_data = games_data.select(games_data['App ID'], explode(games_data.genre_array).alias('genre'))\n",
    "games_data.where(games_data['App ID'] == 1599250).show()"
   ]
  },
  {
   "cell_type": "code",
   "execution_count": 7,
   "id": "76380d75",
   "metadata": {},
   "outputs": [
    {
     "name": "stdout",
     "output_type": "stream",
     "text": [
      "+------------+----------+------+---------+------------------+---------------+------+-------------------+-----------+---------+----------+---------------+----+-----+--------------------+-----+------+------------+---+------+-------------+----------+----------------+------+--------+---------+---------------+-------+-------------+\n",
      "|App ID_genre|Accounting|Action|Adventure|Animation&Modeling|AudioProduction|Casual|Design&Illustration|EarlyAccess|Education|FreetoPlay|GameDevelopment|Gore|Indie|MassivelyMultiplayer|Movie|Nudity|PhotoEditing|RPG|Racing|SexualContent|Simulation|SoftwareTraining|Sports|Strategy|Utilities|VideoProduction|Violent|WebPublishing|\n",
      "+------------+----------+------+---------+------------------+---------------+------+-------------------+-----------+---------+----------+---------------+----+-----+--------------------+-----+------+------------+---+------+-------------+----------+----------------+------+--------+---------+---------------+-------+-------------+\n",
      "|     1599250|         0|     1|        1|                 0|              0|     1|                  0|          0|        0|         0|              0|   0|    1|                   0|    0|     0|           0|  1|     0|            0|         1|               0|     0|       0|        0|              0|      0|            0|\n",
      "|     1029150|         0|     0|        1|                 0|              0|     0|                  0|          0|        0|         0|              0|   0|    1|                   0|    0|     0|           0|  1|     0|            0|         0|               0|     0|       0|        0|              0|      0|            0|\n",
      "|      667880|         0|     0|        0|                 0|              0|     1|                  0|          0|        0|         0|              0|   0|    1|                   0|    0|     0|           0|  0|     0|            0|         0|               0|     0|       0|        0|              0|      0|            0|\n",
      "|     1381630|         0|     1|        0|                 0|              0|     1|                  0|          0|        0|         0|              0|   0|    1|                   0|    0|     0|           0|  0|     0|            0|         0|               0|     0|       0|        0|              0|      0|            0|\n",
      "|      887510|         0|     1|        0|                 0|              0|     0|                  0|          0|        0|         0|              0|   0|    0|                   0|    0|     0|           0|  0|     0|            0|         0|               0|     0|       0|        0|              0|      0|            0|\n",
      "|     1036260|         0|     0|        1|                 0|              0|     1|                  0|          0|        0|         0|              0|   0|    1|                   0|    0|     0|           0|  0|     0|            0|         1|               0|     0|       0|        0|              0|      0|            0|\n",
      "|     1091380|         0|     0|        0|                 0|              0|     0|                  0|          0|        0|         0|              0|   0|    1|                   0|    0|     0|           0|  0|     0|            0|         0|               0|     0|       0|        0|              0|      0|            0|\n",
      "|     1104670|         0|     0|        0|                 0|              0|     1|                  0|          0|        0|         0|              0|   0|    1|                   0|    0|     0|           0|  0|     0|            0|         0|               0|     0|       0|        0|              0|      0|            0|\n",
      "|     1592230|         0|     1|        1|                 0|              0|     0|                  0|          0|        0|         0|              0|   0|    1|                   0|    0|     0|           0|  1|     0|            0|         1|               0|     0|       1|        0|              0|      0|            0|\n",
      "|     1340300|         0|     1|        0|                 0|              0|     0|                  0|          1|        0|         0|              0|   0|    0|                   0|    0|     0|           0|  0|     0|            0|         1|               0|     1|       0|        0|              0|      0|            0|\n",
      "|      914050|         0|     1|        1|                 0|              0|     1|                  0|          0|        0|         0|              0|   0|    1|                   0|    0|     0|           0|  0|     0|            0|         1|               0|     0|       1|        0|              0|      0|            0|\n",
      "|      670490|         0|     0|        0|                 0|              0|     0|                  0|          1|        0|         0|              0|   0|    1|                   0|    0|     0|           0|  0|     0|            0|         1|               0|     0|       1|        0|              0|      0|            0|\n",
      "|     1711160|         0|     0|        0|                 0|              0|     1|                  0|          0|        0|         0|              0|   0|    1|                   0|    0|     0|           0|  0|     0|            0|         0|               0|     0|       1|        0|              0|      0|            0|\n",
      "|     1530040|         0|     0|        1|                 0|              0|     0|                  0|          0|        0|         0|              0|   0|    1|                   0|    0|     0|           0|  1|     0|            0|         0|               0|     0|       0|        0|              0|      0|            0|\n",
      "|      449160|         0|     1|        1|                 0|              0|     1|                  0|          0|        0|         0|              0|   0|    1|                   0|    0|     0|           0|  0|     0|            0|         0|               0|     0|       0|        0|              0|      0|            0|\n",
      "|     2085920|         0|     1|        0|                 0|              0|     1|                  0|          0|        0|         0|              0|   0|    1|                   0|    0|     0|           0|  0|     0|            0|         0|               0|     0|       0|        0|              0|      0|            0|\n",
      "|      953250|         0|     1|        1|                 0|              0|     1|                  0|          0|        0|         1|              0|   0|    1|                   0|    0|     0|           0|  1|     1|            0|         1|               0|     0|       1|        0|              0|      0|            0|\n",
      "|      596370|         0|     0|        0|                 0|              0|     1|                  0|          0|        0|         0|              0|   0|    1|                   0|    0|     0|           0|  0|     0|            0|         0|               0|     0|       0|        0|              0|      0|            0|\n",
      "|     1636700|         0|     1|        1|                 0|              0|     0|                  0|          0|        0|         0|              0|   0|    1|                   0|    0|     0|           0|  1|     0|            0|         0|               0|     0|       0|        0|              0|      0|            0|\n",
      "|     1531720|         0|     0|        1|                 0|              0|     1|                  0|          0|        0|         0|              0|   0|    1|                   1|    0|     0|           0|  0|     1|            0|         1|               0|     1|       0|        0|              0|      0|            0|\n",
      "+------------+----------+------+---------+------------------+---------------+------+-------------------+-----------+---------+----------+---------------+----+-----+--------------------+-----+------+------------+---+------+-------------+----------+----------------+------+--------+---------+---------------+-------+-------------+\n",
      "only showing top 20 rows\n",
      "\n"
     ]
    }
   ],
   "source": [
    "games_data= games_data.crosstab('App ID', 'genre')\n",
    "games_data.show()"
   ]
  },
  {
   "cell_type": "code",
   "execution_count": 8,
   "id": "a0448596",
   "metadata": {},
   "outputs": [
    {
     "name": "stdout",
     "output_type": "stream",
     "text": [
      "+-------+--------------------+\n",
      "|  appid|      one_hot_vector|\n",
      "+-------+--------------------+\n",
      "|1599250|[0, 1, 1, 0, 0, 1...|\n",
      "|1029150|[0, 0, 1, 0, 0, 0...|\n",
      "| 667880|[0, 0, 0, 0, 0, 1...|\n",
      "|1381630|[0, 1, 0, 0, 0, 1...|\n",
      "| 887510|[0, 1, 0, 0, 0, 0...|\n",
      "|1036260|[0, 0, 1, 0, 0, 1...|\n",
      "|1091380|[0, 0, 0, 0, 0, 0...|\n",
      "|1104670|[0, 0, 0, 0, 0, 1...|\n",
      "|1592230|[0, 1, 1, 0, 0, 0...|\n",
      "|1340300|[0, 1, 0, 0, 0, 0...|\n",
      "| 914050|[0, 1, 1, 0, 0, 1...|\n",
      "| 670490|[0, 0, 0, 0, 0, 0...|\n",
      "|1711160|[0, 0, 0, 0, 0, 1...|\n",
      "|1530040|[0, 0, 1, 0, 0, 0...|\n",
      "| 449160|[0, 1, 1, 0, 0, 1...|\n",
      "|2085920|[0, 1, 0, 0, 0, 1...|\n",
      "| 953250|[0, 1, 1, 0, 0, 1...|\n",
      "| 596370|[0, 0, 0, 0, 0, 1...|\n",
      "|1636700|[0, 1, 1, 0, 0, 0...|\n",
      "|1531720|[0, 0, 1, 0, 0, 1...|\n",
      "+-------+--------------------+\n",
      "only showing top 20 rows\n",
      "\n"
     ]
    }
   ],
   "source": [
    "columns = []\n",
    "\n",
    "for c in games_data.columns[1:]:\n",
    "    columns.append(col(c))\n",
    "    \n",
    "games_data = games_data.withColumn(\"one_hot_vector\", array(columns))\n",
    "games_data = games_data.select(col('App ID_genre').alias('appid'), 'one_hot_vector')\n",
    "games_data.show()"
   ]
  },
  {
   "cell_type": "code",
   "execution_count": 9,
   "id": "4d67d682",
   "metadata": {},
   "outputs": [
    {
     "name": "stdout",
     "output_type": "stream",
     "text": [
      "+------+--------------------+\n",
      "| appid|      one_hot_vector|\n",
      "+------+--------------------+\n",
      "|202970|[0, 1, 0, 0, 0, 0...|\n",
      "+------+--------------------+\n",
      "\n"
     ]
    }
   ],
   "source": [
    "games_data.where(games_data.appid == 202970).show()"
   ]
  },
  {
   "cell_type": "code",
   "execution_count": 10,
   "id": "f35e417b",
   "metadata": {},
   "outputs": [
    {
     "name": "stdout",
     "output_type": "stream",
     "text": [
      "+-----------------+--------------------+----------------+\n",
      "|          steamid|      one_hot_vector|playtime_forever|\n",
      "+-----------------+--------------------+----------------+\n",
      "|76561198015117260|[0, 1, 0, 0, 0, 0...|             715|\n",
      "|76561198015116850|[0, 1, 0, 0, 0, 0...|               7|\n",
      "|76561198015116840|[0, 0, 0, 0, 0, 0...|               6|\n",
      "|76561198015116840|[0, 1, 1, 0, 0, 0...|             479|\n",
      "|76561198015116840|[0, 1, 1, 0, 0, 0...|              77|\n",
      "|76561198015116600|[0, 1, 0, 0, 0, 0...|            3004|\n",
      "|76561198015115520|[0, 1, 1, 0, 0, 0...|            5266|\n",
      "|76561198015115080|[0, 0, 0, 0, 0, 0...|              33|\n",
      "|76561198015115080|[0, 0, 0, 0, 0, 0...|             958|\n",
      "|76561198015115030|[0, 0, 0, 0, 0, 1...|               9|\n",
      "|76561198015115030|[0, 0, 0, 0, 0, 0...|             197|\n",
      "|76561198015114670|[0, 1, 0, 0, 0, 0...|          125969|\n",
      "|76561198015114350|[0, 1, 0, 0, 0, 0...|            9549|\n",
      "|76561198015113950|[0, 1, 0, 0, 0, 0...|               7|\n",
      "|76561198015113950|[0, 1, 0, 0, 0, 0...|             344|\n",
      "|76561198015113900|[0, 1, 0, 0, 0, 0...|            1025|\n",
      "|76561198015113900|[0, 1, 1, 0, 0, 0...|             957|\n",
      "|76561198015113900|[0, 0, 0, 0, 0, 0...|            7415|\n",
      "|76561198015113900|[0, 0, 1, 0, 0, 0...|            1227|\n",
      "|76561198015113900|[0, 0, 1, 0, 0, 0...|             179|\n",
      "+-----------------+--------------------+----------------+\n",
      "only showing top 20 rows\n",
      "\n"
     ]
    }
   ],
   "source": [
    "playtime_data = playtime_data.join(games_data, playtime_data['appid'] == games_data['appid']).select('steamid', 'one_hot_vector', 'playtime_forever')\n",
    "playtime_data.show()"
   ]
  },
  {
   "cell_type": "code",
   "execution_count": 11,
   "id": "edb3245a",
   "metadata": {},
   "outputs": [],
   "source": [
    "playtime_data = playtime_data.groupBy('steamid').agg(collect_list('one_hot_vector').alias('game_vector_list'), collect_list('playtime_forever').alias('playtime_list'))\n"
   ]
  },
  {
   "cell_type": "code",
   "execution_count": 13,
   "id": "981174f8",
   "metadata": {},
   "outputs": [],
   "source": [
    "playtime_data = playtime_data.withColumn(\"playtime_list\", playtime_data.playtime_list.cast(\"array<int>\"))"
   ]
  },
  {
   "cell_type": "code",
   "execution_count": 11,
   "id": "7b3a7227",
   "metadata": {
    "scrolled": false
   },
   "outputs": [
    {
     "name": "stdout",
     "output_type": "stream",
     "text": [
      "+-----------------+--------------------+----------------+\n",
      "|          steamid|      one_hot_vector|playtime_forever|\n",
      "+-----------------+--------------------+----------------+\n",
      "|76561198015117260|[0, 1, 0, 0, 0, 0...|             715|\n",
      "|76561198015116850|[0, 1, 0, 0, 0, 0...|               7|\n",
      "|76561198015116840|[0, 0, 0, 0, 0, 0...|               6|\n",
      "|76561198015116840|[0, 1, 1, 0, 0, 0...|             479|\n",
      "|76561198015116840|[0, 1, 1, 0, 0, 0...|              77|\n",
      "|76561198015116600|[0, 1, 0, 0, 0, 0...|            3004|\n",
      "|76561198015115520|[0, 1, 1, 0, 0, 0...|            5266|\n",
      "|76561198015115080|[0, 0, 0, 0, 0, 0...|              33|\n",
      "|76561198015115080|[0, 0, 0, 0, 0, 0...|             958|\n",
      "|76561198015115030|[0, 0, 0, 0, 0, 1...|               9|\n",
      "|76561198015115030|[0, 0, 0, 0, 0, 0...|             197|\n",
      "|76561198015114670|[0, 1, 0, 0, 0, 0...|          125969|\n",
      "|76561198015114350|[0, 1, 0, 0, 0, 0...|            9549|\n",
      "|76561198015113950|[0, 1, 0, 0, 0, 0...|               7|\n",
      "|76561198015113950|[0, 1, 0, 0, 0, 0...|             344|\n",
      "|76561198015113900|[0, 1, 0, 0, 0, 0...|            1025|\n",
      "|76561198015113900|[0, 1, 1, 0, 0, 0...|             957|\n",
      "|76561198015113900|[0, 0, 0, 0, 0, 0...|            7415|\n",
      "|76561198015113900|[0, 0, 1, 0, 0, 0...|            1227|\n",
      "|76561198015113900|[0, 0, 1, 0, 0, 0...|             179|\n",
      "+-----------------+--------------------+----------------+\n",
      "only showing top 20 rows\n",
      "\n"
     ]
    }
   ],
   "source": [
    "playtime_data.show()"
   ]
  },
  {
   "cell_type": "code",
   "execution_count": null,
   "id": "4d29c3dc",
   "metadata": {},
   "outputs": [],
   "source": []
  }
 ],
 "metadata": {
  "kernelspec": {
   "display_name": "Python [conda env:bigdata-lab] *",
   "language": "python",
   "name": "conda-env-bigdata-lab-py"
  },
  "language_info": {
   "codemirror_mode": {
    "name": "ipython",
    "version": 3
   },
   "file_extension": ".py",
   "mimetype": "text/x-python",
   "name": "python",
   "nbconvert_exporter": "python",
   "pygments_lexer": "ipython3",
   "version": "3.10.9"
  }
 },
 "nbformat": 4,
 "nbformat_minor": 5
}
