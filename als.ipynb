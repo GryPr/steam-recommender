{
 "cells": [
  {
   "cell_type": "code",
   "execution_count": 196,
   "metadata": {},
   "outputs": [],
   "source": [
    "from pyspark.sql import SparkSession\n",
    "from pyspark.rdd import RDD\n",
    "from pyspark.sql import Row, Window\n",
    "from pyspark.sql import DataFrame\n",
    "from pyspark.sql.functions import udf, lit\n",
    "from pyspark.sql.functions import desc\n",
    "from pyspark.ml.evaluation import RegressionEvaluator\n",
    "from pyspark.ml.recommendation import ALS\n",
    "from pyspark.sql.types import DecimalType\n",
    "from pyspark.ml.feature import StringIndexer\n",
    "from pyspark.sql.functions import when, col, lit\n",
    "from pyspark.sql.functions import avg, stddev_pop\n",
    "\n",
    "spark = SparkSession.builder.appName('ReadMariaDB') \\\n",
    ".config(\"spark.driver.memory\", \"32g\") \\\n",
    ".config(\"spark.sql.pivotMaxValues\", \"1000000\") \\\n",
    ".getOrCreate()\n",
    "\n",
    "# sql = \"select * from 01_sampled_games_2 WHERE playtime_forever IS NOT NULL AND playtime_forever > 0\"\n",
    "sql = \"select * from 01_sampled_games_2 WHERE playtime_forever IS NOT NULL\"\n",
    "database = \"steam\"\n",
    "user = \"root\"\n",
    "password = \"example\"\n",
    "server = \"127.0.0.1\"\n",
    "port = 3306\n",
    "jdbc_url = f\"jdbc:mysql://{server}:{port}/{database}?permitMysqlScheme\"\n",
    "jdbc_driver = \"org.mariadb.jdbc.Driver\"\n",
    "\n",
    "# Create a data frame by reading data from MariaDB via JDBC\n",
    "df = spark.read.format(\"jdbc\") \\\n",
    "    .option(\"url\", jdbc_url) \\\n",
    "    .option(\"query\", sql) \\\n",
    "    .option(\"user\", user) \\\n",
    "    .option(\"password\", password) \\\n",
    "    .option(\"driver\", jdbc_driver) \\\n",
    "    .load()"
   ]
  },
  {
   "attachments": {},
   "cell_type": "markdown",
   "metadata": {},
   "source": [
    "## Z-Score Normalization"
   ]
  },
  {
   "cell_type": "code",
   "execution_count": 197,
   "metadata": {},
   "outputs": [],
   "source": [
    "from pyspark.sql.functions import mean, stddev_pop, col\n",
    "\n",
    "# Calculate the per-game mean and standard deviation of the playtime column\n",
    "game_stats = df.filter(col(\"playtime_forever\") > 0).groupBy(\"appid\").agg(\n",
    "    mean(\"playtime_forever\").alias(\"game_mean_playtime\"),\n",
    "    stddev_pop(\"playtime_forever\").alias(\"game_stddev_playtime\")\n",
    ")\n",
    "\n",
    "# Normalize the playtime column on a per-game basis using z-score normalization\n",
    "df = df.join(game_stats, \"appid\")\n",
    "df = df.withColumn(\"z_score\", (col(\"playtime_forever\") - col(\"game_mean_playtime\")) / col(\"game_stddev_playtime\"))\n",
    "df = df.dropna(subset=[\"z_score\"])"
   ]
  },
  {
   "attachments": {},
   "cell_type": "markdown",
   "metadata": {},
   "source": [
    "## Per-Game 1-5 Rank Normalization"
   ]
  },
  {
   "attachments": {},
   "cell_type": "markdown",
   "metadata": {},
   "source": [
    "First, we calculate the mean and standard deviation for the playtime for each user. Then, we define dynamically define the cut points for the ratings from 1 to 5 on a per-user basis."
   ]
  },
  {
   "cell_type": "code",
   "execution_count": 198,
   "metadata": {},
   "outputs": [],
   "source": [
    "df = df.withColumn(\"cut_point_1\", when(col(\"game_mean_playtime\") - (col(\"game_stddev_playtime\") * 0.5) > 0, col(\"game_mean_playtime\") - (col(\"game_stddev_playtime\") * 0.5)).otherwise(0))\n",
    "df = df.withColumn(\"cut_point_2\", col(\"game_mean_playtime\"))\n",
    "df = df.withColumn(\"cut_point_3\", col(\"game_mean_playtime\") + (col(\"game_stddev_playtime\") * 0.5))\n",
    "df = df.withColumn(\"cut_point_4\", col(\"game_mean_playtime\") + col(\"game_stddev_playtime\"))\n",
    "df = df.withColumn(\"cut_point_5\", col(\"game_mean_playtime\") + (col(\"game_stddev_playtime\") * 1.5))"
   ]
  },
  {
   "attachments": {},
   "cell_type": "markdown",
   "metadata": {},
   "source": [
    "Afterwards, we assign ratings for each playtime record based on the cut points."
   ]
  },
  {
   "cell_type": "code",
   "execution_count": 199,
   "metadata": {},
   "outputs": [],
   "source": [
    "df = df.withColumn(\n",
    "    \"ranks\",\n",
    "    when(col(\"playtime_forever\") <= col(\"cut_point_1\"), lit(1))\n",
    "    .when((col(\"playtime_forever\") > col(\"cut_point_1\")) & (col(\"playtime_forever\") <= col(\"cut_point_2\")), lit(2))\n",
    "    .when((col(\"playtime_forever\") > col(\"cut_point_2\")) & (col(\"playtime_forever\") <= col(\"cut_point_3\")), lit(3))\n",
    "    .when((col(\"playtime_forever\") > col(\"cut_point_3\")) & (col(\"playtime_forever\") <= col(\"cut_point_4\")), lit(4))\n",
    "    .otherwise(lit(5))\n",
    ")"
   ]
  },
  {
   "cell_type": "code",
   "execution_count": 200,
   "metadata": {},
   "outputs": [
    {
     "name": "stdout",
     "output_type": "stream",
     "text": [
      "+------+-----------------+---------------+----------------+-------------------+------------------+--------------------+--------------------+------------------+-----------+------------------+------------------+------------------+-----+\n",
      "| appid|          steamid|playtime_2weeks|playtime_forever|      dateretrieved|game_mean_playtime|game_stddev_playtime|             z_score|       cut_point_1|cut_point_2|       cut_point_3|       cut_point_4|       cut_point_5|ranks|\n",
      "+------+-----------------+---------------+----------------+-------------------+------------------+--------------------+--------------------+------------------+-----------+------------------+------------------+------------------+-----+\n",
      "|221640|76561197960268000|           null|              27|2014-08-14 14:04:40|          186.0598|  361.95706223846577| -0.4394438362835636| 5.081268880767112|   186.0598| 367.0383311192329| 548.0168622384658| 728.9953933576986|    2|\n",
      "|206480|76561197960268000|           null|             247|2014-08-14 14:04:40|          817.6415|  1397.0886317873394| -0.4084504640696706|119.09718410633025|   817.6415|1516.1858158936698|2214.7301317873394|2913.2744476810094|    2|\n",
      "|218230|76561197960293000|           null|            2491|2014-08-14 14:17:37|         2569.1615|   7191.855747265742|-0.01086805725069167|               0.0|  2569.1615| 6165.089373632871| 9761.017247265743|13356.945120898614|    2|\n",
      "|221640|76561197960306000|           null|              10|2014-08-14 14:23:59|          186.0598|  361.95706223846577| -0.4864107331162051| 5.081268880767112|   186.0598| 367.0383311192329| 548.0168622384658| 728.9953933576986|    2|\n",
      "|263700|76561197960306000|           null|               0|2014-08-14 14:23:59|           55.7500|   75.15442435412568|  -0.741805961247304| 18.17278782293716|    55.7500| 93.32721217706285| 130.9044243541257| 168.4816365311885|    1|\n",
      "|218230|76561197960342000|           null|              93|2014-08-14 14:41:47|         2569.1615|   7191.855747265742|-0.34430077396107495|               0.0|  2569.1615| 6165.089373632871| 9761.017247265743|13356.945120898614|    2|\n",
      "|221640|76561197960417000|           null|              20|2014-08-14 15:16:41|          186.0598|  361.95706223846577|  -0.458783146744063| 5.081268880767112|   186.0598| 367.0383311192329| 548.0168622384658| 728.9953933576986|    2|\n",
      "|206480|76561197960481000|           null|            2243|2014-08-14 15:43:58|          817.6415|  1397.0886317873394|  1.0202348423496181|119.09718410633025|   817.6415|1516.1858158936698|2214.7301317873394|2913.2744476810094|    5|\n",
      "|218230|76561197960564000|             17|             849|2014-08-14 16:17:59|         2569.1615|   7191.855747265742|-0.23918186910992825|               0.0|  2569.1615| 6165.089373632871| 9761.017247265743|13356.945120898614|    2|\n",
      "|218230|76561197960661000|           null|             450|2014-08-14 16:44:14|         2569.1615|   7191.855747265742|-0.29466129111470013|               0.0|  2569.1615| 6165.089373632871| 9761.017247265743|13356.945120898614|    2|\n",
      "|221640|76561197960795000|           null|              14|2014-08-14 17:26:42|          186.0598|  361.95706223846577| -0.4753596985673482| 5.081268880767112|   186.0598| 367.0383311192329| 548.0168622384658| 728.9953933576986|    2|\n",
      "|206480|76561197961017000|           null|              75|2014-08-14 18:36:27|          817.6415|  1397.0886317873394| -0.5315636267470842|119.09718410633025|   817.6415|1516.1858158936698|2214.7301317873394|2913.2744476810094|    1|\n",
      "|221640|76561197961141000|           null|               1|2014-08-14 19:16:19|          186.0598|  361.95706223846577| -0.5112755608511329| 5.081268880767112|   186.0598| 367.0383311192329| 548.0168622384658| 728.9953933576986|    1|\n",
      "|218230|76561197961258000|           null|             437|2014-08-14 19:54:56|         2569.1615|   7191.855747265742|-0.29646889133039445|               0.0|  2569.1615| 6165.089373632871| 9761.017247265743|13356.945120898614|    2|\n",
      "|221640|76561197961312000|           null|               8|2014-08-14 20:11:40|          186.0598|  361.95706223846577| -0.4919362503906335| 5.081268880767112|   186.0598| 367.0383311192329| 548.0168622384658| 728.9953933576986|    2|\n",
      "|221640|76561197961347000|           null|               1|2014-08-14 20:19:58|          186.0598|  361.95706223846577| -0.5112755608511329| 5.081268880767112|   186.0598| 367.0383311192329| 548.0168622384658| 728.9953933576986|    1|\n",
      "|218230|76561197961366000|           null|              24|2014-08-14 20:28:36|         2569.1615|   7191.855747265742| -0.3538949597212987|               0.0|  2569.1615| 6165.089373632871| 9761.017247265743|13356.945120898614|    2|\n",
      "|218230|76561197961530000|           null|             663|2014-08-14 21:03:53|         2569.1615|   7191.855747265742| -0.2650444568114008|               0.0|  2569.1615| 6165.089373632871| 9761.017247265743|13356.945120898614|    2|\n",
      "|218230|76561197961767000|           null|            3536|2014-08-14 22:07:04|         2569.1615|   7191.855747265742| 0.13443519085704417|               0.0|  2569.1615| 6165.089373632871| 9761.017247265743|13356.945120898614|    3|\n",
      "|221640|76561197961822000|           null|              21|2014-08-14 22:28:08|          186.0598|  361.95706223846577| -0.4560203881068488| 5.081268880767112|   186.0598| 367.0383311192329| 548.0168622384658| 728.9953933576986|    2|\n",
      "+------+-----------------+---------------+----------------+-------------------+------------------+--------------------+--------------------+------------------+-----------+------------------+------------------+------------------+-----+\n",
      "only showing top 20 rows\n",
      "\n"
     ]
    },
    {
     "name": "stderr",
     "output_type": "stream",
     "text": [
      "                                                                                \r"
     ]
    }
   ],
   "source": [
    "df.show()"
   ]
  },
  {
   "cell_type": "code",
   "execution_count": 201,
   "metadata": {},
   "outputs": [],
   "source": [
    "steamidIndexer = StringIndexer(inputCol=\"steamid\", outputCol=\"steamidIndex\")\n",
    "model = steamidIndexer.fit(df)\n",
    "df = model.transform(df)\n",
    "\n",
    "appidIndexer = StringIndexer(inputCol=\"appid\", outputCol=\"appidIndex\")\n",
    "model = appidIndexer.fit(df)\n",
    "df = model.transform(df)"
   ]
  },
  {
   "cell_type": "code",
   "execution_count": 202,
   "metadata": {},
   "outputs": [
    {
     "name": "stderr",
     "output_type": "stream",
     "text": [
      "[Stage 5821:>                                                       (0 + 1) / 1]\r"
     ]
    },
    {
     "name": "stdout",
     "output_type": "stream",
     "text": [
      "23/03/31 20:49:59 WARN DAGScheduler: Broadcasting large task binary with size 2.4 MiB\n",
      "23/03/31 20:49:59 WARN DAGScheduler: Broadcasting large task binary with size 2.4 MiB\n"
     ]
    },
    {
     "name": "stderr",
     "output_type": "stream",
     "text": [
      "                                                                                \r"
     ]
    },
    {
     "name": "stdout",
     "output_type": "stream",
     "text": [
      "23/03/31 20:50:00 WARN DAGScheduler: Broadcasting large task binary with size 2.4 MiB\n",
      "23/03/31 20:50:00 WARN DAGScheduler: Broadcasting large task binary with size 2.4 MiB\n",
      "23/03/31 20:50:00 WARN DAGScheduler: Broadcasting large task binary with size 2.4 MiB\n",
      "23/03/31 20:50:00 WARN DAGScheduler: Broadcasting large task binary with size 2.4 MiB\n",
      "23/03/31 20:50:00 WARN DAGScheduler: Broadcasting large task binary with size 2.4 MiB\n",
      "23/03/31 20:50:00 WARN DAGScheduler: Broadcasting large task binary with size 2.4 MiB\n",
      "23/03/31 20:50:00 WARN DAGScheduler: Broadcasting large task binary with size 2.5 MiB\n",
      "23/03/31 20:50:00 WARN DAGScheduler: Broadcasting large task binary with size 2.4 MiB\n",
      "23/03/31 20:50:00 WARN DAGScheduler: Broadcasting large task binary with size 2.5 MiB\n"
     ]
    },
    {
     "name": "stderr",
     "output_type": "stream",
     "text": [
      "                                                                                \r"
     ]
    },
    {
     "name": "stdout",
     "output_type": "stream",
     "text": [
      "23/03/31 20:50:01 WARN DAGScheduler: Broadcasting large task binary with size 2.5 MiB\n",
      "23/03/31 20:50:01 WARN DAGScheduler: Broadcasting large task binary with size 2.5 MiB\n",
      "23/03/31 20:50:01 WARN DAGScheduler: Broadcasting large task binary with size 2.5 MiB\n",
      "23/03/31 20:50:01 WARN DAGScheduler: Broadcasting large task binary with size 2.5 MiB\n",
      "23/03/31 20:50:02 WARN DAGScheduler: Broadcasting large task binary with size 2.5 MiB\n",
      "23/03/31 20:50:02 WARN DAGScheduler: Broadcasting large task binary with size 2.5 MiB\n",
      "23/03/31 20:50:02 WARN DAGScheduler: Broadcasting large task binary with size 2.5 MiB\n",
      "23/03/31 20:50:02 WARN DAGScheduler: Broadcasting large task binary with size 2.6 MiB\n",
      "23/03/31 20:50:03 WARN DAGScheduler: Broadcasting large task binary with size 2.5 MiB\n",
      "23/03/31 20:50:03 WARN DAGScheduler: Broadcasting large task binary with size 2.6 MiB\n",
      "23/03/31 20:50:03 WARN DAGScheduler: Broadcasting large task binary with size 2.6 MiB\n",
      "23/03/31 20:50:03 WARN DAGScheduler: Broadcasting large task binary with size 2.6 MiB\n"
     ]
    },
    {
     "name": "stderr",
     "output_type": "stream",
     "text": [
      "                                                                                \r"
     ]
    },
    {
     "name": "stdout",
     "output_type": "stream",
     "text": [
      "23/03/31 20:50:04 WARN DAGScheduler: Broadcasting large task binary with size 2.6 MiB\n",
      "23/03/31 20:50:04 WARN DAGScheduler: Broadcasting large task binary with size 2.6 MiB\n",
      "23/03/31 20:50:04 WARN DAGScheduler: Broadcasting large task binary with size 2.6 MiB\n",
      "23/03/31 20:50:04 WARN DAGScheduler: Broadcasting large task binary with size 2.6 MiB\n",
      "23/03/31 20:50:05 WARN DAGScheduler: Broadcasting large task binary with size 2.6 MiB\n",
      "23/03/31 20:50:05 WARN DAGScheduler: Broadcasting large task binary with size 2.6 MiB\n",
      "23/03/31 20:50:05 WARN DAGScheduler: Broadcasting large task binary with size 2.6 MiB\n"
     ]
    },
    {
     "name": "stderr",
     "output_type": "stream",
     "text": [
      "[Stage 5958:>                                                       (0 + 1) / 1]\r"
     ]
    },
    {
     "name": "stdout",
     "output_type": "stream",
     "text": [
      "23/03/31 20:50:06 WARN DAGScheduler: Broadcasting large task binary with size 2.4 MiB\n",
      "23/03/31 20:50:07 WARN DAGScheduler: Broadcasting large task binary with size 2.7 MiB\n",
      "23/03/31 20:50:07 WARN DAGScheduler: Broadcasting large task binary with size 2.7 MiB\n"
     ]
    },
    {
     "name": "stderr",
     "output_type": "stream",
     "text": [
      "                                                                                \r"
     ]
    }
   ],
   "source": [
    "selected_rating_col = \"ranks\"\n",
    "(training, test) = df.randomSplit([0.8, 0.2], seed=123)\n",
    "\n",
    "als = ALS(maxIter=5, rank=70, regParam=0.01, coldStartStrategy='drop', userCol='steamidIndex', itemCol='appidIndex', ratingCol=selected_rating_col, implicitPrefs=True)\n",
    "als.setSeed(123)\n",
    "model = als.fit(training)\n",
    "\n",
    "predictions = model.transform(test)\n",
    "evaluator = RegressionEvaluator(metricName=\"rmse\", labelCol=selected_rating_col, predictionCol=\"prediction\")\n",
    "rmse = evaluator.evaluate(predictions)"
   ]
  },
  {
   "cell_type": "code",
   "execution_count": 203,
   "metadata": {},
   "outputs": [
    {
     "name": "stdout",
     "output_type": "stream",
     "text": [
      "1.7703203240582126\n"
     ]
    }
   ],
   "source": [
    "print(rmse)"
   ]
  }
 ],
 "metadata": {
  "kernelspec": {
   "display_name": "venv",
   "language": "python",
   "name": "python3"
  },
  "language_info": {
   "codemirror_mode": {
    "name": "ipython",
    "version": 3
   },
   "file_extension": ".py",
   "mimetype": "text/x-python",
   "name": "python",
   "nbconvert_exporter": "python",
   "pygments_lexer": "ipython3",
   "version": "3.10.6"
  },
  "orig_nbformat": 4,
  "vscode": {
   "interpreter": {
    "hash": "34e120910b4957e5cd755e2a42b93193ccb3c34461c3543db7ce9f360eefaa4c"
   }
  }
 },
 "nbformat": 4,
 "nbformat_minor": 2
}
