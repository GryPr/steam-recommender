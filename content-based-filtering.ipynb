{
 "cells": [
  {
   "cell_type": "markdown",
   "id": "d2deb7e9",
   "metadata": {},
   "source": [
    "# Content-based filtering model"
   ]
  },
  {
   "cell_type": "code",
   "execution_count": 1,
   "id": "f301e724",
   "metadata": {},
   "outputs": [],
   "source": [
    "# imports\n",
    "from pyspark.sql import SparkSession\n",
    "from pyspark.rdd import RDD\n",
    "from pyspark.sql import Row\n",
    "from pyspark.sql import DataFrame\n",
    "from pyspark.sql.window import Window #for ranking\n",
    "from pyspark.sql.functions import lit, mean, stddev_pop\n",
    "from pyspark.sql.functions import collect_set, collect_list\n",
    "from pyspark.sql.functions import struct\n",
    "from pyspark.sql.functions import slice\n",
    "from pyspark.sql.functions import col\n",
    "from pyspark.sql.functions import desc\n",
    "from pyspark.sql.functions import udf\n",
    "from pyspark.ml.evaluation import RegressionEvaluator\n",
    "from pyspark.ml.recommendation import ALS\n",
    "from pyspark.sql.types import DecimalType, ArrayType, IntegerType, FloatType\n",
    "import pyspark.sql.functions as F\n",
    "from pyspark.sql.functions import avg, broadcast, when"
   ]
  },
  {
   "cell_type": "markdown",
   "id": "f3507121",
   "metadata": {},
   "source": [
    "## Overview\n",
    "1. Load dataset.\n",
    "2. Create item profiles for each game using genre, developer and publisher.\n",
    "3. For each user-game pair, normalize playtime into a 1-5 rating scale.\n",
    "4. Create user profiles by computing a weighted average of item profiles and ratings of previously played games.\n",
    "5. Given a user, compute the cosine similarity between the user's profile and each (unplayed) game's item profile.\n",
    "6. Recommend the user's 10 top similar games."
   ]
  },
  {
   "cell_type": "markdown",
   "id": "7de79e64",
   "metadata": {},
   "source": [
    "### Define cosine similarity and weighted average functions"
   ]
  },
  {
   "cell_type": "code",
   "execution_count": 2,
   "id": "6a10972c",
   "metadata": {},
   "outputs": [],
   "source": [
    "# cosine similarity function\n",
    "def cosine_similarity_udf(a, b):\n",
    "    dot_product = sum([x * y for x, y in zip(a, b)])\n",
    "    norm_a = sum([x**2 for x in a])**0.5\n",
    "    norm_b = sum([x**2 for x in b])**0.5\n",
    "    return dot_product / (norm_a * norm_b)\n",
    "\n",
    "\n",
    "def weighted_avg_features(ratings, combined_vectors):\n",
    "    if not ratings or not combined_vectors:\n",
    "        return []\n",
    "\n",
    "    weighted_sum = [0] * len(combined_vectors[0])\n",
    "    total_weight = 0\n",
    "\n",
    "    for rating, combined_vector in zip(ratings, combined_vectors):\n",
    "        weight = float(rating)\n",
    "        total_weight += weight\n",
    "        weighted_sum = [ws + weight * f for ws, f in zip(weighted_sum, combined_vector)]\n",
    "\n",
    "    if total_weight == 0:\n",
    "        return weighted_sum\n",
    "\n",
    "    return [ws / total_weight for ws in weighted_sum]"
   ]
  },
  {
   "cell_type": "markdown",
   "id": "5a51592b",
   "metadata": {},
   "source": [
    "## Load Dataset"
   ]
  },
  {
   "cell_type": "code",
   "execution_count": 3,
   "id": "bb3c729c",
   "metadata": {},
   "outputs": [],
   "source": [
    "spark = SparkSession.builder.appName('ReadMySQL') \\\n",
    ".config(\"spark.driver.memory\", \"32g\") \\\n",
    ".config(\"spark.sql.pivotMaxValues\", \"1000000\") \\\n",
    ".config(\"spark.jars\", \"C:\\\\Program Files (x86)\\\\MySQL\\\\Connector J 8.0\\\\mysql-connector-j-8.0.32.jar\") \\\n",
    ".getOrCreate()\n",
    "\n",
    "# sql = \"select * from 01_sampled_games_2v2 WHERE playtime_forever IS NOT NULL AND playtime_forever > 0\"\n",
    "sql = sql = \"\"\"\n",
    "SELECT p.steamid, p.appid, p.playtime_2weeks, p.playtime_forever, p.dateretrieved, g.genre, d.Developer, pb.Publisher\n",
    "FROM 01_sampled_games_2v2 AS p\n",
    "JOIN games_genres AS g ON p.appid = g.appid\n",
    "JOIN games_developers AS d ON p.appid = d.appid\n",
    "JOIN games_publishers AS pb ON p.appid = pb.appid\n",
    "WHERE p.playtime_forever IS NOT NULL AND p.playtime_forever > 0\n",
    "\"\"\"\n",
    "database = \"steam\"\n",
    "user = \"root\"\n",
    "password = \"root\"\n",
    "server = \"127.0.0.1\"\n",
    "port = 3306\n",
    "jdbc_url = f\"jdbc:mysql://{server}:{port}/{database}\"\n",
    "jdbc_driver = \"com.mysql.cj.jdbc.Driver\"\n",
    "\n",
    "# Create a data frame by reading data from Oracle via JDBC\n",
    "df = spark.read.format(\"jdbc\") \\\n",
    "    .option(\"url\", jdbc_url) \\\n",
    "    .option(\"query\", sql) \\\n",
    "    .option(\"user\", user) \\\n",
    "    .option(\"password\", password) \\\n",
    "    .option(\"driver\", jdbc_driver) \\\n",
    "    .load()\n",
    "\n",
    "df = df.drop(\"playtime_2weeks\", \"dateretrieved\")"
   ]
  },
  {
   "cell_type": "code",
   "execution_count": 4,
   "id": "da0d1a81",
   "metadata": {},
   "outputs": [
    {
     "name": "stdout",
     "output_type": "stream",
     "text": [
      "Dataframe has 212589  rows.\n",
      "+-----------------+-----+----------------+----------+--------------------+--------------------+\n",
      "|          steamid|appid|playtime_forever|     genre|           Developer|           Publisher|\n",
      "+-----------------+-----+----------------+----------+--------------------+--------------------+\n",
      "|76561197960268000|  300|             109|    Action|               Valve|               Valve|\n",
      "|76561197960268000| 1300|              94|    Action|Ritual Entertainment|Ritual Entertainment|\n",
      "|76561197960268000| 2100|             110|    Action|      Arkane Studios|             Ubisoft|\n",
      "|76561197960268000| 2100|             110|       RPG|      Arkane Studios|             Ubisoft|\n",
      "|76561197960268000| 4000|             152|     Indie|   Facepunch Studios|               Valve|\n",
      "|76561197960268000| 4000|             152|Simulation|   Facepunch Studios|               Valve|\n",
      "|76561197960268000| 2600|              59|    Action|        Troika Games|          Activision|\n",
      "|76561197960268000| 9000|               2|    Action|         id Software|         id Software|\n",
      "|76561197960268000| 2300|              40|    Action|         id Software|         id Software|\n",
      "|76561197960268000| 2200|             210|    Action|         id Software|         id Software|\n",
      "|76561197960268000| 4500|            1002|    Action|      GSC Game World|      GSC Game World|\n",
      "|76561197960268000| 4500|            1002|       RPG|      GSC Game World|      GSC Game World|\n",
      "|76561197960268000|  400|             380|    Action|               Valve|               Valve|\n",
      "|76561197960268000|17300|            4312|    Action|              Crytek|     Electronic Arts|\n",
      "|76561197960268000|  500|             198|    Action|               Valve|               Valve|\n",
      "|76561197960268000|22300|             425|       RPG|Bethesda Game Stu...|  Bethesda Softworks|\n",
      "|76561197960268000|19900|             111|    Action|    Ubisoft Montreal|             Ubisoft|\n",
      "|76561197960268000|18500|            1160|     Indie|Hidden Path Enter...|Hidden Path Enter...|\n",
      "|76561197960268000|18500|            1160|  Strategy|Hidden Path Enter...|Hidden Path Enter...|\n",
      "|76561197960268000|22200|              20|    Action|            ACE Team|            ACE Team|\n",
      "+-----------------+-----+----------------+----------+--------------------+--------------------+\n",
      "only showing top 20 rows\n",
      "\n"
     ]
    }
   ],
   "source": [
    "# count number of rows in the dataframe\n",
    "row_count = df.count()\n",
    "# print the row count\n",
    "print(\"Dataframe has\", row_count, \" rows.\")\n",
    "df.show()"
   ]
  },
  {
   "cell_type": "markdown",
   "id": "e53d5692",
   "metadata": {},
   "source": [
    "## Create item profiles"
   ]
  },
  {
   "cell_type": "code",
   "execution_count": 5,
   "id": "9bb761a1",
   "metadata": {},
   "outputs": [
    {
     "name": "stdout",
     "output_type": "stream",
     "text": [
      "+-----+-----------------+----------------+----------+--------------------+--------------------+--------------------+--------------------+--------------------+\n",
      "|appid|          steamid|playtime_forever|     genre|           Developer|           Publisher|        genre_vector|    developer_vector|    publisher_vector|\n",
      "+-----+-----------------+----------------+----------+--------------------+--------------------+--------------------+--------------------+--------------------+\n",
      "|  300|76561197960268000|             109|    Action|               Valve|               Valve|[1, 0, 0, 0, 0, 0...|[0, 0, 0, 0, 0, 0...|[0, 0, 0, 0, 0, 0...|\n",
      "| 1300|76561197960268000|              94|    Action|Ritual Entertainment|Ritual Entertainment|[1, 0, 0, 0, 0, 0...|[0, 0, 0, 0, 0, 0...|[0, 0, 0, 0, 0, 0...|\n",
      "| 2100|76561197960268000|             110|    Action|      Arkane Studios|             Ubisoft|[1, 0, 0, 0, 0, 0...|[0, 0, 0, 0, 0, 0...|[0, 0, 0, 0, 0, 0...|\n",
      "| 2100|76561197960268000|             110|       RPG|      Arkane Studios|             Ubisoft|[1, 0, 0, 0, 0, 0...|[0, 0, 0, 0, 0, 0...|[0, 0, 0, 0, 0, 0...|\n",
      "| 4000|76561197960268000|             152|     Indie|   Facepunch Studios|               Valve|[0, 0, 0, 0, 0, 0...|[0, 0, 0, 0, 0, 0...|[0, 0, 0, 0, 0, 0...|\n",
      "| 4000|76561197960268000|             152|Simulation|   Facepunch Studios|               Valve|[0, 0, 0, 0, 0, 0...|[0, 0, 0, 0, 0, 0...|[0, 0, 0, 0, 0, 0...|\n",
      "| 2600|76561197960268000|              59|    Action|        Troika Games|          Activision|[1, 0, 0, 0, 0, 0...|[0, 0, 0, 0, 0, 0...|[0, 0, 0, 0, 0, 0...|\n",
      "| 9000|76561197960268000|               2|    Action|         id Software|         id Software|[1, 0, 0, 0, 0, 0...|[0, 0, 0, 0, 0, 0...|[0, 0, 0, 0, 0, 0...|\n",
      "| 2300|76561197960268000|              40|    Action|         id Software|         id Software|[1, 0, 0, 0, 0, 0...|[0, 0, 0, 0, 0, 0...|[0, 0, 0, 0, 0, 0...|\n",
      "| 2200|76561197960268000|             210|    Action|         id Software|         id Software|[1, 0, 0, 0, 0, 0...|[0, 0, 0, 0, 0, 0...|[0, 0, 0, 0, 0, 0...|\n",
      "| 4500|76561197960268000|            1002|    Action|      GSC Game World|      GSC Game World|[1, 0, 0, 0, 0, 0...|[0, 0, 0, 0, 0, 0...|[0, 0, 0, 0, 0, 0...|\n",
      "| 4500|76561197960268000|            1002|       RPG|      GSC Game World|      GSC Game World|[1, 0, 0, 0, 0, 0...|[0, 0, 0, 0, 0, 0...|[0, 0, 0, 0, 0, 0...|\n",
      "|  400|76561197960268000|             380|    Action|               Valve|               Valve|[1, 0, 0, 0, 0, 0...|[0, 0, 0, 0, 0, 0...|[0, 0, 0, 0, 0, 0...|\n",
      "|17300|76561197960268000|            4312|    Action|              Crytek|     Electronic Arts|[1, 0, 0, 0, 0, 0...|[0, 0, 0, 0, 0, 0...|[0, 0, 0, 0, 0, 0...|\n",
      "|  500|76561197960268000|             198|    Action|               Valve|               Valve|[1, 0, 0, 0, 0, 0...|[0, 0, 0, 0, 0, 0...|[0, 0, 0, 0, 0, 0...|\n",
      "|22300|76561197960268000|             425|       RPG|Bethesda Game Stu...|  Bethesda Softworks|[0, 0, 0, 0, 0, 0...|[0, 0, 0, 0, 0, 0...|[0, 0, 0, 0, 0, 0...|\n",
      "|19900|76561197960268000|             111|    Action|    Ubisoft Montreal|             Ubisoft|[1, 0, 0, 0, 0, 0...|[0, 0, 0, 0, 0, 0...|[0, 0, 0, 0, 0, 0...|\n",
      "|18500|76561197960268000|            1160|     Indie|Hidden Path Enter...|Hidden Path Enter...|[0, 0, 0, 0, 0, 0...|[0, 0, 0, 0, 0, 0...|[0, 0, 0, 0, 0, 0...|\n",
      "|18500|76561197960268000|            1160|  Strategy|Hidden Path Enter...|Hidden Path Enter...|[0, 0, 0, 0, 0, 0...|[0, 0, 0, 0, 0, 0...|[0, 0, 0, 0, 0, 0...|\n",
      "|22200|76561197960268000|              20|    Action|            ACE Team|            ACE Team|[1, 0, 0, 0, 0, 0...|[0, 0, 0, 0, 0, 0...|[0, 0, 0, 0, 0, 0...|\n",
      "+-----+-----------------+----------------+----------+--------------------+--------------------+--------------------+--------------------+--------------------+\n",
      "only showing top 20 rows\n",
      "\n"
     ]
    }
   ],
   "source": [
    "# build the item profiles\n",
    "# Group the data by 'appid' and collect the genres for each game into a list\n",
    "games_genres_df = df.groupBy(\"appid\").agg(collect_set(\"genre\").alias(\"genres\"))\n",
    "# Group the data by 'appid' and collect the developers for each game into a list\n",
    "games_developers_df = df.groupBy(\"appid\").agg(collect_set(\"Developer\").alias(\"developers\"))\n",
    "# Group the data by 'appid' and collect the publishers for each game into a list\n",
    "games_publishers_df = df.groupBy(\"appid\").agg(collect_set(\"Publisher\").alias(\"publishers\"))\n",
    "\n",
    "# Create a list of unique genres\n",
    "unique_genres = sorted(df.select(\"genre\").distinct().rdd.flatMap(lambda x: x).collect())\n",
    "# Create a list of unique developers\n",
    "unique_developers = sorted(df.select(\"Developer\").distinct().rdd.flatMap(lambda x: x).collect())\n",
    "# Create a list of unique publishers\n",
    "unique_publishers = sorted(df.select(\"Publisher\").distinct().rdd.flatMap(lambda x: x).collect())\n",
    "\n",
    "\n",
    "# Define a UDF to create a binary vector for each game's genres\n",
    "@udf(returnType=ArrayType(IntegerType()))\n",
    "def genre_vector(genres):\n",
    "    return [1 if genre in genres else 0 for genre in unique_genres]\n",
    "\n",
    "# Define a UDF to create a binary vector for each game's developer\n",
    "@udf(returnType=ArrayType(IntegerType()))\n",
    "def developer_vector(developers):\n",
    "    return [1 if developer in developers else 0 for developer in unique_developers]\n",
    "\n",
    "# Define a UDF to create a binary vector for each game's publisher\n",
    "@udf(returnType=ArrayType(IntegerType()))\n",
    "def publisher_vector(publishers):\n",
    "    return [1 if publisher in publishers else 0 for publisher in unique_publishers]\n",
    "\n",
    "\n",
    "# Add a new column 'genre_vector' to the DataFrame\n",
    "# the genre vector will now have a 1 for each genre that the game belongs to\n",
    "games_genres_df = games_genres_df.withColumn(\"genre_vector\", genre_vector(\"genres\"))\n",
    "# Add a new column 'developer_vector' to the DataFrame\n",
    "games_developers_df = games_developers_df.withColumn(\"developer_vector\", developer_vector(\"developers\"))\n",
    "# Add a new column 'publisher_vector' to the DataFrame\n",
    "games_publishers_df = games_publishers_df.withColumn(\"publisher_vector\", publisher_vector(\"publishers\"))\n",
    "\n",
    "# games_genres_df.show(truncate=False)\n",
    "# Join the main DataFrame with the games_genres_df on appid to include the genre_vector\n",
    "df = df.join(broadcast(games_genres_df.select(\"appid\", \"genre_vector\")), on=\"appid\")\n",
    "# Join the main DataFrame with the games_developers_df\n",
    "df = df.join(broadcast(games_developers_df.select(\"appid\", \"developer_vector\")), on=\"appid\")\n",
    "# Join the main DataFrame with the games_publishers_df\n",
    "df = df.join(broadcast(games_publishers_df.select(\"appid\", \"publisher_vector\")), on=\"appid\")\n",
    "\n",
    "df.show()"
   ]
  },
  {
   "cell_type": "markdown",
   "id": "c1345b29",
   "metadata": {},
   "source": [
    "## Per-Game 1-5 Rating Normalization\n",
    "For each game, we calculate the mean and standard deviation. We then create buckets for each rating:\n",
    "### Scaling factor\n",
    "The cut points are scaled on a per-user basis since some users are more casual gamers while others may spend a lot more time gaming. The scaling factor is calculated as follows:\n",
    "\n",
    "(user_playtime_average)/(global_playtime_average)\n",
    "\n",
    "### Cut points\n",
    "* Cut point 1: (mean - std_dev*0.5) * scaling_factor if > 0, else 0\n",
    "* Cut point 2: mean\n",
    "* Cut point 3: (mean + std_dev*0.5) * scaling_factor\n",
    "* Cut point 4: (mean + std_dev) * scaling_factor\n",
    "### Ratings\n",
    "* Rating 1: 0 < x < cut point 1\n",
    "* Rating 2: cut point 1 < x < cut point 2\n",
    "* Rating 3: cut point 2 < x < cut point 3\n",
    "* Rating 4: cut point 3 < x < cut point 4\n",
    "* Rating 5: cut point 5 < x < inf\n"
   ]
  },
  {
   "cell_type": "code",
   "execution_count": 6,
   "id": "8c3bde4d",
   "metadata": {
    "scrolled": false
   },
   "outputs": [
    {
     "name": "stdout",
     "output_type": "stream",
     "text": [
      "+------+-----------------+----------------+-----------------+------------------+--------------------+-------------------+-----------------+------------------+------------------+------------------+-------+\n",
      "| appid|          steamid|playtime_forever|user_playtime_avg|game_mean_playtime|game_stddev_playtime|     scaling_factor|      cut_point_1|       cut_point_2|       cut_point_3|       cut_point_4|ratings|\n",
      "+------+-----------------+----------------+-----------------+------------------+--------------------+-------------------+-----------------+------------------+------------------+------------------+-------+\n",
      "|285900|76561198047500000|              14| 1096.20987654321|             102.6|   77.31649241914691| 0.6218335774098507|78.56100446311014| 63.80012504225068|126.63899553688985| 150.6779910737797|      1|\n",
      "|285900|76561198047500000|              14| 1096.20987654321|             102.6|   77.31649241914691| 0.6218335774098507|78.56100446311014| 63.80012504225068|126.63899553688985| 150.6779910737797|      1|\n",
      "|285900|76561198047500000|              14| 1096.20987654321|             102.6|   77.31649241914691| 0.6218335774098507|78.56100446311014| 63.80012504225068|126.63899553688985| 150.6779910737797|      1|\n",
      "|285900|76561198047500000|              14| 1096.20987654321|             102.6|   77.31649241914691| 0.6218335774098507|78.56100446311014| 63.80012504225068|126.63899553688985| 150.6779910737797|      1|\n",
      "|285900|76561198047500000|              14| 1096.20987654321|             102.6|   77.31649241914691| 0.6218335774098507|78.56100446311014| 63.80012504225068|126.63899553688985| 150.6779910737797|      1|\n",
      "|285900|76561198039355000|             178|         2197.575|             102.6|   77.31649241914691| 1.2465915087224517|54.40895853304382|127.90028879492354|150.79104146695616|198.98208293391235|      4|\n",
      "|285900|76561198039355000|             178|         2197.575|             102.6|   77.31649241914691| 1.2465915087224517|54.40895853304382|127.90028879492354|150.79104146695616|198.98208293391235|      4|\n",
      "|285900|76561198039355000|             178|         2197.575|             102.6|   77.31649241914691| 1.2465915087224517|54.40895853304382|127.90028879492354|150.79104146695616|198.98208293391235|      4|\n",
      "|285900|76561198039355000|             178|         2197.575|             102.6|   77.31649241914691| 1.2465915087224517|54.40895853304382|127.90028879492354|150.79104146695616|198.98208293391235|      4|\n",
      "|285900|76561198039355000|             178|         2197.575|             102.6|   77.31649241914691| 1.2465915087224517|54.40895853304382|127.90028879492354|150.79104146695616|198.98208293391235|      4|\n",
      "|285900|76561198045356000|             153| 627.516129032258|             102.6|   77.31649241914691|0.35596340422419953|88.83907907790297| 36.52184527340287|116.36092092209702|130.12184184419405|      5|\n",
      "|285900|76561198045356000|             153| 627.516129032258|             102.6|   77.31649241914691|0.35596340422419953|88.83907907790297| 36.52184527340287|116.36092092209702|130.12184184419405|      5|\n",
      "|285900|76561198045356000|             153| 627.516129032258|             102.6|   77.31649241914691|0.35596340422419953|88.83907907790297| 36.52184527340287|116.36092092209702|130.12184184419405|      5|\n",
      "|285900|76561198045356000|             153| 627.516129032258|             102.6|   77.31649241914691|0.35596340422419953|88.83907907790297| 36.52184527340287|116.36092092209702|130.12184184419405|      5|\n",
      "|285900|76561198045356000|             153| 627.516129032258|             102.6|   77.31649241914691|0.35596340422419953|88.83907907790297| 36.52184527340287|116.36092092209702|130.12184184419405|      5|\n",
      "|285900|76561198070887000|             165|247.2962962962963|             102.6|   77.31649241914691|0.14028074723341613|97.17699233498766|14.392804666148495|108.02300766501233|113.44601533002468|      5|\n",
      "|285900|76561198070887000|             165|247.2962962962963|             102.6|   77.31649241914691|0.14028074723341613|97.17699233498766|14.392804666148495|108.02300766501233|113.44601533002468|      5|\n",
      "|285900|76561198070887000|             165|247.2962962962963|             102.6|   77.31649241914691|0.14028074723341613|97.17699233498766|14.392804666148495|108.02300766501233|113.44601533002468|      5|\n",
      "|285900|76561198070887000|             165|247.2962962962963|             102.6|   77.31649241914691|0.14028074723341613|97.17699233498766|14.392804666148495|108.02300766501233|113.44601533002468|      5|\n",
      "|285900|76561198070887000|             165|247.2962962962963|             102.6|   77.31649241914691|0.14028074723341613|97.17699233498766|14.392804666148495|108.02300766501233|113.44601533002468|      5|\n",
      "+------+-----------------+----------------+-----------------+------------------+--------------------+-------------------+-----------------+------------------+------------------+------------------+-------+\n",
      "only showing top 20 rows\n",
      "\n"
     ]
    }
   ],
   "source": [
    "# Calculate the per-game mean and standard deviation of the playtime column\n",
    "game_stats = df.filter(col(\"playtime_forever\") > 0).groupBy(\"appid\").agg(\n",
    "    mean(\"playtime_forever\").alias(\"game_mean_playtime\"),\n",
    "    stddev_pop(\"playtime_forever\").alias(\"game_stddev_playtime\")\n",
    ")\n",
    "\n",
    "# Calculate the overall playtime average\n",
    "overall_playtime_avg = df.filter(col(\"playtime_forever\") > 0).agg(avg(\"playtime_forever\")).collect()[0][0]\n",
    "\n",
    "# Calculate the per-steamid playtime average\n",
    "user_playtime_avg = df.filter(col(\"playtime_forever\") > 0).groupBy(\"steamid\").agg(avg(\"playtime_forever\")).withColumnRenamed(\"avg(playtime_forever)\", \"user_playtime_avg\")\n",
    "\n",
    "# Join the user_playtime_avg dataframe with the main dataframe\n",
    "df = df.join(user_playtime_avg, \"steamid\")\n",
    "\n",
    "# Join the game_stats dataframe with the main dataframe\n",
    "df = df.join(game_stats, \"appid\")\n",
    "\n",
    "# Calculate the scaling factor based on the ratio of user playtime to overall playtime\n",
    "df = df.withColumn(\"scaling_factor\", col(\"user_playtime_avg\") / overall_playtime_avg)\n",
    "\n",
    "# Calculate the adjusted cut points\n",
    "df = df.withColumn(\"cut_point_1\", when(col(\"game_mean_playtime\") - (col(\"game_stddev_playtime\") * 0.5 * col(\"scaling_factor\")) > 0, col(\"game_mean_playtime\") - (col(\"game_stddev_playtime\") * 0.5 * col(\"scaling_factor\"))).otherwise(0))\n",
    "df = df.withColumn(\"cut_point_2\", col(\"game_mean_playtime\") * col(\"scaling_factor\"))\n",
    "df = df.withColumn(\"cut_point_3\", col(\"game_mean_playtime\") + (col(\"game_stddev_playtime\") * 0.5 * col(\"scaling_factor\")))\n",
    "df = df.withColumn(\"cut_point_4\", col(\"game_mean_playtime\") + col(\"game_stddev_playtime\") * col(\"scaling_factor\"))\n",
    "\n",
    "# Assign ratings based on adjusted cut points\n",
    "df = df.withColumn(\n",
    "    \"ratings\",\n",
    "    when(col(\"playtime_forever\") <= col(\"cut_point_1\"), lit(1))\n",
    "    .when((col(\"playtime_forever\") > col(\"cut_point_1\")) & (col(\"playtime_forever\") <= col(\"cut_point_2\")), lit(2))\n",
    "    .when((col(\"playtime_forever\") > col(\"cut_point_2\")) & (col(\"playtime_forever\") <= col(\"cut_point_3\")), lit(3))\n",
    "    .when((col(\"playtime_forever\") > col(\"cut_point_3\")) & (col(\"playtime_forever\") <= col(\"cut_point_4\")), lit(4))\n",
    "    .otherwise(lit(5))\n",
    ")\n",
    "\n",
    "# Update the user profile calculation to use the new ratings column\n",
    "user_aggregated_data = df.groupBy(\"steamid\").agg(\n",
    "    collect_list(\"genre_vector\").alias(\"genres_list\"),\n",
    "    collect_list(\"ratings\").alias(\"ratings_list\")\n",
    ")\n",
    "# Show df with new changes(without genres)\n",
    "# Drop the genre_vector and genre columns from the DataFrame\n",
    "df_without_info = df.drop(\"genre_vector\", \"genre\", \"developer_vector\", \"Developer\", \"publisher_vector\", \"Publisher\")\n",
    "\n",
    "# Show the DataFrame without the genre_vector and genre columns\n",
    "df_without_info.show()\n",
    "#df.show()"
   ]
  },
  {
   "cell_type": "markdown",
   "id": "1d091da2",
   "metadata": {},
   "source": [
    "## Create user profiles"
   ]
  },
  {
   "cell_type": "code",
   "execution_count": 7,
   "id": "97211531",
   "metadata": {},
   "outputs": [
    {
     "name": "stdout",
     "output_type": "stream",
     "text": [
      "+-----------------+---------------------+--------------------+--------------------+\n",
      "|          steamid|combined_vectors_list|        ratings_list|        user_profile|\n",
      "+-----------------+---------------------+--------------------+--------------------+\n",
      "|76561197978981000| [[0, 0, 0, 0, 0, ...|[1, 1, 1, 1, 1, 5...|[0.5641026, 0.243...|\n",
      "|76561197979519000| [[0, 0, 0, 0, 0, ...|[1, 1, 1, 1, 1, 1...|[0.6481481, 0.0, ...|\n",
      "|76561197993659000| [[0, 0, 0, 0, 0, ...|        [1, 1, 1, 1]|[0.5, 0.0, 0.0, 0...|\n",
      "|76561197996265000| [[1, 0, 0, 0, 0, ...|[1, 1, 1, 1, 1, 1...|[0.8828125, 0.179...|\n",
      "|76561198001305000| [[1, 0, 0, 0, 0, ...|[4, 4, 1, 1, 1, 1...|[0.85507244, 0.05...|\n",
      "|76561198011370000| [[1, 0, 0, 0, 0, ...|[3, 3, 5, 5, 1, 1...|[0.6875, 0.5, 0.0...|\n",
      "|76561198027827000| [[1, 0, 0, 0, 0, ...|[3, 3, 1, 1, 1, 3...|[0.5, 0.27272728,...|\n",
      "|76561198040946000| [[1, 0, 0, 0, 0, ...|  [3, 3, 3, 1, 1, 1]|[1.0, 0.0, 0.0, 0...|\n",
      "|76561198020739000| [[0, 0, 0, 1, 0, ...|[1, 1, 1, 1, 1, 1...|[0.58064514, 0.06...|\n",
      "|76561198030293000| [[0, 0, 0, 1, 0, ...|[5, 5, 5, 2, 5, 5...|[0.125, 0.0, 0.0,...|\n",
      "|76561198030540000| [[1, 1, 0, 0, 0, ...|[3, 3, 3, 2, 2, 2...|[0.7894737, 0.269...|\n",
      "|76561198039545000| [[1, 1, 0, 0, 0, ...|[1, 1, 1, 1, 1, 1...|[0.43548387, 0.45...|\n",
      "|76561198048685000| [[1, 1, 0, 0, 0, ...|[2, 2, 2, 2, 2, 5...|[0.6923077, 0.523...|\n",
      "|76561198064149000| [[1, 1, 0, 0, 0, ...|  [2, 2, 2, 2, 2, 2]|[0.6666667, 0.5, ...|\n",
      "|76561198069954000| [[1, 1, 0, 0, 0, ...|[5, 5, 5, 1, 1, 1...|[0.9315069, 0.630...|\n",
      "|76561197985268000| [[1, 0, 0, 0, 0, ...|           [1, 1, 1]|[1.0, 0.0, 0.0, 0...|\n",
      "|76561197996661000| [[1, 0, 0, 0, 0, ...|           [1, 1, 1]|[1.0, 0.0, 0.0, 0...|\n",
      "|76561197983294000| [[1, 1, 0, 0, 0, ...|[1, 1, 1, 3, 3, 3...|[0.53125, 0.4375,...|\n",
      "|76561197985399000| [[1, 1, 0, 0, 0, ...|  [1, 1, 1, 1, 1, 1]|[1.0, 0.6666667, ...|\n",
      "|76561198073488000| [[1, 1, 0, 0, 0, ...|              [3, 3]|[1.0, 1.0, 0.0, 0...|\n",
      "+-----------------+---------------------+--------------------+--------------------+\n",
      "only showing top 20 rows\n",
      "\n"
     ]
    }
   ],
   "source": [
    "# combine vectors\n",
    "\n",
    "# Define a UDF to combine the vectors\n",
    "@udf(returnType=ArrayType(IntegerType()))\n",
    "def combined_vector(genre_vector, developer_vector, publisher_vector):\n",
    "    return genre_vector + developer_vector + publisher_vector\n",
    "\n",
    "# Add 'combined_vector' to the DataFrame\n",
    "df = df.withColumn(\"combined_vector\", combined_vector(\"genre_vector\", \"developer_vector\", \"publisher_vector\"))\n",
    "\n",
    "# Update the user profile calculation to use the new ratings column and include developer and publisher vectors\n",
    "user_aggregated_data = df.groupBy(\"steamid\").agg(\n",
    "    collect_list(\"combined_vector\").alias(\"combined_vectors_list\"),  \n",
    "    collect_list(\"ratings\").alias(\"ratings_list\")\n",
    ")\n",
    "\n",
    "# Define a UDF to calculate the weighted average of genre vectors\n",
    "weighted_avg_features_udf = udf(weighted_avg_features, ArrayType(FloatType()))\n",
    "\n",
    "# Calculate the user profile as the weighted average of rated item profiles (combined genre, developer, and publisher vectors)\n",
    "user_profiles = user_aggregated_data.withColumn(\"user_profile\", weighted_avg_features_udf(\"ratings_list\", \"combined_vectors_list\"))\n",
    "\n",
    "user_profiles.show()"
   ]
  },
  {
   "cell_type": "code",
   "execution_count": 8,
   "id": "a1419619",
   "metadata": {},
   "outputs": [],
   "source": [
    "# Select a steam id and create a list of games that user has already played"
   ]
  },
  {
   "cell_type": "code",
   "execution_count": 9,
   "id": "acdcd0be",
   "metadata": {},
   "outputs": [],
   "source": [
    "# Filter user_profiles for steam_id \"76561197960421000\"\n",
    "user_profiles = user_profiles.filter(user_profiles.steamid == '76561198013540000')\n",
    "# filter for games with playtime\n",
    "played_games = df.filter(df.steamid == '76561198013540000').select(\"appid\", \"ratings\").distinct()"
   ]
  },
  {
   "cell_type": "markdown",
   "id": "d6a4ab37",
   "metadata": {},
   "source": [
    "## Compute the cosine similarity between user and item profiles"
   ]
  },
  {
   "cell_type": "code",
   "execution_count": 10,
   "id": "d70bbca6",
   "metadata": {},
   "outputs": [
    {
     "name": "stdout",
     "output_type": "stream",
     "text": [
      "+------+--------------------+-----------------+---------------------+--------------------+--------------------+----------+\n",
      "| appid|     combined_vector|          steamid|combined_vectors_list|        ratings_list|        user_profile|similarity|\n",
      "+------+--------------------+-----------------+---------------------+--------------------+--------------------+----------+\n",
      "| 23600|[0, 0, 0, 0, 0, 0...|76561198013540000| [[0, 0, 0, 0, 0, ...|[5, 5, 1, 1, 1, 1...|[0.28181818, 0.09...| 0.6995842|\n",
      "| 29800|[1, 1, 0, 1, 0, 0...|76561198013540000| [[0, 0, 0, 0, 0, ...|[5, 5, 1, 1, 1, 1...|[0.28181818, 0.09...|0.65932465|\n",
      "|235400|[0, 1, 0, 0, 0, 0...|76561198013540000| [[0, 0, 0, 0, 0, ...|[5, 5, 1, 1, 1, 1...|[0.28181818, 0.09...|0.65115124|\n",
      "|107200|[1, 0, 0, 0, 0, 0...|76561198013540000| [[0, 0, 0, 0, 0, ...|[5, 5, 1, 1, 1, 1...|[0.28181818, 0.09...|  0.641776|\n",
      "| 65800|[1, 0, 0, 0, 0, 0...|76561198013540000| [[0, 0, 0, 0, 0, ...|[5, 5, 1, 1, 1, 1...|[0.28181818, 0.09...|  0.641776|\n",
      "|233700|[0, 0, 0, 1, 0, 0...|76561198013540000| [[0, 0, 0, 0, 0, ...|[5, 5, 1, 1, 1, 1...|[0.28181818, 0.09...|0.63233817|\n",
      "|254200|[0, 1, 0, 1, 0, 0...|76561198013540000| [[0, 0, 0, 0, 0, ...|[5, 5, 1, 1, 1, 1...|[0.28181818, 0.09...| 0.6293554|\n",
      "|208400|[0, 0, 0, 0, 0, 0...|76561198013540000| [[0, 0, 0, 0, 0, ...|[5, 5, 1, 1, 1, 1...|[0.28181818, 0.09...| 0.6237672|\n",
      "|201000|[0, 0, 0, 0, 0, 0...|76561198013540000| [[0, 0, 0, 0, 0, ...|[5, 5, 1, 1, 1, 1...|[0.28181818, 0.09...| 0.6237672|\n",
      "|286200|[0, 1, 0, 1, 0, 0...|76561198013540000| [[0, 0, 0, 0, 0, ...|[5, 5, 1, 1, 1, 1...|[0.28181818, 0.09...| 0.6145573|\n",
      "+------+--------------------+-----------------+---------------------+--------------------+--------------------+----------+\n",
      "only showing top 10 rows\n",
      "\n"
     ]
    }
   ],
   "source": [
    "# prediction heuristics\n",
    "# calculate cosine distance of an item and user profile\n",
    "\n",
    "# 1. create udf for cosine similarity\n",
    "cosine_similarity = udf(cosine_similarity_udf, FloatType())\n",
    "\n",
    "# create dataframe with combined vectors\n",
    "games_combined_vectors_df = df.select(\"appid\", \"combined_vector\").distinct()\n",
    "\n",
    "# exclude the games played from games_combined\n",
    "#games_combined_vectors_df = games_combined_vectors_df.join(played_games, \"appid\", how=\"left_anti\")\n",
    "\n",
    "# limit the number of rows for testing\n",
    "#games_combined_vectors_df = games_combined_vectors_df.limit(20)\n",
    "user_profiles = user_profiles.limit(1)\n",
    "\n",
    "# cross join the the combined vectors with the user_profiles\n",
    "cross_joined = games_combined_vectors_df.crossJoin(user_profiles)\n",
    "\n",
    "# calculate the cosine similarity between each item and user\n",
    "recommendations = cross_joined.withColumn(\n",
    "    \"similarity\", cosine_similarity(\"combined_vector\", \"user_profile\")\n",
    ")\n",
    "\n",
    "# sort based on similarity score\n",
    "sorted_recommendations = recommendations.sort(desc(\"similarity\"))\n",
    "\n",
    "sorted_recommendations.show(10)"
   ]
  },
  {
   "cell_type": "markdown",
   "id": "76ff5337",
   "metadata": {},
   "source": [
    "## Recommend the user's 10 top similar games"
   ]
  },
  {
   "cell_type": "code",
   "execution_count": 11,
   "id": "225f173a",
   "metadata": {},
   "outputs": [
    {
     "name": "stdout",
     "output_type": "stream",
     "text": [
      "+------+--------------------+-----------------+---------------------+--------------------+--------------------+----------+----+\n",
      "| appid|     combined_vector|          steamid|combined_vectors_list|        ratings_list|        user_profile|similarity|rank|\n",
      "+------+--------------------+-----------------+---------------------+--------------------+--------------------+----------+----+\n",
      "| 23600|[0, 0, 0, 0, 0, 0...|76561198013540000| [[0, 0, 0, 0, 0, ...|[5, 5, 1, 1, 1, 1...|[0.28181818, 0.09...| 0.6995842|   1|\n",
      "| 29800|[1, 1, 0, 1, 0, 0...|76561198013540000| [[0, 0, 0, 0, 0, ...|[5, 5, 1, 1, 1, 1...|[0.28181818, 0.09...|0.65932465|   2|\n",
      "|235400|[0, 1, 0, 0, 0, 0...|76561198013540000| [[0, 0, 0, 0, 0, ...|[5, 5, 1, 1, 1, 1...|[0.28181818, 0.09...|0.65115124|   3|\n",
      "|107200|[1, 0, 0, 0, 0, 0...|76561198013540000| [[0, 0, 0, 0, 0, ...|[5, 5, 1, 1, 1, 1...|[0.28181818, 0.09...|  0.641776|   4|\n",
      "| 65800|[1, 0, 0, 0, 0, 0...|76561198013540000| [[0, 0, 0, 0, 0, ...|[5, 5, 1, 1, 1, 1...|[0.28181818, 0.09...|  0.641776|   5|\n",
      "|233700|[0, 0, 0, 1, 0, 0...|76561198013540000| [[0, 0, 0, 0, 0, ...|[5, 5, 1, 1, 1, 1...|[0.28181818, 0.09...|0.63233817|   6|\n",
      "|254200|[0, 1, 0, 1, 0, 0...|76561198013540000| [[0, 0, 0, 0, 0, ...|[5, 5, 1, 1, 1, 1...|[0.28181818, 0.09...| 0.6293554|   7|\n",
      "|208400|[0, 0, 0, 0, 0, 0...|76561198013540000| [[0, 0, 0, 0, 0, ...|[5, 5, 1, 1, 1, 1...|[0.28181818, 0.09...| 0.6237672|   8|\n",
      "|201000|[0, 0, 0, 0, 0, 0...|76561198013540000| [[0, 0, 0, 0, 0, ...|[5, 5, 1, 1, 1, 1...|[0.28181818, 0.09...| 0.6237672|   9|\n",
      "|286200|[0, 1, 0, 1, 0, 0...|76561198013540000| [[0, 0, 0, 0, 0, ...|[5, 5, 1, 1, 1, 1...|[0.28181818, 0.09...| 0.6145573|  10|\n",
      "+------+--------------------+-----------------+---------------------+--------------------+--------------------+----------+----+\n",
      "\n"
     ]
    }
   ],
   "source": [
    "# Create a window by steamid and similarity to get ranking\n",
    "window_spec = Window.partitionBy(\"steamid\").orderBy(desc(\"similarity\"))\n",
    "\n",
    "ranked_recommendations = sorted_recommendations.withColumn(\"rank\", F.row_number().over(window_spec))\n",
    "\n",
    "top_10_recommendations = ranked_recommendations.filter(ranked_recommendations.rank <= 10)\n",
    "top_10_recommendations.show()"
   ]
  },
  {
   "cell_type": "markdown",
   "id": "984fc67f",
   "metadata": {},
   "source": [
    "## Evaluation for steamid 76561198013540000's top 10 games"
   ]
  },
  {
   "cell_type": "code",
   "execution_count": 13,
   "id": "d135bcc0",
   "metadata": {},
   "outputs": [
    {
     "name": "stdout",
     "output_type": "stream",
     "text": [
      "+------+-------+\n",
      "| appid|ratings|\n",
      "+------+-------+\n",
      "| 70400|      5|\n",
      "| 80200|      5|\n",
      "| 21800|      5|\n",
      "|202200|      5|\n",
      "| 23600|      5|\n",
      "| 40300|      4|\n",
      "| 21600|      4|\n",
      "|224600|      3|\n",
      "|112100|      2|\n",
      "|  9900|      2|\n",
      "| 47700|      2|\n",
      "|109600|      2|\n",
      "|102500|      1|\n",
      "|  9200|      1|\n",
      "+------+-------+\n",
      "\n"
     ]
    }
   ],
   "source": [
    "user_top_rated_games = played_games.orderBy(desc('ratings'))\n",
    "user_top_rated_games.show()"
   ]
  },
  {
   "cell_type": "code",
   "execution_count": 15,
   "id": "142d96b0",
   "metadata": {},
   "outputs": [
    {
     "name": "stdout",
     "output_type": "stream",
     "text": [
      "Precision: 10.00%\n"
     ]
    }
   ],
   "source": [
    "print(f'Precision: {\"{:.2%}\".format(top_10_recommendations.join(user_top_rated_games, \"appid\").count() / 10)}')"
   ]
  }
 ],
 "metadata": {
  "kernelspec": {
   "display_name": "Python 3 (ipykernel)",
   "language": "python",
   "name": "python3"
  },
  "language_info": {
   "codemirror_mode": {
    "name": "ipython",
    "version": 3
   },
   "file_extension": ".py",
   "mimetype": "text/x-python",
   "name": "python",
   "nbconvert_exporter": "python",
   "pygments_lexer": "ipython3",
   "version": "3.10.9"
  }
 },
 "nbformat": 4,
 "nbformat_minor": 5
}
