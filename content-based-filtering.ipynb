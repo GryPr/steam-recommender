{
 "cells": [
  {
   "cell_type": "markdown",
   "id": "d2deb7e9",
   "metadata": {},
   "source": [
    "# Content-based filtering model"
   ]
  },
  {
   "cell_type": "code",
   "execution_count": 1,
   "id": "f301e724",
   "metadata": {},
   "outputs": [],
   "source": [
    "# imports\n",
    "from pyspark.sql import SparkSession\n",
    "from pyspark.rdd import RDD\n",
    "from pyspark.sql import Row\n",
    "from pyspark.sql import DataFrame\n",
    "from pyspark.sql.window import Window #for ranking\n",
    "from pyspark.sql.functions import lit, mean, stddev_pop\n",
    "from pyspark.sql.functions import collect_set, collect_list\n",
    "from pyspark.sql.functions import struct\n",
    "from pyspark.sql.functions import slice\n",
    "from pyspark.sql.functions import col\n",
    "from pyspark.sql.functions import desc\n",
    "from pyspark.sql.functions import udf\n",
    "from pyspark.ml.evaluation import RegressionEvaluator\n",
    "from pyspark.ml.recommendation import ALS\n",
    "from pyspark.sql.types import DecimalType, ArrayType, IntegerType, FloatType\n",
    "import pyspark.sql.functions as F\n",
    "from pyspark.sql.functions import avg, broadcast, when, rand"
   ]
  },
  {
   "cell_type": "markdown",
   "id": "f3507121",
   "metadata": {},
   "source": [
    "## Overview\n",
    "1. Load dataset.\n",
    "2. Create item profiles for each game using genre, developer and publisher.\n",
    "3. For each user-game pair, normalize playtime into a 1-5 rating scale.\n",
    "4. Create user profiles by computing a weighted average of item profiles and ratings of previously played games.\n",
    "5. Given a user, compute the cosine similarity between the user's profile and each (unplayed) game's item profile.\n",
    "6. Recommend the user's 10 top similar games."
   ]
  },
  {
   "cell_type": "markdown",
   "id": "7de79e64",
   "metadata": {},
   "source": [
    "### Define cosine similarity and weighted average functions"
   ]
  },
  {
   "cell_type": "code",
   "execution_count": 2,
   "id": "6a10972c",
   "metadata": {},
   "outputs": [],
   "source": [
    "# cosine similarity function\n",
    "def cosine_similarity_udf(a, b):\n",
    "    dot_product = sum([x * y for x, y in zip(a, b)])\n",
    "    norm_a = sum([x**2 for x in a])**0.5\n",
    "    norm_b = sum([x**2 for x in b])**0.5\n",
    "    return dot_product / (norm_a * norm_b)\n",
    "\n",
    "\n",
    "def weighted_avg_features(ratings, combined_vectors):\n",
    "    if not ratings or not combined_vectors:\n",
    "        return []\n",
    "\n",
    "    weighted_sum = [0] * len(combined_vectors[0])\n",
    "    total_weight = 0\n",
    "\n",
    "    for rating, combined_vector in zip(ratings, combined_vectors):\n",
    "        weight = float(rating)\n",
    "        total_weight += weight\n",
    "        weighted_sum = [ws + weight * f for ws, f in zip(weighted_sum, combined_vector)]\n",
    "\n",
    "    if total_weight == 0:\n",
    "        return weighted_sum\n",
    "\n",
    "    return [ws / total_weight for ws in weighted_sum]"
   ]
  },
  {
   "cell_type": "markdown",
   "id": "5a51592b",
   "metadata": {},
   "source": [
    "## Load Dataset"
   ]
  },
  {
   "cell_type": "code",
   "execution_count": 3,
   "id": "bb3c729c",
   "metadata": {},
   "outputs": [
    {
     "name": "stdout",
     "output_type": "stream",
     "text": [
      "23/04/12 12:57:16 WARN Utils: Your hostname, pop-os resolves to a loopback address: 127.0.1.1; using 192.168.122.1 instead (on interface virbr0)\n",
      "23/04/12 12:57:16 WARN Utils: Set SPARK_LOCAL_IP if you need to bind to another address\n"
     ]
    },
    {
     "name": "stderr",
     "output_type": "stream",
     "text": [
      "Setting default log level to \"WARN\".\n",
      "To adjust logging level use sc.setLogLevel(newLevel). For SparkR, use setLogLevel(newLevel).\n"
     ]
    },
    {
     "name": "stdout",
     "output_type": "stream",
     "text": [
      "23/04/12 12:57:16 WARN NativeCodeLoader: Unable to load native-hadoop library for your platform... using builtin-java classes where applicable\n",
      "23/04/12 12:57:17 WARN Utils: Service 'SparkUI' could not bind on port 4040. Attempting port 4041.\n"
     ]
    }
   ],
   "source": [
    "# spark = SparkSession.builder.appName('ReadMySQL') \\\n",
    "# .config(\"spark.driver.memory\", \"32g\") \\\n",
    "# .config(\"spark.sql.pivotMaxValues\", \"1000000\") \\\n",
    "# .config(\"spark.jars\", \"C:\\\\Program Files (x86)\\\\MySQL\\\\Connector J 8.0\\\\mysql-connector-j-8.0.32.jar\") \\\n",
    "# .getOrCreate()\n",
    "\n",
    "spark = SparkSession.builder.appName('ReadMySQL') \\\n",
    ".config(\"spark.driver.memory\", \"32g\") \\\n",
    ".config(\"spark.sql.pivotMaxValues\", \"1000000\") \\\n",
    ".getOrCreate()\n",
    "\n",
    "\n",
    "# sql = \"select * from 01_sampled_games_2v2 WHERE playtime_forever IS NOT NULL AND playtime_forever > 0\"\n",
    "sql = sql = \"\"\"\n",
    "SELECT p.steamid, p.appid, p.playtime_2weeks, p.playtime_forever, p.dateretrieved, g.genre, d.Developer, pb.Publisher\n",
    "FROM 01_sampled_games_2v2 AS p\n",
    "JOIN Games_Genres AS g ON p.appid = g.appid\n",
    "JOIN Games_Developers AS d ON p.appid = d.appid\n",
    "JOIN Games_Publishers AS pb ON p.appid = pb.appid\n",
    "WHERE p.playtime_forever IS NOT NULL AND p.playtime_forever > 0\n",
    "\"\"\"\n",
    "# database = \"steam\"\n",
    "# user = \"root\"\n",
    "# password = \"root\"\n",
    "# server = \"127.0.0.1\"\n",
    "# port = 3307\n",
    "# jdbc_url = f\"jdbc:mysql://{server}:{port}/{database}\"\n",
    "# jdbc_driver = \"com.mysql.cj.jdbc.Driver\"\n",
    "\n",
    "# # Create a data frame by reading data from Oracle via JDBC\n",
    "# df = spark.read.format(\"jdbc\") \\\n",
    "#     .option(\"url\", jdbc_url) \\\n",
    "#     .option(\"query\", sql) \\\n",
    "#     .option(\"user\", user) \\\n",
    "#     .option(\"password\", password) \\\n",
    "#     .option(\"driver\", jdbc_driver) \\\n",
    "#     .load()\n",
    "\n",
    "# df = df.drop(\"playtime_2weeks\", \"dateretrieved\")\n",
    "\n",
    "database = \"steam\"\n",
    "user = \"root\"\n",
    "password = \"example\"\n",
    "server = \"192.168.2.62\"\n",
    "port = 3306\n",
    "jdbc_url = f\"jdbc:mysql://{server}:{port}/{database}?permitMysqlScheme\"\n",
    "jdbc_driver = \"org.mariadb.jdbc.Driver\"\n",
    "\n",
    "# Create a data frame by reading data from Oracle via JDBC\n",
    "df = spark.read.format(\"jdbc\") \\\n",
    "    .option(\"url\", jdbc_url) \\\n",
    "    .option(\"query\", sql) \\\n",
    "    .option(\"user\", user) \\\n",
    "    .option(\"password\", password) \\\n",
    "    .option(\"driver\", jdbc_driver) \\\n",
    "    .load()\n",
    "\n",
    "df = df.drop(\"playtime_2weeks\", \"dateretrieved\")"
   ]
  },
  {
   "cell_type": "code",
   "execution_count": 4,
   "id": "da0d1a81",
   "metadata": {},
   "outputs": [
    {
     "name": "stderr",
     "output_type": "stream",
     "text": [
      "                                                                                \r"
     ]
    },
    {
     "name": "stdout",
     "output_type": "stream",
     "text": [
      "Dataframe has 212589  rows.\n",
      "+-----------------+-----+----------------+----------+--------------------+--------------------+\n",
      "|          steamid|appid|playtime_forever|     genre|           Developer|           Publisher|\n",
      "+-----------------+-----+----------------+----------+--------------------+--------------------+\n",
      "|76561197960268000|  300|             109|    Action|               Valve|               Valve|\n",
      "|76561197960268000| 1300|              94|    Action|Ritual Entertainment|Ritual Entertainment|\n",
      "|76561197960268000| 2100|             110|    Action|      Arkane Studios|             Ubisoft|\n",
      "|76561197960268000| 2100|             110|       RPG|      Arkane Studios|             Ubisoft|\n",
      "|76561197960268000| 4000|             152|     Indie|   Facepunch Studios|               Valve|\n",
      "|76561197960268000| 4000|             152|Simulation|   Facepunch Studios|               Valve|\n",
      "|76561197960268000| 2600|              59|    Action|        Troika Games|          Activision|\n",
      "|76561197960268000| 9000|               2|    Action|         id Software|         id Software|\n",
      "|76561197960268000| 2300|              40|    Action|         id Software|         id Software|\n",
      "|76561197960268000| 2200|             210|    Action|         id Software|         id Software|\n",
      "|76561197960268000| 4500|            1002|    Action|      GSC Game World|      GSC Game World|\n",
      "|76561197960268000| 4500|            1002|       RPG|      GSC Game World|      GSC Game World|\n",
      "|76561197960268000|  400|             380|    Action|               Valve|               Valve|\n",
      "|76561197960268000|17300|            4312|    Action|              Crytek|     Electronic Arts|\n",
      "|76561197960268000|  500|             198|    Action|               Valve|               Valve|\n",
      "|76561197960268000|22300|             425|       RPG|Bethesda Game Stu...|  Bethesda Softworks|\n",
      "|76561197960268000|19900|             111|    Action|    Ubisoft Montreal|             Ubisoft|\n",
      "|76561197960268000|18500|            1160|     Indie|Hidden Path Enter...|Hidden Path Enter...|\n",
      "|76561197960268000|18500|            1160|  Strategy|Hidden Path Enter...|Hidden Path Enter...|\n",
      "|76561197960268000|22200|              20|    Action|            ACE Team|            ACE Team|\n",
      "+-----------------+-----+----------------+----------+--------------------+--------------------+\n",
      "only showing top 20 rows\n",
      "\n"
     ]
    }
   ],
   "source": [
    "# count number of rows in the dataframe\n",
    "row_count = df.count()\n",
    "# print the row count\n",
    "print(\"Dataframe has\", row_count, \" rows.\")\n",
    "df.show()"
   ]
  },
  {
   "cell_type": "markdown",
   "id": "e53d5692",
   "metadata": {},
   "source": [
    "## Create item profiles"
   ]
  },
  {
   "cell_type": "code",
   "execution_count": 5,
   "id": "9bb761a1",
   "metadata": {},
   "outputs": [
    {
     "name": "stderr",
     "output_type": "stream",
     "text": [
      "                                                                                \r"
     ]
    },
    {
     "name": "stdout",
     "output_type": "stream",
     "text": [
      "+-----+-----------------+----------------+----------+--------------------+--------------------+--------------------+--------------------+--------------------+\n",
      "|appid|          steamid|playtime_forever|     genre|           Developer|           Publisher|        genre_vector|    developer_vector|    publisher_vector|\n",
      "+-----+-----------------+----------------+----------+--------------------+--------------------+--------------------+--------------------+--------------------+\n",
      "|  300|76561197960268000|             109|    Action|               Valve|               Valve|[1, 0, 0, 0, 0, 0...|[0, 0, 0, 0, 0, 0...|[0, 0, 0, 0, 0, 0...|\n",
      "| 1300|76561197960268000|              94|    Action|Ritual Entertainment|Ritual Entertainment|[1, 0, 0, 0, 0, 0...|[0, 0, 0, 0, 0, 0...|[0, 0, 0, 0, 0, 0...|\n",
      "| 2100|76561197960268000|             110|    Action|      Arkane Studios|             Ubisoft|[1, 0, 0, 0, 0, 0...|[0, 0, 0, 0, 0, 0...|[0, 0, 0, 0, 0, 0...|\n",
      "| 2100|76561197960268000|             110|       RPG|      Arkane Studios|             Ubisoft|[1, 0, 0, 0, 0, 0...|[0, 0, 0, 0, 0, 0...|[0, 0, 0, 0, 0, 0...|\n",
      "| 4000|76561197960268000|             152|     Indie|   Facepunch Studios|               Valve|[0, 0, 0, 0, 0, 0...|[0, 0, 0, 0, 0, 0...|[0, 0, 0, 0, 0, 0...|\n",
      "| 4000|76561197960268000|             152|Simulation|   Facepunch Studios|               Valve|[0, 0, 0, 0, 0, 0...|[0, 0, 0, 0, 0, 0...|[0, 0, 0, 0, 0, 0...|\n",
      "| 2600|76561197960268000|              59|    Action|        Troika Games|          Activision|[1, 0, 0, 0, 0, 0...|[0, 0, 0, 0, 0, 0...|[0, 0, 0, 0, 0, 0...|\n",
      "| 9000|76561197960268000|               2|    Action|         id Software|         id Software|[1, 0, 0, 0, 0, 0...|[0, 0, 0, 0, 0, 0...|[0, 0, 0, 0, 0, 0...|\n",
      "| 2300|76561197960268000|              40|    Action|         id Software|         id Software|[1, 0, 0, 0, 0, 0...|[0, 0, 0, 0, 0, 0...|[0, 0, 0, 0, 0, 0...|\n",
      "| 2200|76561197960268000|             210|    Action|         id Software|         id Software|[1, 0, 0, 0, 0, 0...|[0, 0, 0, 0, 0, 0...|[0, 0, 0, 0, 0, 0...|\n",
      "| 4500|76561197960268000|            1002|    Action|      GSC Game World|      GSC Game World|[1, 0, 0, 0, 0, 0...|[0, 0, 0, 0, 0, 0...|[0, 0, 0, 0, 0, 0...|\n",
      "| 4500|76561197960268000|            1002|       RPG|      GSC Game World|      GSC Game World|[1, 0, 0, 0, 0, 0...|[0, 0, 0, 0, 0, 0...|[0, 0, 0, 0, 0, 0...|\n",
      "|  400|76561197960268000|             380|    Action|               Valve|               Valve|[1, 0, 0, 0, 0, 0...|[0, 0, 0, 0, 0, 0...|[0, 0, 0, 0, 0, 0...|\n",
      "|17300|76561197960268000|            4312|    Action|              Crytek|     Electronic Arts|[1, 0, 0, 0, 0, 0...|[0, 0, 0, 0, 0, 0...|[0, 0, 0, 0, 0, 0...|\n",
      "|  500|76561197960268000|             198|    Action|               Valve|               Valve|[1, 0, 0, 0, 0, 0...|[0, 0, 0, 0, 0, 0...|[0, 0, 0, 0, 0, 0...|\n",
      "|22300|76561197960268000|             425|       RPG|Bethesda Game Stu...|  Bethesda Softworks|[0, 0, 0, 0, 0, 0...|[0, 0, 0, 0, 0, 0...|[0, 0, 0, 0, 0, 0...|\n",
      "|19900|76561197960268000|             111|    Action|    Ubisoft Montreal|             Ubisoft|[1, 0, 0, 0, 0, 0...|[0, 0, 0, 0, 0, 0...|[0, 0, 0, 0, 0, 0...|\n",
      "|18500|76561197960268000|            1160|     Indie|Hidden Path Enter...|Hidden Path Enter...|[0, 0, 0, 0, 0, 0...|[0, 0, 0, 0, 0, 0...|[0, 0, 0, 0, 0, 0...|\n",
      "|18500|76561197960268000|            1160|  Strategy|Hidden Path Enter...|Hidden Path Enter...|[0, 0, 0, 0, 0, 0...|[0, 0, 0, 0, 0, 0...|[0, 0, 0, 0, 0, 0...|\n",
      "|22200|76561197960268000|              20|    Action|            ACE Team|            ACE Team|[1, 0, 0, 0, 0, 0...|[0, 0, 0, 0, 0, 0...|[0, 0, 0, 0, 0, 0...|\n",
      "+-----+-----------------+----------------+----------+--------------------+--------------------+--------------------+--------------------+--------------------+\n",
      "only showing top 20 rows\n",
      "\n"
     ]
    },
    {
     "name": "stderr",
     "output_type": "stream",
     "text": [
      "                                                                                \r"
     ]
    }
   ],
   "source": [
    "# build the item profiles\n",
    "# Group the data by 'appid' and collect the genres for each game into a list\n",
    "games_genres_df = df.groupBy(\"appid\").agg(collect_set(\"genre\").alias(\"genres\"))\n",
    "# Group the data by 'appid' and collect the developers for each game into a list\n",
    "games_developers_df = df.groupBy(\"appid\").agg(collect_set(\"Developer\").alias(\"developers\"))\n",
    "# Group the data by 'appid' and collect the publishers for each game into a list\n",
    "games_publishers_df = df.groupBy(\"appid\").agg(collect_set(\"Publisher\").alias(\"publishers\"))\n",
    "\n",
    "# Create a list of unique genres\n",
    "unique_genres = sorted(df.select(\"genre\").distinct().rdd.flatMap(lambda x: x).collect())\n",
    "# Create a list of unique developers\n",
    "unique_developers = sorted(df.select(\"Developer\").distinct().rdd.flatMap(lambda x: x).collect())\n",
    "# Create a list of unique publishers\n",
    "unique_publishers = sorted(df.select(\"Publisher\").distinct().rdd.flatMap(lambda x: x).collect())\n",
    "\n",
    "\n",
    "# Define a UDF to create a binary vector for each game's genres\n",
    "@udf(returnType=ArrayType(IntegerType()))\n",
    "def genre_vector(genres):\n",
    "    return [1 if genre in genres else 0 for genre in unique_genres]\n",
    "\n",
    "# Define a UDF to create a binary vector for each game's developer\n",
    "@udf(returnType=ArrayType(IntegerType()))\n",
    "def developer_vector(developers):\n",
    "    return [1 if developer in developers else 0 for developer in unique_developers]\n",
    "\n",
    "# Define a UDF to create a binary vector for each game's publisher\n",
    "@udf(returnType=ArrayType(IntegerType()))\n",
    "def publisher_vector(publishers):\n",
    "    return [1 if publisher in publishers else 0 for publisher in unique_publishers]\n",
    "\n",
    "\n",
    "# Add a new column 'genre_vector' to the DataFrame\n",
    "# the genre vector will now have a 1 for each genre that the game belongs to\n",
    "games_genres_df = games_genres_df.withColumn(\"genre_vector\", genre_vector(\"genres\"))\n",
    "# Add a new column 'developer_vector' to the DataFrame\n",
    "games_developers_df = games_developers_df.withColumn(\"developer_vector\", developer_vector(\"developers\"))\n",
    "# Add a new column 'publisher_vector' to the DataFrame\n",
    "games_publishers_df = games_publishers_df.withColumn(\"publisher_vector\", publisher_vector(\"publishers\"))\n",
    "\n",
    "# games_genres_df.show(truncate=False)\n",
    "# Join the main DataFrame with the games_genres_df on appid to include the genre_vector\n",
    "df = df.join(broadcast(games_genres_df.select(\"appid\", \"genre_vector\")), on=\"appid\")\n",
    "# Join the main DataFrame with the games_developers_df\n",
    "df = df.join(broadcast(games_developers_df.select(\"appid\", \"developer_vector\")), on=\"appid\")\n",
    "# Join the main DataFrame with the games_publishers_df\n",
    "df = df.join(broadcast(games_publishers_df.select(\"appid\", \"publisher_vector\")), on=\"appid\")\n",
    "\n",
    "df.show()"
   ]
  },
  {
   "cell_type": "markdown",
   "id": "c1345b29",
   "metadata": {},
   "source": [
    "## Per-Game 1-5 Rating Normalization\n",
    "For each game, we calculate the mean and standard deviation. We then create buckets for each rating:\n",
    "### Scaling factor\n",
    "The cut points are scaled on a per-user basis since some users are more casual gamers while others may spend a lot more time gaming. The scaling factor is calculated as follows:\n",
    "\n",
    "(user_playtime_average)/(global_playtime_average)\n",
    "\n",
    "### Cut points\n",
    "* Cut point 1: (mean - std_dev*0.5) * scaling_factor if > 0, else 0\n",
    "* Cut point 2: mean\n",
    "* Cut point 3: (mean + std_dev*0.5) * scaling_factor\n",
    "* Cut point 4: (mean + std_dev) * scaling_factor\n",
    "### Ratings\n",
    "* Rating 1: 0 < x < cut point 1\n",
    "* Rating 2: cut point 1 < x < cut point 2\n",
    "* Rating 3: cut point 2 < x < cut point 3\n",
    "* Rating 4: cut point 3 < x < cut point 4\n",
    "* Rating 5: cut point 5 < x < inf\n"
   ]
  },
  {
   "cell_type": "code",
   "execution_count": 6,
   "id": "8c3bde4d",
   "metadata": {
    "scrolled": false
   },
   "outputs": [],
   "source": [
    "# # Calculate the per-game mean and standard deviation of the playtime column\n",
    "# game_stats = df.filter(col(\"playtime_forever\") > 0).groupBy(\"appid\").agg(\n",
    "#     mean(\"playtime_forever\").alias(\"game_mean_playtime\"),\n",
    "#     stddev_pop(\"playtime_forever\").alias(\"game_stddev_playtime\")\n",
    "# )\n",
    "\n",
    "# # Calculate the overall playtime average\n",
    "# overall_playtime_avg = df.filter(col(\"playtime_forever\") > 0).agg(avg(\"playtime_forever\")).collect()[0][0]\n",
    "\n",
    "# # Calculate the per-steamid playtime average\n",
    "# user_playtime_avg = df.filter(col(\"playtime_forever\") > 0).groupBy(\"steamid\").agg(avg(\"playtime_forever\")).withColumnRenamed(\"avg(playtime_forever)\", \"user_playtime_avg\")\n",
    "\n",
    "# # Join the user_playtime_avg dataframe with the main dataframe\n",
    "# df = df.join(user_playtime_avg, \"steamid\")\n",
    "\n",
    "# # Join the game_stats dataframe with the main dataframe\n",
    "# df = df.join(game_stats, \"appid\")\n",
    "\n",
    "# # Calculate the scaling factor based on the ratio of user playtime to overall playtime\n",
    "# df = df.withColumn(\"scaling_factor\", col(\"user_playtime_avg\") / overall_playtime_avg)\n",
    "\n",
    "# # Calculate the adjusted cut points\n",
    "# df = df.withColumn(\"cut_point_1\", when(col(\"game_mean_playtime\") - (col(\"game_stddev_playtime\") * 0.5 * col(\"scaling_factor\")) > 0, col(\"game_mean_playtime\") - (col(\"game_stddev_playtime\") * 0.5 * col(\"scaling_factor\"))).otherwise(0))\n",
    "# df = df.withColumn(\"cut_point_2\", col(\"game_mean_playtime\") * col(\"scaling_factor\"))\n",
    "# df = df.withColumn(\"cut_point_3\", col(\"game_mean_playtime\") + (col(\"game_stddev_playtime\") * 0.5 * col(\"scaling_factor\")))\n",
    "# df = df.withColumn(\"cut_point_4\", col(\"game_mean_playtime\") + col(\"game_stddev_playtime\") * col(\"scaling_factor\"))\n",
    "\n",
    "# # Assign ratings based on adjusted cut points\n",
    "# df = df.withColumn(\n",
    "#     \"ratings\",\n",
    "#     when(col(\"playtime_forever\") <= col(\"cut_point_1\"), lit(1))\n",
    "#     .when((col(\"playtime_forever\") > col(\"cut_point_1\")) & (col(\"playtime_forever\") <= col(\"cut_point_2\")), lit(2))\n",
    "#     .when((col(\"playtime_forever\") > col(\"cut_point_2\")) & (col(\"playtime_forever\") <= col(\"cut_point_3\")), lit(3))\n",
    "#     .when((col(\"playtime_forever\") > col(\"cut_point_3\")) & (col(\"playtime_forever\") <= col(\"cut_point_4\")), lit(4))\n",
    "#     .otherwise(lit(5))\n",
    "# )\n",
    "\n",
    "# # Update the user profile calculation to use the new ratings column\n",
    "# user_aggregated_data = df.groupBy(\"steamid\").agg(\n",
    "#     collect_list(\"genre_vector\").alias(\"genres_list\"),\n",
    "#     collect_list(\"ratings\").alias(\"ratings_list\")\n",
    "# )\n",
    "# # Show df with new changes(without genres)\n",
    "# # Drop the genre_vector and genre columns from the DataFrame\n",
    "# df_without_info = df.drop(\"genre_vector\", \"genre\", \"developer_vector\", \"Developer\", \"publisher_vector\", \"Publisher\")\n",
    "\n",
    "# # Show the DataFrame without the genre_vector and genre columns\n",
    "# df_without_info.show()\n",
    "# #df.show()"
   ]
  },
  {
   "cell_type": "code",
   "execution_count": 7,
   "id": "4c8d1b00",
   "metadata": {},
   "outputs": [
    {
     "name": "stderr",
     "output_type": "stream",
     "text": [
      "                                                                                \r"
     ]
    },
    {
     "name": "stdout",
     "output_type": "stream",
     "text": [
      "+-----+-----------------+----------------+----------+--------------------+--------------------+--------------------+--------------------+--------------------+-------+\n",
      "|appid|          steamid|playtime_forever|     genre|           Developer|           Publisher|        genre_vector|    developer_vector|    publisher_vector|ratings|\n",
      "+-----+-----------------+----------------+----------+--------------------+--------------------+--------------------+--------------------+--------------------+-------+\n",
      "|  300|76561197960268000|             109|    Action|               Valve|               Valve|[1, 0, 0, 0, 0, 0...|[0, 0, 0, 0, 0, 0...|[0, 0, 0, 0, 0, 0...|      3|\n",
      "| 1300|76561197960268000|              94|    Action|Ritual Entertainment|Ritual Entertainment|[1, 0, 0, 0, 0, 0...|[0, 0, 0, 0, 0, 0...|[0, 0, 0, 0, 0, 0...|      2|\n",
      "| 2100|76561197960268000|             110|    Action|      Arkane Studios|             Ubisoft|[1, 0, 0, 0, 0, 0...|[0, 0, 0, 0, 0, 0...|[0, 0, 0, 0, 0, 0...|      3|\n",
      "| 2100|76561197960268000|             110|       RPG|      Arkane Studios|             Ubisoft|[1, 0, 0, 0, 0, 0...|[0, 0, 0, 0, 0, 0...|[0, 0, 0, 0, 0, 0...|      3|\n",
      "| 4000|76561197960268000|             152|     Indie|   Facepunch Studios|               Valve|[0, 0, 0, 0, 0, 0...|[0, 0, 0, 0, 0, 0...|[0, 0, 0, 0, 0, 0...|      3|\n",
      "| 4000|76561197960268000|             152|Simulation|   Facepunch Studios|               Valve|[0, 0, 0, 0, 0, 0...|[0, 0, 0, 0, 0, 0...|[0, 0, 0, 0, 0, 0...|      3|\n",
      "| 2600|76561197960268000|              59|    Action|        Troika Games|          Activision|[1, 0, 0, 0, 0, 0...|[0, 0, 0, 0, 0, 0...|[0, 0, 0, 0, 0, 0...|      2|\n",
      "| 9000|76561197960268000|               2|    Action|         id Software|         id Software|[1, 0, 0, 0, 0, 0...|[0, 0, 0, 0, 0, 0...|[0, 0, 0, 0, 0, 0...|      1|\n",
      "| 2300|76561197960268000|              40|    Action|         id Software|         id Software|[1, 0, 0, 0, 0, 0...|[0, 0, 0, 0, 0, 0...|[0, 0, 0, 0, 0, 0...|      2|\n",
      "| 2200|76561197960268000|             210|    Action|         id Software|         id Software|[1, 0, 0, 0, 0, 0...|[0, 0, 0, 0, 0, 0...|[0, 0, 0, 0, 0, 0...|      4|\n",
      "| 4500|76561197960268000|            1002|    Action|      GSC Game World|      GSC Game World|[1, 0, 0, 0, 0, 0...|[0, 0, 0, 0, 0, 0...|[0, 0, 0, 0, 0, 0...|      5|\n",
      "| 4500|76561197960268000|            1002|       RPG|      GSC Game World|      GSC Game World|[1, 0, 0, 0, 0, 0...|[0, 0, 0, 0, 0, 0...|[0, 0, 0, 0, 0, 0...|      5|\n",
      "|  400|76561197960268000|             380|    Action|               Valve|               Valve|[1, 0, 0, 0, 0, 0...|[0, 0, 0, 0, 0, 0...|[0, 0, 0, 0, 0, 0...|      4|\n",
      "|17300|76561197960268000|            4312|    Action|              Crytek|     Electronic Arts|[1, 0, 0, 0, 0, 0...|[0, 0, 0, 0, 0, 0...|[0, 0, 0, 0, 0, 0...|      5|\n",
      "|  500|76561197960268000|             198|    Action|               Valve|               Valve|[1, 0, 0, 0, 0, 0...|[0, 0, 0, 0, 0, 0...|[0, 0, 0, 0, 0, 0...|      3|\n",
      "|22300|76561197960268000|             425|       RPG|Bethesda Game Stu...|  Bethesda Softworks|[0, 0, 0, 0, 0, 0...|[0, 0, 0, 0, 0, 0...|[0, 0, 0, 0, 0, 0...|      4|\n",
      "|19900|76561197960268000|             111|    Action|    Ubisoft Montreal|             Ubisoft|[1, 0, 0, 0, 0, 0...|[0, 0, 0, 0, 0, 0...|[0, 0, 0, 0, 0, 0...|      3|\n",
      "|18500|76561197960268000|            1160|     Indie|Hidden Path Enter...|Hidden Path Enter...|[0, 0, 0, 0, 0, 0...|[0, 0, 0, 0, 0, 0...|[0, 0, 0, 0, 0, 0...|      5|\n",
      "|18500|76561197960268000|            1160|  Strategy|Hidden Path Enter...|Hidden Path Enter...|[0, 0, 0, 0, 0, 0...|[0, 0, 0, 0, 0, 0...|[0, 0, 0, 0, 0, 0...|      5|\n",
      "|22200|76561197960268000|              20|    Action|            ACE Team|            ACE Team|[1, 0, 0, 0, 0, 0...|[0, 0, 0, 0, 0, 0...|[0, 0, 0, 0, 0, 0...|      1|\n",
      "+-----+-----------------+----------------+----------+--------------------+--------------------+--------------------+--------------------+--------------------+-------+\n",
      "only showing top 20 rows\n",
      "\n"
     ]
    }
   ],
   "source": [
    "def normalize_dataset_v2(df):\n",
    "    # Bucketize the playtime_forever column with intervals 0-30, 30-70, 70-200, 200-500, 500-inf\n",
    "    return df.withColumn(\n",
    "        \"ratings\",\n",
    "        when(col(\"playtime_forever\") <= 30, lit(1))\n",
    "        .when((col(\"playtime_forever\") > 30) & (col(\"playtime_forever\") <= 100), lit(2))\n",
    "        .when((col(\"playtime_forever\") > 100) & (col(\"playtime_forever\") <= 200), lit(3))\n",
    "        .when((col(\"playtime_forever\") > 200) & (col(\"playtime_forever\") <= 500), lit(4))\n",
    "        .otherwise(lit(5))\n",
    "    )\n",
    "\n",
    "df = normalize_dataset_v2(df)\n",
    "df.show()"
   ]
  },
  {
   "cell_type": "code",
   "execution_count": 8,
   "id": "58e8c4db",
   "metadata": {},
   "outputs": [],
   "source": [
    "# combine vectors\n",
    "# Define a UDF to combine the vectors\n",
    "@udf(returnType=ArrayType(IntegerType()))\n",
    "def combined_vector(genre_vector, developer_vector, publisher_vector):\n",
    "    return genre_vector + developer_vector + publisher_vector\n",
    "\n",
    "# Add 'combined_vector' to the DataFrame\n",
    "df = df.withColumn(\"combined_vector\", combined_vector(\"genre_vector\", \"developer_vector\", \"publisher_vector\"))\n",
    "# split into 80% training and 20% testing set\n",
    "# train_df, test_df = df.randomSplit([0.8, 0.2], seed=42)"
   ]
  },
  {
   "cell_type": "markdown",
   "id": "1d091da2",
   "metadata": {},
   "source": [
    "## Create user profiles"
   ]
  },
  {
   "cell_type": "code",
   "execution_count": 9,
   "id": "97211531",
   "metadata": {},
   "outputs": [],
   "source": [
    "# Update the user profile calculation to use the new ratings column and include developer and publisher vectors\n",
    "# Update the user profile calculation to use training data\n",
    "user_aggregated_data = df.groupBy(\"steamid\").agg(\n",
    "    collect_list(\"combined_vector\").alias(\"combined_vectors_list\"),  \n",
    "    collect_list(\"ratings\").alias(\"ratings_list\")\n",
    ")\n",
    "\n",
    "# Define a UDF to calculate the weighted average of genre vectors\n",
    "weighted_avg_features_udf = udf(weighted_avg_features, ArrayType(FloatType()))\n",
    "\n",
    "# Calculate the user profile as the weighted average of rated item profiles (combined genre, developer, and publisher vectors)\n",
    "user_profiles = user_aggregated_data.withColumn(\"user_profile\", weighted_avg_features_udf(\"ratings_list\", \"combined_vectors_list\"))\n",
    "\n",
    "# user_profiles_train.show()"
   ]
  },
  {
   "cell_type": "code",
   "execution_count": 10,
   "id": "a1419619",
   "metadata": {},
   "outputs": [],
   "source": [
    "# Select a steam id and create a list of games that user has already played"
   ]
  },
  {
   "cell_type": "code",
   "execution_count": 11,
   "id": "acdcd0be",
   "metadata": {},
   "outputs": [],
   "source": [
    "random_users = df.select(\"steamid\").distinct().sample(False, 0.5, seed=123).limit(100)\n",
    "user_profiles_new = user_profiles.join(random_users, on=\"steamid\", how=\"inner\")\n",
    "# Get played games for the 100 random users\n",
    "played_games = df.join(random_users, on=\"steamid\", how=\"inner\").select(\"steamid\", \"appid\", \"ratings\").distinct()\n",
    "# user_profiles.show()"
   ]
  },
  {
   "cell_type": "code",
   "execution_count": 12,
   "id": "4003b167",
   "metadata": {},
   "outputs": [
    {
     "name": "stderr",
     "output_type": "stream",
     "text": [
      "                                                                                \r"
     ]
    },
    {
     "name": "stdout",
     "output_type": "stream",
     "text": [
      "+-----------------+\n",
      "|          steamid|\n",
      "+-----------------+\n",
      "|76561197961433000|\n",
      "|76561197975983000|\n",
      "|76561197978981000|\n",
      "|76561197979519000|\n",
      "|76561197985399000|\n",
      "|76561197987630000|\n",
      "|76561197995902000|\n",
      "|76561197996265000|\n",
      "|76561197997814000|\n",
      "|76561197999271000|\n",
      "|76561198003755000|\n",
      "|76561198003831000|\n",
      "|76561198005088000|\n",
      "|76561198007777000|\n",
      "|76561198010476000|\n",
      "|76561198015878000|\n",
      "|76561198016529000|\n",
      "|76561198020739000|\n",
      "|76561198023676000|\n",
      "|76561198024409000|\n",
      "+-----------------+\n",
      "only showing top 20 rows\n",
      "\n"
     ]
    }
   ],
   "source": [
    "random_users.show()"
   ]
  },
  {
   "cell_type": "markdown",
   "id": "d6a4ab37",
   "metadata": {},
   "source": [
    "## Compute the cosine similarity between user and item profiles"
   ]
  },
  {
   "cell_type": "code",
   "execution_count": 13,
   "id": "d70bbca6",
   "metadata": {},
   "outputs": [],
   "source": [
    "# prediction heuristics\n",
    "# calculate cosine distance of an item and user profile\n",
    "\n",
    "# 1. create udf for cosine similarity\n",
    "cosine_similarity = udf(cosine_similarity_udf, FloatType())\n",
    "\n",
    "# create dataframe with combined vectors\n",
    "games_combined_vectors_df = df.select(\"appid\", \"combined_vector\").distinct()\n",
    "\n",
    "# cross join the combined vectors with the user_profiles_sample\n",
    "cross_joined = games_combined_vectors_df.crossJoin(user_profiles_new)\n",
    "\n",
    "# calculate the cosine similarity between each item and user\n",
    "recommendations = cross_joined.withColumn(\n",
    "    \"similarity\", cosine_similarity(\"combined_vector\", \"user_profile\")\n",
    ")\n",
    "\n",
    "# sort based on similarity score\n",
    "sorted_recommendations = recommendations.sort(desc(\"similarity\"))\n",
    "# sorted_recommendations.show()\n",
    "\n",
    "# show top 10 recommendations for each user in the sample\n",
    "# sorted_recommendations = sorted_recommendations.groupBy(\"steamid\").agg(collect_list(struct(\"appid\", \"similarity\")).alias(\"recommendations\"))\n",
    "# sorted_recommendations = sorted_recommendations.withColumn(\"top_10_recommendations\", slice(\"recommendations\", 1, 10))\n",
    "# sorted_recommendations.select(\"steamid\", \"top_10_recommendations\").show(truncate=False)\n"
   ]
  },
  {
   "cell_type": "markdown",
   "id": "76ff5337",
   "metadata": {},
   "source": [
    "## Recommend the user's 10 top similar games"
   ]
  },
  {
   "cell_type": "code",
   "execution_count": 14,
   "id": "225f173a",
   "metadata": {},
   "outputs": [
    {
     "name": "stderr",
     "output_type": "stream",
     "text": [
      "                                                                                \r"
     ]
    },
    {
     "name": "stdout",
     "output_type": "stream",
     "text": [
      "+------+--------------------+-----------------+---------------------+--------------------+--------------------+----------+----+\n",
      "| appid|     combined_vector|          steamid|combined_vectors_list|        ratings_list|        user_profile|similarity|rank|\n",
      "+------+--------------------+-----------------+---------------------+--------------------+--------------------+----------+----+\n",
      "|113200|[1, 1, 0, 0, 0, 0...|76561198054989000| [[1, 1, 0, 0, 0, ...|[5, 5, 5, 5, 5, 5...|[1.0, 1.0, 0.0, 0...|0.91287094|   1|\n",
      "|105600|[1, 1, 0, 0, 0, 0...|76561198054989000| [[1, 1, 0, 0, 0, ...|[5, 5, 5, 5, 5, 5...|[1.0, 1.0, 0.0, 0...|0.91287094|   2|\n",
      "|263500|[1, 1, 0, 0, 0, 0...|76561198054989000| [[1, 1, 0, 0, 0, ...|[5, 5, 5, 5, 5, 5...|[1.0, 1.0, 0.0, 0...| 0.6761234|   3|\n",
      "|282100|[1, 1, 0, 1, 0, 0...|76561198054989000| [[1, 1, 0, 0, 0, ...|[5, 5, 5, 5, 5, 5...|[1.0, 1.0, 0.0, 0...| 0.6761234|   4|\n",
      "|263200|[1, 1, 0, 1, 0, 1...|76561198054989000| [[1, 1, 0, 0, 0, ...|[5, 5, 5, 5, 5, 5...|[1.0, 1.0, 0.0, 0...| 0.6324555|   5|\n",
      "| 29800|[1, 1, 0, 1, 0, 0...|76561198054989000| [[1, 1, 0, 0, 0, ...|[5, 5, 5, 5, 5, 5...|[1.0, 1.0, 0.0, 0...| 0.6324555|   6|\n",
      "| 91700|[1, 0, 0, 0, 0, 0...|76561198054989000| [[1, 1, 0, 0, 0, ...|[5, 5, 5, 5, 5, 5...|[1.0, 1.0, 0.0, 0...|       0.6|   7|\n",
      "| 96400|[1, 0, 0, 0, 0, 0...|76561198054989000| [[1, 1, 0, 0, 0, ...|[5, 5, 5, 5, 5, 5...|[1.0, 1.0, 0.0, 0...|       0.6|   8|\n",
      "|250400|[1, 1, 0, 0, 0, 0...|76561198054989000| [[1, 1, 0, 0, 0, ...|[5, 5, 5, 5, 5, 5...|[1.0, 1.0, 0.0, 0...|       0.6|   9|\n",
      "|262300|[0, 1, 0, 0, 0, 0...|76561198054989000| [[1, 1, 0, 0, 0, ...|[5, 5, 5, 5, 5, 5...|[1.0, 1.0, 0.0, 0...|       0.6|  10|\n",
      "+------+--------------------+-----------------+---------------------+--------------------+--------------------+----------+----+\n",
      "\n"
     ]
    }
   ],
   "source": [
    "# Create a window by steamid and similarity to get ranking\n",
    "window_spec = Window.partitionBy(\"steamid\").orderBy(desc(\"similarity\"))\n",
    "\n",
    "ranked_recommendations = sorted_recommendations.withColumn(\"rank\", F.row_number().over(window_spec))\n",
    "\n",
    "# Filter ranked_recommendations to show only the top 10 for each user\n",
    "top_10_recommendations = ranked_recommendations.filter(ranked_recommendations.rank <= 10)\n",
    "\n",
    "# Select one random user from top_10_recommendations\n",
    "one_random_user = top_10_recommendations.orderBy(rand()).limit(10)\n",
    "one_random_user_steamid = one_random_user.select(\"steamid\").take(1)[0].steamid\n",
    "\n",
    "# Filter top_10_recommendations to show only the selected user\n",
    "top_10_recommendations_specific_user = top_10_recommendations.filter(top_10_recommendations.steamid == one_random_user_steamid)\n",
    "\n",
    "# Show top 10 recommendations for the specific user\n",
    "top_10_recommendations_specific_user.show()"
   ]
  },
  {
   "cell_type": "code",
   "execution_count": 15,
   "id": "75d8124d",
   "metadata": {},
   "outputs": [
    {
     "name": "stderr",
     "output_type": "stream",
     "text": [
      "[Stage 137:==================================================>      (8 + 1) / 9]\r"
     ]
    },
    {
     "name": "stdout",
     "output_type": "stream",
     "text": [
      "+------+--------------------+-----------------+---------------------+--------------------+--------------------+----------+----+\n",
      "| appid|     combined_vector|          steamid|combined_vectors_list|        ratings_list|        user_profile|similarity|rank|\n",
      "+------+--------------------+-----------------+---------------------+--------------------+--------------------+----------+----+\n",
      "| 95900|[1, 0, 0, 0, 0, 0...|76561197961433000| [[1, 0, 0, 0, 0, ...|        [5, 5, 5, 5]|[1.0, 0.0, 0.0, 0...|       1.0|   1|\n",
      "|211600|[1, 0, 0, 0, 0, 0...|76561197961433000| [[1, 0, 0, 0, 0, ...|        [5, 5, 5, 5]|[1.0, 0.0, 0.0, 0...| 0.4472136|   2|\n",
      "|228400|[1, 0, 0, 0, 0, 0...|76561197961433000| [[1, 0, 0, 0, 0, ...|        [5, 5, 5, 5]|[1.0, 0.0, 0.0, 0...| 0.4472136|   3|\n",
      "|224900|[1, 0, 0, 0, 0, 0...|76561197961433000| [[1, 0, 0, 0, 0, ...|        [5, 5, 5, 5]|[1.0, 0.0, 0.0, 0...|       0.4|   4|\n",
      "|289300|[1, 0, 0, 0, 0, 0...|76561197961433000| [[1, 0, 0, 0, 0, ...|        [5, 5, 5, 5]|[1.0, 0.0, 0.0, 0...|       0.4|   5|\n",
      "| 71000|[1, 0, 0, 0, 0, 0...|76561197961433000| [[1, 0, 0, 0, 0, ...|        [5, 5, 5, 5]|[1.0, 0.0, 0.0, 0...|       0.4|   6|\n",
      "|289400|[1, 1, 0, 0, 0, 0...|76561197961433000| [[1, 0, 0, 0, 0, ...|        [5, 5, 5, 5]|[1.0, 0.0, 0.0, 0...|       0.4|   7|\n",
      "| 33900|[1, 0, 0, 0, 0, 0...|76561197961433000| [[1, 0, 0, 0, 0, ...|        [5, 5, 5, 5]|[1.0, 0.0, 0.0, 0...|       0.4|   8|\n",
      "| 65700|[1, 0, 0, 0, 0, 0...|76561197961433000| [[1, 0, 0, 0, 0, ...|        [5, 5, 5, 5]|[1.0, 0.0, 0.0, 0...|       0.4|   9|\n",
      "| 92100|[1, 0, 0, 0, 0, 0...|76561197961433000| [[1, 0, 0, 0, 0, ...|        [5, 5, 5, 5]|[1.0, 0.0, 0.0, 0...|0.36514837|  10|\n",
      "| 91600|[1, 0, 0, 1, 0, 0...|76561197975983000| [[1, 0, 0, 0, 0, ...|[5, 5, 5, 5, 5, 5...|[1.0, 0.0, 0.0, 0...|0.85683763|   1|\n",
      "| 65800|[1, 0, 0, 0, 0, 0...|76561197975983000| [[1, 0, 0, 0, 0, ...|[5, 5, 5, 5, 5, 5...|[1.0, 0.0, 0.0, 0...|0.85683763|   2|\n",
      "|102600|[1, 0, 0, 0, 0, 0...|76561197975983000| [[1, 0, 0, 0, 0, ...|[5, 5, 5, 5, 5, 5...|[1.0, 0.0, 0.0, 0...| 0.7166792|   3|\n",
      "|220900|[1, 0, 0, 1, 0, 0...|76561197975983000| [[1, 0, 0, 0, 0, ...|[5, 5, 5, 5, 5, 5...|[1.0, 0.0, 0.0, 0...| 0.6880026|   4|\n",
      "| 63000|[1, 0, 0, 1, 0, 0...|76561197975983000| [[1, 0, 0, 0, 0, ...|[5, 5, 5, 5, 5, 5...|[1.0, 0.0, 0.0, 0...| 0.6880026|   5|\n",
      "| 63500|[1, 0, 0, 1, 0, 0...|76561197975983000| [[1, 0, 0, 0, 0, ...|[5, 5, 5, 5, 5, 5...|[1.0, 0.0, 0.0, 0...| 0.6880026|   6|\n",
      "|107200|[1, 0, 0, 0, 0, 0...|76561197975983000| [[1, 0, 0, 0, 0, ...|[5, 5, 5, 5, 5, 5...|[1.0, 0.0, 0.0, 0...| 0.6880026|   7|\n",
      "| 98900|[1, 0, 0, 1, 0, 0...|76561197975983000| [[1, 0, 0, 0, 0, ...|[5, 5, 5, 5, 5, 5...|[1.0, 0.0, 0.0, 0...| 0.6880026|   8|\n",
      "|226100|[1, 0, 0, 1, 0, 0...|76561197975983000| [[1, 0, 0, 0, 0, ...|[5, 5, 5, 5, 5, 5...|[1.0, 0.0, 0.0, 0...| 0.6880026|   9|\n",
      "| 29800|[1, 1, 0, 1, 0, 0...|76561197975983000| [[1, 0, 0, 0, 0, ...|[5, 5, 5, 5, 5, 5...|[1.0, 0.0, 0.0, 0...| 0.6689354|  10|\n",
      "+------+--------------------+-----------------+---------------------+--------------------+--------------------+----------+----+\n",
      "only showing top 20 rows\n",
      "\n"
     ]
    },
    {
     "name": "stderr",
     "output_type": "stream",
     "text": [
      "                                                                                \r"
     ]
    }
   ],
   "source": [
    "top_10_recommendations.show()"
   ]
  },
  {
   "cell_type": "markdown",
   "id": "984fc67f",
   "metadata": {},
   "source": [
    "## Evaluation for steamid top 10 games"
   ]
  },
  {
   "cell_type": "code",
   "execution_count": 17,
   "id": "5cb5c004",
   "metadata": {},
   "outputs": [
    {
     "name": "stderr",
     "output_type": "stream",
     "text": [
      "                                                                                \r"
     ]
    }
   ],
   "source": [
    "# Calculate the top 10 games for each user by rating\n",
    "top_10_rated_games = played_games \\\n",
    "    .withColumn(\"rank\", F.row_number().over(Window.partitionBy(\"steamid\").orderBy(desc(\"ratings\")))) \\\n",
    "    .filter(F.col(\"rank\") <= 10) \\\n",
    "    .drop(\"rank\") \\\n",
    "    .groupBy(\"steamid\") \\\n",
    "    .agg(F.collect_list(\"appid\").alias(\"top_rated_appids\"))\n",
    "\n",
    "top_10_recommended_games = top_10_recommendations\\\n",
    "    .withColumn(\"rank\", F.row_number().over(Window.partitionBy(\"steamid\").orderBy(desc(\"rank\")))) \\\n",
    "    .filter(F.col(\"rank\") <= 10) \\\n",
    "    .drop(\"rank\") \\\n",
    "    .groupBy(\"steamid\") \\\n",
    "    .agg(F.collect_list(\"appid\").alias(\"top_predicted_appids\"))"
   ]
  },
  {
   "cell_type": "code",
   "execution_count": 24,
   "id": "45d2c70e",
   "metadata": {},
   "outputs": [
    {
     "name": "stderr",
     "output_type": "stream",
     "text": [
      "[Stage 438:==================================================>      (8 + 1) / 9]\r"
     ]
    },
    {
     "name": "stdout",
     "output_type": "stream",
     "text": [
      "Mean precision at 10: 0.31538461538461543\n"
     ]
    },
    {
     "name": "stderr",
     "output_type": "stream",
     "text": [
      "                                                                                \r"
     ]
    }
   ],
   "source": [
    "joined_df = top_10_recommended_games.alias(\"rec\") \\\n",
    "    .join(top_10_rated_games.alias(\"rated\"), F.col(\"rec.steamid\") == F.col(\"rated.steamid\")) \\\n",
    "    .filter(F.size(\"top_rated_appids\") >= 10) \\\n",
    "    .withColumn(\"matches\", F.array_intersect(\"top_predicted_appids\", \"top_rated_appids\")) \\\n",
    "    .withColumn(\"precision_at_10\", F.size(\"matches\") / F.size(\"top_rated_appids\")) \\\n",
    "    .select(\"rec.steamid\", \"precision_at_10\")\n",
    "\n",
    "# Compute the mean precision at 10\n",
    "mean_precision_at_10 = joined_df.agg(F.avg(\"precision_at_10\")).collect()[0][0]\n",
    "\n",
    "print(\"Mean precision at 10: {}\".format(mean_precision_at_10))"
   ]
  }
 ],
 "metadata": {
  "kernelspec": {
   "display_name": "Python 3 (ipykernel)",
   "language": "python",
   "name": "python3"
  },
  "language_info": {
   "codemirror_mode": {
    "name": "ipython",
    "version": 3
   },
   "file_extension": ".py",
   "mimetype": "text/x-python",
   "name": "python",
   "nbconvert_exporter": "python",
   "pygments_lexer": "ipython3",
   "version": "3.10.6"
  }
 },
 "nbformat": 4,
 "nbformat_minor": 5
}
