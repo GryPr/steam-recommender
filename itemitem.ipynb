{
 "cells": [
  {
   "cell_type": "code",
   "execution_count": 71,
   "metadata": {},
   "outputs": [],
   "source": [
    "from pyspark.sql.functions import *\n",
    "from pyspark.ml.feature import VectorAssembler\n",
    "from pyspark.ml.stat import Correlation\n",
    "from pyspark.sql import SparkSession\n",
    "from pyspark.sql.types import DoubleType"
   ]
  },
  {
   "cell_type": "code",
   "execution_count": 72,
   "metadata": {},
   "outputs": [],
   "source": [
    "# Create a SparkSession\n",
    "spark = SparkSession.builder.appName(\"GameMatrix\").getOrCreate()\n",
    "\n",
    "# Sample data\n",
    "data = [(\"user1\", \"game1\", 10), (\"user2\", \"game2\", 20), (\"user1\", \"game2\", 15), (\"user2\", \"game1\", 5), \n",
    "        (\"user1\", \"game3\", 30), (\"user2\", \"game3\", 25), (\"user3\", \"game3\", 15), (\"user3\", \"game1\", 10)]\n",
    "df = spark.createDataFrame(data, [\"steamid\", \"appid\", \"playtime_forever\"])"
   ]
  },
  {
   "cell_type": "code",
   "execution_count": 73,
   "metadata": {},
   "outputs": [
    {
     "name": "stdout",
     "output_type": "stream",
     "text": [
      "+-----+-----+-----+-----+\n",
      "|appid|user1|user2|user3|\n",
      "+-----+-----+-----+-----+\n",
      "|game3| 30.0| 25.0| 15.0|\n",
      "|game2| 15.0| 20.0|  0.0|\n",
      "|game1| 10.0|  5.0| 10.0|\n",
      "+-----+-----+-----+-----+\n",
      "\n",
      "+-----+------------------+-------------------+-----------------+\n",
      "|appid|             user1|              user2|            user3|\n",
      "+-----+------------------+-------------------+-----------------+\n",
      "|game3|11.666666666666668|  8.333333333333332|6.666666666666666|\n",
      "|game2|-3.333333333333332|  3.333333333333332|              0.0|\n",
      "|game1|-8.333333333333332|-11.666666666666668|1.666666666666666|\n",
      "+-----+------------------+-------------------+-----------------+\n",
      "\n"
     ]
    }
   ],
   "source": [
    "# Create the game matrix\n",
    "game_matrix = df.groupBy(\"appid\").pivot(\"steamid\").agg(first(\"playtime_forever\"))\n",
    "\n",
    "# Replace null values with 0\n",
    "for col in game_matrix.columns[1:]:\n",
    "    game_matrix = game_matrix.withColumn(col, game_matrix[col].cast(DoubleType()))\n",
    "    game_matrix = game_matrix.fillna(0.0, subset=[col])\n",
    "game_matrix.show()\n",
    "\n",
    "# Compute the mean of each column\n",
    "col_means = game_matrix.agg(*(mean(col).alias(col) for col in game_matrix.columns[1:])).collect()[0]\n",
    "\n",
    "# Subtract the mean from each non-zero cell in the game matrix\n",
    "for col in game_matrix.columns[1:]:\n",
    "    game_matrix = game_matrix.withColumn(col, when(game_matrix[col] != 0, game_matrix[col] - col_means[col]).otherwise(0))\n",
    "        \n",
    "game_matrix.show()"
   ]
  },
  {
   "cell_type": "code",
   "execution_count": 74,
   "metadata": {},
   "outputs": [
    {
     "name": "stdout",
     "output_type": "stream",
     "text": [
      "[[1.         0.84615385 0.88461538]\n",
      " [0.84615385 1.         0.5       ]\n",
      " [0.88461538 0.5        1.        ]]\n"
     ]
    }
   ],
   "source": [
    "# Extract columns with numerical values and assemble them into a vector column\n",
    "numeric_cols = game_matrix.columns[1:]\n",
    "assembler = VectorAssembler(inputCols=numeric_cols, outputCol=\"features\")\n",
    "vector_matrix = assembler.transform(game_matrix).select(\"features\")\n",
    "\n",
    "# Compute the Pearson correlation matrix between the rows\n",
    "pearson_matrix = Correlation.corr(vector_matrix, \"features\", \"pearson\")\n",
    "\n",
    "# Print the correlation array (numpy)\n",
    "corr_array = pearson_matrix.head()[0].toArray()\n",
    "print(corr_array)"
   ]
  },
  {
   "cell_type": "code",
   "execution_count": null,
   "metadata": {},
   "outputs": [],
   "source": []
  }
 ],
 "metadata": {
  "kernelspec": {
   "display_name": "venv",
   "language": "python",
   "name": "python3"
  },
  "language_info": {
   "codemirror_mode": {
    "name": "ipython",
    "version": 3
   },
   "file_extension": ".py",
   "mimetype": "text/x-python",
   "name": "python",
   "nbconvert_exporter": "python",
   "pygments_lexer": "ipython3",
   "version": "3.10.6"
  },
  "orig_nbformat": 4
 },
 "nbformat": 4,
 "nbformat_minor": 2
}
