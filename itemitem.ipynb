{
 "cells": [
  {
   "cell_type": "code",
   "execution_count": 1,
   "metadata": {},
   "outputs": [],
   "source": [
    "from pyspark.sql.functions import asc, first, mean, row_number, when, udf\n",
    "from pyspark.ml.feature import VectorAssembler\n",
    "from pyspark.ml.stat import Correlation\n",
    "from pyspark.sql import SparkSession\n",
    "from pyspark.sql.types import DoubleType\n",
    "from pyspark.sql.window import Window"
   ]
  },
  {
   "cell_type": "code",
   "execution_count": 2,
   "metadata": {},
   "outputs": [
    {
     "name": "stdout",
     "output_type": "stream",
     "text": [
      "23/03/30 03:27:04 WARN Utils: Your hostname, pop-os resolves to a loopback address: 127.0.1.1; using 192.168.122.1 instead (on interface virbr0)\n",
      "23/03/30 03:27:04 WARN Utils: Set SPARK_LOCAL_IP if you need to bind to another address\n"
     ]
    },
    {
     "name": "stderr",
     "output_type": "stream",
     "text": [
      "Setting default log level to \"WARN\".\n",
      "To adjust logging level use sc.setLogLevel(newLevel). For SparkR, use setLogLevel(newLevel).\n"
     ]
    },
    {
     "name": "stdout",
     "output_type": "stream",
     "text": [
      "23/03/30 03:27:04 WARN NativeCodeLoader: Unable to load native-hadoop library for your platform... using builtin-java classes where applicable\n",
      "23/03/30 03:27:05 WARN Utils: Service 'SparkUI' could not bind on port 4040. Attempting port 4041.\n"
     ]
    }
   ],
   "source": [
    "# Create a SparkSession\n",
    "spark = SparkSession.builder.appName(\"GameMatrix\").getOrCreate()"
   ]
  },
  {
   "cell_type": "code",
   "execution_count": 3,
   "metadata": {},
   "outputs": [],
   "source": [
    "# Sample data\n",
    "data = [(\"user1\", \"game1\", 10), (\"user2\", \"game2\", 20), (\"user1\", \"game2\", 15), (\"user2\", \"game1\", 5), \n",
    "        (\"user1\", \"game3\", 30), (\"user2\", \"game3\", 25), (\"user3\", \"game3\", 15), (\"user3\", \"game1\", 10)]\n",
    "df = spark.createDataFrame(data, [\"steamid\", \"appid\", \"playtime_forever\"])"
   ]
  },
  {
   "cell_type": "code",
   "execution_count": 4,
   "metadata": {},
   "outputs": [
    {
     "name": "stderr",
     "output_type": "stream",
     "text": [
      "                                                                                \r"
     ]
    },
    {
     "name": "stdout",
     "output_type": "stream",
     "text": [
      "+-----+-----+-----+-----+\n",
      "|appid|user1|user2|user3|\n",
      "+-----+-----+-----+-----+\n",
      "|game1|   10|    5|   10|\n",
      "|game2|   15|   20| null|\n",
      "|game3|   30|   25|   15|\n",
      "+-----+-----+-----+-----+\n",
      "\n"
     ]
    }
   ],
   "source": [
    "# Create the game matrix\n",
    "game_matrix = df.groupBy(\"appid\").pivot(\"steamid\").agg(first(\"playtime_forever\"))\n",
    "game_matrix = game_matrix.orderBy(asc(\"appid\"))\n",
    "game_matrix.show()\n",
    "\n",
    "# Replace null values with 0\n",
    "for game_col in game_matrix.columns[1:]:\n",
    "    game_matrix = game_matrix.withColumn(game_col, game_matrix[game_col].cast(DoubleType()))\n",
    "    game_matrix = game_matrix.fillna(0.0, subset=[game_col])\n",
    "\n",
    "# Compute the mean of each column\n",
    "col_means = game_matrix.agg(*(mean(game_col).alias(game_col) for game_col in game_matrix.columns[1:])).collect()[0]\n",
    "\n",
    "# Subtract the mean from each non-zero cell in the game matrix\n",
    "for game_col in game_matrix.columns[1:]:\n",
    "    game_matrix = game_matrix.withColumn(game_col, when(game_matrix[game_col] != 0, game_matrix[game_col] - col_means[game_col]).otherwise(0))"
   ]
  },
  {
   "cell_type": "code",
   "execution_count": 5,
   "metadata": {},
   "outputs": [],
   "source": [
    "# Extract columns with numerical values and assemble them into a vector column\n",
    "numeric_cols = game_matrix.columns[1:]\n",
    "assembler = VectorAssembler(inputCols=numeric_cols, outputCol=\"features\")\n",
    "vector_matrix = assembler.transform(game_matrix).select(\"features\")\n",
    "\n",
    "# Compute the Pearson correlation matrix between the rows\n",
    "pearson_matrix = Correlation.corr(vector_matrix, \"features\", \"pearson\")\n",
    "corr_array = pearson_matrix.head()[0].toArray()"
   ]
  },
  {
   "cell_type": "code",
   "execution_count": 6,
   "metadata": {},
   "outputs": [
    {
     "name": "stdout",
     "output_type": "stream",
     "text": [
      "23/03/30 03:27:12 WARN WindowExec: No Partition Defined for Window operation! Moving all data to a single partition, this can cause serious performance degradation.\n",
      "23/03/30 03:27:12 WARN WindowExec: No Partition Defined for Window operation! Moving all data to a single partition, this can cause serious performance degradation.\n",
      "23/03/30 03:27:12 WARN WindowExec: No Partition Defined for Window operation! Moving all data to a single partition, this can cause serious performance degradation.\n",
      "23/03/30 03:27:12 WARN WindowExec: No Partition Defined for Window operation! Moving all data to a single partition, this can cause serious performance degradation.\n",
      "23/03/30 03:27:12 WARN WindowExec: No Partition Defined for Window operation! Moving all data to a single partition, this can cause serious performance degradation.\n",
      "23/03/30 03:27:12 WARN WindowExec: No Partition Defined for Window operation! Moving all data to a single partition, this can cause serious performance degradation.\n",
      "23/03/30 03:27:12 WARN WindowExec: No Partition Defined for Window operation! Moving all data to a single partition, this can cause serious performance degradation.\n",
      "23/03/30 03:27:12 WARN WindowExec: No Partition Defined for Window operation! Moving all data to a single partition, this can cause serious performance degradation.\n",
      "+-----+------------------+-------------------+-----------------+-----+\n",
      "|appid|             user1|              user2|            user3|index|\n",
      "+-----+------------------+-------------------+-----------------+-----+\n",
      "|game1|-8.333333333333332|-11.666666666666668|1.666666666666666|    1|\n",
      "|game2|-3.333333333333332|  3.333333333333332|              0.0|    2|\n",
      "|game3|11.666666666666668|  8.333333333333332|6.666666666666666|    3|\n",
      "+-----+------------------+-------------------+-----------------+-----+\n",
      "\n"
     ]
    }
   ],
   "source": [
    "# Add an index column to the game matrix\n",
    "windowSpec = Window.partitionBy(\"appid\").orderBy(\"appid\")\n",
    "game_matrix = game_matrix.withColumn(\"index\", row_number().over(windowSpec))\n",
    "game_matrix.show()"
   ]
  },
  {
   "cell_type": "code",
   "execution_count": 7,
   "metadata": {},
   "outputs": [],
   "source": [
    "# Define the UDF closure to compute the weighted average\n",
    "def udf_compute_weighted_average(user_playtimes, k):\n",
    "    def compute_weighted_average(playtime, index):\n",
    "        if playtime == 0.0:\n",
    "            correlations = corr_array[index - 1]\n",
    "            tuples = sorted(list(zip(correlations, user_playtimes)), key=lambda x: x[0], reverse=True)\n",
    "            filtered_tuples = [tup for tup in tuples if tup[1] != 0.0]\n",
    "            prediction = 0.0\n",
    "            for i in range(min(k, len(filtered_tuples))):\n",
    "                prediction = prediction + filtered_tuples[i][0] * filtered_tuples[i][1]\n",
    "            return float(prediction)\n",
    "        else:\n",
    "            return 0.0\n",
    "    return udf(compute_weighted_average, DoubleType())"
   ]
  },
  {
   "cell_type": "code",
   "execution_count": 8,
   "metadata": {},
   "outputs": [
    {
     "name": "stdout",
     "output_type": "stream",
     "text": [
      "23/03/30 03:27:14 WARN WindowExec: No Partition Defined for Window operation! Moving all data to a single partition, this can cause serious performance degradation.\n",
      "23/03/30 03:27:14 WARN WindowExec: No Partition Defined for Window operation! Moving all data to a single partition, this can cause serious performance degradation.\n",
      "23/03/30 03:27:14 WARN WindowExec: No Partition Defined for Window operation! Moving all data to a single partition, this can cause serious performance degradation.\n",
      "23/03/30 03:27:14 WARN WindowExec: No Partition Defined for Window operation! Moving all data to a single partition, this can cause serious performance degradation.\n",
      "23/03/30 03:27:14 WARN WindowExec: No Partition Defined for Window operation! Moving all data to a single partition, this can cause serious performance degradation.\n",
      "23/03/30 03:27:14 WARN WindowExec: No Partition Defined for Window operation! Moving all data to a single partition, this can cause serious performance degradation.\n",
      "23/03/30 03:27:14 WARN WindowExec: No Partition Defined for Window operation! Moving all data to a single partition, this can cause serious performance degradation.\n",
      "23/03/30 03:27:14 WARN WindowExec: No Partition Defined for Window operation! Moving all data to a single partition, this can cause serious performance degradation.\n",
      "+-----+-----+-----+-----------------+\n",
      "|appid|user1|user2|            user3|\n",
      "+-----+-----+-----+-----------------+\n",
      "|game1|  0.0|  0.0|              0.0|\n",
      "|game2|  0.0|  0.0|4.743589743589744|\n",
      "|game3|  0.0|  0.0|              0.0|\n",
      "+-----+-----+-----+-----------------+\n",
      "\n"
     ]
    }
   ],
   "source": [
    "# Apply the UDF to each user column\n",
    "k = 2\n",
    "predictions_df = game_matrix.select((\"*\"))\n",
    "for index, user in enumerate(predictions_df.columns[1:len(predictions_df.columns) - 1]):\n",
    "    user_playtimes = predictions_df.select(user).rdd.flatMap(lambda x: x).collect()\n",
    "    predictions_df = predictions_df.withColumn(user, udf_compute_weighted_average(user_playtimes, k)(predictions_df[user], predictions_df[\"index\"]))\n",
    "\n",
    "predictions_df = predictions_df.drop(\"index\")\n",
    "predictions_df.show()"
   ]
  }
 ],
 "metadata": {
  "kernelspec": {
   "display_name": "venv",
   "language": "python",
   "name": "python3"
  },
  "language_info": {
   "codemirror_mode": {
    "name": "ipython",
    "version": 3
   },
   "file_extension": ".py",
   "mimetype": "text/x-python",
   "name": "python",
   "nbconvert_exporter": "python",
   "pygments_lexer": "ipython3",
   "version": "3.10.6"
  },
  "orig_nbformat": 4
 },
 "nbformat": 4,
 "nbformat_minor": 2
}
