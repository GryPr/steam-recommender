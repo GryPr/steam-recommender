{
 "cells": [
  {
   "cell_type": "code",
   "execution_count": 34,
   "metadata": {},
   "outputs": [],
   "source": [
    "from pyspark.sql.functions import asc, first, mean, row_number, when, udf, stddev_pop, col, lit, collect_list, array\n",
    "from pyspark.ml.feature import VectorAssembler\n",
    "from pyspark.ml.stat import Correlation\n",
    "from pyspark.sql import SparkSession\n",
    "from pyspark.sql.types import DoubleType\n",
    "from pyspark.sql.window import Window\n",
    "from pyspark.ml.linalg import DenseVector"
   ]
  },
  {
   "attachments": {},
   "cell_type": "markdown",
   "metadata": {},
   "source": [
    "## Load Dataset\n",
    "The dataset is loaded from MariaDB into a dataframe."
   ]
  },
  {
   "cell_type": "code",
   "execution_count": 35,
   "metadata": {},
   "outputs": [],
   "source": [
    "spark = SparkSession.builder.appName('ReadMariaDB') \\\n",
    ".config(\"spark.driver.memory\", \"32g\") \\\n",
    ".config(\"spark.sql.pivotMaxValues\", \"1000000\") \\\n",
    ".getOrCreate()\n",
    "\n",
    "\n",
    "sql = \"select * from 01_sampled_games_2v2 WHERE playtime_forever IS NOT NULL AND playtime_forever > 0\"\n",
    "database = \"steam\"\n",
    "user = \"root\"\n",
    "password = \"example\"\n",
    "server = \"192.168.2.62\"\n",
    "port = 3306\n",
    "jdbc_url = f\"jdbc:mysql://{server}:{port}/{database}?permitMysqlScheme\"\n",
    "jdbc_driver = \"org.mariadb.jdbc.Driver\"\n",
    "\n",
    "# Create a data frame by reading data from Oracle via JDBC\n",
    "df = spark.read.format(\"jdbc\") \\\n",
    "    .option(\"url\", jdbc_url) \\\n",
    "    .option(\"query\", sql) \\\n",
    "    .option(\"user\", user) \\\n",
    "    .option(\"password\", password) \\\n",
    "    .option(\"driver\", jdbc_driver) \\\n",
    "    .load()\n",
    "\n",
    "df = df.drop(\"playtime_2weeks\", \"dateretrieved\")"
   ]
  },
  {
   "cell_type": "code",
   "execution_count": 36,
   "metadata": {},
   "outputs": [
    {
     "name": "stdout",
     "output_type": "stream",
     "text": [
      "The DataFrame has 88349 rows.\n",
      "+-----------------+-----+----------------+\n",
      "|          steamid|appid|playtime_forever|\n",
      "+-----------------+-----+----------------+\n",
      "|76561197960268000|  300|             109|\n",
      "|76561197960268000| 1300|              94|\n",
      "|76561197960268000| 2100|             110|\n",
      "|76561197960268000| 4000|             152|\n",
      "|76561197960268000| 2600|              59|\n",
      "|76561197960268000| 9000|               2|\n",
      "|76561197960268000| 2300|              40|\n",
      "|76561197960268000| 2200|             210|\n",
      "|76561197960268000| 4500|            1002|\n",
      "|76561197960268000|  400|             380|\n",
      "|76561197960268000|17300|            4312|\n",
      "|76561197960268000|  500|             198|\n",
      "|76561197960268000|22300|             425|\n",
      "|76561197960268000|19900|             111|\n",
      "|76561197960268000|18500|            1160|\n",
      "|76561197960268000|22200|              20|\n",
      "|76561197960268000|35700|             433|\n",
      "|76561197960268000|36000|              27|\n",
      "|76561197960268000|39800|             510|\n",
      "|76561197960268000|32400|              32|\n",
      "+-----------------+-----+----------------+\n",
      "only showing top 20 rows\n",
      "\n"
     ]
    }
   ],
   "source": [
    "# Count the number of rows in the DataFrame\n",
    "row_count = df.count()\n",
    "\n",
    "# Print the row count\n",
    "print(\"The DataFrame has\", row_count, \"rows.\")\n",
    "\n",
    "df.show()"
   ]
  },
  {
   "attachments": {},
   "cell_type": "markdown",
   "metadata": {},
   "source": [
    "## Split the dataset"
   ]
  },
  {
   "cell_type": "code",
   "execution_count": 37,
   "metadata": {},
   "outputs": [],
   "source": [
    "# Randomly split the data into 70% training and 30% test data\n",
    "training, test = df.randomSplit([0.7, 0.3], seed=1234)"
   ]
  },
  {
   "attachments": {},
   "cell_type": "markdown",
   "metadata": {},
   "source": [
    "## Pearson Correlation Matrix\n",
    "Since the dataset contains at most ~4500 games, we can expect a 4500^2=81,000,000 sized matrix. Each float entry takes 4 bytes in memory. Therefore, the pearson correlation matrix would take up 324 MB of memory.\n",
    "\n",
    "Since the memory used is relatively small, we will pre-compute the person correlation matrix and store it for use later in the algorithm."
   ]
  },
  {
   "cell_type": "code",
   "execution_count": 38,
   "metadata": {},
   "outputs": [
    {
     "name": "stdout",
     "output_type": "stream",
     "text": [
      "+-----+------------------------------+--------------------+--------------------+\n",
      "|appid|collect_list(playtime_forever)|     padded_features|            features|\n",
      "+-----+------------------------------+--------------------+--------------------+\n",
      "|  100|          [14, 209, 46, 133...|[null, null, null...|[14.0,209.0,46.0,...|\n",
      "|  300|          [5, 18, 19, 2373,...|[null, null, null...|[5.0,18.0,19.0,23...|\n",
      "|  400|          [223, 157, 1, 77,...|[null, null, null...|[223.0,157.0,1.0,...|\n",
      "|  500|          [349, 311, 151, 4...|[null, null, null...|[349.0,311.0,151....|\n",
      "| 1200|          [10, 387, 172, 20...|[null, null, null...|[10.0,387.0,172.0...|\n",
      "| 1300|          [7, 91, 11, 1, 10...|[null, null, null...|[7.0,91.0,11.0,1....|\n",
      "| 1500|          [8, 39, 24, 28, 1...|[null, null, null...|[8.0,39.0,24.0,28...|\n",
      "| 1600|          [12, 1527, 3, 102...|[null, null, null...|[12.0,1527.0,3.0,...|\n",
      "| 1700|          [383, 257, 14, 40...|[null, null, null...|[383.0,257.0,14.0...|\n",
      "| 1900|          [1, 432, 248, 482...|[null, null, null...|[1.0,432.0,248.0,...|\n",
      "| 2100|          [129, 135, 20, 90...|[null, null, null...|[129.0,135.0,20.0...|\n",
      "| 2200|          [293, 10, 8, 1, 3...|[null, null, null...|[293.0,10.0,8.0,1...|\n",
      "| 2300|          [1, 11, 12, 2, 1,...|[null, null, null...|[1.0,11.0,12.0,2....|\n",
      "| 2400|          [702, 13, 83, 109...|[null, null, null...|[702.0,13.0,83.0,...|\n",
      "| 2500|          [127, 379, 166, 1...|[null, null, null...|[127.0,379.0,166....|\n",
      "| 2600|          [232, 310, 3013, ...|[null, null, null...|[232.0,310.0,3013...|\n",
      "| 2700|          [486, 634, 14, 55...|[null, null, null...|[486.0,634.0,14.0...|\n",
      "| 2800|          [49, 10, 26, 41, ...|[null, null, null...|[49.0,10.0,26.0,4...|\n",
      "| 2900|           [97, 16, 1, 15, 14]|[null, null, null...|[97.0,16.0,1.0,15...|\n",
      "| 3000|          [23, 2, 253, 11, ...|[null, null, null...|[23.0,2.0,253.0,1...|\n",
      "+-----+------------------------------+--------------------+--------------------+\n",
      "only showing top 20 rows\n",
      "\n"
     ]
    }
   ],
   "source": [
    "from pyspark.ml.linalg import Vectors, VectorUDT\n",
    "from pyspark.sql.functions import collect_list, udf, size\n",
    "from pyspark.sql.types import ArrayType, DoubleType\n",
    "\n",
    "# Compute the maximum length of the lists of playtime_forever values\n",
    "max_len = training.filter(\"playtime_forever IS NOT NULL\") \\\n",
    "    .groupBy('appid').agg(size(collect_list('playtime_forever')).alias('num_playtimes')) \\\n",
    "    .agg({'num_playtimes': 'max'}).collect()[0][0]\n",
    "\n",
    "# Define a UDF to pad lists with zeros\n",
    "pad_zeros = udf(lambda x: x + [0.0]*(max_len-len(x)), ArrayType(DoubleType()))\n",
    "\n",
    "# Create playtime vectors for each game\n",
    "list_to_dense = udf(lambda l: Vectors.dense(l), VectorUDT())\n",
    "vectors = training.filter(\"playtime_forever IS NOT NULL\")\\\n",
    "    .groupBy('appid').agg(collect_list('playtime_forever'))\\\n",
    "        .withColumn('padded_features', pad_zeros('collect_list(playtime_forever)')) \\\n",
    "        .withColumn('features', list_to_dense('padded_features'))\n",
    "# vectors = vectors.rdd.zipWithIndex().toDF(['appid', 'features', 'index'])\n",
    "# vectors = vectors.withColumn(\"id\", vectors[\"index\"].cast(\"int\")).drop(\"index\")\n",
    "vectors.show()"
   ]
  },
  {
   "cell_type": "code",
   "execution_count": 39,
   "metadata": {},
   "outputs": [
    {
     "name": "stdout",
     "output_type": "stream",
     "text": [
      "23/04/04 14:16:25 WARN WindowExec: No Partition Defined for Window operation! Moving all data to a single partition, this can cause serious performance degradation.\n",
      "23/04/04 14:16:25 WARN WindowExec: No Partition Defined for Window operation! Moving all data to a single partition, this can cause serious performance degradation.\n",
      "23/04/04 14:16:25 WARN WindowExec: No Partition Defined for Window operation! Moving all data to a single partition, this can cause serious performance degradation.\n",
      "23/04/04 14:16:25 WARN WindowExec: No Partition Defined for Window operation! Moving all data to a single partition, this can cause serious performance degradation.\n",
      "23/04/04 14:16:25 WARN WindowExec: No Partition Defined for Window operation! Moving all data to a single partition, this can cause serious performance degradation.\n",
      "23/04/04 14:16:25 WARN WindowExec: No Partition Defined for Window operation! Moving all data to a single partition, this can cause serious performance degradation.\n"
     ]
    },
    {
     "name": "stderr",
     "output_type": "stream",
     "text": [
      "[Stage 187:>                                                        (0 + 1) / 1]\r"
     ]
    },
    {
     "name": "stdout",
     "output_type": "stream",
     "text": [
      "+-----+------------------------------+--------------------+--------------------+-------+\n",
      "|appid|collect_list(playtime_forever)|     padded_features|            features|row_num|\n",
      "+-----+------------------------------+--------------------+--------------------+-------+\n",
      "|  100|          [14, 209, 46, 133...|[null, null, null...|[14.0,209.0,46.0,...|      1|\n",
      "|  300|          [5, 18, 19, 2373,...|[null, null, null...|[5.0,18.0,19.0,23...|      2|\n",
      "|  400|          [223, 157, 1, 77,...|[null, null, null...|[223.0,157.0,1.0,...|      3|\n",
      "|  500|          [349, 311, 151, 4...|[null, null, null...|[349.0,311.0,151....|      4|\n",
      "| 1200|          [10, 387, 172, 20...|[null, null, null...|[10.0,387.0,172.0...|      5|\n",
      "| 1300|          [7, 91, 11, 1, 10...|[null, null, null...|[7.0,91.0,11.0,1....|      6|\n",
      "| 1500|          [8, 39, 24, 28, 1...|[null, null, null...|[8.0,39.0,24.0,28...|      7|\n",
      "| 1600|          [12, 1527, 3, 102...|[null, null, null...|[12.0,1527.0,3.0,...|      8|\n",
      "| 1700|          [383, 257, 14, 40...|[null, null, null...|[383.0,257.0,14.0...|      9|\n",
      "| 1900|          [1, 432, 248, 482...|[null, null, null...|[1.0,432.0,248.0,...|     10|\n",
      "| 2100|          [129, 135, 20, 90...|[null, null, null...|[129.0,135.0,20.0...|     11|\n",
      "| 2200|          [293, 10, 8, 1, 3...|[null, null, null...|[293.0,10.0,8.0,1...|     12|\n",
      "| 2300|          [1, 11, 12, 2, 1,...|[null, null, null...|[1.0,11.0,12.0,2....|     13|\n",
      "| 2400|          [702, 13, 83, 109...|[null, null, null...|[702.0,13.0,83.0,...|     14|\n",
      "| 2500|          [127, 379, 166, 1...|[null, null, null...|[127.0,379.0,166....|     15|\n",
      "| 2600|          [232, 310, 3013, ...|[null, null, null...|[232.0,310.0,3013...|     16|\n",
      "| 2700|          [486, 634, 14, 55...|[null, null, null...|[486.0,634.0,14.0...|     17|\n",
      "| 2800|          [49, 10, 26, 41, ...|[null, null, null...|[49.0,10.0,26.0,4...|     18|\n",
      "| 2900|           [97, 16, 1, 15, 14]|[null, null, null...|[97.0,16.0,1.0,15...|     19|\n",
      "| 3000|          [23, 2, 253, 11, ...|[null, null, null...|[23.0,2.0,253.0,1...|     20|\n",
      "+-----+------------------------------+--------------------+--------------------+-------+\n",
      "only showing top 20 rows\n",
      "\n"
     ]
    },
    {
     "name": "stderr",
     "output_type": "stream",
     "text": [
      "                                                                                \r"
     ]
    }
   ],
   "source": [
    "# Add a row number column to the game matrix\n",
    "windowSpec = Window.orderBy(\"appid\")\n",
    "vectors = vectors.withColumn(\"row_num\", row_number().over(windowSpec))\n",
    "vectors.show()"
   ]
  },
  {
   "cell_type": "code",
   "execution_count": 40,
   "metadata": {},
   "outputs": [
    {
     "name": "stdout",
     "output_type": "stream",
     "text": [
      "23/04/04 14:16:27 WARN WindowExec: No Partition Defined for Window operation! Moving all data to a single partition, this can cause serious performance degradation.\n",
      "23/04/04 14:16:27 WARN WindowExec: No Partition Defined for Window operation! Moving all data to a single partition, this can cause serious performance degradation.\n",
      "23/04/04 14:16:27 WARN WindowExec: No Partition Defined for Window operation! Moving all data to a single partition, this can cause serious performance degradation.\n",
      "23/04/04 14:16:27 WARN WindowExec: No Partition Defined for Window operation! Moving all data to a single partition, this can cause serious performance degradation.\n",
      "23/04/04 14:16:27 WARN WindowExec: No Partition Defined for Window operation! Moving all data to a single partition, this can cause serious performance degradation.\n",
      "23/04/04 14:16:27 WARN WindowExec: No Partition Defined for Window operation! Moving all data to a single partition, this can cause serious performance degradation.\n"
     ]
    },
    {
     "name": "stderr",
     "output_type": "stream",
     "text": [
      "                                                                                \r"
     ]
    },
    {
     "name": "stdout",
     "output_type": "stream",
     "text": [
      "[[ 1.          0.23675416  0.13102298 ... -0.00332081 -0.00332081\n",
      "  -0.00332081]\n",
      " [ 0.23675416  1.          0.17286696 ... -0.00427187 -0.00427187\n",
      "  -0.00427187]\n",
      " [ 0.13102298  0.17286696  1.         ... -0.00875646 -0.00875646\n",
      "  -0.00875646]\n",
      " ...\n",
      " [-0.00332081 -0.00427187 -0.00875646 ...  1.          1.\n",
      "   1.        ]\n",
      " [-0.00332081 -0.00427187 -0.00875646 ...  1.          1.\n",
      "   1.        ]\n",
      " [-0.00332081 -0.00427187 -0.00875646 ...  1.          1.\n",
      "   1.        ]]\n"
     ]
    }
   ],
   "source": [
    "pearson_matrix = Correlation.corr(vectors.orderBy(\"row_num\"), \"features\", \"pearson\")\n",
    "corr_array = pearson_matrix.head()[0].toArray()\n",
    "print(corr_array)"
   ]
  },
  {
   "attachments": {},
   "cell_type": "markdown",
   "metadata": {},
   "source": [
    "## Per-Game 1-5 Rating Normalization\n",
    "For each game, we calculate the mean and standard deviation. We then create buckets for each rating:\n",
    "### Cut points\n",
    "* Cut point 1: mean - std_dev*0.5 if > 0, else 0\n",
    "* Cut point 2: mean\n",
    "* Cut point 3: mean + std_dev*0.5\n",
    "* Cut point 4: mean + std_dev\n",
    "### Ratings\n",
    "* Rating 1: 0 < x < cut point 1\n",
    "* Rating 2: cut point 1 < x < cut point 2\n",
    "* Rating 3: cut point 2 < x < cut point 3\n",
    "* Rating 4: cut point 3 < x < cut point 4\n",
    "* Rating 5: cut point 5 < x < inf"
   ]
  },
  {
   "cell_type": "code",
   "execution_count": 41,
   "metadata": {},
   "outputs": [
    {
     "name": "stdout",
     "output_type": "stream",
     "text": [
      "+------+-----------------+----------------+------------------+--------------------+-----------------+-----------+-----------------+------------------+-------+\n",
      "| appid|          steamid|playtime_forever|game_mean_playtime|game_stddev_playtime|      cut_point_1|cut_point_2|      cut_point_3|       cut_point_4|ratings|\n",
      "+------+-----------------+----------------+------------------+--------------------+-----------------+-----------+-----------------+------------------+-------+\n",
      "|263700|76561198071863000|              34|          109.0000|                75.0|             71.5|   109.0000|            146.5|             184.0|      1|\n",
      "|263700|76561197968595000|             184|          109.0000|                75.0|             71.5|   109.0000|            146.5|             184.0|      4|\n",
      "| 49900|76561198062015000|              23|           99.9355|  138.69656727242017|30.58721636378992|    99.9355|169.2837836362101|238.63206727242016|      1|\n",
      "| 49900|76561198049923000|              32|           99.9355|  138.69656727242017|30.58721636378992|    99.9355|169.2837836362101|238.63206727242016|      2|\n",
      "| 49900|76561198045987000|              24|           99.9355|  138.69656727242017|30.58721636378992|    99.9355|169.2837836362101|238.63206727242016|      1|\n",
      "| 49900|76561198035231000|               7|           99.9355|  138.69656727242017|30.58721636378992|    99.9355|169.2837836362101|238.63206727242016|      1|\n",
      "| 49900|76561198032791000|               8|           99.9355|  138.69656727242017|30.58721636378992|    99.9355|169.2837836362101|238.63206727242016|      1|\n",
      "| 49900|76561198024994000|              41|           99.9355|  138.69656727242017|30.58721636378992|    99.9355|169.2837836362101|238.63206727242016|      2|\n",
      "| 49900|76561198023930000|             128|           99.9355|  138.69656727242017|30.58721636378992|    99.9355|169.2837836362101|238.63206727242016|      3|\n",
      "| 49900|76561198023872000|             254|           99.9355|  138.69656727242017|30.58721636378992|    99.9355|169.2837836362101|238.63206727242016|      5|\n",
      "| 49900|76561198020323000|              20|           99.9355|  138.69656727242017|30.58721636378992|    99.9355|169.2837836362101|238.63206727242016|      1|\n",
      "| 49900|76561198014889000|               8|           99.9355|  138.69656727242017|30.58721636378992|    99.9355|169.2837836362101|238.63206727242016|      1|\n",
      "| 49900|76561198014659000|             132|           99.9355|  138.69656727242017|30.58721636378992|    99.9355|169.2837836362101|238.63206727242016|      3|\n",
      "| 49900|76561198014641000|             191|           99.9355|  138.69656727242017|30.58721636378992|    99.9355|169.2837836362101|238.63206727242016|      4|\n",
      "| 49900|76561198014340000|               4|           99.9355|  138.69656727242017|30.58721636378992|    99.9355|169.2837836362101|238.63206727242016|      1|\n",
      "| 49900|76561198014116000|             247|           99.9355|  138.69656727242017|30.58721636378992|    99.9355|169.2837836362101|238.63206727242016|      5|\n",
      "| 49900|76561198012713000|             139|           99.9355|  138.69656727242017|30.58721636378992|    99.9355|169.2837836362101|238.63206727242016|      3|\n",
      "| 49900|76561198012604000|             374|           99.9355|  138.69656727242017|30.58721636378992|    99.9355|169.2837836362101|238.63206727242016|      5|\n",
      "| 49900|76561198012100000|             128|           99.9355|  138.69656727242017|30.58721636378992|    99.9355|169.2837836362101|238.63206727242016|      3|\n",
      "| 49900|76561198011640000|               9|           99.9355|  138.69656727242017|30.58721636378992|    99.9355|169.2837836362101|238.63206727242016|      1|\n",
      "+------+-----------------+----------------+------------------+--------------------+-----------------+-----------+-----------------+------------------+-------+\n",
      "only showing top 20 rows\n",
      "\n"
     ]
    }
   ],
   "source": [
    "# Calculate the per-game mean and standard deviation of the playtime column\n",
    "game_stats = training.filter(col(\"playtime_forever\") > 0).groupBy(\"appid\").agg(\n",
    "    mean(\"playtime_forever\").alias(\"game_mean_playtime\"),\n",
    "    stddev_pop(\"playtime_forever\").alias(\"game_stddev_playtime\")\n",
    ")\n",
    "training = training.join(game_stats, \"appid\")\n",
    "\n",
    "training = training.withColumn(\"cut_point_1\", when(col(\"game_mean_playtime\") - (col(\"game_stddev_playtime\") * 0.5) > 0, col(\"game_mean_playtime\") - (col(\"game_stddev_playtime\") * 0.5)).otherwise(0))\n",
    "training = training.withColumn(\"cut_point_2\", col(\"game_mean_playtime\"))\n",
    "training = training.withColumn(\"cut_point_3\", col(\"game_mean_playtime\") + (col(\"game_stddev_playtime\") * 0.5))\n",
    "training = training.withColumn(\"cut_point_4\", col(\"game_mean_playtime\") + col(\"game_stddev_playtime\"))\n",
    "\n",
    "training = training.withColumn(\n",
    "    \"ratings\",\n",
    "    when(col(\"playtime_forever\") <= col(\"cut_point_1\"), lit(1))\n",
    "    .when((col(\"playtime_forever\") > col(\"cut_point_1\")) & (col(\"playtime_forever\") <= col(\"cut_point_2\")), lit(2))\n",
    "    .when((col(\"playtime_forever\") > col(\"cut_point_2\")) & (col(\"playtime_forever\") <= col(\"cut_point_3\")), lit(3))\n",
    "    .when((col(\"playtime_forever\") > col(\"cut_point_3\")) & (col(\"playtime_forever\") <= col(\"cut_point_4\")), lit(4))\n",
    "    .otherwise(lit(5))\n",
    ")\n",
    "\n",
    "training.show()"
   ]
  },
  {
   "cell_type": "code",
   "execution_count": 42,
   "metadata": {},
   "outputs": [],
   "source": [
    "# Get unique app IDs in the dataset\n",
    "(training_ids, test_ids) = df.select(\"steamid\").distinct().randomSplit([0.8, 0.2], seed=123)"
   ]
  },
  {
   "attachments": {},
   "cell_type": "markdown",
   "metadata": {},
   "source": [
    "## Rating Prediction"
   ]
  },
  {
   "cell_type": "code",
   "execution_count": 72,
   "metadata": {},
   "outputs": [
    {
     "name": "stdout",
     "output_type": "stream",
     "text": [
      "23/04/04 14:34:04 WARN WindowExec: No Partition Defined for Window operation! Moving all data to a single partition, this can cause serious performance degradation.\n",
      "23/04/04 14:34:04 WARN WindowExec: No Partition Defined for Window operation! Moving all data to a single partition, this can cause serious performance degradation.\n",
      "23/04/04 14:34:04 WARN WindowExec: No Partition Defined for Window operation! Moving all data to a single partition, this can cause serious performance degradation.\n",
      "23/04/04 14:34:04 WARN WindowExec: No Partition Defined for Window operation! Moving all data to a single partition, this can cause serious performance degradation.\n",
      "23/04/04 14:34:04 WARN WindowExec: No Partition Defined for Window operation! Moving all data to a single partition, this can cause serious performance degradation.\n",
      "23/04/04 14:34:04 WARN WindowExec: No Partition Defined for Window operation! Moving all data to a single partition, this can cause serious performance degradation.\n",
      "23/04/04 14:34:04 WARN WindowExec: No Partition Defined for Window operation! Moving all data to a single partition, this can cause serious performance degradation.\n",
      "23/04/04 14:34:04 WARN WindowExec: No Partition Defined for Window operation! Moving all data to a single partition, this can cause serious performance degradation.\n",
      "23/04/04 14:34:04 WARN WindowExec: No Partition Defined for Window operation! Moving all data to a single partition, this can cause serious performance degradation.\n",
      "23/04/04 14:34:04 WARN WindowExec: No Partition Defined for Window operation! Moving all data to a single partition, this can cause serious performance degradation.\n",
      "23/04/04 14:34:04 WARN WindowExec: No Partition Defined for Window operation! Moving all data to a single partition, this can cause serious performance degradation.\n",
      "23/04/04 14:34:04 WARN WindowExec: No Partition Defined for Window operation! Moving all data to a single partition, this can cause serious performance degradation.\n",
      "23/04/04 14:34:04 WARN WindowExec: No Partition Defined for Window operation! Moving all data to a single partition, this can cause serious performance degradation.\n",
      "23/04/04 14:34:04 WARN WindowExec: No Partition Defined for Window operation! Moving all data to a single partition, this can cause serious performance degradation.\n",
      "2.4385730162622354\n"
     ]
    }
   ],
   "source": [
    "# Create a dictionary of appids and row numbers\n",
    "all_row_num = vectors.select(\"appid\", \"row_num\").rdd.collectAsMap()\n",
    "\n",
    "def predict_rating(steamid, appid):\n",
    "    # Get all the user's ratings\n",
    "    user_ratings = training.filter(col(\"steamid\") == steamid).select(\"appid\", \"ratings\")\n",
    "\n",
    "    # Get appid row number from the vectors dataframe\n",
    "    appid_row_num = vectors.filter(col(\"appid\") == appid).select(\"row_num\").collect()[0][0]\n",
    "\n",
    "    # Get a list of correlations between the appid and all other games\n",
    "    corr = corr_array[appid_row_num]\n",
    "\n",
    "    # Create a dictionary of appids and ratings for the user\n",
    "    user_ratings_dict = user_ratings.rdd.collectAsMap()\n",
    "\n",
    "    # Set the correlation to 0 for appids that the user has not rated\n",
    "    for appid in all_row_num:\n",
    "        if appid not in user_ratings_dict:\n",
    "            corr[all_row_num[appid]] = 0\n",
    "\n",
    "    # Make a list of tuples of (appid, correlation, rating)\n",
    "    corr_list = []\n",
    "    for appid in all_row_num:\n",
    "        if appid in user_ratings_dict:\n",
    "            row_num = all_row_num[appid]\n",
    "            corr_list.append((appid, corr[row_num], user_ratings_dict[appid]))\n",
    "\n",
    "    # Sort the list by correlation\n",
    "    corr_list.sort(key=lambda x: x[1], reverse=True)\n",
    "\n",
    "    # Get the top 10 most similar appids\n",
    "    top_10 = corr_list[1:11]\n",
    "\n",
    "    # Calculate the weighted average of the top 10 appids\n",
    "    numerator = 0\n",
    "    denominator = 0\n",
    "    for appid, corr, rating in top_10:\n",
    "        numerator += corr * rating\n",
    "        denominator += corr\n",
    "    if denominator != 0:\n",
    "        return numerator / denominator\n",
    "    else:\n",
    "        return 0\n",
    "    \n",
    "print(predict_rating(76561198023872000, 500))"
   ]
  }
 ],
 "metadata": {
  "kernelspec": {
   "display_name": "venv",
   "language": "python",
   "name": "python3"
  },
  "language_info": {
   "codemirror_mode": {
    "name": "ipython",
    "version": 3
   },
   "file_extension": ".py",
   "mimetype": "text/x-python",
   "name": "python",
   "nbconvert_exporter": "python",
   "pygments_lexer": "ipython3",
   "version": "3.10.6"
  },
  "orig_nbformat": 4,
  "vscode": {
   "interpreter": {
    "hash": "34e120910b4957e5cd755e2a42b93193ccb3c34461c3543db7ce9f360eefaa4c"
   }
  }
 },
 "nbformat": 4,
 "nbformat_minor": 2
}
