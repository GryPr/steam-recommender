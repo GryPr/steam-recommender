{
 "cells": [
  {
   "cell_type": "code",
   "execution_count": 17,
   "metadata": {},
   "outputs": [],
   "source": [
    "from pyspark.sql.functions import asc, first, mean, row_number, when, udf, stddev_pop, col, lit, collect_list, array\n",
    "from pyspark.ml.feature import VectorAssembler\n",
    "from pyspark.ml.stat import Correlation\n",
    "from pyspark.sql import SparkSession\n",
    "from pyspark.sql.types import DoubleType\n",
    "from pyspark.sql.window import Window\n",
    "from pyspark.ml.linalg import DenseVector"
   ]
  },
  {
   "attachments": {},
   "cell_type": "markdown",
   "metadata": {},
   "source": [
    "## Load Dataset\n",
    "The dataset is loaded from MariaDB into a dataframe."
   ]
  },
  {
   "cell_type": "code",
   "execution_count": 18,
   "metadata": {},
   "outputs": [],
   "source": [
    "spark = SparkSession.builder.appName('ReadMariaDB') \\\n",
    ".config(\"spark.driver.memory\", \"32g\") \\\n",
    ".config(\"spark.sql.pivotMaxValues\", \"1000000\") \\\n",
    ".getOrCreate()\n",
    "\n",
    "\n",
    "sql = \"select * from 01_sampled_games_2v2 WHERE playtime_forever IS NOT NULL AND playtime_forever > 0\"\n",
    "database = \"steam\"\n",
    "user = \"root\"\n",
    "password = \"example\"\n",
    "server = \"192.168.2.62\"\n",
    "port = 3306\n",
    "jdbc_url = f\"jdbc:mysql://{server}:{port}/{database}?permitMysqlScheme\"\n",
    "jdbc_driver = \"org.mariadb.jdbc.Driver\"\n",
    "\n",
    "# Create a data frame by reading data from Oracle via JDBC\n",
    "df = spark.read.format(\"jdbc\") \\\n",
    "    .option(\"url\", jdbc_url) \\\n",
    "    .option(\"query\", sql) \\\n",
    "    .option(\"user\", user) \\\n",
    "    .option(\"password\", password) \\\n",
    "    .option(\"driver\", jdbc_driver) \\\n",
    "    .load()\n",
    "\n",
    "df = df.drop(\"playtime_2weeks\", \"dateretrieved\")"
   ]
  },
  {
   "cell_type": "code",
   "execution_count": 19,
   "metadata": {},
   "outputs": [
    {
     "name": "stdout",
     "output_type": "stream",
     "text": [
      "The DataFrame has 88349 rows.\n",
      "+-----------------+-----+----------------+\n",
      "|          steamid|appid|playtime_forever|\n",
      "+-----------------+-----+----------------+\n",
      "|76561197960268000|  300|             109|\n",
      "|76561197960268000| 1300|              94|\n",
      "|76561197960268000| 2100|             110|\n",
      "|76561197960268000| 4000|             152|\n",
      "|76561197960268000| 2600|              59|\n",
      "|76561197960268000| 9000|               2|\n",
      "|76561197960268000| 2300|              40|\n",
      "|76561197960268000| 2200|             210|\n",
      "|76561197960268000| 4500|            1002|\n",
      "|76561197960268000|  400|             380|\n",
      "|76561197960268000|17300|            4312|\n",
      "|76561197960268000|  500|             198|\n",
      "|76561197960268000|22300|             425|\n",
      "|76561197960268000|19900|             111|\n",
      "|76561197960268000|18500|            1160|\n",
      "|76561197960268000|22200|              20|\n",
      "|76561197960268000|35700|             433|\n",
      "|76561197960268000|36000|              27|\n",
      "|76561197960268000|39800|             510|\n",
      "|76561197960268000|32400|              32|\n",
      "+-----------------+-----+----------------+\n",
      "only showing top 20 rows\n",
      "\n"
     ]
    }
   ],
   "source": [
    "# Count the number of rows in the DataFrame\n",
    "row_count = df.count()\n",
    "\n",
    "# Print the row count\n",
    "print(\"The DataFrame has\", row_count, \"rows.\")\n",
    "\n",
    "df.show()"
   ]
  },
  {
   "attachments": {},
   "cell_type": "markdown",
   "metadata": {},
   "source": [
    "## Pearson Correlation Matrix\n",
    "Since the dataset contains at most ~4500 games, we can expect a 4500^2=81,000,000 sized matrix. Each float entry takes 4 bytes in memory. Therefore, the pearson correlation matrix would take up 324 MB of memory.\n",
    "\n",
    "Since the memory used is relatively small, we will pre-compute the person correlation matrix and store it for use later in the algorithm."
   ]
  },
  {
   "cell_type": "code",
   "execution_count": 20,
   "metadata": {},
   "outputs": [
    {
     "name": "stdout",
     "output_type": "stream",
     "text": [
      "+-----+------------------------------+--------------------+--------------------+\n",
      "|appid|collect_list(playtime_forever)|     padded_features|            features|\n",
      "+-----+------------------------------+--------------------+--------------------+\n",
      "|  100|          [14, 57, 209, 46,...|[null, null, null...|[14.0,57.0,209.0,...|\n",
      "|  300|          [712, 5, 18, 19, ...|[null, null, null...|[712.0,5.0,18.0,1...|\n",
      "|  400|          [110, 467, 35, 22...|[null, null, null...|[110.0,467.0,35.0...|\n",
      "|  500|          [33, 349, 311, 15...|[null, null, null...|[33.0,349.0,311.0...|\n",
      "| 1200|          [10, 387, 172, 20...|[null, null, null...|[10.0,387.0,172.0...|\n",
      "| 1300|          [7, 2, 270, 91, 2...|[null, null, null...|[7.0,2.0,270.0,91...|\n",
      "| 1500|          [8, 39, 24, 12, 2...|[null, null, null...|[8.0,39.0,24.0,12...|\n",
      "| 1600|          [12, 3, 23, 1527,...|[null, null, null...|[12.0,3.0,23.0,15...|\n",
      "| 1700|          [383, 11, 257, 14...|[null, null, null...|[383.0,11.0,257.0...|\n",
      "| 1900|          [1, 898, 584, 432...|[null, null, null...|[1.0,898.0,584.0,...|\n",
      "| 2100|          [129, 454, 135, 2...|[null, null, null...|[129.0,454.0,135....|\n",
      "| 2200|          [293, 10, 8, 169,...|[null, null, null...|[293.0,10.0,8.0,1...|\n",
      "| 2300|          [1, 18, 11, 12, 2...|[null, null, null...|[1.0,18.0,11.0,12...|\n",
      "| 2400|          [51, 702, 13, 83,...|[null, null, null...|[51.0,702.0,13.0,...|\n",
      "| 2500|          [122, 127, 379, 7...|[null, null, null...|[122.0,127.0,379....|\n",
      "| 2600|          [232, 310, 3013, ...|[null, null, null...|[232.0,310.0,3013...|\n",
      "| 2700|          [448, 486, 634, 4...|[null, null, null...|[448.0,486.0,634....|\n",
      "| 2800|          [49, 10, 26, 41, ...|[null, null, null...|[49.0,10.0,26.0,4...|\n",
      "| 2900|          [97, 16, 1, 15, 4...|[null, null, null...|[97.0,16.0,1.0,15...|\n",
      "| 3000|          [23, 2, 253, 11, ...|[null, null, null...|[23.0,2.0,253.0,1...|\n",
      "+-----+------------------------------+--------------------+--------------------+\n",
      "only showing top 20 rows\n",
      "\n"
     ]
    }
   ],
   "source": [
    "from pyspark.ml.linalg import Vectors, VectorUDT\n",
    "from pyspark.sql.functions import collect_list, udf, size\n",
    "from pyspark.sql.types import ArrayType, DoubleType\n",
    "\n",
    "# Compute the maximum length of the lists of playtime_forever values\n",
    "max_len = df.filter(\"playtime_forever IS NOT NULL\") \\\n",
    "    .groupBy('appid').agg(size(collect_list('playtime_forever')).alias('num_playtimes')) \\\n",
    "    .agg({'num_playtimes': 'max'}).collect()[0][0]\n",
    "\n",
    "# Define a UDF to pad lists with zeros\n",
    "pad_zeros = udf(lambda x: x + [0.0]*(max_len-len(x)), ArrayType(DoubleType()))\n",
    "\n",
    "# Create playtime vectors for each game\n",
    "list_to_dense = udf(lambda l: Vectors.dense(l), VectorUDT())\n",
    "vectors = df.filter(\"playtime_forever IS NOT NULL\")\\\n",
    "    .groupBy('appid').agg(collect_list('playtime_forever'))\\\n",
    "        .withColumn('padded_features', pad_zeros('collect_list(playtime_forever)')) \\\n",
    "        .withColumn('features', list_to_dense('padded_features'))\n",
    "vectors.show()"
   ]
  },
  {
   "cell_type": "code",
   "execution_count": 21,
   "metadata": {},
   "outputs": [
    {
     "name": "stderr",
     "output_type": "stream",
     "text": [
      "                                                                                \r"
     ]
    },
    {
     "name": "stdout",
     "output_type": "stream",
     "text": [
      "[[ 1.          0.13624647  0.31365756 ... -0.00613546 -0.00613546\n",
      "  -0.00613546]\n",
      " [ 0.13624647  1.          0.26861489 ... -0.00189201 -0.00189201\n",
      "  -0.00189201]\n",
      " [ 0.31365756  0.26861489  1.         ... -0.0054461  -0.0054461\n",
      "  -0.0054461 ]\n",
      " ...\n",
      " [-0.00613546 -0.00189201 -0.0054461  ...  1.          1.\n",
      "   1.        ]\n",
      " [-0.00613546 -0.00189201 -0.0054461  ...  1.          1.\n",
      "   1.        ]\n",
      " [-0.00613546 -0.00189201 -0.0054461  ...  1.          1.\n",
      "   1.        ]]\n"
     ]
    }
   ],
   "source": [
    "pearson_matrix = Correlation.corr(vectors, \"features\", \"pearson\")\n",
    "corr_array = pearson_matrix.head()[0].toArray()\n",
    "print(corr_array)"
   ]
  },
  {
   "attachments": {},
   "cell_type": "markdown",
   "metadata": {},
   "source": [
    "## Per-Game 1-5 Rating Normalization\n",
    "For each game, we calculate the mean and standard deviation. We then create buckets for each rating:\n",
    "### Cut points\n",
    "* Cut point 1: mean - std_dev*0.5 if > 0, else 0\n",
    "* Cut point 2: mean\n",
    "* Cut point 3: mean + std_dev*0.5\n",
    "* Cut point 4: mean + std_dev\n",
    "### Ratings\n",
    "* Rating 1: 0 < x < cut point 1\n",
    "* Rating 2: cut point 1 < x < cut point 2\n",
    "* Rating 3: cut point 2 < x < cut point 3\n",
    "* Rating 4: cut point 3 < x < cut point 4\n",
    "* Rating 5: cut point 5 < x < inf"
   ]
  },
  {
   "cell_type": "code",
   "execution_count": 22,
   "metadata": {},
   "outputs": [
    {
     "name": "stdout",
     "output_type": "stream",
     "text": [
      "+------+-----------------+----------------+------------------+--------------------+-----------------+-----------+------------------+------------------+-------+\n",
      "| appid|          steamid|playtime_forever|game_mean_playtime|game_stddev_playtime|      cut_point_1|cut_point_2|       cut_point_3|       cut_point_4|ratings|\n",
      "+------+-----------------+----------------+------------------+--------------------+-----------------+-----------+------------------+------------------+-------+\n",
      "|263700|76561198071863000|              34|           55.7500|   75.15442435412568|18.17278782293716|    55.7500| 93.32721217706285| 130.9044243541257|      2|\n",
      "|263700|76561198055182000|               3|           55.7500|   75.15442435412568|18.17278782293716|    55.7500| 93.32721217706285| 130.9044243541257|      1|\n",
      "|263700|76561197968825000|               2|           55.7500|   75.15442435412568|18.17278782293716|    55.7500| 93.32721217706285| 130.9044243541257|      1|\n",
      "|263700|76561197968595000|             184|           55.7500|   75.15442435412568|18.17278782293716|    55.7500| 93.32721217706285| 130.9044243541257|      5|\n",
      "| 49900|76561198062015000|              23|          110.9888|  175.62923756378515|23.17418121810742|   110.9888|198.80341878189256|286.61803756378515|      1|\n",
      "| 49900|76561198061198000|             247|          110.9888|  175.62923756378515|23.17418121810742|   110.9888|198.80341878189256|286.61803756378515|      4|\n",
      "| 49900|76561198049923000|              32|          110.9888|  175.62923756378515|23.17418121810742|   110.9888|198.80341878189256|286.61803756378515|      2|\n",
      "| 49900|76561198045987000|              24|          110.9888|  175.62923756378515|23.17418121810742|   110.9888|198.80341878189256|286.61803756378515|      2|\n",
      "| 49900|76561198035231000|               7|          110.9888|  175.62923756378515|23.17418121810742|   110.9888|198.80341878189256|286.61803756378515|      1|\n",
      "| 49900|76561198032791000|               8|          110.9888|  175.62923756378515|23.17418121810742|   110.9888|198.80341878189256|286.61803756378515|      1|\n",
      "| 49900|76561198029319000|               9|          110.9888|  175.62923756378515|23.17418121810742|   110.9888|198.80341878189256|286.61803756378515|      1|\n",
      "| 49900|76561198027051000|             171|          110.9888|  175.62923756378515|23.17418121810742|   110.9888|198.80341878189256|286.61803756378515|      3|\n",
      "| 49900|76561198024994000|              41|          110.9888|  175.62923756378515|23.17418121810742|   110.9888|198.80341878189256|286.61803756378515|      2|\n",
      "| 49900|76561198024985000|              79|          110.9888|  175.62923756378515|23.17418121810742|   110.9888|198.80341878189256|286.61803756378515|      2|\n",
      "| 49900|76561198023930000|             128|          110.9888|  175.62923756378515|23.17418121810742|   110.9888|198.80341878189256|286.61803756378515|      3|\n",
      "| 49900|76561198023872000|             254|          110.9888|  175.62923756378515|23.17418121810742|   110.9888|198.80341878189256|286.61803756378515|      4|\n",
      "| 49900|76561198020620000|              10|          110.9888|  175.62923756378515|23.17418121810742|   110.9888|198.80341878189256|286.61803756378515|      1|\n",
      "| 49900|76561198020323000|              20|          110.9888|  175.62923756378515|23.17418121810742|   110.9888|198.80341878189256|286.61803756378515|      1|\n",
      "| 49900|76561198015175000|              83|          110.9888|  175.62923756378515|23.17418121810742|   110.9888|198.80341878189256|286.61803756378515|      2|\n",
      "| 49900|76561198014889000|               8|          110.9888|  175.62923756378515|23.17418121810742|   110.9888|198.80341878189256|286.61803756378515|      1|\n",
      "+------+-----------------+----------------+------------------+--------------------+-----------------+-----------+------------------+------------------+-------+\n",
      "only showing top 20 rows\n",
      "\n"
     ]
    }
   ],
   "source": [
    "\n",
    "# Calculate the per-game mean and standard deviation of the playtime column\n",
    "game_stats = df.filter(col(\"playtime_forever\") > 0).groupBy(\"appid\").agg(\n",
    "    mean(\"playtime_forever\").alias(\"game_mean_playtime\"),\n",
    "    stddev_pop(\"playtime_forever\").alias(\"game_stddev_playtime\")\n",
    ")\n",
    "df = df.join(game_stats, \"appid\")\n",
    "\n",
    "df = df.withColumn(\"cut_point_1\", when(col(\"game_mean_playtime\") - (col(\"game_stddev_playtime\") * 0.5) > 0, col(\"game_mean_playtime\") - (col(\"game_stddev_playtime\") * 0.5)).otherwise(0))\n",
    "df = df.withColumn(\"cut_point_2\", col(\"game_mean_playtime\"))\n",
    "df = df.withColumn(\"cut_point_3\", col(\"game_mean_playtime\") + (col(\"game_stddev_playtime\") * 0.5))\n",
    "df = df.withColumn(\"cut_point_4\", col(\"game_mean_playtime\") + col(\"game_stddev_playtime\"))\n",
    "\n",
    "df = df.withColumn(\n",
    "    \"ratings\",\n",
    "    when(col(\"playtime_forever\") <= col(\"cut_point_1\"), lit(1))\n",
    "    .when((col(\"playtime_forever\") > col(\"cut_point_1\")) & (col(\"playtime_forever\") <= col(\"cut_point_2\")), lit(2))\n",
    "    .when((col(\"playtime_forever\") > col(\"cut_point_2\")) & (col(\"playtime_forever\") <= col(\"cut_point_3\")), lit(3))\n",
    "    .when((col(\"playtime_forever\") > col(\"cut_point_3\")) & (col(\"playtime_forever\") <= col(\"cut_point_4\")), lit(4))\n",
    "    .otherwise(lit(5))\n",
    ")\n",
    "\n",
    "df.show()"
   ]
  }
 ],
 "metadata": {
  "kernelspec": {
   "display_name": "venv",
   "language": "python",
   "name": "python3"
  },
  "language_info": {
   "codemirror_mode": {
    "name": "ipython",
    "version": 3
   },
   "file_extension": ".py",
   "mimetype": "text/x-python",
   "name": "python",
   "nbconvert_exporter": "python",
   "pygments_lexer": "ipython3",
   "version": "3.10.6"
  },
  "orig_nbformat": 4,
  "vscode": {
   "interpreter": {
    "hash": "34e120910b4957e5cd755e2a42b93193ccb3c34461c3543db7ce9f360eefaa4c"
   }
  }
 },
 "nbformat": 4,
 "nbformat_minor": 2
}
