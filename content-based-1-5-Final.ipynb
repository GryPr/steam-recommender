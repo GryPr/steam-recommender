{
 "cells": [
  {
   "cell_type": "markdown",
   "id": "bd8a60f3",
   "metadata": {},
   "source": [
    "Imports"
   ]
  },
  {
   "cell_type": "code",
   "execution_count": 299,
   "id": "f301e724",
   "metadata": {},
   "outputs": [],
   "source": [
    "from pyspark.sql import SparkSession\n",
    "from pyspark.rdd import RDD\n",
    "from pyspark.sql import Row\n",
    "from pyspark.sql import DataFrame\n",
    "from pyspark.sql.window import Window #for ranking\n",
    "from pyspark.sql.functions import lit, mean, stddev_pop\n",
    "from pyspark.sql.functions import collect_set, collect_list\n",
    "from pyspark.sql.functions import struct\n",
    "from pyspark.sql.functions import slice\n",
    "from pyspark.sql.functions import col\n",
    "from pyspark.sql.functions import desc\n",
    "from pyspark.sql.functions import udf\n",
    "from pyspark.ml.evaluation import RegressionEvaluator\n",
    "from pyspark.ml.recommendation import ALS\n",
    "from pyspark.sql.types import DecimalType, ArrayType, IntegerType, FloatType\n",
    "import pyspark.sql.functions as F\n",
    "from pyspark.sql.functions import avg, broadcast, when"
   ]
  },
  {
   "cell_type": "markdown",
   "id": "7de79e64",
   "metadata": {},
   "source": [
    "Define cosine similarity and weighted avg functions"
   ]
  },
  {
   "cell_type": "code",
   "execution_count": 300,
   "id": "6a10972c",
   "metadata": {},
   "outputs": [],
   "source": [
    "# cosine similarity function\n",
    "def cosine_similarity_udf(a, b):\n",
    "    dot_product = sum([x * y for x, y in zip(a, b)])\n",
    "    norm_a = sum([x**2 for x in a])**0.5\n",
    "    norm_b = sum([x**2 for x in b])**0.5\n",
    "    return dot_product / (norm_a * norm_b)\n",
    "\n",
    "\n",
    "def weighted_avg_features(ratings, combined_vectors):\n",
    "    if not ratings or not combined_vectors:\n",
    "        return []\n",
    "\n",
    "    weighted_sum = [0] * len(combined_vectors[0])\n",
    "    total_weight = 0\n",
    "\n",
    "    for rating, combined_vector in zip(ratings, combined_vectors):\n",
    "        weight = float(rating)\n",
    "        total_weight += weight\n",
    "        weighted_sum = [ws + weight * f for ws, f in zip(weighted_sum, combined_vector)]\n",
    "\n",
    "    if total_weight == 0:\n",
    "        return weighted_sum\n",
    "\n",
    "    return [ws / total_weight for ws in weighted_sum]"
   ]
  },
  {
   "cell_type": "markdown",
   "id": "5a51592b",
   "metadata": {},
   "source": [
    "Load Dataset"
   ]
  },
  {
   "cell_type": "code",
   "execution_count": 301,
   "id": "bb3c729c",
   "metadata": {},
   "outputs": [],
   "source": [
    "spark = SparkSession.builder.appName('ReadMySQL') \\\n",
    ".config(\"spark.driver.memory\", \"32g\") \\\n",
    ".config(\"spark.sql.pivotMaxValues\", \"1000000\") \\\n",
    ".config(\"spark.jars\", \"C:\\\\Program Files (x86)\\\\MySQL\\\\Connector J 8.0\\\\mysql-connector-j-8.0.32.jar\") \\\n",
    ".getOrCreate()\n",
    "\n",
    "# sql = \"select * from 01_sampled_games_2v2 WHERE playtime_forever IS NOT NULL AND playtime_forever > 0\"\n",
    "sql = sql = \"\"\"\n",
    "SELECT p.steamid, p.appid, p.playtime_2weeks, p.playtime_forever, p.dateretrieved, g.genre, d.Developer, pb.Publisher\n",
    "FROM 01_sampled_games_2v2 AS p\n",
    "JOIN games_genres AS g ON p.appid = g.appid\n",
    "JOIN games_developers AS d ON p.appid = d.appid\n",
    "JOIN games_publishers AS pb ON p.appid = pb.appid\n",
    "WHERE p.playtime_forever IS NOT NULL AND p.playtime_forever > 0\n",
    "\"\"\"\n",
    "database = \"steam\"\n",
    "user = \"root\"\n",
    "password = \"root\"\n",
    "server = \"127.0.0.1\"\n",
    "port = 3333\n",
    "jdbc_url = f\"jdbc:mysql://{server}:{port}/{database}\"\n",
    "jdbc_driver = \"com.mysql.cj.jdbc.Driver\"\n",
    "\n",
    "# Create a data frame by reading data from Oracle via JDBC\n",
    "df = spark.read.format(\"jdbc\") \\\n",
    "    .option(\"url\", jdbc_url) \\\n",
    "    .option(\"query\", sql) \\\n",
    "    .option(\"user\", user) \\\n",
    "    .option(\"password\", password) \\\n",
    "    .option(\"driver\", jdbc_driver) \\\n",
    "    .load()\n",
    "\n",
    "df = df.drop(\"playtime_2weeks\", \"dateretrieved\")"
   ]
  },
  {
   "cell_type": "code",
   "execution_count": 302,
   "id": "da0d1a81",
   "metadata": {},
   "outputs": [
    {
     "name": "stdout",
     "output_type": "stream",
     "text": [
      "Dataframe has 212589  rows.\n",
      "+-----------------+-----+----------------+----------+--------------------+--------------------+\n",
      "|          steamid|appid|playtime_forever|     genre|           Developer|           Publisher|\n",
      "+-----------------+-----+----------------+----------+--------------------+--------------------+\n",
      "|76561197960268000|  300|             109|    Action|               Valve|               Valve|\n",
      "|76561197960268000| 1300|              94|    Action|Ritual Entertainment|Ritual Entertainment|\n",
      "|76561197960268000| 2100|             110|    Action|      Arkane Studios|             Ubisoft|\n",
      "|76561197960268000| 2100|             110|       RPG|      Arkane Studios|             Ubisoft|\n",
      "|76561197960268000| 4000|             152|     Indie|   Facepunch Studios|               Valve|\n",
      "|76561197960268000| 4000|             152|Simulation|   Facepunch Studios|               Valve|\n",
      "|76561197960268000| 2600|              59|    Action|        Troika Games|          Activision|\n",
      "|76561197960268000| 9000|               2|    Action|         id Software|         id Software|\n",
      "|76561197960268000| 2300|              40|    Action|         id Software|         id Software|\n",
      "|76561197960268000| 2200|             210|    Action|         id Software|         id Software|\n",
      "|76561197960268000| 4500|            1002|    Action|      GSC Game World|      GSC Game World|\n",
      "|76561197960268000| 4500|            1002|       RPG|      GSC Game World|      GSC Game World|\n",
      "|76561197960268000|  400|             380|    Action|               Valve|               Valve|\n",
      "|76561197960268000|17300|            4312|    Action|              Crytek|     Electronic Arts|\n",
      "|76561197960268000|  500|             198|    Action|               Valve|               Valve|\n",
      "|76561197960268000|22300|             425|       RPG|Bethesda Game Stu...|  Bethesda Softworks|\n",
      "|76561197960268000|19900|             111|    Action|    Ubisoft Montreal|             Ubisoft|\n",
      "|76561197960268000|18500|            1160|     Indie|Hidden Path Enter...|Hidden Path Enter...|\n",
      "|76561197960268000|18500|            1160|  Strategy|Hidden Path Enter...|Hidden Path Enter...|\n",
      "|76561197960268000|22200|              20|    Action|            ACE Team|            ACE Team|\n",
      "+-----------------+-----+----------------+----------+--------------------+--------------------+\n",
      "only showing top 20 rows\n",
      "\n"
     ]
    }
   ],
   "source": [
    "# count number of rows in the dataframe\n",
    "row_count = df.count()\n",
    "# print the row count\n",
    "print(\"Dataframe has\", row_count, \" rows.\")\n",
    "df.show()"
   ]
  },
  {
   "cell_type": "markdown",
   "id": "e53d5692",
   "metadata": {},
   "source": [
    "Build item profiles"
   ]
  },
  {
   "cell_type": "code",
   "execution_count": 303,
   "id": "9bb761a1",
   "metadata": {},
   "outputs": [
    {
     "name": "stdout",
     "output_type": "stream",
     "text": [
      "+-----+-----------------+----------------+----------+--------------------+--------------------+--------------------+--------------------+--------------------+\n",
      "|appid|          steamid|playtime_forever|     genre|           Developer|           Publisher|        genre_vector|    developer_vector|    publisher_vector|\n",
      "+-----+-----------------+----------------+----------+--------------------+--------------------+--------------------+--------------------+--------------------+\n",
      "|  300|76561197960268000|             109|    Action|               Valve|               Valve|[1, 0, 0, 0, 0, 0...|[0, 0, 0, 0, 0, 0...|[0, 0, 0, 0, 0, 0...|\n",
      "| 1300|76561197960268000|              94|    Action|Ritual Entertainment|Ritual Entertainment|[1, 0, 0, 0, 0, 0...|[0, 0, 0, 0, 0, 0...|[0, 0, 0, 0, 0, 0...|\n",
      "| 2100|76561197960268000|             110|    Action|      Arkane Studios|             Ubisoft|[1, 0, 0, 0, 0, 0...|[0, 0, 0, 0, 0, 0...|[0, 0, 0, 0, 0, 0...|\n",
      "| 2100|76561197960268000|             110|       RPG|      Arkane Studios|             Ubisoft|[1, 0, 0, 0, 0, 0...|[0, 0, 0, 0, 0, 0...|[0, 0, 0, 0, 0, 0...|\n",
      "| 4000|76561197960268000|             152|     Indie|   Facepunch Studios|               Valve|[0, 0, 0, 0, 0, 0...|[0, 0, 0, 0, 0, 0...|[0, 0, 0, 0, 0, 0...|\n",
      "| 4000|76561197960268000|             152|Simulation|   Facepunch Studios|               Valve|[0, 0, 0, 0, 0, 0...|[0, 0, 0, 0, 0, 0...|[0, 0, 0, 0, 0, 0...|\n",
      "| 2600|76561197960268000|              59|    Action|        Troika Games|          Activision|[1, 0, 0, 0, 0, 0...|[0, 0, 0, 0, 0, 0...|[0, 0, 0, 0, 0, 0...|\n",
      "| 9000|76561197960268000|               2|    Action|         id Software|         id Software|[1, 0, 0, 0, 0, 0...|[0, 0, 0, 0, 0, 0...|[0, 0, 0, 0, 0, 0...|\n",
      "| 2300|76561197960268000|              40|    Action|         id Software|         id Software|[1, 0, 0, 0, 0, 0...|[0, 0, 0, 0, 0, 0...|[0, 0, 0, 0, 0, 0...|\n",
      "| 2200|76561197960268000|             210|    Action|         id Software|         id Software|[1, 0, 0, 0, 0, 0...|[0, 0, 0, 0, 0, 0...|[0, 0, 0, 0, 0, 0...|\n",
      "| 4500|76561197960268000|            1002|    Action|      GSC Game World|      GSC Game World|[1, 0, 0, 0, 0, 0...|[0, 0, 0, 0, 0, 0...|[0, 0, 0, 0, 0, 0...|\n",
      "| 4500|76561197960268000|            1002|       RPG|      GSC Game World|      GSC Game World|[1, 0, 0, 0, 0, 0...|[0, 0, 0, 0, 0, 0...|[0, 0, 0, 0, 0, 0...|\n",
      "|  400|76561197960268000|             380|    Action|               Valve|               Valve|[1, 0, 0, 0, 0, 0...|[0, 0, 0, 0, 0, 0...|[0, 0, 0, 0, 0, 0...|\n",
      "|17300|76561197960268000|            4312|    Action|              Crytek|     Electronic Arts|[1, 0, 0, 0, 0, 0...|[0, 0, 0, 0, 0, 0...|[0, 0, 0, 0, 0, 0...|\n",
      "|  500|76561197960268000|             198|    Action|               Valve|               Valve|[1, 0, 0, 0, 0, 0...|[0, 0, 0, 0, 0, 0...|[0, 0, 0, 0, 0, 0...|\n",
      "|22300|76561197960268000|             425|       RPG|Bethesda Game Stu...|  Bethesda Softworks|[0, 0, 0, 0, 0, 0...|[0, 0, 0, 0, 0, 0...|[0, 0, 0, 0, 0, 0...|\n",
      "|19900|76561197960268000|             111|    Action|    Ubisoft Montreal|             Ubisoft|[1, 0, 0, 0, 0, 0...|[0, 0, 0, 0, 0, 0...|[0, 0, 0, 0, 0, 0...|\n",
      "|18500|76561197960268000|            1160|     Indie|Hidden Path Enter...|Hidden Path Enter...|[0, 0, 0, 0, 0, 0...|[0, 0, 0, 0, 0, 0...|[0, 0, 0, 0, 0, 0...|\n",
      "|18500|76561197960268000|            1160|  Strategy|Hidden Path Enter...|Hidden Path Enter...|[0, 0, 0, 0, 0, 0...|[0, 0, 0, 0, 0, 0...|[0, 0, 0, 0, 0, 0...|\n",
      "|22200|76561197960268000|              20|    Action|            ACE Team|            ACE Team|[1, 0, 0, 0, 0, 0...|[0, 0, 0, 0, 0, 0...|[0, 0, 0, 0, 0, 0...|\n",
      "+-----+-----------------+----------------+----------+--------------------+--------------------+--------------------+--------------------+--------------------+\n",
      "only showing top 20 rows\n",
      "\n"
     ]
    }
   ],
   "source": [
    "# build the item profiles\n",
    "# Group the data by 'appid' and collect the genres for each game into a list\n",
    "games_genres_df = df.groupBy(\"appid\").agg(collect_set(\"genre\").alias(\"genres\"))\n",
    "# Group the data by 'appid' and collect the developers for each game into a list\n",
    "games_developers_df = df.groupBy(\"appid\").agg(collect_set(\"Developer\").alias(\"developers\"))\n",
    "# Group the data by 'appid' and collect the publishers for each game into a list\n",
    "games_publishers_df = df.groupBy(\"appid\").agg(collect_set(\"Publisher\").alias(\"publishers\"))\n",
    "\n",
    "# Create a list of unique genres\n",
    "unique_genres = sorted(df.select(\"genre\").distinct().rdd.flatMap(lambda x: x).collect())\n",
    "# Create a list of unique developers\n",
    "unique_developers = sorted(df.select(\"Developer\").distinct().rdd.flatMap(lambda x: x).collect())\n",
    "# Create a list of unique publishers\n",
    "unique_publishers = sorted(df.select(\"Publisher\").distinct().rdd.flatMap(lambda x: x).collect())\n",
    "\n",
    "\n",
    "# Define a UDF to create a binary vector for each game's genres\n",
    "@udf(returnType=ArrayType(IntegerType()))\n",
    "def genre_vector(genres):\n",
    "    return [1 if genre in genres else 0 for genre in unique_genres]\n",
    "\n",
    "# Define a UDF to create a binary vector for each game's developer\n",
    "@udf(returnType=ArrayType(IntegerType()))\n",
    "def developer_vector(developers):\n",
    "    return [1 if developer in developers else 0 for developer in unique_developers]\n",
    "\n",
    "# Define a UDF to create a binary vector for each game's publisher\n",
    "@udf(returnType=ArrayType(IntegerType()))\n",
    "def publisher_vector(publishers):\n",
    "    return [1 if publisher in publishers else 0 for publisher in unique_publishers]\n",
    "\n",
    "\n",
    "# Add a new column 'genre_vector' to the DataFrame\n",
    "# the genre vector will now have a 1 for each genre that the game belongs to\n",
    "games_genres_df = games_genres_df.withColumn(\"genre_vector\", genre_vector(\"genres\"))\n",
    "# Add a new column 'developer_vector' to the DataFrame\n",
    "games_developers_df = games_developers_df.withColumn(\"developer_vector\", developer_vector(\"developers\"))\n",
    "# Add a new column 'publisher_vector' to the DataFrame\n",
    "games_publishers_df = games_publishers_df.withColumn(\"publisher_vector\", publisher_vector(\"publishers\"))\n",
    "\n",
    "# games_genres_df.show(truncate=False)\n",
    "# Join the main DataFrame with the games_genres_df on appid to include the genre_vector\n",
    "df = df.join(broadcast(games_genres_df.select(\"appid\", \"genre_vector\")), on=\"appid\")\n",
    "# Join the main DataFrame with the games_developers_df\n",
    "df = df.join(broadcast(games_developers_df.select(\"appid\", \"developer_vector\")), on=\"appid\")\n",
    "# Join the main DataFrame with the games_publishers_df\n",
    "df = df.join(broadcast(games_publishers_df.select(\"appid\", \"publisher_vector\")), on=\"appid\")\n",
    "\n",
    "df.show()"
   ]
  },
  {
   "cell_type": "markdown",
   "id": "c1345b29",
   "metadata": {},
   "source": [
    "Normalization"
   ]
  },
  {
   "cell_type": "code",
   "execution_count": 304,
   "id": "8c3bde4d",
   "metadata": {
    "scrolled": true
   },
   "outputs": [
    {
     "name": "stdout",
     "output_type": "stream",
     "text": [
      "+------+-----------------+----------------+------------------+------------------+--------------------+--------------------+------------------+------------------+------------------+------------------+-------+\n",
      "| appid|          steamid|playtime_forever| user_playtime_avg|game_mean_playtime|game_stddev_playtime|      scaling_factor|       cut_point_1|       cut_point_2|       cut_point_3|       cut_point_4|ratings|\n",
      "+------+-----------------+----------------+------------------+------------------+--------------------+--------------------+------------------+------------------+------------------+------------------+-------+\n",
      "| 92800|76561197960268000|              14| 278.2970297029703|271.90725806451616|   710.5034416471758|0.050305962715241216|254.03597824223945|13.678556386197021|289.77853788679283|307.64981770906957|      1|\n",
      "| 49600|76561197960274000|             427|371.29906542056074| 387.4182389937107|   551.3170775921039|  1.1500163608447231|  70.4064093717011| 445.5373133324184| 704.4300686157203|1021.4418982377299|      2|\n",
      "| 63200|76561197960283000|              98|231.05128205128204|450.37560975609756|   731.3499181785353|  0.4241482632338253|295.27521095028453|191.02603268092386| 605.4760085619106| 760.5764073677235|      1|\n",
      "| 65800|76561197960283000|             832|231.05128205128204|  2969.11060743427|   10157.64261466766|  3.6009321939851295|               0.0|10691.565973812807|21257.601760510304| 39546.09291358633|      2|\n",
      "| 12900|76561197960306000|              87| 215.1606425702811| 688.0624315443592|   5211.849218826506| 0.40434904339710687|               0.0|  278.217385992449|1741.7655545255875|2795.4686775068158|      2|\n",
      "| 41500|76561197960306000|             189| 215.1606425702811|  946.803488372093|  1807.3450764413171|  0.8784134391040598|153.00538624978947| 831.6849083766509|1740.6015904943965|   2534.3996926167|      2|\n",
      "|115100|76561197960306000|             487| 215.1606425702811|270.66187050359713|   381.5497469655182|  2.2634251049930008|               0.0| 612.6228726622063| 702.4665085463375| 1134.271146589078|      2|\n",
      "|206500|76561197960306000|              12| 215.1606425702811|  793.830985915493|  2332.7512136863984| 0.05577228184787681| 728.7795568301458|  44.2737654860568| 858.8824150008402| 923.9338440861875|      1|\n",
      "|221100|76561197960342000|            2155|1007.2222222222222| 2622.956698240866|   4800.397811747931|  2.1395477109762826|               0.0|5611.9409997111525| 7758.296773191287|12893.636848141708|      2|\n",
      "|  4700|76561197960421000|            1421| 5880.878787878788|3172.2923832923834|   7289.421371866564| 0.24163055408128037| 2291.618920784361|  766.522766282764| 4052.965845800406| 4933.639308308428|      1|\n",
      "| 41800|76561197960444000|             859|334.03846153846155| 349.5426356589147|  1141.4155600570464|  2.5715601611974668|               0.0| 898.8699165004261|1817.1520264657124|  3284.76141727251|      2|\n",
      "|   400|76561197960468000|              32|  515.317880794702| 316.5763139775075|   771.9276465164435|0.062097592947193914|292.60888958847573|19.658627082098313|340.54373836653923|  364.511162755571|      1|\n",
      "| 98600|76561197960661000|              61| 698.7304347826087|110.14754098360656|    98.8862297207223|   0.087301192224407|105.83109810900874| 9.616011648455585|114.46398385820439|118.78042673280221|      1|\n",
      "| 42700|76561197960949000|             439|1479.3157894736842| 1495.713869221158|  3587.3472415907136|  0.2967588145301882| 963.4254118598575| 443.8662747064318|2028.0023265824584|2560.2907839437585|      1|\n",
      "| 91700|76561197960949000|             464|1479.3157894736842|340.42471042471044|   700.9498334702024| 0.31365851923008503|230.49526701429124|106.77711058114517|450.35415383512964| 560.2835972455489|      4|\n",
      "| 41700|76561197961105000|              11|         1519.6875|1347.8111111111111|  2594.3089005992306|0.007238330248817602| 1338.421878816119| 9.755901935248017|1357.2003434061032|1366.5895757010953|      1|\n",
      "|  7600|76561197961210000|             417|2089.6285714285714| 537.1046511627907|  1863.7010753740685| 0.19955699577505231|351.14735735059895|107.18299060285396| 723.0619449749825| 909.0192387871741|      3|\n",
      "|241600|76561197961210000|             722|2089.6285714285714| 906.2093862815884|  1541.9228558334225|  0.3455159495193951| 639.8299164721172|313.10979656447137|1172.5888560910596|1438.9683259005308|      3|\n",
      "| 91700|76561197961423000|              45| 7383.588235294118|340.42471042471044|   700.9498334702024|0.006094597716716724| 338.2887067974102| 2.074751662868392|342.56071405201067| 344.6967176793109|      1|\n",
      "|   400|76561197961588000|             737| 526.8333333333334| 316.5763139775075|   771.9276465164435|  1.3989243910155014|               0.0| 442.8663272409168| 856.5105203830299|1396.4447267885523|      3|\n",
      "+------+-----------------+----------------+------------------+------------------+--------------------+--------------------+------------------+------------------+------------------+------------------+-------+\n",
      "only showing top 20 rows\n",
      "\n"
     ]
    }
   ],
   "source": [
    "# Calculate the per-game mean and standard deviation of the playtime column\n",
    "game_stats = df.filter(col(\"playtime_forever\") > 0).groupBy(\"appid\").agg(\n",
    "    mean(\"playtime_forever\").alias(\"game_mean_playtime\"),\n",
    "    stddev_pop(\"playtime_forever\").alias(\"game_stddev_playtime\")\n",
    ")\n",
    "\n",
    "# Calculate the per-steamid playtime average\n",
    "user_playtime_avg = df.filter(col(\"playtime_forever\") > 0).groupBy(\"steamid\").agg(avg(\"playtime_forever\")).withColumnRenamed(\"avg(playtime_forever)\", \"user_playtime_avg\")\n",
    "\n",
    "# Join the user_playtime_avg dataframe with the main dataframe\n",
    "df = df.join(user_playtime_avg, \"steamid\").distinct()\n",
    "\n",
    "# Join the game_stats dataframe with the main dataframe\n",
    "df = df.join(game_stats, \"appid\").distinct()\n",
    "\n",
    "# Calculate the scaling factor based on the ratio of user playtime to game mean playtime\n",
    "df = df.withColumn(\"scaling_factor\", col(\"playtime_forever\") / col(\"user_playtime_avg\"))\n",
    "\n",
    "# Calculate the adjusted cut points\n",
    "df = df.withColumn(\"cut_point_1\", when(col(\"game_mean_playtime\") - (col(\"game_stddev_playtime\") * 0.5 * col(\"scaling_factor\")) > 0, col(\"game_mean_playtime\") - (col(\"game_stddev_playtime\") * 0.5 * col(\"scaling_factor\"))).otherwise(0))\n",
    "df = df.withColumn(\"cut_point_2\", col(\"game_mean_playtime\") * col(\"scaling_factor\"))\n",
    "df = df.withColumn(\"cut_point_3\", col(\"game_mean_playtime\") + (col(\"game_stddev_playtime\") * 0.5 * col(\"scaling_factor\")))\n",
    "df = df.withColumn(\"cut_point_4\", col(\"game_mean_playtime\") + col(\"game_stddev_playtime\") * col(\"scaling_factor\"))\n",
    "\n",
    "# Assign ratings based on adjusted cut points\n",
    "df = df.withColumn(\n",
    "    \"ratings\",\n",
    "    when(col(\"playtime_forever\") <= col(\"cut_point_1\"), lit(1))\n",
    "    .when((col(\"playtime_forever\") > col(\"cut_point_1\")) & (col(\"playtime_forever\") <= col(\"cut_point_2\")), lit(2))\n",
    "    .when((col(\"playtime_forever\") > col(\"cut_point_2\")) & (col(\"playtime_forever\") <= col(\"cut_point_3\")), lit(3))\n",
    "    .when((col(\"playtime_forever\") > col(\"cut_point_3\")) & (col(\"playtime_forever\") <= col(\"cut_point_4\")), lit(4))\n",
    "    .otherwise(lit(5))\n",
    ")\n",
    "\n",
    "# Update the user profile calculation to use the new ratings column\n",
    "user_aggregated_data = df.groupBy(\"steamid\").agg(\n",
    "    collect_list(\"genre_vector\").alias(\"genres_list\"),\n",
    "    collect_list(\"ratings\").alias(\"ratings_list\")\n",
    ")\n",
    "\n",
    "# Show df with new changes(without genres)\n",
    "# Drop the genre_vector and genre columns from the DataFrame\n",
    "df_without_info = df.drop(\"genre_vector\", \"genre\", \"developer_vector\", \"Developer\", \"publisher_vector\", \"Publisher\")\n",
    "\n",
    "# Show the DataFrame without the genre_vector and genre columns\n",
    "df_without_info.show()\n",
    "#df.show()"
   ]
  },
  {
   "cell_type": "markdown",
   "id": "1d091da2",
   "metadata": {},
   "source": [
    "Build user profile off this"
   ]
  },
  {
   "cell_type": "code",
   "execution_count": 305,
   "id": "97211531",
   "metadata": {},
   "outputs": [
    {
     "name": "stdout",
     "output_type": "stream",
     "text": [
      "+-----------------+---------------------+--------------------+--------------------+\n",
      "|          steamid|combined_vectors_list|        ratings_list|        user_profile|\n",
      "+-----------------+---------------------+--------------------+--------------------+\n",
      "|76561197960334000| [[1, 0, 0, 0, 0, ...|[1, 2, 1, 2, 2, 1...|[1.0, 0.25, 0.0, ...|\n",
      "|76561197960338000| [[1, 0, 0, 0, 0, ...|                 [2]|[1.0, 0.0, 0.0, 0...|\n",
      "|76561197960342000| [[1, 1, 0, 0, 0, ...|[1, 2, 1, 1, 2, 1...|[1.0, 0.3846154, ...|\n",
      "|76561197960425000| [[0, 0, 0, 0, 0, ...|           [1, 2, 1]|[0.5, 0.0, 0.0, 0...|\n",
      "|76561197960458000| [[1, 0, 0, 0, 0, ...|[1, 1, 2, 2, 1, 1...|[1.0, 0.0, 0.0, 0...|\n",
      "|76561197960476000| [[1, 0, 0, 0, 0, ...|              [2, 3]|[1.0, 0.0, 0.0, 0...|\n",
      "|76561197960884000| [[1, 0, 0, 0, 0, ...|[1, 1, 1, 2, 1, 3...|[1.0, 0.3888889, ...|\n",
      "|76561197961366000| [[1, 0, 0, 0, 0, ...|[1, 1, 1, 1, 3, 1...|[0.7906977, 0.116...|\n",
      "|76561197961433000| [[1, 0, 0, 0, 0, ...|        [5, 5, 5, 5]|[1.0, 0.0, 0.0, 0...|\n",
      "|76561197961590000| [[0, 0, 0, 0, 0, ...|     [1, 2, 2, 2, 2]|[0.8888889, 0.0, ...|\n",
      "|76561197961685000| [[1, 0, 0, 0, 0, ...|[2, 1, 1, 1, 1, 1...|[0.9285714, 0.285...|\n",
      "|76561197961709000| [[1, 0, 0, 0, 0, ...|                 [2]|[1.0, 0.0, 0.0, 0...|\n",
      "|76561197961870000| [[1, 0, 0, 0, 0, ...|              [2, 1]|[1.0, 0.0, 0.0, 0...|\n",
      "|76561197962090000| [[1, 1, 0, 0, 0, ...|[1, 3, 1, 1, 1, 3...|[0.52238804, 0.31...|\n",
      "|76561197962108000| [[0, 0, 0, 1, 0, ...|[1, 1, 1, 2, 2, 2...|[0.84615386, 0.0,...|\n",
      "|76561197962356000| [[1, 1, 0, 0, 0, ...|[1, 1, 1, 1, 1, 1...|[0.74390244, 0.53...|\n",
      "|76561197962414000| [[0, 0, 0, 0, 0, ...|           [5, 5, 1]|[0.09090909, 0.0,...|\n",
      "|76561197962565000| [[0, 0, 0, 0, 0, ...|[3, 3, 3, 3, 3, 3...|[0.12903225, 0.0,...|\n",
      "|76561197962963000| [[1, 0, 0, 0, 0, ...|                 [5]|[1.0, 0.0, 0.0, 0...|\n",
      "|76561197963250000| [[0, 0, 0, 0, 0, ...|[2, 1, 1, 1, 4, 1...|[0.6034483, 0.258...|\n",
      "+-----------------+---------------------+--------------------+--------------------+\n",
      "only showing top 20 rows\n",
      "\n"
     ]
    }
   ],
   "source": [
    "# combine vectors\n",
    "\n",
    "# Define a UDF to combine the vectors\n",
    "@udf(returnType=ArrayType(IntegerType()))\n",
    "def combined_vector(genre_vector, developer_vector, publisher_vector):\n",
    "    return genre_vector + developer_vector + publisher_vector\n",
    "\n",
    "# Add 'combined_vector' to the DataFrame\n",
    "df = df.withColumn(\"combined_vector\", combined_vector(\"genre_vector\", \"developer_vector\", \"publisher_vector\"))\n",
    "\n",
    "# Update the user profile calculation to use the new ratings column and include developer and publisher vectors\n",
    "user_aggregated_data = df.groupBy(\"steamid\").agg(\n",
    "    collect_list(\"combined_vector\").alias(\"combined_vectors_list\"),  \n",
    "    collect_list(\"ratings\").alias(\"ratings_list\")\n",
    ")\n",
    "\n",
    "# Define a UDF to calculate the weighted average of genre vectors\n",
    "weighted_avg_features_udf = udf(weighted_avg_features, ArrayType(FloatType()))\n",
    "\n",
    "# Calculate the user profile as the weighted average of rated item profiles (combined genre, developer, and publisher vectors)\n",
    "user_profiles = user_aggregated_data.withColumn(\"user_profile\", weighted_avg_features_udf(\"ratings_list\", \"combined_vectors_list\"))\n",
    "\n",
    "user_profiles.show()"
   ]
  },
  {
   "cell_type": "code",
   "execution_count": 306,
   "id": "a1419619",
   "metadata": {},
   "outputs": [],
   "source": [
    "# Select a steam id and create a list of games that user has already played"
   ]
  },
  {
   "cell_type": "code",
   "execution_count": 307,
   "id": "acdcd0be",
   "metadata": {},
   "outputs": [],
   "source": [
    "# Filter user_profiles for steam_id \"76561197960421000\"\n",
    "user_profiles = user_profiles.filter(user_profiles.steamid == \"76561197960421000\")\n",
    "# filter for games with playtime\n",
    "played_games = df.filter(df.steamid == \"76561197960421000\").select(\"appid\").distinct()"
   ]
  },
  {
   "cell_type": "markdown",
   "id": "d6a4ab37",
   "metadata": {},
   "source": [
    "Cosine similarity"
   ]
  },
  {
   "cell_type": "code",
   "execution_count": 308,
   "id": "d70bbca6",
   "metadata": {},
   "outputs": [
    {
     "name": "stdout",
     "output_type": "stream",
     "text": [
      "+------+--------------------+-----------------+---------------------+--------------------+--------------------+----------+\n",
      "| appid|     combined_vector|          steamid|combined_vectors_list|        ratings_list|        user_profile|similarity|\n",
      "+------+--------------------+-----------------+---------------------+--------------------+--------------------+----------+\n",
      "|  8000|[1, 1, 0, 0, 0, 0...|76561197960421000| [[0, 0, 0, 0, 0, ...|[3, 1, 1, 1, 1, 1...|[0.443038, 0.0632...|0.42611712|\n",
      "|227600|[0, 1, 0, 1, 0, 0...|76561197960421000| [[0, 0, 0, 0, 0, ...|[3, 1, 1, 1, 1, 1...|[0.443038, 0.0632...| 0.4224751|\n",
      "|107200|[1, 0, 0, 0, 0, 0...|76561197960421000| [[0, 0, 0, 0, 0, ...|[3, 1, 1, 1, 1, 1...|[0.443038, 0.0632...|0.41154903|\n",
      "| 65800|[1, 0, 0, 0, 0, 0...|76561197960421000| [[0, 0, 0, 0, 0, ...|[3, 1, 1, 1, 1, 1...|[0.443038, 0.0632...|0.41154903|\n",
      "| 99300|[1, 0, 0, 0, 0, 0...|76561197960421000| [[0, 0, 0, 0, 0, ...|[3, 1, 1, 1, 1, 1...|[0.443038, 0.0632...|0.38114467|\n",
      "| 29800|[1, 1, 0, 1, 0, 0...|76561197960421000| [[0, 0, 0, 0, 0, ...|[3, 1, 1, 1, 1, 1...|[0.443038, 0.0632...|0.37218234|\n",
      "| 80000|[1, 0, 0, 0, 0, 0...|76561197960421000| [[0, 0, 0, 0, 0, ...|[3, 1, 1, 1, 1, 1...|[0.443038, 0.0632...|0.37103656|\n",
      "| 40500|[1, 0, 0, 0, 0, 0...|76561197960421000| [[0, 0, 0, 0, 0, ...|[3, 1, 1, 1, 1, 1...|[0.443038, 0.0632...|0.37103656|\n",
      "|102600|[1, 0, 0, 0, 0, 0...|76561197960421000| [[0, 0, 0, 0, 0, ...|[3, 1, 1, 1, 1, 1...|[0.443038, 0.0632...|0.37103656|\n",
      "| 96900|[1, 0, 0, 0, 0, 0...|76561197960421000| [[0, 0, 0, 0, 0, ...|[3, 1, 1, 1, 1, 1...|[0.443038, 0.0632...|0.37103656|\n",
      "+------+--------------------+-----------------+---------------------+--------------------+--------------------+----------+\n",
      "only showing top 10 rows\n",
      "\n"
     ]
    }
   ],
   "source": [
    "# prediction heuristics\n",
    "# calculate cosine distance of an item and user profile\n",
    "\n",
    "# 1. create udf for cosine similarity\n",
    "cosine_similarity = udf(cosine_similarity_udf, FloatType())\n",
    "# create dataframe with combined vectors\n",
    "games_combined_vectors_df = df.select(\"appid\", \"combined_vector\").distinct()\n",
    "# exclude the games played from games_combined\n",
    "games_combined_vectors_df = games_combined_vectors_df.join(played_games, \"appid\", how=\"left_anti\")\n",
    "\n",
    "# limit the number of rows for testing\n",
    "user_profiles = user_profiles.limit(1)\n",
    "# cross join the the combined vectors with the user_profiles\n",
    "cross_joined = games_combined_vectors_df.crossJoin(user_profiles)\n",
    "\n",
    "# calculate the cosine similarity between each item and user\n",
    "recommendations = cross_joined.withColumn(\n",
    "    \"similarity\", cosine_similarity(\"combined_vector\", \"user_profile\")\n",
    ")\n",
    "\n",
    "# sort based on similarity score\n",
    "sorted_recommendations = recommendations.sort(desc(\"similarity\"))\n",
    "\n",
    "sorted_recommendations.show(10)"
   ]
  },
  {
   "cell_type": "markdown",
   "id": "76ff5337",
   "metadata": {},
   "source": [
    "recommender"
   ]
  },
  {
   "cell_type": "code",
   "execution_count": 309,
   "id": "225f173a",
   "metadata": {},
   "outputs": [
    {
     "name": "stdout",
     "output_type": "stream",
     "text": [
      "+------+--------------------+-----------------+---------------------+--------------------+--------------------+----------+----+\n",
      "| appid|     combined_vector|          steamid|combined_vectors_list|        ratings_list|        user_profile|similarity|rank|\n",
      "+------+--------------------+-----------------+---------------------+--------------------+--------------------+----------+----+\n",
      "|  8000|[1, 1, 0, 0, 0, 0...|76561197960421000| [[0, 0, 0, 0, 0, ...|[3, 1, 1, 1, 1, 1...|[0.443038, 0.0632...|0.42611712|   1|\n",
      "|227600|[0, 1, 0, 1, 0, 0...|76561197960421000| [[0, 0, 0, 0, 0, ...|[3, 1, 1, 1, 1, 1...|[0.443038, 0.0632...| 0.4224751|   2|\n",
      "|107200|[1, 0, 0, 0, 0, 0...|76561197960421000| [[0, 0, 0, 0, 0, ...|[3, 1, 1, 1, 1, 1...|[0.443038, 0.0632...|0.41154903|   3|\n",
      "| 65800|[1, 0, 0, 0, 0, 0...|76561197960421000| [[0, 0, 0, 0, 0, ...|[3, 1, 1, 1, 1, 1...|[0.443038, 0.0632...|0.41154903|   4|\n",
      "| 99300|[1, 0, 0, 0, 0, 0...|76561197960421000| [[0, 0, 0, 0, 0, ...|[3, 1, 1, 1, 1, 1...|[0.443038, 0.0632...|0.38114467|   5|\n",
      "| 29800|[1, 1, 0, 1, 0, 0...|76561197960421000| [[0, 0, 0, 0, 0, ...|[3, 1, 1, 1, 1, 1...|[0.443038, 0.0632...|0.37218234|   6|\n",
      "|108500|[1, 0, 0, 0, 0, 0...|76561197960421000| [[0, 0, 0, 0, 0, ...|[3, 1, 1, 1, 1, 1...|[0.443038, 0.0632...|0.37103656|   7|\n",
      "| 40500|[1, 0, 0, 0, 0, 0...|76561197960421000| [[0, 0, 0, 0, 0, ...|[3, 1, 1, 1, 1, 1...|[0.443038, 0.0632...|0.37103656|   8|\n",
      "|102600|[1, 0, 0, 0, 0, 0...|76561197960421000| [[0, 0, 0, 0, 0, ...|[3, 1, 1, 1, 1, 1...|[0.443038, 0.0632...|0.37103656|   9|\n",
      "| 91200|[1, 0, 0, 0, 0, 0...|76561197960421000| [[0, 0, 0, 0, 0, ...|[3, 1, 1, 1, 1, 1...|[0.443038, 0.0632...|0.37103656|  10|\n",
      "+------+--------------------+-----------------+---------------------+--------------------+--------------------+----------+----+\n",
      "\n"
     ]
    }
   ],
   "source": [
    "# Create a window by steamid and similarity to get ranking\n",
    "window_spec = Window.partitionBy(\"steamid\").orderBy(desc(\"similarity\"))\n",
    "\n",
    "ranked_recommendations = sorted_recommendations.withColumn(\"rank\", F.row_number().over(window_spec))\n",
    "\n",
    "top_10_recommendations = ranked_recommendations.filter(ranked_recommendations.rank <= 10)\n",
    "top_10_recommendations.show(10)"
   ]
  },
  {
   "cell_type": "code",
   "execution_count": null,
   "id": "5d5ecb85",
   "metadata": {},
   "outputs": [],
   "source": []
  }
 ],
 "metadata": {
  "kernelspec": {
   "display_name": "Python 3 (ipykernel)",
   "language": "python",
   "name": "python3"
  },
  "language_info": {
   "codemirror_mode": {
    "name": "ipython",
    "version": 3
   },
   "file_extension": ".py",
   "mimetype": "text/x-python",
   "name": "python",
   "nbconvert_exporter": "python",
   "pygments_lexer": "ipython3",
   "version": "3.8.11"
  }
 },
 "nbformat": 4,
 "nbformat_minor": 5
}
