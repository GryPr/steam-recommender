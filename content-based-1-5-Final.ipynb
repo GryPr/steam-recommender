{
 "cells": [
  {
   "cell_type": "markdown",
   "id": "bd8a60f3",
   "metadata": {},
   "source": [
    "Imports"
   ]
  },
  {
   "cell_type": "code",
   "execution_count": 84,
   "id": "f301e724",
   "metadata": {},
   "outputs": [],
   "source": [
    "from pyspark.sql import SparkSession\n",
    "from pyspark.rdd import RDD\n",
    "from pyspark.sql import Row\n",
    "from pyspark.sql import DataFrame\n",
    "from pyspark.sql.window import Window #for ranking\n",
    "from pyspark.sql.functions import lit, mean, stddev_pop\n",
    "from pyspark.sql.functions import collect_set, collect_list\n",
    "from pyspark.sql.functions import struct\n",
    "from pyspark.sql.functions import slice\n",
    "from pyspark.sql.functions import col\n",
    "from pyspark.sql.functions import desc\n",
    "from pyspark.sql.functions import udf\n",
    "from pyspark.ml.evaluation import RegressionEvaluator\n",
    "from pyspark.ml.recommendation import ALS\n",
    "from pyspark.sql.types import DecimalType, ArrayType, IntegerType, FloatType\n",
    "import pyspark.sql.functions as F\n",
    "import findspark\n",
    "from pyspark.sql.functions import avg, broadcast, when"
   ]
  },
  {
   "cell_type": "markdown",
   "id": "7de79e64",
   "metadata": {},
   "source": [
    "Define cosine similarity and weighted avg functions"
   ]
  },
  {
   "cell_type": "code",
   "execution_count": 85,
   "id": "6a10972c",
   "metadata": {},
   "outputs": [],
   "source": [
    "# cosine similarity function\n",
    "def cosine_similarity_udf(a, b):\n",
    "    dot_product = sum([x * y for x, y in zip(a, b)])\n",
    "    norm_a = sum([x**2 for x in a])**0.5\n",
    "    norm_b = sum([x**2 for x in b])**0.5\n",
    "    return dot_product / (norm_a * norm_b)\n",
    "\n",
    "\n",
    "def weighted_avg_features(ratings, combined_vectors):\n",
    "    if not ratings or not combined_vectors:\n",
    "        return []\n",
    "\n",
    "    weighted_sum = [0] * len(combined_vectors[0])\n",
    "    total_weight = 0\n",
    "\n",
    "    for rating, combined_vector in zip(ratings, combined_vectors):\n",
    "        weight = float(rating)\n",
    "        total_weight += weight\n",
    "        weighted_sum = [ws + weight * f for ws, f in zip(weighted_sum, combined_vector)]\n",
    "\n",
    "    if total_weight == 0:\n",
    "        return weighted_sum\n",
    "\n",
    "    return [ws / total_weight for ws in weighted_sum]"
   ]
  },
  {
   "cell_type": "markdown",
   "id": "5a51592b",
   "metadata": {},
   "source": [
    "Load Dataset"
   ]
  },
  {
   "cell_type": "code",
   "execution_count": 86,
   "id": "bb3c729c",
   "metadata": {},
   "outputs": [],
   "source": [
    "findspark.init()\n",
    "spark = SparkSession.builder.appName('ReadMySQL') \\\n",
    ".config(\"spark.driver.memory\", \"32g\") \\\n",
    ".config(\"spark.sql.pivotMaxValues\", \"1000000\") \\\n",
    ".config(\"spark.jars\", \"C:\\\\Program Files (x86)\\\\MySQL\\\\Connector J 8.0\\\\mysql-connector-j-8.0.32.jar\") \\\n",
    ".getOrCreate()\n",
    "\n",
    "# sql = \"select * from 01_sampled_games_2v2 WHERE playtime_forever IS NOT NULL AND playtime_forever > 0\"\n",
    "sql = \"\"\"\n",
    "SELECT p.steamid, p.appid, p.playtime_2weeks, p.playtime_forever, p.dateretrieved, g.genre, d.Developer, pb.Publisher\n",
    "FROM 01_sampled_games_2v2 AS p\n",
    "JOIN games_genres AS g ON p.appid = g.appid\n",
    "JOIN games_developers AS d ON p.appid = d.appid\n",
    "JOIN games_publishers AS pb ON p.appid = pb.appid\n",
    "WHERE p.playtime_forever IS NOT NULL AND p.playtime_forever > 0\n",
    "\"\"\"\n",
    "database = \"steam\"\n",
    "user = \"root\"\n",
    "password = \"root\"\n",
    "server = \"127.0.0.1\"\n",
    "port = 3333\n",
    "jdbc_url = f\"jdbc:mysql://{server}:{port}/{database}\"\n",
    "jdbc_driver = \"com.mysql.cj.jdbc.Driver\"\n",
    "\n",
    "# Create a data frame by reading data from Oracle via JDBC\n",
    "df = spark.read.format(\"jdbc\") \\\n",
    "    .option(\"url\", jdbc_url) \\\n",
    "    .option(\"query\", sql) \\\n",
    "    .option(\"user\", user) \\\n",
    "    .option(\"password\", password) \\\n",
    "    .option(\"driver\", jdbc_driver) \\\n",
    "    .load()\n",
    "\n",
    "df = df.drop(\"playtime_2weeks\", \"dateretrieved\")"
   ]
  },
  {
   "cell_type": "code",
   "execution_count": 87,
   "id": "da0d1a81",
   "metadata": {},
   "outputs": [
    {
     "name": "stdout",
     "output_type": "stream",
     "text": [
      "Dataframe has 212589  rows.\n",
      "+-----------------+-----+----------------+----------+--------------------+--------------------+\n",
      "|          steamid|appid|playtime_forever|     genre|           Developer|           Publisher|\n",
      "+-----------------+-----+----------------+----------+--------------------+--------------------+\n",
      "|76561197960268000|  300|             109|    Action|               Valve|               Valve|\n",
      "|76561197960268000| 1300|              94|    Action|Ritual Entertainment|Ritual Entertainment|\n",
      "|76561197960268000| 2100|             110|    Action|      Arkane Studios|             Ubisoft|\n",
      "|76561197960268000| 2100|             110|       RPG|      Arkane Studios|             Ubisoft|\n",
      "|76561197960268000| 4000|             152|     Indie|   Facepunch Studios|               Valve|\n",
      "|76561197960268000| 4000|             152|Simulation|   Facepunch Studios|               Valve|\n",
      "|76561197960268000| 2600|              59|    Action|        Troika Games|          Activision|\n",
      "|76561197960268000| 9000|               2|    Action|         id Software|         id Software|\n",
      "|76561197960268000| 2300|              40|    Action|         id Software|         id Software|\n",
      "|76561197960268000| 2200|             210|    Action|         id Software|         id Software|\n",
      "|76561197960268000| 4500|            1002|    Action|      GSC Game World|      GSC Game World|\n",
      "|76561197960268000| 4500|            1002|       RPG|      GSC Game World|      GSC Game World|\n",
      "|76561197960268000|  400|             380|    Action|               Valve|               Valve|\n",
      "|76561197960268000|17300|            4312|    Action|              Crytek|     Electronic Arts|\n",
      "|76561197960268000|  500|             198|    Action|               Valve|               Valve|\n",
      "|76561197960268000|22300|             425|       RPG|Bethesda Game Stu...|  Bethesda Softworks|\n",
      "|76561197960268000|19900|             111|    Action|    Ubisoft Montreal|             Ubisoft|\n",
      "|76561197960268000|18500|            1160|     Indie|Hidden Path Enter...|Hidden Path Enter...|\n",
      "|76561197960268000|18500|            1160|  Strategy|Hidden Path Enter...|Hidden Path Enter...|\n",
      "|76561197960268000|22200|              20|    Action|            ACE Team|            ACE Team|\n",
      "+-----------------+-----+----------------+----------+--------------------+--------------------+\n",
      "only showing top 20 rows\n",
      "\n"
     ]
    }
   ],
   "source": [
    "# count number of rows in the dataframe\n",
    "row_count = df.count()\n",
    "# print the row count\n",
    "print(\"Dataframe has\", row_count, \" rows.\")\n",
    "df.show()"
   ]
  },
  {
   "cell_type": "markdown",
   "id": "e53d5692",
   "metadata": {},
   "source": [
    "Build item profiles"
   ]
  },
  {
   "cell_type": "code",
   "execution_count": 88,
   "id": "9bb761a1",
   "metadata": {},
   "outputs": [
    {
     "name": "stdout",
     "output_type": "stream",
     "text": [
      "+-----+-----------------+----------------+----------+--------------------+--------------------+--------------------+--------------------+--------------------+\n",
      "|appid|          steamid|playtime_forever|     genre|           Developer|           Publisher|        genre_vector|    developer_vector|    publisher_vector|\n",
      "+-----+-----------------+----------------+----------+--------------------+--------------------+--------------------+--------------------+--------------------+\n",
      "|  300|76561197960268000|             109|    Action|               Valve|               Valve|[1, 0, 0, 0, 0, 0...|[0, 0, 0, 0, 0, 0...|[0, 0, 0, 0, 0, 0...|\n",
      "| 1300|76561197960268000|              94|    Action|Ritual Entertainment|Ritual Entertainment|[1, 0, 0, 0, 0, 0...|[0, 0, 0, 0, 0, 0...|[0, 0, 0, 0, 0, 0...|\n",
      "| 2100|76561197960268000|             110|    Action|      Arkane Studios|             Ubisoft|[1, 0, 0, 0, 0, 0...|[0, 0, 0, 0, 0, 0...|[0, 0, 0, 0, 0, 0...|\n",
      "| 2100|76561197960268000|             110|       RPG|      Arkane Studios|             Ubisoft|[1, 0, 0, 0, 0, 0...|[0, 0, 0, 0, 0, 0...|[0, 0, 0, 0, 0, 0...|\n",
      "| 4000|76561197960268000|             152|     Indie|   Facepunch Studios|               Valve|[0, 0, 0, 0, 0, 0...|[0, 0, 0, 0, 0, 0...|[0, 0, 0, 0, 0, 0...|\n",
      "| 4000|76561197960268000|             152|Simulation|   Facepunch Studios|               Valve|[0, 0, 0, 0, 0, 0...|[0, 0, 0, 0, 0, 0...|[0, 0, 0, 0, 0, 0...|\n",
      "| 2600|76561197960268000|              59|    Action|        Troika Games|          Activision|[1, 0, 0, 0, 0, 0...|[0, 0, 0, 0, 0, 0...|[0, 0, 0, 0, 0, 0...|\n",
      "| 9000|76561197960268000|               2|    Action|         id Software|         id Software|[1, 0, 0, 0, 0, 0...|[0, 0, 0, 0, 0, 0...|[0, 0, 0, 0, 0, 0...|\n",
      "| 2300|76561197960268000|              40|    Action|         id Software|         id Software|[1, 0, 0, 0, 0, 0...|[0, 0, 0, 0, 0, 0...|[0, 0, 0, 0, 0, 0...|\n",
      "| 2200|76561197960268000|             210|    Action|         id Software|         id Software|[1, 0, 0, 0, 0, 0...|[0, 0, 0, 0, 0, 0...|[0, 0, 0, 0, 0, 0...|\n",
      "| 4500|76561197960268000|            1002|    Action|      GSC Game World|      GSC Game World|[1, 0, 0, 0, 0, 0...|[0, 0, 0, 0, 0, 0...|[0, 0, 0, 0, 0, 0...|\n",
      "| 4500|76561197960268000|            1002|       RPG|      GSC Game World|      GSC Game World|[1, 0, 0, 0, 0, 0...|[0, 0, 0, 0, 0, 0...|[0, 0, 0, 0, 0, 0...|\n",
      "|  400|76561197960268000|             380|    Action|               Valve|               Valve|[1, 0, 0, 0, 0, 0...|[0, 0, 0, 0, 0, 0...|[0, 0, 0, 0, 0, 0...|\n",
      "|17300|76561197960268000|            4312|    Action|              Crytek|     Electronic Arts|[1, 0, 0, 0, 0, 0...|[0, 0, 0, 0, 0, 0...|[0, 0, 0, 0, 0, 0...|\n",
      "|  500|76561197960268000|             198|    Action|               Valve|               Valve|[1, 0, 0, 0, 0, 0...|[0, 0, 0, 0, 0, 0...|[0, 0, 0, 0, 0, 0...|\n",
      "|22300|76561197960268000|             425|       RPG|Bethesda Game Stu...|  Bethesda Softworks|[0, 0, 0, 0, 0, 0...|[0, 0, 0, 0, 0, 0...|[0, 0, 0, 0, 0, 0...|\n",
      "|19900|76561197960268000|             111|    Action|    Ubisoft Montreal|             Ubisoft|[1, 0, 0, 0, 0, 0...|[0, 0, 0, 0, 0, 0...|[0, 0, 0, 0, 0, 0...|\n",
      "|18500|76561197960268000|            1160|     Indie|Hidden Path Enter...|Hidden Path Enter...|[0, 0, 0, 0, 0, 0...|[0, 0, 0, 0, 0, 0...|[0, 0, 0, 0, 0, 0...|\n",
      "|18500|76561197960268000|            1160|  Strategy|Hidden Path Enter...|Hidden Path Enter...|[0, 0, 0, 0, 0, 0...|[0, 0, 0, 0, 0, 0...|[0, 0, 0, 0, 0, 0...|\n",
      "|22200|76561197960268000|              20|    Action|            ACE Team|            ACE Team|[1, 0, 0, 0, 0, 0...|[0, 0, 0, 0, 0, 0...|[0, 0, 0, 0, 0, 0...|\n",
      "+-----+-----------------+----------------+----------+--------------------+--------------------+--------------------+--------------------+--------------------+\n",
      "only showing top 20 rows\n",
      "\n"
     ]
    }
   ],
   "source": [
    "# build the item profiles\n",
    "# Group the data by 'appid' and collect the genres for each game into a list\n",
    "games_genres_df = df.groupBy(\"appid\").agg(collect_set(\"genre\").alias(\"genres\"))\n",
    "# Group the data by 'appid' and collect the developers for each game into a list\n",
    "games_developers_df = df.groupBy(\"appid\").agg(collect_set(\"Developer\").alias(\"developers\"))\n",
    "# Group the data by 'appid' and collect the publishers for each game into a list\n",
    "games_publishers_df = df.groupBy(\"appid\").agg(collect_set(\"Publisher\").alias(\"publishers\"))\n",
    "\n",
    "# Create a list of unique genres\n",
    "unique_genres = sorted(df.select(\"genre\").distinct().rdd.flatMap(lambda x: x).collect())\n",
    "# Create a list of unique developers\n",
    "unique_developers = sorted(df.select(\"Developer\").distinct().rdd.flatMap(lambda x: x).collect())\n",
    "# Create a list of unique publishers\n",
    "unique_publishers = sorted(df.select(\"Publisher\").distinct().rdd.flatMap(lambda x: x).collect())\n",
    "\n",
    "\n",
    "# Define a UDF to create a binary vector for each game's genres\n",
    "@udf(returnType=ArrayType(IntegerType()))\n",
    "def genre_vector(genres):\n",
    "    return [1 if genre in genres else 0 for genre in unique_genres]\n",
    "\n",
    "# Define a UDF to create a binary vector for each game's developer\n",
    "@udf(returnType=ArrayType(IntegerType()))\n",
    "def developer_vector(developers):\n",
    "    return [1 if developer in developers else 0 for developer in unique_developers]\n",
    "\n",
    "# Define a UDF to create a binary vector for each game's publisher\n",
    "@udf(returnType=ArrayType(IntegerType()))\n",
    "def publisher_vector(publishers):\n",
    "    return [1 if publisher in publishers else 0 for publisher in unique_publishers]\n",
    "\n",
    "\n",
    "# Add a new column 'genre_vector' to the DataFrame\n",
    "# the genre vector will now have a 1 for each genre that the game belongs to\n",
    "games_genres_df = games_genres_df.withColumn(\"genre_vector\", genre_vector(\"genres\"))\n",
    "# Add a new column 'developer_vector' to the DataFrame\n",
    "games_developers_df = games_developers_df.withColumn(\"developer_vector\", developer_vector(\"developers\"))\n",
    "# Add a new column 'publisher_vector' to the DataFrame\n",
    "games_publishers_df = games_publishers_df.withColumn(\"publisher_vector\", publisher_vector(\"publishers\"))\n",
    "\n",
    "# games_genres_df.show(truncate=False)\n",
    "# Join the main DataFrame with the games_genres_df on appid to include the genre_vector\n",
    "df = df.join(broadcast(games_genres_df.select(\"appid\", \"genre_vector\")), on=\"appid\")\n",
    "# Join the main DataFrame with the games_developers_df\n",
    "df = df.join(broadcast(games_developers_df.select(\"appid\", \"developer_vector\")), on=\"appid\")\n",
    "# Join the main DataFrame with the games_publishers_df\n",
    "df = df.join(broadcast(games_publishers_df.select(\"appid\", \"publisher_vector\")), on=\"appid\")\n",
    "\n",
    "df.show()"
   ]
  },
  {
   "cell_type": "markdown",
   "id": "c1345b29",
   "metadata": {},
   "source": [
    "Build the user profile"
   ]
  },
  {
   "cell_type": "code",
   "execution_count": 89,
   "id": "8c3bde4d",
   "metadata": {
    "scrolled": true
   },
   "outputs": [
    {
     "ename": "AnalysisException",
     "evalue": "Column 'ratings' does not exist. Did you mean one of the following? [ratings_adj, appid, genre, steamid, Publisher, cut_point_1, cut_point_2, cut_point_3, cut_point_4, Developer, scaling_factor, genre_vector, playtime_forever, user_playtime_avg, developer_vector, publisher_vector, game_mean_playtime, game_stddev_playtime];\n'Aggregate [steamid#12108], [steamid#12108, collect_list(genre_vector#12200, 0, 0) AS genres_list#12669, collect_list('ratings, 0, 0) AS ratings_list#12671]\n+- Project [appid#12109L, steamid#12108, playtime_forever#12111L, genre#12113, Developer#12114, Publisher#12115, genre_vector#12200, developer_vector#12205, publisher_vector#12210, user_playtime_avg#12446, game_mean_playtime#12363, game_stddev_playtime#12373, scaling_factor#12551, cut_point_1#12565, cut_point_2#12580, cut_point_3#12596, cut_point_4#12613, CASE WHEN (cast(playtime_forever#12111L as double) <= cut_point_1#12565) THEN 1 WHEN ((cast(playtime_forever#12111L as double) > cut_point_1#12565) AND (cast(playtime_forever#12111L as double) <= cut_point_2#12580)) THEN 2 WHEN ((cast(playtime_forever#12111L as double) > cut_point_2#12580) AND (cast(playtime_forever#12111L as double) <= cut_point_3#12596)) THEN 3 WHEN ((cast(playtime_forever#12111L as double) > cut_point_3#12596) AND (cast(playtime_forever#12111L as double) <= cut_point_4#12613)) THEN 4 ELSE 5 END AS ratings_adj#12631]\n   +- Project [appid#12109L, steamid#12108, playtime_forever#12111L, genre#12113, Developer#12114, Publisher#12115, genre_vector#12200, developer_vector#12205, publisher_vector#12210, user_playtime_avg#12446, game_mean_playtime#12363, game_stddev_playtime#12373, scaling_factor#12551, cut_point_1#12565, cut_point_2#12580, cut_point_3#12596, (game_mean_playtime#12363 + (game_stddev_playtime#12373 * scaling_factor#12551)) AS cut_point_4#12613]\n      +- Project [appid#12109L, steamid#12108, playtime_forever#12111L, genre#12113, Developer#12114, Publisher#12115, genre_vector#12200, developer_vector#12205, publisher_vector#12210, user_playtime_avg#12446, game_mean_playtime#12363, game_stddev_playtime#12373, scaling_factor#12551, cut_point_1#12565, cut_point_2#12580, (game_mean_playtime#12363 + ((game_stddev_playtime#12373 * 0.5) * scaling_factor#12551)) AS cut_point_3#12596]\n         +- Project [appid#12109L, steamid#12108, playtime_forever#12111L, genre#12113, Developer#12114, Publisher#12115, genre_vector#12200, developer_vector#12205, publisher_vector#12210, user_playtime_avg#12446, game_mean_playtime#12363, game_stddev_playtime#12373, scaling_factor#12551, cut_point_1#12565, (game_mean_playtime#12363 * scaling_factor#12551) AS cut_point_2#12580]\n            +- Project [appid#12109L, steamid#12108, playtime_forever#12111L, genre#12113, Developer#12114, Publisher#12115, genre_vector#12200, developer_vector#12205, publisher_vector#12210, user_playtime_avg#12446, game_mean_playtime#12363, game_stddev_playtime#12373, scaling_factor#12551, CASE WHEN ((game_mean_playtime#12363 - ((game_stddev_playtime#12373 * 0.5) * scaling_factor#12551)) > cast(0 as double)) THEN (game_mean_playtime#12363 - ((game_stddev_playtime#12373 * 0.5) * scaling_factor#12551)) ELSE cast(0 as double) END AS cut_point_1#12565]\n               +- Project [appid#12109L, steamid#12108, playtime_forever#12111L, genre#12113, Developer#12114, Publisher#12115, genre_vector#12200, developer_vector#12205, publisher_vector#12210, user_playtime_avg#12446, game_mean_playtime#12363, game_stddev_playtime#12373, (user_playtime_avg#12446 / 1762.866973361745) AS scaling_factor#12551]\n                  +- Project [appid#12109L, steamid#12108, playtime_forever#12111L, genre#12113, Developer#12114, Publisher#12115, genre_vector#12200, developer_vector#12205, publisher_vector#12210, user_playtime_avg#12446, game_mean_playtime#12363, game_stddev_playtime#12373]\n                     +- Join Inner, (appid#12109L = appid#12492L)\n                        :- Project [steamid#12108, appid#12109L, playtime_forever#12111L, genre#12113, Developer#12114, Publisher#12115, genre_vector#12200, developer_vector#12205, publisher_vector#12210, user_playtime_avg#12446]\n                        :  +- Join Inner, (steamid#12108 = steamid#12449)\n                        :     :- Project [appid#12109L, steamid#12108, playtime_forever#12111L, genre#12113, Developer#12114, Publisher#12115, genre_vector#12200, developer_vector#12205, publisher_vector#12210]\n                        :     :  +- Join Inner, (appid#12109L = appid#12252L)\n                        :     :     :- Project [appid#12109L, steamid#12108, playtime_forever#12111L, genre#12113, Developer#12114, Publisher#12115, genre_vector#12200, developer_vector#12205]\n                        :     :     :  +- Join Inner, (appid#12109L = appid#12234L)\n                        :     :     :     :- Project [appid#12109L, steamid#12108, playtime_forever#12111L, genre#12113, Developer#12114, Publisher#12115, genre_vector#12200]\n                        :     :     :     :  +- Join Inner, (appid#12109L = appid#12217L)\n                        :     :     :     :     :- Project [steamid#12108, appid#12109L, playtime_forever#12111L, genre#12113, Developer#12114, Publisher#12115]\n                        :     :     :     :     :  +- Relation [steamid#12108,appid#12109L,playtime_2weeks#12110L,playtime_forever#12111L,dateretrieved#12112,genre#12113,Developer#12114,Publisher#12115] JDBCRelation((\nSELECT p.steamid, p.appid, p.playtime_2weeks, p.playtime_forever, p.dateretrieved, g.genre, d.Developer, pb.Publisher\nFROM 01_sampled_games_2v2 AS p\nJOIN games_genres AS g ON p.appid = g.appid\nJOIN games_developers AS d ON p.appid = d.appid\nJOIN games_publishers AS pb ON p.appid = pb.appid\nWHERE p.playtime_forever IS NOT NULL AND p.playtime_forever > 0\n) SPARK_GEN_SUBQ_1601) [numPartitions=1]\n                        :     :     :     :     +- ResolvedHint (strategy=broadcast)\n                        :     :     :     :        +- Project [appid#12217L, genre_vector#12200]\n                        :     :     :     :           +- Project [appid#12217L, genres#12173, genre_vector(genres#12173)#12199 AS genre_vector#12200]\n                        :     :     :     :              +- Aggregate [appid#12217L], [appid#12217L, collect_set(genre#12221, 0, 0) AS genres#12173]\n                        :     :     :     :                 +- Project [steamid#12216, appid#12217L, playtime_forever#12219L, genre#12221, Developer#12222, Publisher#12223]\n                        :     :     :     :                    +- Relation [steamid#12216,appid#12217L,playtime_2weeks#12218L,playtime_forever#12219L,dateretrieved#12220,genre#12221,Developer#12222,Publisher#12223] JDBCRelation((\nSELECT p.steamid, p.appid, p.playtime_2weeks, p.playtime_forever, p.dateretrieved, g.genre, d.Developer, pb.Publisher\nFROM 01_sampled_games_2v2 AS p\nJOIN games_genres AS g ON p.appid = g.appid\nJOIN games_developers AS d ON p.appid = d.appid\nJOIN games_publishers AS pb ON p.appid = pb.appid\nWHERE p.playtime_forever IS NOT NULL AND p.playtime_forever > 0\n) SPARK_GEN_SUBQ_1601) [numPartitions=1]\n                        :     :     :     +- ResolvedHint (strategy=broadcast)\n                        :     :     :        +- Project [appid#12234L, developer_vector#12205]\n                        :     :     :           +- Project [appid#12234L, developers#12183, developer_vector(developers#12183)#12204 AS developer_vector#12205]\n                        :     :     :              +- Aggregate [appid#12234L], [appid#12234L, collect_set(Developer#12239, 0, 0) AS developers#12183]\n                        :     :     :                 +- Project [steamid#12233, appid#12234L, playtime_forever#12236L, genre#12238, Developer#12239, Publisher#12240]\n                        :     :     :                    +- Relation [steamid#12233,appid#12234L,playtime_2weeks#12235L,playtime_forever#12236L,dateretrieved#12237,genre#12238,Developer#12239,Publisher#12240] JDBCRelation((\nSELECT p.steamid, p.appid, p.playtime_2weeks, p.playtime_forever, p.dateretrieved, g.genre, d.Developer, pb.Publisher\nFROM 01_sampled_games_2v2 AS p\nJOIN games_genres AS g ON p.appid = g.appid\nJOIN games_developers AS d ON p.appid = d.appid\nJOIN games_publishers AS pb ON p.appid = pb.appid\nWHERE p.playtime_forever IS NOT NULL AND p.playtime_forever > 0\n) SPARK_GEN_SUBQ_1601) [numPartitions=1]\n                        :     :     +- ResolvedHint (strategy=broadcast)\n                        :     :        +- Project [appid#12252L, publisher_vector#12210]\n                        :     :           +- Project [appid#12252L, publishers#12193, publisher_vector(publishers#12193)#12209 AS publisher_vector#12210]\n                        :     :              +- Aggregate [appid#12252L], [appid#12252L, collect_set(Publisher#12258, 0, 0) AS publishers#12193]\n                        :     :                 +- Project [steamid#12251, appid#12252L, playtime_forever#12254L, genre#12256, Developer#12257, Publisher#12258]\n                        :     :                    +- Relation [steamid#12251,appid#12252L,playtime_2weeks#12253L,playtime_forever#12254L,dateretrieved#12255,genre#12256,Developer#12257,Publisher#12258] JDBCRelation((\nSELECT p.steamid, p.appid, p.playtime_2weeks, p.playtime_forever, p.dateretrieved, g.genre, d.Developer, pb.Publisher\nFROM 01_sampled_games_2v2 AS p\nJOIN games_genres AS g ON p.appid = g.appid\nJOIN games_developers AS d ON p.appid = d.appid\nJOIN games_publishers AS pb ON p.appid = pb.appid\nWHERE p.playtime_forever IS NOT NULL AND p.playtime_forever > 0\n) SPARK_GEN_SUBQ_1601) [numPartitions=1]\n                        :     +- Project [steamid#12449, avg(playtime_forever)#12443 AS user_playtime_avg#12446]\n                        :        +- Aggregate [steamid#12449], [steamid#12449, avg(playtime_forever#12452L) AS avg(playtime_forever)#12443]\n                        :           +- Filter (playtime_forever#12452L > cast(0 as bigint))\n                        :              +- Project [appid#12450L, steamid#12449, playtime_forever#12452L, genre#12454, Developer#12455, Publisher#12456, genre_vector#12200, developer_vector#12205, publisher_vector#12210]\n                        :                 +- Join Inner, (appid#12450L = appid#12474L)\n                        :                    :- Project [appid#12450L, steamid#12449, playtime_forever#12452L, genre#12454, Developer#12455, Publisher#12456, genre_vector#12200, developer_vector#12205]\n                        :                    :  +- Join Inner, (appid#12450L = appid#12466L)\n                        :                    :     :- Project [appid#12450L, steamid#12449, playtime_forever#12452L, genre#12454, Developer#12455, Publisher#12456, genre_vector#12200]\n                        :                    :     :  +- Join Inner, (appid#12450L = appid#12458L)\n                        :                    :     :     :- Project [steamid#12449, appid#12450L, playtime_forever#12452L, genre#12454, Developer#12455, Publisher#12456]\n                        :                    :     :     :  +- Relation [steamid#12449,appid#12450L,playtime_2weeks#12451L,playtime_forever#12452L,dateretrieved#12453,genre#12454,Developer#12455,Publisher#12456] JDBCRelation((\nSELECT p.steamid, p.appid, p.playtime_2weeks, p.playtime_forever, p.dateretrieved, g.genre, d.Developer, pb.Publisher\nFROM 01_sampled_games_2v2 AS p\nJOIN games_genres AS g ON p.appid = g.appid\nJOIN games_developers AS d ON p.appid = d.appid\nJOIN games_publishers AS pb ON p.appid = pb.appid\nWHERE p.playtime_forever IS NOT NULL AND p.playtime_forever > 0\n) SPARK_GEN_SUBQ_1601) [numPartitions=1]\n                        :                    :     :     +- ResolvedHint (strategy=broadcast)\n                        :                    :     :        +- Project [appid#12458L, genre_vector#12200]\n                        :                    :     :           +- Project [appid#12458L, genres#12173, genre_vector(genres#12173)#12199 AS genre_vector#12200]\n                        :                    :     :              +- Aggregate [appid#12458L], [appid#12458L, collect_set(genre#12462, 0, 0) AS genres#12173]\n                        :                    :     :                 +- Project [steamid#12457, appid#12458L, playtime_forever#12460L, genre#12462, Developer#12463, Publisher#12464]\n                        :                    :     :                    +- Relation [steamid#12457,appid#12458L,playtime_2weeks#12459L,playtime_forever#12460L,dateretrieved#12461,genre#12462,Developer#12463,Publisher#12464] JDBCRelation((\nSELECT p.steamid, p.appid, p.playtime_2weeks, p.playtime_forever, p.dateretrieved, g.genre, d.Developer, pb.Publisher\nFROM 01_sampled_games_2v2 AS p\nJOIN games_genres AS g ON p.appid = g.appid\nJOIN games_developers AS d ON p.appid = d.appid\nJOIN games_publishers AS pb ON p.appid = pb.appid\nWHERE p.playtime_forever IS NOT NULL AND p.playtime_forever > 0\n) SPARK_GEN_SUBQ_1601) [numPartitions=1]\n                        :                    :     +- ResolvedHint (strategy=broadcast)\n                        :                    :        +- Project [appid#12466L, developer_vector#12205]\n                        :                    :           +- Project [appid#12466L, developers#12183, developer_vector(developers#12183)#12204 AS developer_vector#12205]\n                        :                    :              +- Aggregate [appid#12466L], [appid#12466L, collect_set(Developer#12471, 0, 0) AS developers#12183]\n                        :                    :                 +- Project [steamid#12465, appid#12466L, playtime_forever#12468L, genre#12470, Developer#12471, Publisher#12472]\n                        :                    :                    +- Relation [steamid#12465,appid#12466L,playtime_2weeks#12467L,playtime_forever#12468L,dateretrieved#12469,genre#12470,Developer#12471,Publisher#12472] JDBCRelation((\nSELECT p.steamid, p.appid, p.playtime_2weeks, p.playtime_forever, p.dateretrieved, g.genre, d.Developer, pb.Publisher\nFROM 01_sampled_games_2v2 AS p\nJOIN games_genres AS g ON p.appid = g.appid\nJOIN games_developers AS d ON p.appid = d.appid\nJOIN games_publishers AS pb ON p.appid = pb.appid\nWHERE p.playtime_forever IS NOT NULL AND p.playtime_forever > 0\n) SPARK_GEN_SUBQ_1601) [numPartitions=1]\n                        :                    +- ResolvedHint (strategy=broadcast)\n                        :                       +- Project [appid#12474L, publisher_vector#12210]\n                        :                          +- Project [appid#12474L, publishers#12193, publisher_vector(publishers#12193)#12209 AS publisher_vector#12210]\n                        :                             +- Aggregate [appid#12474L], [appid#12474L, collect_set(Publisher#12480, 0, 0) AS publishers#12193]\n                        :                                +- Project [steamid#12473, appid#12474L, playtime_forever#12476L, genre#12478, Developer#12479, Publisher#12480]\n                        :                                   +- Relation [steamid#12473,appid#12474L,playtime_2weeks#12475L,playtime_forever#12476L,dateretrieved#12477,genre#12478,Developer#12479,Publisher#12480] JDBCRelation((\nSELECT p.steamid, p.appid, p.playtime_2weeks, p.playtime_forever, p.dateretrieved, g.genre, d.Developer, pb.Publisher\nFROM 01_sampled_games_2v2 AS p\nJOIN games_genres AS g ON p.appid = g.appid\nJOIN games_developers AS d ON p.appid = d.appid\nJOIN games_publishers AS pb ON p.appid = pb.appid\nWHERE p.playtime_forever IS NOT NULL AND p.playtime_forever > 0\n) SPARK_GEN_SUBQ_1601) [numPartitions=1]\n                        +- Aggregate [appid#12492L], [appid#12492L, avg(playtime_forever#12494L) AS game_mean_playtime#12363, stddev_pop(cast(playtime_forever#12494L as double)) AS game_stddev_playtime#12373]\n                           +- Filter (playtime_forever#12494L > cast(0 as bigint))\n                              +- Project [appid#12492L, steamid#12491, playtime_forever#12494L, genre#12496, Developer#12497, Publisher#12498, genre_vector#12200, developer_vector#12205, publisher_vector#12210]\n                                 +- Join Inner, (appid#12492L = appid#12516L)\n                                    :- Project [appid#12492L, steamid#12491, playtime_forever#12494L, genre#12496, Developer#12497, Publisher#12498, genre_vector#12200, developer_vector#12205]\n                                    :  +- Join Inner, (appid#12492L = appid#12508L)\n                                    :     :- Project [appid#12492L, steamid#12491, playtime_forever#12494L, genre#12496, Developer#12497, Publisher#12498, genre_vector#12200]\n                                    :     :  +- Join Inner, (appid#12492L = appid#12500L)\n                                    :     :     :- Project [steamid#12491, appid#12492L, playtime_forever#12494L, genre#12496, Developer#12497, Publisher#12498]\n                                    :     :     :  +- Relation [steamid#12491,appid#12492L,playtime_2weeks#12493L,playtime_forever#12494L,dateretrieved#12495,genre#12496,Developer#12497,Publisher#12498] JDBCRelation((\nSELECT p.steamid, p.appid, p.playtime_2weeks, p.playtime_forever, p.dateretrieved, g.genre, d.Developer, pb.Publisher\nFROM 01_sampled_games_2v2 AS p\nJOIN games_genres AS g ON p.appid = g.appid\nJOIN games_developers AS d ON p.appid = d.appid\nJOIN games_publishers AS pb ON p.appid = pb.appid\nWHERE p.playtime_forever IS NOT NULL AND p.playtime_forever > 0\n) SPARK_GEN_SUBQ_1601) [numPartitions=1]\n                                    :     :     +- ResolvedHint (strategy=broadcast)\n                                    :     :        +- Project [appid#12500L, genre_vector#12200]\n                                    :     :           +- Project [appid#12500L, genres#12173, genre_vector(genres#12173)#12199 AS genre_vector#12200]\n                                    :     :              +- Aggregate [appid#12500L], [appid#12500L, collect_set(genre#12504, 0, 0) AS genres#12173]\n                                    :     :                 +- Project [steamid#12499, appid#12500L, playtime_forever#12502L, genre#12504, Developer#12505, Publisher#12506]\n                                    :     :                    +- Relation [steamid#12499,appid#12500L,playtime_2weeks#12501L,playtime_forever#12502L,dateretrieved#12503,genre#12504,Developer#12505,Publisher#12506] JDBCRelation((\nSELECT p.steamid, p.appid, p.playtime_2weeks, p.playtime_forever, p.dateretrieved, g.genre, d.Developer, pb.Publisher\nFROM 01_sampled_games_2v2 AS p\nJOIN games_genres AS g ON p.appid = g.appid\nJOIN games_developers AS d ON p.appid = d.appid\nJOIN games_publishers AS pb ON p.appid = pb.appid\nWHERE p.playtime_forever IS NOT NULL AND p.playtime_forever > 0\n) SPARK_GEN_SUBQ_1601) [numPartitions=1]\n                                    :     +- ResolvedHint (strategy=broadcast)\n                                    :        +- Project [appid#12508L, developer_vector#12205]\n                                    :           +- Project [appid#12508L, developers#12183, developer_vector(developers#12183)#12204 AS developer_vector#12205]\n                                    :              +- Aggregate [appid#12508L], [appid#12508L, collect_set(Developer#12513, 0, 0) AS developers#12183]\n                                    :                 +- Project [steamid#12507, appid#12508L, playtime_forever#12510L, genre#12512, Developer#12513, Publisher#12514]\n                                    :                    +- Relation [steamid#12507,appid#12508L,playtime_2weeks#12509L,playtime_forever#12510L,dateretrieved#12511,genre#12512,Developer#12513,Publisher#12514] JDBCRelation((\nSELECT p.steamid, p.appid, p.playtime_2weeks, p.playtime_forever, p.dateretrieved, g.genre, d.Developer, pb.Publisher\nFROM 01_sampled_games_2v2 AS p\nJOIN games_genres AS g ON p.appid = g.appid\nJOIN games_developers AS d ON p.appid = d.appid\nJOIN games_publishers AS pb ON p.appid = pb.appid\nWHERE p.playtime_forever IS NOT NULL AND p.playtime_forever > 0\n) SPARK_GEN_SUBQ_1601) [numPartitions=1]\n                                    +- ResolvedHint (strategy=broadcast)\n                                       +- Project [appid#12516L, publisher_vector#12210]\n                                          +- Project [appid#12516L, publishers#12193, publisher_vector(publishers#12193)#12209 AS publisher_vector#12210]\n                                             +- Aggregate [appid#12516L], [appid#12516L, collect_set(Publisher#12522, 0, 0) AS publishers#12193]\n                                                +- Project [steamid#12515, appid#12516L, playtime_forever#12518L, genre#12520, Developer#12521, Publisher#12522]\n                                                   +- Relation [steamid#12515,appid#12516L,playtime_2weeks#12517L,playtime_forever#12518L,dateretrieved#12519,genre#12520,Developer#12521,Publisher#12522] JDBCRelation((\nSELECT p.steamid, p.appid, p.playtime_2weeks, p.playtime_forever, p.dateretrieved, g.genre, d.Developer, pb.Publisher\nFROM 01_sampled_games_2v2 AS p\nJOIN games_genres AS g ON p.appid = g.appid\nJOIN games_developers AS d ON p.appid = d.appid\nJOIN games_publishers AS pb ON p.appid = pb.appid\nWHERE p.playtime_forever IS NOT NULL AND p.playtime_forever > 0\n) SPARK_GEN_SUBQ_1601) [numPartitions=1]\n",
     "output_type": "error",
     "traceback": [
      "\u001b[1;31m---------------------------------------------------------------------------\u001b[0m",
      "\u001b[1;31mAnalysisException\u001b[0m                         Traceback (most recent call last)",
      "Cell \u001b[1;32mIn[89], line 39\u001b[0m\n\u001b[0;32m     29\u001b[0m df \u001b[39m=\u001b[39m df\u001b[39m.\u001b[39mwithColumn(\n\u001b[0;32m     30\u001b[0m     \u001b[39m\"\u001b[39m\u001b[39mratings_adj\u001b[39m\u001b[39m\"\u001b[39m,\n\u001b[0;32m     31\u001b[0m     when(col(\u001b[39m\"\u001b[39m\u001b[39mplaytime_forever\u001b[39m\u001b[39m\"\u001b[39m) \u001b[39m<\u001b[39m\u001b[39m=\u001b[39m col(\u001b[39m\"\u001b[39m\u001b[39mcut_point_1\u001b[39m\u001b[39m\"\u001b[39m), lit(\u001b[39m1\u001b[39m))\n\u001b[1;32m   (...)\u001b[0m\n\u001b[0;32m     35\u001b[0m     \u001b[39m.\u001b[39motherwise(lit(\u001b[39m5\u001b[39m))\n\u001b[0;32m     36\u001b[0m )\n\u001b[0;32m     38\u001b[0m \u001b[39m# Update the user profile calculation to use the new ratings column\u001b[39;00m\n\u001b[1;32m---> 39\u001b[0m user_aggregated_data \u001b[39m=\u001b[39m df\u001b[39m.\u001b[39;49mgroupBy(\u001b[39m\"\u001b[39;49m\u001b[39msteamid\u001b[39;49m\u001b[39m\"\u001b[39;49m)\u001b[39m.\u001b[39;49magg(\n\u001b[0;32m     40\u001b[0m     collect_list(\u001b[39m\"\u001b[39;49m\u001b[39mgenre_vector\u001b[39;49m\u001b[39m\"\u001b[39;49m)\u001b[39m.\u001b[39;49malias(\u001b[39m\"\u001b[39;49m\u001b[39mgenres_list\u001b[39;49m\u001b[39m\"\u001b[39;49m),\n\u001b[0;32m     41\u001b[0m     collect_list(\u001b[39m\"\u001b[39;49m\u001b[39mratings\u001b[39;49m\u001b[39m\"\u001b[39;49m)\u001b[39m.\u001b[39;49malias(\u001b[39m\"\u001b[39;49m\u001b[39mratings_list\u001b[39;49m\u001b[39m\"\u001b[39;49m)\n\u001b[0;32m     42\u001b[0m )\n\u001b[0;32m     43\u001b[0m \u001b[39m# Show df with new changes(without genres)\u001b[39;00m\n\u001b[0;32m     44\u001b[0m \u001b[39m# Drop the genre_vector and genre columns from the DataFrame\u001b[39;00m\n\u001b[0;32m     45\u001b[0m df_without_info \u001b[39m=\u001b[39m df\u001b[39m.\u001b[39mdrop(\u001b[39m\"\u001b[39m\u001b[39mgenre_vector\u001b[39m\u001b[39m\"\u001b[39m, \u001b[39m\"\u001b[39m\u001b[39mgenre\u001b[39m\u001b[39m\"\u001b[39m, \u001b[39m\"\u001b[39m\u001b[39mdeveloper_vector\u001b[39m\u001b[39m\"\u001b[39m, \u001b[39m\"\u001b[39m\u001b[39mDeveloper\u001b[39m\u001b[39m\"\u001b[39m, \u001b[39m\"\u001b[39m\u001b[39mpublisher_vector\u001b[39m\u001b[39m\"\u001b[39m, \u001b[39m\"\u001b[39m\u001b[39mPublisher\u001b[39m\u001b[39m\"\u001b[39m)\n",
      "File \u001b[1;32mc:\\Users\\Legend\\AppData\\Local\\Programs\\Python\\Python310\\lib\\site-packages\\pyspark\\sql\\group.py:137\u001b[0m, in \u001b[0;36mGroupedData.agg\u001b[1;34m(self, *exprs)\u001b[0m\n\u001b[0;32m    135\u001b[0m     \u001b[39massert\u001b[39;00m \u001b[39mall\u001b[39m(\u001b[39misinstance\u001b[39m(c, Column) \u001b[39mfor\u001b[39;00m c \u001b[39min\u001b[39;00m exprs), \u001b[39m\"\u001b[39m\u001b[39mall exprs should be Column\u001b[39m\u001b[39m\"\u001b[39m\n\u001b[0;32m    136\u001b[0m     exprs \u001b[39m=\u001b[39m cast(Tuple[Column, \u001b[39m.\u001b[39m\u001b[39m.\u001b[39m\u001b[39m.\u001b[39m], exprs)\n\u001b[1;32m--> 137\u001b[0m     jdf \u001b[39m=\u001b[39m \u001b[39mself\u001b[39;49m\u001b[39m.\u001b[39;49m_jgd\u001b[39m.\u001b[39;49magg(exprs[\u001b[39m0\u001b[39;49m]\u001b[39m.\u001b[39;49m_jc, _to_seq(\u001b[39mself\u001b[39;49m\u001b[39m.\u001b[39;49msession\u001b[39m.\u001b[39;49m_sc, [c\u001b[39m.\u001b[39;49m_jc \u001b[39mfor\u001b[39;49;00m c \u001b[39min\u001b[39;49;00m exprs[\u001b[39m1\u001b[39;49m:]]))\n\u001b[0;32m    138\u001b[0m \u001b[39mreturn\u001b[39;00m DataFrame(jdf, \u001b[39mself\u001b[39m\u001b[39m.\u001b[39msession)\n",
      "File \u001b[1;32mc:\\Users\\Legend\\AppData\\Local\\Programs\\Python\\Python310\\lib\\site-packages\\py4j\\java_gateway.py:1321\u001b[0m, in \u001b[0;36mJavaMember.__call__\u001b[1;34m(self, *args)\u001b[0m\n\u001b[0;32m   1315\u001b[0m command \u001b[39m=\u001b[39m proto\u001b[39m.\u001b[39mCALL_COMMAND_NAME \u001b[39m+\u001b[39m\\\n\u001b[0;32m   1316\u001b[0m     \u001b[39mself\u001b[39m\u001b[39m.\u001b[39mcommand_header \u001b[39m+\u001b[39m\\\n\u001b[0;32m   1317\u001b[0m     args_command \u001b[39m+\u001b[39m\\\n\u001b[0;32m   1318\u001b[0m     proto\u001b[39m.\u001b[39mEND_COMMAND_PART\n\u001b[0;32m   1320\u001b[0m answer \u001b[39m=\u001b[39m \u001b[39mself\u001b[39m\u001b[39m.\u001b[39mgateway_client\u001b[39m.\u001b[39msend_command(command)\n\u001b[1;32m-> 1321\u001b[0m return_value \u001b[39m=\u001b[39m get_return_value(\n\u001b[0;32m   1322\u001b[0m     answer, \u001b[39mself\u001b[39;49m\u001b[39m.\u001b[39;49mgateway_client, \u001b[39mself\u001b[39;49m\u001b[39m.\u001b[39;49mtarget_id, \u001b[39mself\u001b[39;49m\u001b[39m.\u001b[39;49mname)\n\u001b[0;32m   1324\u001b[0m \u001b[39mfor\u001b[39;00m temp_arg \u001b[39min\u001b[39;00m temp_args:\n\u001b[0;32m   1325\u001b[0m     temp_arg\u001b[39m.\u001b[39m_detach()\n",
      "File \u001b[1;32mc:\\Users\\Legend\\AppData\\Local\\Programs\\Python\\Python310\\lib\\site-packages\\pyspark\\sql\\utils.py:196\u001b[0m, in \u001b[0;36mcapture_sql_exception.<locals>.deco\u001b[1;34m(*a, **kw)\u001b[0m\n\u001b[0;32m    192\u001b[0m converted \u001b[39m=\u001b[39m convert_exception(e\u001b[39m.\u001b[39mjava_exception)\n\u001b[0;32m    193\u001b[0m \u001b[39mif\u001b[39;00m \u001b[39mnot\u001b[39;00m \u001b[39misinstance\u001b[39m(converted, UnknownException):\n\u001b[0;32m    194\u001b[0m     \u001b[39m# Hide where the exception came from that shows a non-Pythonic\u001b[39;00m\n\u001b[0;32m    195\u001b[0m     \u001b[39m# JVM exception message.\u001b[39;00m\n\u001b[1;32m--> 196\u001b[0m     \u001b[39mraise\u001b[39;00m converted \u001b[39mfrom\u001b[39;00m \u001b[39mNone\u001b[39m\n\u001b[0;32m    197\u001b[0m \u001b[39melse\u001b[39;00m:\n\u001b[0;32m    198\u001b[0m     \u001b[39mraise\u001b[39;00m\n",
      "\u001b[1;31mAnalysisException\u001b[0m: Column 'ratings' does not exist. Did you mean one of the following? [ratings_adj, appid, genre, steamid, Publisher, cut_point_1, cut_point_2, cut_point_3, cut_point_4, Developer, scaling_factor, genre_vector, playtime_forever, user_playtime_avg, developer_vector, publisher_vector, game_mean_playtime, game_stddev_playtime];\n'Aggregate [steamid#12108], [steamid#12108, collect_list(genre_vector#12200, 0, 0) AS genres_list#12669, collect_list('ratings, 0, 0) AS ratings_list#12671]\n+- Project [appid#12109L, steamid#12108, playtime_forever#12111L, genre#12113, Developer#12114, Publisher#12115, genre_vector#12200, developer_vector#12205, publisher_vector#12210, user_playtime_avg#12446, game_mean_playtime#12363, game_stddev_playtime#12373, scaling_factor#12551, cut_point_1#12565, cut_point_2#12580, cut_point_3#12596, cut_point_4#12613, CASE WHEN (cast(playtime_forever#12111L as double) <= cut_point_1#12565) THEN 1 WHEN ((cast(playtime_forever#12111L as double) > cut_point_1#12565) AND (cast(playtime_forever#12111L as double) <= cut_point_2#12580)) THEN 2 WHEN ((cast(playtime_forever#12111L as double) > cut_point_2#12580) AND (cast(playtime_forever#12111L as double) <= cut_point_3#12596)) THEN 3 WHEN ((cast(playtime_forever#12111L as double) > cut_point_3#12596) AND (cast(playtime_forever#12111L as double) <= cut_point_4#12613)) THEN 4 ELSE 5 END AS ratings_adj#12631]\n   +- Project [appid#12109L, steamid#12108, playtime_forever#12111L, genre#12113, Developer#12114, Publisher#12115, genre_vector#12200, developer_vector#12205, publisher_vector#12210, user_playtime_avg#12446, game_mean_playtime#12363, game_stddev_playtime#12373, scaling_factor#12551, cut_point_1#12565, cut_point_2#12580, cut_point_3#12596, (game_mean_playtime#12363 + (game_stddev_playtime#12373 * scaling_factor#12551)) AS cut_point_4#12613]\n      +- Project [appid#12109L, steamid#12108, playtime_forever#12111L, genre#12113, Developer#12114, Publisher#12115, genre_vector#12200, developer_vector#12205, publisher_vector#12210, user_playtime_avg#12446, game_mean_playtime#12363, game_stddev_playtime#12373, scaling_factor#12551, cut_point_1#12565, cut_point_2#12580, (game_mean_playtime#12363 + ((game_stddev_playtime#12373 * 0.5) * scaling_factor#12551)) AS cut_point_3#12596]\n         +- Project [appid#12109L, steamid#12108, playtime_forever#12111L, genre#12113, Developer#12114, Publisher#12115, genre_vector#12200, developer_vector#12205, publisher_vector#12210, user_playtime_avg#12446, game_mean_playtime#12363, game_stddev_playtime#12373, scaling_factor#12551, cut_point_1#12565, (game_mean_playtime#12363 * scaling_factor#12551) AS cut_point_2#12580]\n            +- Project [appid#12109L, steamid#12108, playtime_forever#12111L, genre#12113, Developer#12114, Publisher#12115, genre_vector#12200, developer_vector#12205, publisher_vector#12210, user_playtime_avg#12446, game_mean_playtime#12363, game_stddev_playtime#12373, scaling_factor#12551, CASE WHEN ((game_mean_playtime#12363 - ((game_stddev_playtime#12373 * 0.5) * scaling_factor#12551)) > cast(0 as double)) THEN (game_mean_playtime#12363 - ((game_stddev_playtime#12373 * 0.5) * scaling_factor#12551)) ELSE cast(0 as double) END AS cut_point_1#12565]\n               +- Project [appid#12109L, steamid#12108, playtime_forever#12111L, genre#12113, Developer#12114, Publisher#12115, genre_vector#12200, developer_vector#12205, publisher_vector#12210, user_playtime_avg#12446, game_mean_playtime#12363, game_stddev_playtime#12373, (user_playtime_avg#12446 / 1762.866973361745) AS scaling_factor#12551]\n                  +- Project [appid#12109L, steamid#12108, playtime_forever#12111L, genre#12113, Developer#12114, Publisher#12115, genre_vector#12200, developer_vector#12205, publisher_vector#12210, user_playtime_avg#12446, game_mean_playtime#12363, game_stddev_playtime#12373]\n                     +- Join Inner, (appid#12109L = appid#12492L)\n                        :- Project [steamid#12108, appid#12109L, playtime_forever#12111L, genre#12113, Developer#12114, Publisher#12115, genre_vector#12200, developer_vector#12205, publisher_vector#12210, user_playtime_avg#12446]\n                        :  +- Join Inner, (steamid#12108 = steamid#12449)\n                        :     :- Project [appid#12109L, steamid#12108, playtime_forever#12111L, genre#12113, Developer#12114, Publisher#12115, genre_vector#12200, developer_vector#12205, publisher_vector#12210]\n                        :     :  +- Join Inner, (appid#12109L = appid#12252L)\n                        :     :     :- Project [appid#12109L, steamid#12108, playtime_forever#12111L, genre#12113, Developer#12114, Publisher#12115, genre_vector#12200, developer_vector#12205]\n                        :     :     :  +- Join Inner, (appid#12109L = appid#12234L)\n                        :     :     :     :- Project [appid#12109L, steamid#12108, playtime_forever#12111L, genre#12113, Developer#12114, Publisher#12115, genre_vector#12200]\n                        :     :     :     :  +- Join Inner, (appid#12109L = appid#12217L)\n                        :     :     :     :     :- Project [steamid#12108, appid#12109L, playtime_forever#12111L, genre#12113, Developer#12114, Publisher#12115]\n                        :     :     :     :     :  +- Relation [steamid#12108,appid#12109L,playtime_2weeks#12110L,playtime_forever#12111L,dateretrieved#12112,genre#12113,Developer#12114,Publisher#12115] JDBCRelation((\nSELECT p.steamid, p.appid, p.playtime_2weeks, p.playtime_forever, p.dateretrieved, g.genre, d.Developer, pb.Publisher\nFROM 01_sampled_games_2v2 AS p\nJOIN games_genres AS g ON p.appid = g.appid\nJOIN games_developers AS d ON p.appid = d.appid\nJOIN games_publishers AS pb ON p.appid = pb.appid\nWHERE p.playtime_forever IS NOT NULL AND p.playtime_forever > 0\n) SPARK_GEN_SUBQ_1601) [numPartitions=1]\n                        :     :     :     :     +- ResolvedHint (strategy=broadcast)\n                        :     :     :     :        +- Project [appid#12217L, genre_vector#12200]\n                        :     :     :     :           +- Project [appid#12217L, genres#12173, genre_vector(genres#12173)#12199 AS genre_vector#12200]\n                        :     :     :     :              +- Aggregate [appid#12217L], [appid#12217L, collect_set(genre#12221, 0, 0) AS genres#12173]\n                        :     :     :     :                 +- Project [steamid#12216, appid#12217L, playtime_forever#12219L, genre#12221, Developer#12222, Publisher#12223]\n                        :     :     :     :                    +- Relation [steamid#12216,appid#12217L,playtime_2weeks#12218L,playtime_forever#12219L,dateretrieved#12220,genre#12221,Developer#12222,Publisher#12223] JDBCRelation((\nSELECT p.steamid, p.appid, p.playtime_2weeks, p.playtime_forever, p.dateretrieved, g.genre, d.Developer, pb.Publisher\nFROM 01_sampled_games_2v2 AS p\nJOIN games_genres AS g ON p.appid = g.appid\nJOIN games_developers AS d ON p.appid = d.appid\nJOIN games_publishers AS pb ON p.appid = pb.appid\nWHERE p.playtime_forever IS NOT NULL AND p.playtime_forever > 0\n) SPARK_GEN_SUBQ_1601) [numPartitions=1]\n                        :     :     :     +- ResolvedHint (strategy=broadcast)\n                        :     :     :        +- Project [appid#12234L, developer_vector#12205]\n                        :     :     :           +- Project [appid#12234L, developers#12183, developer_vector(developers#12183)#12204 AS developer_vector#12205]\n                        :     :     :              +- Aggregate [appid#12234L], [appid#12234L, collect_set(Developer#12239, 0, 0) AS developers#12183]\n                        :     :     :                 +- Project [steamid#12233, appid#12234L, playtime_forever#12236L, genre#12238, Developer#12239, Publisher#12240]\n                        :     :     :                    +- Relation [steamid#12233,appid#12234L,playtime_2weeks#12235L,playtime_forever#12236L,dateretrieved#12237,genre#12238,Developer#12239,Publisher#12240] JDBCRelation((\nSELECT p.steamid, p.appid, p.playtime_2weeks, p.playtime_forever, p.dateretrieved, g.genre, d.Developer, pb.Publisher\nFROM 01_sampled_games_2v2 AS p\nJOIN games_genres AS g ON p.appid = g.appid\nJOIN games_developers AS d ON p.appid = d.appid\nJOIN games_publishers AS pb ON p.appid = pb.appid\nWHERE p.playtime_forever IS NOT NULL AND p.playtime_forever > 0\n) SPARK_GEN_SUBQ_1601) [numPartitions=1]\n                        :     :     +- ResolvedHint (strategy=broadcast)\n                        :     :        +- Project [appid#12252L, publisher_vector#12210]\n                        :     :           +- Project [appid#12252L, publishers#12193, publisher_vector(publishers#12193)#12209 AS publisher_vector#12210]\n                        :     :              +- Aggregate [appid#12252L], [appid#12252L, collect_set(Publisher#12258, 0, 0) AS publishers#12193]\n                        :     :                 +- Project [steamid#12251, appid#12252L, playtime_forever#12254L, genre#12256, Developer#12257, Publisher#12258]\n                        :     :                    +- Relation [steamid#12251,appid#12252L,playtime_2weeks#12253L,playtime_forever#12254L,dateretrieved#12255,genre#12256,Developer#12257,Publisher#12258] JDBCRelation((\nSELECT p.steamid, p.appid, p.playtime_2weeks, p.playtime_forever, p.dateretrieved, g.genre, d.Developer, pb.Publisher\nFROM 01_sampled_games_2v2 AS p\nJOIN games_genres AS g ON p.appid = g.appid\nJOIN games_developers AS d ON p.appid = d.appid\nJOIN games_publishers AS pb ON p.appid = pb.appid\nWHERE p.playtime_forever IS NOT NULL AND p.playtime_forever > 0\n) SPARK_GEN_SUBQ_1601) [numPartitions=1]\n                        :     +- Project [steamid#12449, avg(playtime_forever)#12443 AS user_playtime_avg#12446]\n                        :        +- Aggregate [steamid#12449], [steamid#12449, avg(playtime_forever#12452L) AS avg(playtime_forever)#12443]\n                        :           +- Filter (playtime_forever#12452L > cast(0 as bigint))\n                        :              +- Project [appid#12450L, steamid#12449, playtime_forever#12452L, genre#12454, Developer#12455, Publisher#12456, genre_vector#12200, developer_vector#12205, publisher_vector#12210]\n                        :                 +- Join Inner, (appid#12450L = appid#12474L)\n                        :                    :- Project [appid#12450L, steamid#12449, playtime_forever#12452L, genre#12454, Developer#12455, Publisher#12456, genre_vector#12200, developer_vector#12205]\n                        :                    :  +- Join Inner, (appid#12450L = appid#12466L)\n                        :                    :     :- Project [appid#12450L, steamid#12449, playtime_forever#12452L, genre#12454, Developer#12455, Publisher#12456, genre_vector#12200]\n                        :                    :     :  +- Join Inner, (appid#12450L = appid#12458L)\n                        :                    :     :     :- Project [steamid#12449, appid#12450L, playtime_forever#12452L, genre#12454, Developer#12455, Publisher#12456]\n                        :                    :     :     :  +- Relation [steamid#12449,appid#12450L,playtime_2weeks#12451L,playtime_forever#12452L,dateretrieved#12453,genre#12454,Developer#12455,Publisher#12456] JDBCRelation((\nSELECT p.steamid, p.appid, p.playtime_2weeks, p.playtime_forever, p.dateretrieved, g.genre, d.Developer, pb.Publisher\nFROM 01_sampled_games_2v2 AS p\nJOIN games_genres AS g ON p.appid = g.appid\nJOIN games_developers AS d ON p.appid = d.appid\nJOIN games_publishers AS pb ON p.appid = pb.appid\nWHERE p.playtime_forever IS NOT NULL AND p.playtime_forever > 0\n) SPARK_GEN_SUBQ_1601) [numPartitions=1]\n                        :                    :     :     +- ResolvedHint (strategy=broadcast)\n                        :                    :     :        +- Project [appid#12458L, genre_vector#12200]\n                        :                    :     :           +- Project [appid#12458L, genres#12173, genre_vector(genres#12173)#12199 AS genre_vector#12200]\n                        :                    :     :              +- Aggregate [appid#12458L], [appid#12458L, collect_set(genre#12462, 0, 0) AS genres#12173]\n                        :                    :     :                 +- Project [steamid#12457, appid#12458L, playtime_forever#12460L, genre#12462, Developer#12463, Publisher#12464]\n                        :                    :     :                    +- Relation [steamid#12457,appid#12458L,playtime_2weeks#12459L,playtime_forever#12460L,dateretrieved#12461,genre#12462,Developer#12463,Publisher#12464] JDBCRelation((\nSELECT p.steamid, p.appid, p.playtime_2weeks, p.playtime_forever, p.dateretrieved, g.genre, d.Developer, pb.Publisher\nFROM 01_sampled_games_2v2 AS p\nJOIN games_genres AS g ON p.appid = g.appid\nJOIN games_developers AS d ON p.appid = d.appid\nJOIN games_publishers AS pb ON p.appid = pb.appid\nWHERE p.playtime_forever IS NOT NULL AND p.playtime_forever > 0\n) SPARK_GEN_SUBQ_1601) [numPartitions=1]\n                        :                    :     +- ResolvedHint (strategy=broadcast)\n                        :                    :        +- Project [appid#12466L, developer_vector#12205]\n                        :                    :           +- Project [appid#12466L, developers#12183, developer_vector(developers#12183)#12204 AS developer_vector#12205]\n                        :                    :              +- Aggregate [appid#12466L], [appid#12466L, collect_set(Developer#12471, 0, 0) AS developers#12183]\n                        :                    :                 +- Project [steamid#12465, appid#12466L, playtime_forever#12468L, genre#12470, Developer#12471, Publisher#12472]\n                        :                    :                    +- Relation [steamid#12465,appid#12466L,playtime_2weeks#12467L,playtime_forever#12468L,dateretrieved#12469,genre#12470,Developer#12471,Publisher#12472] JDBCRelation((\nSELECT p.steamid, p.appid, p.playtime_2weeks, p.playtime_forever, p.dateretrieved, g.genre, d.Developer, pb.Publisher\nFROM 01_sampled_games_2v2 AS p\nJOIN games_genres AS g ON p.appid = g.appid\nJOIN games_developers AS d ON p.appid = d.appid\nJOIN games_publishers AS pb ON p.appid = pb.appid\nWHERE p.playtime_forever IS NOT NULL AND p.playtime_forever > 0\n) SPARK_GEN_SUBQ_1601) [numPartitions=1]\n                        :                    +- ResolvedHint (strategy=broadcast)\n                        :                       +- Project [appid#12474L, publisher_vector#12210]\n                        :                          +- Project [appid#12474L, publishers#12193, publisher_vector(publishers#12193)#12209 AS publisher_vector#12210]\n                        :                             +- Aggregate [appid#12474L], [appid#12474L, collect_set(Publisher#12480, 0, 0) AS publishers#12193]\n                        :                                +- Project [steamid#12473, appid#12474L, playtime_forever#12476L, genre#12478, Developer#12479, Publisher#12480]\n                        :                                   +- Relation [steamid#12473,appid#12474L,playtime_2weeks#12475L,playtime_forever#12476L,dateretrieved#12477,genre#12478,Developer#12479,Publisher#12480] JDBCRelation((\nSELECT p.steamid, p.appid, p.playtime_2weeks, p.playtime_forever, p.dateretrieved, g.genre, d.Developer, pb.Publisher\nFROM 01_sampled_games_2v2 AS p\nJOIN games_genres AS g ON p.appid = g.appid\nJOIN games_developers AS d ON p.appid = d.appid\nJOIN games_publishers AS pb ON p.appid = pb.appid\nWHERE p.playtime_forever IS NOT NULL AND p.playtime_forever > 0\n) SPARK_GEN_SUBQ_1601) [numPartitions=1]\n                        +- Aggregate [appid#12492L], [appid#12492L, avg(playtime_forever#12494L) AS game_mean_playtime#12363, stddev_pop(cast(playtime_forever#12494L as double)) AS game_stddev_playtime#12373]\n                           +- Filter (playtime_forever#12494L > cast(0 as bigint))\n                              +- Project [appid#12492L, steamid#12491, playtime_forever#12494L, genre#12496, Developer#12497, Publisher#12498, genre_vector#12200, developer_vector#12205, publisher_vector#12210]\n                                 +- Join Inner, (appid#12492L = appid#12516L)\n                                    :- Project [appid#12492L, steamid#12491, playtime_forever#12494L, genre#12496, Developer#12497, Publisher#12498, genre_vector#12200, developer_vector#12205]\n                                    :  +- Join Inner, (appid#12492L = appid#12508L)\n                                    :     :- Project [appid#12492L, steamid#12491, playtime_forever#12494L, genre#12496, Developer#12497, Publisher#12498, genre_vector#12200]\n                                    :     :  +- Join Inner, (appid#12492L = appid#12500L)\n                                    :     :     :- Project [steamid#12491, appid#12492L, playtime_forever#12494L, genre#12496, Developer#12497, Publisher#12498]\n                                    :     :     :  +- Relation [steamid#12491,appid#12492L,playtime_2weeks#12493L,playtime_forever#12494L,dateretrieved#12495,genre#12496,Developer#12497,Publisher#12498] JDBCRelation((\nSELECT p.steamid, p.appid, p.playtime_2weeks, p.playtime_forever, p.dateretrieved, g.genre, d.Developer, pb.Publisher\nFROM 01_sampled_games_2v2 AS p\nJOIN games_genres AS g ON p.appid = g.appid\nJOIN games_developers AS d ON p.appid = d.appid\nJOIN games_publishers AS pb ON p.appid = pb.appid\nWHERE p.playtime_forever IS NOT NULL AND p.playtime_forever > 0\n) SPARK_GEN_SUBQ_1601) [numPartitions=1]\n                                    :     :     +- ResolvedHint (strategy=broadcast)\n                                    :     :        +- Project [appid#12500L, genre_vector#12200]\n                                    :     :           +- Project [appid#12500L, genres#12173, genre_vector(genres#12173)#12199 AS genre_vector#12200]\n                                    :     :              +- Aggregate [appid#12500L], [appid#12500L, collect_set(genre#12504, 0, 0) AS genres#12173]\n                                    :     :                 +- Project [steamid#12499, appid#12500L, playtime_forever#12502L, genre#12504, Developer#12505, Publisher#12506]\n                                    :     :                    +- Relation [steamid#12499,appid#12500L,playtime_2weeks#12501L,playtime_forever#12502L,dateretrieved#12503,genre#12504,Developer#12505,Publisher#12506] JDBCRelation((\nSELECT p.steamid, p.appid, p.playtime_2weeks, p.playtime_forever, p.dateretrieved, g.genre, d.Developer, pb.Publisher\nFROM 01_sampled_games_2v2 AS p\nJOIN games_genres AS g ON p.appid = g.appid\nJOIN games_developers AS d ON p.appid = d.appid\nJOIN games_publishers AS pb ON p.appid = pb.appid\nWHERE p.playtime_forever IS NOT NULL AND p.playtime_forever > 0\n) SPARK_GEN_SUBQ_1601) [numPartitions=1]\n                                    :     +- ResolvedHint (strategy=broadcast)\n                                    :        +- Project [appid#12508L, developer_vector#12205]\n                                    :           +- Project [appid#12508L, developers#12183, developer_vector(developers#12183)#12204 AS developer_vector#12205]\n                                    :              +- Aggregate [appid#12508L], [appid#12508L, collect_set(Developer#12513, 0, 0) AS developers#12183]\n                                    :                 +- Project [steamid#12507, appid#12508L, playtime_forever#12510L, genre#12512, Developer#12513, Publisher#12514]\n                                    :                    +- Relation [steamid#12507,appid#12508L,playtime_2weeks#12509L,playtime_forever#12510L,dateretrieved#12511,genre#12512,Developer#12513,Publisher#12514] JDBCRelation((\nSELECT p.steamid, p.appid, p.playtime_2weeks, p.playtime_forever, p.dateretrieved, g.genre, d.Developer, pb.Publisher\nFROM 01_sampled_games_2v2 AS p\nJOIN games_genres AS g ON p.appid = g.appid\nJOIN games_developers AS d ON p.appid = d.appid\nJOIN games_publishers AS pb ON p.appid = pb.appid\nWHERE p.playtime_forever IS NOT NULL AND p.playtime_forever > 0\n) SPARK_GEN_SUBQ_1601) [numPartitions=1]\n                                    +- ResolvedHint (strategy=broadcast)\n                                       +- Project [appid#12516L, publisher_vector#12210]\n                                          +- Project [appid#12516L, publishers#12193, publisher_vector(publishers#12193)#12209 AS publisher_vector#12210]\n                                             +- Aggregate [appid#12516L], [appid#12516L, collect_set(Publisher#12522, 0, 0) AS publishers#12193]\n                                                +- Project [steamid#12515, appid#12516L, playtime_forever#12518L, genre#12520, Developer#12521, Publisher#12522]\n                                                   +- Relation [steamid#12515,appid#12516L,playtime_2weeks#12517L,playtime_forever#12518L,dateretrieved#12519,genre#12520,Developer#12521,Publisher#12522] JDBCRelation((\nSELECT p.steamid, p.appid, p.playtime_2weeks, p.playtime_forever, p.dateretrieved, g.genre, d.Developer, pb.Publisher\nFROM 01_sampled_games_2v2 AS p\nJOIN games_genres AS g ON p.appid = g.appid\nJOIN games_developers AS d ON p.appid = d.appid\nJOIN games_publishers AS pb ON p.appid = pb.appid\nWHERE p.playtime_forever IS NOT NULL AND p.playtime_forever > 0\n) SPARK_GEN_SUBQ_1601) [numPartitions=1]\n"
     ]
    }
   ],
   "source": [
    "# Calculate the per-game mean and standard deviation of the playtime column\n",
    "game_stats = df.filter(col(\"playtime_forever\") > 0).groupBy(\"appid\").agg(\n",
    "    mean(\"playtime_forever\").alias(\"game_mean_playtime\"),\n",
    "    stddev_pop(\"playtime_forever\").alias(\"game_stddev_playtime\")\n",
    ")\n",
    "\n",
    "# Calculate the overall playtime average\n",
    "overall_playtime_avg = df.filter(col(\"playtime_forever\") > 0).agg(avg(\"playtime_forever\")).collect()[0][0]\n",
    "\n",
    "# Calculate the per-steamid playtime average\n",
    "user_playtime_avg = df.filter(col(\"playtime_forever\") > 0).groupBy(\"steamid\").agg(avg(\"playtime_forever\")).withColumnRenamed(\"avg(playtime_forever)\", \"user_playtime_avg\")\n",
    "\n",
    "# Join the user_playtime_avg dataframe with the main dataframe\n",
    "df = df.join(user_playtime_avg, \"steamid\")\n",
    "\n",
    "# Join the game_stats dataframe with the main dataframe\n",
    "df = df.join(game_stats, \"appid\")\n",
    "\n",
    "# Calculate the scaling factor based on the ratio of user playtime to overall playtime\n",
    "df = df.withColumn(\"scaling_factor\", col(\"user_playtime_avg\") / overall_playtime_avg)\n",
    "\n",
    "# Calculate the adjusted cut points\n",
    "df = df.withColumn(\"cut_point_1\", when(col(\"game_mean_playtime\") - (col(\"game_stddev_playtime\") * 0.5 * col(\"scaling_factor\")) > 0, col(\"game_mean_playtime\") - (col(\"game_stddev_playtime\") * 0.5 * col(\"scaling_factor\"))).otherwise(0))\n",
    "df = df.withColumn(\"cut_point_2\", col(\"game_mean_playtime\") * col(\"scaling_factor\"))\n",
    "df = df.withColumn(\"cut_point_3\", col(\"game_mean_playtime\") + (col(\"game_stddev_playtime\") * 0.5 * col(\"scaling_factor\")))\n",
    "df = df.withColumn(\"cut_point_4\", col(\"game_mean_playtime\") + col(\"game_stddev_playtime\") * col(\"scaling_factor\"))\n",
    "\n",
    "# Assign ratings based on adjusted cut points\n",
    "df = df.withColumn(\n",
    "    \"ratings\",\n",
    "    when(col(\"playtime_forever\") <= col(\"cut_point_1\"), lit(1))\n",
    "    .when((col(\"playtime_forever\") > col(\"cut_point_1\")) & (col(\"playtime_forever\") <= col(\"cut_point_2\")), lit(2))\n",
    "    .when((col(\"playtime_forever\") > col(\"cut_point_2\")) & (col(\"playtime_forever\") <= col(\"cut_point_3\")), lit(3))\n",
    "    .when((col(\"playtime_forever\") > col(\"cut_point_3\")) & (col(\"playtime_forever\") <= col(\"cut_point_4\")), lit(4))\n",
    "    .otherwise(lit(5))\n",
    ")\n",
    "\n",
    "# Update the user profile calculation to use the new ratings column\n",
    "user_aggregated_data = df.groupBy(\"steamid\").agg(\n",
    "    collect_list(\"genre_vector\").alias(\"genres_list\"),\n",
    "    collect_list(\"ratings\").alias(\"ratings_list\")\n",
    ")\n",
    "# Show df with new changes(without genres)\n",
    "# Drop the genre_vector and genre columns from the DataFrame\n",
    "df_without_info = df.drop(\"genre_vector\", \"genre\", \"developer_vector\", \"Developer\", \"publisher_vector\", \"Publisher\")\n",
    "\n",
    "# Show the DataFrame without the genre_vector and genre columns\n",
    "df_without_info.show()\n",
    "#df.show()"
   ]
  },
  {
   "cell_type": "markdown",
   "id": "1d091da2",
   "metadata": {},
   "source": [
    "Build user profile off this"
   ]
  },
  {
   "cell_type": "code",
   "execution_count": null,
   "id": "97211531",
   "metadata": {},
   "outputs": [
    {
     "name": "stdout",
     "output_type": "stream",
     "text": [
      "+-----------------+---------------------+--------------------+--------------------+\n",
      "|          steamid|combined_vectors_list|        ratings_list|        user_profile|\n",
      "+-----------------+---------------------+--------------------+--------------------+\n",
      "|76561197960271000| [[1, 0, 0, 0, 0, ...|                 [2]|[1.0, 0.0, 0.0, 0...|\n",
      "|76561197960334000| [[1, 0, 0, 0, 0, ...|[4, 2, 2, 2, 2, 1...|[1.0, 0.2, 0.0, 0...|\n",
      "|76561197960338000| [[1, 0, 0, 0, 0, ...|                 [2]|[1.0, 0.0, 0.0, 0...|\n",
      "|76561197960342000| [[1, 0, 0, 0, 0, ...|[2, 2, 2, 2, 2, 2...|[1.0, 0.5555556, ...|\n",
      "|76561197960425000| [[0, 0, 0, 0, 0, ...|           [2, 2, 2]|[0.33333334, 0.0,...|\n",
      "|76561197960458000| [[1, 0, 0, 0, 0, ...|[2, 2, 2, 1, 1, 1...|[1.0, 0.0, 0.0, 0...|\n",
      "|76561197960476000| [[1, 0, 0, 0, 0, ...|              [2, 2]|[1.0, 0.0, 0.0, 0...|\n",
      "|76561197960884000| [[1, 0, 0, 0, 0, ...|[1, 1, 1, 1, 5, 5...|[1.0, 0.29787233,...|\n",
      "|76561197961103000| [[1, 0, 0, 0, 0, ...|     [2, 2, 2, 2, 2]|[0.8, 0.0, 0.0, 0...|\n",
      "|76561197961354000| [[1, 0, 0, 0, 0, ...|                 [2]|[1.0, 0.0, 0.0, 0...|\n",
      "|76561197961366000| [[0, 0, 0, 0, 0, ...|[2, 2, 2, 2, 2, 2...|[0.779661, 0.1694...|\n",
      "|76561197961433000| [[1, 0, 0, 0, 0, ...|        [5, 5, 5, 5]|[1.0, 0.0, 0.0, 0...|\n",
      "|76561197961590000| [[0, 0, 0, 0, 0, ...|     [2, 2, 2, 2, 2]|[0.8, 0.0, 0.0, 0...|\n",
      "|76561197961685000| [[0, 0, 0, 0, 0, ...|[1, 1, 1, 1, 1, 2...|[0.8965517, 0.275...|\n",
      "|76561197961709000| [[1, 0, 0, 0, 0, ...|                 [2]|[1.0, 0.0, 0.0, 0...|\n",
      "|76561197961767000| [[1, 0, 0, 0, 0, ...|[2, 2, 2, 2, 2, 2...|[0.6433962, 0.254...|\n",
      "|76561197961870000| [[1, 0, 0, 0, 0, ...|              [2, 3]|[1.0, 0.0, 0.0, 0...|\n",
      "|76561197962090000| [[1, 0, 0, 0, 0, ...|[1, 1, 1, 2, 2, 5...|[0.625, 0.3181818...|\n",
      "|76561197962108000| [[0, 0, 0, 1, 0, ...|[1, 1, 1, 1, 1, 2...|[0.84615386, 0.0,...|\n",
      "|76561197962141000| [[1, 0, 0, 0, 0, ...|        [2, 5, 5, 5]|[1.0, 0.0, 0.0, 0...|\n",
      "+-----------------+---------------------+--------------------+--------------------+\n",
      "only showing top 20 rows\n",
      "\n"
     ]
    }
   ],
   "source": [
    "# combine vectors\n",
    "\n",
    "# Define a UDF to combine the vectors\n",
    "@udf(returnType=ArrayType(IntegerType()))\n",
    "def combined_vector(genre_vector, developer_vector, publisher_vector):\n",
    "    return genre_vector + developer_vector + publisher_vector\n",
    "\n",
    "# Add 'combined_vector' to the DataFrame\n",
    "df = df.withColumn(\"combined_vector\", combined_vector(\"genre_vector\", \"developer_vector\", \"publisher_vector\"))\n",
    "\n",
    "# Update the user profile calculation to use the new ratings column and include developer and publisher vectors\n",
    "user_aggregated_data = df.groupBy(\"steamid\").agg(\n",
    "    collect_list(\"combined_vector\").alias(\"combined_vectors_list\"),  \n",
    "    collect_list(\"ratings\").alias(\"ratings_list\")\n",
    ")\n",
    "\n",
    "# Define a UDF to calculate the weighted average of genre vectors\n",
    "weighted_avg_features_udf = udf(weighted_avg_features, ArrayType(FloatType()))\n",
    "\n",
    "# Calculate the user profile as the weighted average of rated item profiles (combined genre, developer, and publisher vectors)\n",
    "user_profiles = user_aggregated_data.withColumn(\"user_profile\", weighted_avg_features_udf(\"ratings_list\", \"combined_vectors_list\"))\n",
    "\n",
    "user_profiles.show()"
   ]
  },
  {
   "cell_type": "markdown",
   "id": "d6a4ab37",
   "metadata": {},
   "source": [
    "Cosine similarity"
   ]
  },
  {
   "cell_type": "code",
   "execution_count": null,
   "id": "d70bbca6",
   "metadata": {},
   "outputs": [
    {
     "name": "stdout",
     "output_type": "stream",
     "text": [
      "+------+--------------------+-----------------+---------------------+--------------------+--------------------+----------+\n",
      "| appid|     combined_vector|          steamid|combined_vectors_list|        ratings_list|        user_profile|similarity|\n",
      "+------+--------------------+-----------------+---------------------+--------------------+--------------------+----------+\n",
      "|104900|[1, 1, 0, 0, 0, 0...|76561197960334000| [[1, 0, 0, 0, 0, ...|[4, 2, 2, 2, 2, 1...|[1.0, 0.2, 0.0, 0...|0.55056196|\n",
      "|246800|[1, 0, 0, 0, 0, 0...|76561197960334000| [[1, 0, 0, 0, 0, ...|[4, 2, 2, 2, 2, 1...|[1.0, 0.2, 0.0, 0...| 0.5471529|\n",
      "|104900|[1, 1, 0, 0, 0, 0...|76561197960884000| [[1, 0, 0, 0, 0, ...|[1, 1, 1, 1, 5, 5...|[1.0, 0.29787233,...|0.54323024|\n",
      "| 65700|[1, 0, 0, 0, 0, 0...|76561197960458000| [[1, 0, 0, 0, 0, ...|[2, 2, 2, 1, 1, 1...|[1.0, 0.0, 0.0, 0...| 0.5240003|\n",
      "|246800|[1, 0, 0, 0, 0, 0...|76561197960884000| [[1, 0, 0, 0, 0, ...|[1, 1, 1, 1, 5, 5...|[1.0, 0.29787233,...| 0.5205856|\n",
      "|246800|[1, 0, 0, 0, 0, 0...|76561197961103000| [[1, 0, 0, 0, 0, ...|     [2, 2, 2, 2, 2]|[0.8, 0.0, 0.0, 0...| 0.5039526|\n",
      "|242700|[1, 0, 0, 0, 0, 0...|76561197960458000| [[1, 0, 0, 0, 0, ...|[2, 2, 2, 1, 1, 1...|[1.0, 0.0, 0.0, 0...|0.45566118|\n",
      "|246800|[1, 0, 0, 0, 0, 0...|76561197960458000| [[1, 0, 0, 0, 0, ...|[2, 2, 2, 1, 1, 1...|[1.0, 0.0, 0.0, 0...|0.45566118|\n",
      "|104900|[1, 1, 0, 0, 0, 0...|76561197961103000| [[1, 0, 0, 0, 0, ...|     [2, 2, 2, 2, 2]|[0.8, 0.0, 0.0, 0...|0.45074892|\n",
      "|242700|[1, 0, 0, 0, 0, 0...|76561197961103000| [[1, 0, 0, 0, 0, ...|     [2, 2, 2, 2, 2]|[0.8, 0.0, 0.0, 0...|0.44095856|\n",
      "+------+--------------------+-----------------+---------------------+--------------------+--------------------+----------+\n",
      "only showing top 10 rows\n",
      "\n"
     ]
    }
   ],
   "source": [
    "# prediction heuristics\n",
    "# calculate cosine distance of an item and user profile\n",
    "\n",
    "# 1. create udf for cosine similarity\n",
    "cosine_similarity = udf(cosine_similarity_udf, FloatType())\n",
    "# create dataframe with combined vectors\n",
    "games_combined_vectors_df = df.select(\"appid\", \"combined_vector\").distinct()\n",
    "# cross join the the combined vectors with the user_profiles\n",
    "cross_joined = games_combined_vectors_df.crossJoin(user_profiles)\n",
    "\n",
    "#limit the number of rows for testing\n",
    "games_combined_vectors_df = games_combined_vectors_df.limit(10)\n",
    "user_profiles = user_profiles.limit(10)\n",
    "#cross join the combined vectors with the user_profiles\n",
    "cross_joined = games_combined_vectors_df.crossJoin(user_profiles)\n",
    "\n",
    "# calculate the cosine similarity between each item and user\n",
    "recommendations = cross_joined.withColumn(\n",
    "    \"similarity\", cosine_similarity(\"combined_vector\", \"user_profile\")\n",
    ")\n",
    "\n",
    "# sort based on similarity score\n",
    "sorted_recommendations = recommendations.sort(desc(\"similarity\"))\n",
    "\n",
    "sorted_recommendations.show(10)"
   ]
  },
  {
   "cell_type": "markdown",
   "id": "76ff5337",
   "metadata": {},
   "source": [
    "recommender"
   ]
  },
  {
   "cell_type": "code",
   "execution_count": null,
   "id": "225f173a",
   "metadata": {},
   "outputs": [
    {
     "name": "stdout",
     "output_type": "stream",
     "text": [
      "+------+--------------------+-----------------+---------------------+------------+--------------------+----------+----+\n",
      "| appid|     combined_vector|          steamid|combined_vectors_list|ratings_list|        user_profile|similarity|rank|\n",
      "+------+--------------------+-----------------+---------------------+------------+--------------------+----------+----+\n",
      "|246800|[1, 0, 0, 0, 0, 0...|76561197960271000| [[1, 0, 0, 0, 0, ...|         [2]|[1.0, 0.0, 0.0, 0...|0.28867513|   1|\n",
      "|242700|[1, 0, 0, 0, 0, 0...|76561197960271000| [[1, 0, 0, 0, 0, ...|         [2]|[1.0, 0.0, 0.0, 0...|0.28867513|   2|\n",
      "| 65700|[1, 0, 0, 0, 0, 0...|76561197960271000| [[1, 0, 0, 0, 0, ...|         [2]|[1.0, 0.0, 0.0, 0...| 0.2581989|   3|\n",
      "|104900|[1, 1, 0, 0, 0, 0...|76561197960271000| [[1, 0, 0, 0, 0, ...|         [2]|[1.0, 0.0, 0.0, 0...| 0.2581989|   4|\n",
      "|  4700|[0, 0, 0, 0, 0, 0...|76561197960271000| [[1, 0, 0, 0, 0, ...|         [2]|[1.0, 0.0, 0.0, 0...|       0.0|   5|\n",
      "| 10500|[0, 0, 0, 0, 0, 0...|76561197960271000| [[1, 0, 0, 0, 0, ...|         [2]|[1.0, 0.0, 0.0, 0...|       0.0|   6|\n",
      "| 63600|[0, 1, 0, 1, 0, 0...|76561197960271000| [[1, 0, 0, 0, 0, ...|         [2]|[1.0, 0.0, 0.0, 0...|       0.0|   7|\n",
      "| 49000|[0, 0, 0, 1, 0, 0...|76561197960271000| [[1, 0, 0, 0, 0, ...|         [2]|[1.0, 0.0, 0.0, 0...|       0.0|   8|\n",
      "| 16300|[0, 0, 0, 1, 0, 0...|76561197960271000| [[1, 0, 0, 0, 0, ...|         [2]|[1.0, 0.0, 0.0, 0...|       0.0|   9|\n",
      "| 35300|[0, 0, 0, 0, 0, 0...|76561197960271000| [[1, 0, 0, 0, 0, ...|         [2]|[1.0, 0.0, 0.0, 0...|       0.0|  10|\n",
      "+------+--------------------+-----------------+---------------------+------------+--------------------+----------+----+\n",
      "only showing top 10 rows\n",
      "\n"
     ]
    }
   ],
   "source": [
    "# Create a window by steamid and similarity to get ranking\n",
    "window_spec = Window.partitionBy(\"steamid\").orderBy(desc(\"similarity\"))\n",
    "\n",
    "ranked_recommendations = sorted_recommendations.withColumn(\"rank\", F.row_number().over(window_spec))\n",
    "\n",
    "top_10_recommendations = ranked_recommendations.filter(ranked_recommendations.rank <= 10)\n",
    "top_10_recommendations.show(10)"
   ]
  },
  {
   "cell_type": "code",
   "execution_count": null,
   "id": "5d5ecb85",
   "metadata": {},
   "outputs": [],
   "source": []
  }
 ],
 "metadata": {
  "kernelspec": {
   "display_name": "Python 3 (ipykernel)",
   "language": "python",
   "name": "python3"
  },
  "language_info": {
   "codemirror_mode": {
    "name": "ipython",
    "version": 3
   },
   "file_extension": ".py",
   "mimetype": "text/x-python",
   "name": "python",
   "nbconvert_exporter": "python",
   "pygments_lexer": "ipython3",
   "version": "3.10.10"
  }
 },
 "nbformat": 4,
 "nbformat_minor": 5
}
