{
 "cells": [
  {
   "cell_type": "markdown",
   "id": "d5e9470f",
   "metadata": {},
   "source": [
    "Imports"
   ]
  },
  {
   "cell_type": "code",
   "execution_count": 39,
   "id": "21be3b41",
   "metadata": {},
   "outputs": [],
   "source": [
    "from pyspark.sql import SparkSession\n",
    "from pyspark.rdd import RDD\n",
    "from pyspark.sql import Row\n",
    "from pyspark.sql import DataFrame\n",
    "from pyspark.sql.window import Window #for ranking\n",
    "from pyspark.sql.functions import lit, mean, stddev_pop\n",
    "from pyspark.sql.functions import collect_set, collect_list\n",
    "from pyspark.sql.functions import struct\n",
    "from pyspark.sql.functions import slice\n",
    "from pyspark.sql.functions import col\n",
    "from pyspark.sql.functions import desc\n",
    "from pyspark.sql.functions import udf\n",
    "from pyspark.ml.evaluation import RegressionEvaluator\n",
    "from pyspark.ml.recommendation import ALS\n",
    "from pyspark.sql.types import DecimalType, ArrayType, IntegerType, FloatType\n",
    "import pyspark.sql.functions as F\n",
    "from pyspark.sql.functions import avg, broadcast, when"
   ]
  },
  {
   "cell_type": "markdown",
   "id": "76529ee7",
   "metadata": {},
   "source": [
    "Define cosine similarity and weighted avg functions"
   ]
  },
  {
   "cell_type": "code",
   "execution_count": 40,
   "id": "6d311240",
   "metadata": {},
   "outputs": [],
   "source": [
    "# cosine similarity function\n",
    "def cosine_similarity_udf(a, b):\n",
    "    dot_product = sum([x * y for x, y in zip(a, b)])\n",
    "    norm_a = sum([x**2 for x in a])**0.5\n",
    "    norm_b = sum([x**2 for x in b])**0.5\n",
    "    return dot_product / (norm_a * norm_b)\n",
    "\n",
    "\n",
    "# weighted average features function\n",
    "def weighted_avg_features(ratings, features):\n",
    "    if not ratings or not features:\n",
    "        return []\n",
    "\n",
    "    weighted_sum = [0] * len(features[0])\n",
    "    total_weight = 0\n",
    "\n",
    "    for rating, feature in zip(ratings, features):\n",
    "        weight = float(rating)\n",
    "        total_weight += weight\n",
    "        weighted_sum = [ws + weight * f for ws, f in zip(weighted_sum, feature)]\n",
    "\n",
    "    if total_weight == 0:\n",
    "        return weighted_sum\n",
    "\n",
    "    return [ws / total_weight for ws in weighted_sum]"
   ]
  },
  {
   "cell_type": "markdown",
   "id": "69354ddb",
   "metadata": {},
   "source": [
    "Load Dataset"
   ]
  },
  {
   "cell_type": "code",
   "execution_count": 41,
   "id": "0b130234",
   "metadata": {},
   "outputs": [],
   "source": [
    "spark = SparkSession.builder.appName('ReadMySQL') \\\n",
    ".config(\"spark.driver.memory\", \"32g\") \\\n",
    ".config(\"spark.sql.pivotMaxValues\", \"1000000\") \\\n",
    ".config(\"spark.jars\", \"C:\\\\Program Files (x86)\\\\MySQL\\\\Connector J 8.0\\\\mysql-connector-j-8.0.32.jar\") \\\n",
    ".getOrCreate()\n",
    "\n",
    "# sql = \"select * from 01_sampled_games_2v2 WHERE playtime_forever IS NOT NULL AND playtime_forever > 0\"\n",
    "sql = \"\"\"\n",
    "SELECT p.steamid, p.appid, p.playtime_2weeks, p.playtime_forever, p.dateretrieved, g.genre\n",
    "FROM 01_sampled_games_2v2 AS p\n",
    "JOIN games_genres AS g ON p.appid = g.appid\n",
    "WHERE p.playtime_forever IS NOT NULL AND p.playtime_forever > 0\n",
    "\"\"\"\n",
    "database = \"steam\"\n",
    "user = \"root\"\n",
    "password = \"root\"\n",
    "server = \"127.0.0.1\"\n",
    "port = 3307\n",
    "jdbc_url = f\"jdbc:mysql://{server}:{port}/{database}\"\n",
    "jdbc_driver = \"com.mysql.cj.jdbc.Driver\"\n",
    "\n",
    "# Create a data frame by reading data from Oracle via JDBC\n",
    "df = spark.read.format(\"jdbc\") \\\n",
    "    .option(\"url\", jdbc_url) \\\n",
    "    .option(\"query\", sql) \\\n",
    "    .option(\"user\", user) \\\n",
    "    .option(\"password\", password) \\\n",
    "    .option(\"driver\", jdbc_driver) \\\n",
    "    .load()\n",
    "\n",
    "df = df.drop(\"playtime_2weeks\", \"dateretrieved\")"
   ]
  },
  {
   "cell_type": "code",
   "execution_count": 42,
   "id": "3c922e29",
   "metadata": {},
   "outputs": [
    {
     "name": "stdout",
     "output_type": "stream",
     "text": [
      "Dataframe has 177826  rows.\n",
      "+-----------------+-----+----------------+----------+\n",
      "|          steamid|appid|playtime_forever|     genre|\n",
      "+-----------------+-----+----------------+----------+\n",
      "|76561197960268000|  300|             109|    Action|\n",
      "|76561197960268000| 1300|              94|    Action|\n",
      "|76561197960268000| 2100|             110|    Action|\n",
      "|76561197960268000| 2100|             110|       RPG|\n",
      "|76561197960268000| 4000|             152|     Indie|\n",
      "|76561197960268000| 4000|             152|Simulation|\n",
      "|76561197960268000| 2600|              59|    Action|\n",
      "|76561197960268000| 9000|               2|    Action|\n",
      "|76561197960268000| 2300|              40|    Action|\n",
      "|76561197960268000| 2200|             210|    Action|\n",
      "|76561197960268000| 4500|            1002|    Action|\n",
      "|76561197960268000| 4500|            1002|       RPG|\n",
      "|76561197960268000|  400|             380|    Action|\n",
      "|76561197960268000|17300|            4312|    Action|\n",
      "|76561197960268000|  500|             198|    Action|\n",
      "|76561197960268000|22300|             425|       RPG|\n",
      "|76561197960268000|19900|             111|    Action|\n",
      "|76561197960268000|18500|            1160|     Indie|\n",
      "|76561197960268000|18500|            1160|  Strategy|\n",
      "|76561197960268000|22200|              20|    Action|\n",
      "+-----------------+-----+----------------+----------+\n",
      "only showing top 20 rows\n",
      "\n"
     ]
    }
   ],
   "source": [
    "# count number of rows in the dataframe\n",
    "row_count = df.count()\n",
    "# print the row count\n",
    "print(\"Dataframe has\", row_count, \" rows.\")\n",
    "df.show()"
   ]
  },
  {
   "cell_type": "markdown",
   "id": "ccf621a0",
   "metadata": {},
   "source": [
    "Build item profiles"
   ]
  },
  {
   "cell_type": "code",
   "execution_count": 43,
   "id": "dca7e7be",
   "metadata": {},
   "outputs": [
    {
     "name": "stdout",
     "output_type": "stream",
     "text": [
      "+-----+-----------------+----------------+----------+--------------------+\n",
      "|appid|          steamid|playtime_forever|     genre|        genre_vector|\n",
      "+-----+-----------------+----------------+----------+--------------------+\n",
      "|  300|76561197960268000|             109|    Action|[1, 0, 0, 0, 0, 0...|\n",
      "| 1300|76561197960268000|              94|    Action|[1, 0, 0, 0, 0, 0...|\n",
      "| 2100|76561197960268000|             110|    Action|[1, 0, 0, 0, 0, 0...|\n",
      "| 2100|76561197960268000|             110|       RPG|[1, 0, 0, 0, 0, 0...|\n",
      "| 4000|76561197960268000|             152|     Indie|[0, 0, 0, 0, 0, 0...|\n",
      "| 4000|76561197960268000|             152|Simulation|[0, 0, 0, 0, 0, 0...|\n",
      "| 2600|76561197960268000|              59|    Action|[1, 0, 0, 0, 0, 0...|\n",
      "| 9000|76561197960268000|               2|    Action|[1, 0, 0, 0, 0, 0...|\n",
      "| 2300|76561197960268000|              40|    Action|[1, 0, 0, 0, 0, 0...|\n",
      "| 2200|76561197960268000|             210|    Action|[1, 0, 0, 0, 0, 0...|\n",
      "| 4500|76561197960268000|            1002|    Action|[1, 0, 0, 0, 0, 0...|\n",
      "| 4500|76561197960268000|            1002|       RPG|[1, 0, 0, 0, 0, 0...|\n",
      "|  400|76561197960268000|             380|    Action|[1, 0, 0, 0, 0, 0...|\n",
      "|17300|76561197960268000|            4312|    Action|[1, 0, 0, 0, 0, 0...|\n",
      "|  500|76561197960268000|             198|    Action|[1, 0, 0, 0, 0, 0...|\n",
      "|22300|76561197960268000|             425|       RPG|[0, 0, 0, 0, 0, 0...|\n",
      "|19900|76561197960268000|             111|    Action|[1, 0, 0, 0, 0, 0...|\n",
      "|18500|76561197960268000|            1160|     Indie|[0, 0, 0, 0, 0, 0...|\n",
      "|18500|76561197960268000|            1160|  Strategy|[0, 0, 0, 0, 0, 0...|\n",
      "|22200|76561197960268000|              20|    Action|[1, 0, 0, 0, 0, 0...|\n",
      "+-----+-----------------+----------------+----------+--------------------+\n",
      "only showing top 20 rows\n",
      "\n"
     ]
    }
   ],
   "source": [
    "# build the item profiles\n",
    "# Group the data by 'appid' and collect the genres for each game into a list\n",
    "games_genres_df = df.groupBy(\"appid\").agg(collect_set(\"genre\").alias(\"genres\"))\n",
    "\n",
    "# Create a list of unique genres\n",
    "unique_genres = sorted(df.select(\"genre\").distinct().rdd.flatMap(lambda x: x).collect())\n",
    "\n",
    "# Define a UDF to create a binary vector for each game's genres\n",
    "@udf(returnType=ArrayType(IntegerType()))\n",
    "def genre_vector(genres):\n",
    "    return [1 if genre in genres else 0 for genre in unique_genres]\n",
    "# Add a new column 'genre_vector' to the DataFrame\n",
    "# the genre vector will now have a 1 for each genre that the game belongs to\n",
    "games_genres_df = games_genres_df.withColumn(\"genre_vector\", genre_vector(\"genres\"))\n",
    "\n",
    "# games_genres_df.show(truncate=False)\n",
    "# Join the main DataFrame with the games_genres_df on appid to include the genre_vector\n",
    "df = df.join(broadcast(games_genres_df.select(\"appid\", \"genre_vector\")), on=\"appid\")\n",
    "df.show()"
   ]
  },
  {
   "cell_type": "markdown",
   "id": "18cf0603",
   "metadata": {},
   "source": [
    "Build the user profile"
   ]
  },
  {
   "cell_type": "code",
   "execution_count": 45,
   "id": "9dfbc4db",
   "metadata": {
    "scrolled": true
   },
   "outputs": [
    {
     "name": "stdout",
     "output_type": "stream",
     "text": [
      "+-----------------+--------------------+------------------------+--------------------+\n",
      "|          steamid|         genres_list|playtime_normalized_list|        user_profile|\n",
      "+-----------------+--------------------+------------------------+--------------------+\n",
      "|76561197960268000|[[0, 0, 0, 1, 0, ...|    [1.0, 1.0, 1.0, 1...|[0.69411767, 0.21...|\n",
      "|76561197960274000|[[1, 0, 0, 0, 0, ...|    [1.0, 1.0, 1.0, 1...|[0.77272725, 0.04...|\n",
      "|76561197960277000|[[1, 0, 0, 0, 0, ...|              [1.0, 1.0]|[1.0, 0.0, 0.0, 0...|\n",
      "|76561197960283000|[[1, 0, 0, 1, 0, ...|    [1.0, 1.0, 1.0, 1...|[0.375, 0.125, 0....|\n",
      "|76561197960288000|[[1, 0, 0, 0, 0, ...|                   [1.0]|[1.0, 0.0, 0.0, 0...|\n",
      "|76561197960293000|[[0, 0, 0, 1, 0, ...|    [1.0, 1.0, 1.0, 1...|[0.21428572, 0.21...|\n",
      "|76561197960303000|[[1, 0, 0, 0, 0, ...|                   [1.0]|[1.0, 0.0, 0.0, 0...|\n",
      "|76561197960306000|[[1, 0, 0, 0, 0, ...|    [1.0, 1.0, 1.0, 1...|[0.5744681, 0.276...|\n",
      "|76561197960324000|[[1, 0, 0, 0, 0, ...|              [1.0, 1.0]|[0.5, 0.0, 0.0, 0...|\n",
      "|76561197960328000|[[0, 0, 0, 0, 0, ...|                   [1.0]|[0.0, 0.0, 0.0, 0...|\n",
      "|76561197960329000|[[1, 0, 0, 0, 0, ...|         [1.0, 1.0, 1.0]|[0.6666667, 0.0, ...|\n",
      "|76561197960341000|[[1, 0, 0, 0, 0, ...|                   [1.0]|[1.0, 0.0, 0.0, 0...|\n",
      "|76561197960355000|[[1, 0, 0, 0, 0, ...|         [1.0, 1.0, 1.0]|[0.6666667, 0.333...|\n",
      "|76561197960364000|[[1, 0, 0, 0, 0, ...|                   [1.0]|[1.0, 0.0, 0.0, 0...|\n",
      "|76561197960370000|[[1, 0, 0, 0, 0, ...|                   [1.0]|[1.0, 0.0, 0.0, 0...|\n",
      "|76561197960378000|[[0, 1, 0, 1, 0, ...|                   [1.0]|[0.0, 1.0, 0.0, 1...|\n",
      "|76561197960409000|[[1, 0, 0, 0, 0, ...|                   [1.0]|[1.0, 0.0, 0.0, 0...|\n",
      "|76561197960417000|[[0, 0, 0, 1, 0, ...|    [1.0, 1.0, 1.0, 1...|[0.33333334, 0.26...|\n",
      "|76561197960421000|[[0, 0, 0, 0, 0, ...|                   [1.0]|[0.0, 0.0, 0.0, 0...|\n",
      "|76561197960444000|[[0, 0, 0, 1, 0, ...|                   [1.0]|[0.0, 0.0, 0.0, 1...|\n",
      "+-----------------+--------------------+------------------------+--------------------+\n",
      "only showing top 20 rows\n",
      "\n"
     ]
    }
   ],
   "source": [
    "# 1. Calculate the global playtime average for each game\n",
    "global_playtime_avg = df.groupBy(\"appid\").agg(avg(\"playtime_forever\").alias(\"global_playtime_avg\"))\n",
    "\n",
    "# 2. Normalize the user's playtime for each game based on the global average\n",
    "df = df.join(broadcast(global_playtime_avg), on=\"appid\")\n",
    "df = df.withColumn(\"playtime_normalized\", F.when(df.playtime_forever == 0, 1).otherwise(df.playtime_forever / df.global_playtime_avg))\n",
    "\n",
    "# 3. Implement the user profile\n",
    "# First, let's group the data by user and aggregate the genre vectors and normalized playtimes\n",
    "user_aggregated_data = df.groupBy(\"steamid\").agg(\n",
    "    collect_list(\"genre_vector\").alias(\"genres_list\"),\n",
    "    collect_list(\"playtime_normalized\").alias(\"playtime_normalized_list\")\n",
    ")\n",
    "\n",
    "# Now, let's define a UDF to calculate the weighted average of genre vectors\n",
    "weighted_avg_features_udf = udf(weighted_avg_features, ArrayType(FloatType()))\n",
    "\n",
    "# Calculate the user profile as the weighted average of rated item profiles (genre vectors)\n",
    "user_profiles = user_aggregated_data.withColumn(\"user_profile\", weighted_avg_features_udf(\"playtime_normalized_list\", \"genres_list\"))\n",
    "\n",
    "user_profiles.show()"
   ]
  },
  {
   "cell_type": "markdown",
   "id": "1122cace",
   "metadata": {},
   "source": [
    "Cosine similarity"
   ]
  },
  {
   "cell_type": "code",
   "execution_count": 46,
   "id": "3b9840bd",
   "metadata": {},
   "outputs": [
    {
     "name": "stdout",
     "output_type": "stream",
     "text": [
      "+-----+---------------+--------------------+-----------------+--------------------+------------------------+--------------------+----------+\n",
      "|appid|         genres|        genre_vector|          steamid|         genres_list|playtime_normalized_list|        user_profile|similarity|\n",
      "+-----+---------------+--------------------+-----------------+--------------------+------------------------+--------------------+----------+\n",
      "| 4300|[Action, Indie]|[1, 0, 0, 0, 0, 0...|76561197960288000|[[1, 0, 0, 0, 0, ...|                   [1.0]|[1.0, 0.0, 0.0, 0...|       1.0|\n",
      "|42500|[Action, Indie]|[1, 0, 0, 0, 0, 0...|76561197960288000|[[1, 0, 0, 0, 0, ...|                   [1.0]|[1.0, 0.0, 0.0, 0...|       1.0|\n",
      "|19200|[Action, Indie]|[1, 0, 0, 0, 0, 0...|76561197960288000|[[1, 0, 0, 0, 0, ...|                   [1.0]|[1.0, 0.0, 0.0, 0...|       1.0|\n",
      "|22200|[Action, Indie]|[1, 0, 0, 0, 0, 0...|76561197960288000|[[1, 0, 0, 0, 0, ...|                   [1.0]|[1.0, 0.0, 0.0, 0...|       1.0|\n",
      "|26000|[Action, Indie]|[1, 0, 0, 0, 0, 0...|76561197960288000|[[1, 0, 0, 0, 0, ...|                   [1.0]|[1.0, 0.0, 0.0, 0...|       1.0|\n",
      "|26300|[Action, Indie]|[1, 0, 0, 0, 0, 0...|76561197960288000|[[1, 0, 0, 0, 0, ...|                   [1.0]|[1.0, 0.0, 0.0, 0...|       1.0|\n",
      "|31700|[Action, Indie]|[1, 0, 0, 0, 0, 0...|76561197960288000|[[1, 0, 0, 0, 0, ...|                   [1.0]|[1.0, 0.0, 0.0, 0...|       1.0|\n",
      "|36000|[Action, Indie]|[1, 0, 0, 0, 0, 0...|76561197960288000|[[1, 0, 0, 0, 0, ...|                   [1.0]|[1.0, 0.0, 0.0, 0...|       1.0|\n",
      "|39800|[Action, Indie]|[1, 0, 0, 0, 0, 0...|76561197960288000|[[1, 0, 0, 0, 0, ...|                   [1.0]|[1.0, 0.0, 0.0, 0...|       1.0|\n",
      "|41000|[Action, Indie]|[1, 0, 0, 0, 0, 0...|76561197960288000|[[1, 0, 0, 0, 0, ...|                   [1.0]|[1.0, 0.0, 0.0, 0...|       1.0|\n",
      "+-----+---------------+--------------------+-----------------+--------------------+------------------------+--------------------+----------+\n",
      "only showing top 10 rows\n",
      "\n"
     ]
    }
   ],
   "source": [
    "# prediction heuristics\n",
    "# calculate cosine distance of an item and user profile\n",
    "\n",
    "# 1. create udf for cosine similarity\n",
    "cosine_similarity = udf(cosine_similarity_udf, FloatType())\n",
    "# cross join the game_genres_df with the user_profiles\n",
    "cross_joined = games_genres_df.crossJoin(user_profiles)\n",
    "\n",
    "# calculate the cosine similarity between each item and user\n",
    "recommendations = cross_joined.withColumn(\n",
    "    \"similarity\", cosine_similarity(\"genre_vector\", \"user_profile\")\n",
    ")\n",
    "\n",
    "# sort based on similarity score\n",
    "sorted_recommendations = recommendations.sort(desc(\"similarity\"))\n",
    "\n",
    "sorted_recommendations.show(10)"
   ]
  },
  {
   "cell_type": "markdown",
   "id": "d55392e6",
   "metadata": {},
   "source": [
    "recommender"
   ]
  },
  {
   "cell_type": "code",
   "execution_count": 47,
   "id": "53fb52bc",
   "metadata": {},
   "outputs": [
    {
     "name": "stdout",
     "output_type": "stream",
     "text": [
      "+-----+---------------+--------------------+-----------------+--------------------+------------------------+--------------------+----------+----+\n",
      "|appid|         genres|        genre_vector|          steamid|         genres_list|playtime_normalized_list|        user_profile|similarity|rank|\n",
      "+-----+---------------+--------------------+-----------------+--------------------+------------------------+--------------------+----------+----+\n",
      "| 4300|[Action, Indie]|[1, 0, 0, 0, 0, 0...|76561197960306000|[[1, 0, 0, 0, 0, ...|    [1.0, 1.0, 1.0, 1...|[0.5744681, 0.276...|0.90234315|   1|\n",
      "+-----+---------------+--------------------+-----------------+--------------------+------------------------+--------------------+----------+----+\n",
      "only showing top 1 row\n",
      "\n"
     ]
    }
   ],
   "source": [
    "# Create a window by steamid and similarity to get ranking\n",
    "window_spec = Window.partitionBy(\"steamid\").orderBy(desc(\"similarity\"))\n",
    "\n",
    "ranked_recommendations = sorted_recommendations.withColumn(\"rank\", F.row_number().over(window_spec))\n",
    "\n",
    "top_10_recommendations = ranked_recommendations.filter(ranked_recommendations.rank <= 10)\n",
    "top_10_recommendations.show(1)"
   ]
  },
  {
   "cell_type": "code",
   "execution_count": null,
   "id": "c4091eac",
   "metadata": {},
   "outputs": [],
   "source": []
  }
 ],
 "metadata": {
  "kernelspec": {
   "display_name": "Python 3 (ipykernel)",
   "language": "python",
   "name": "python3"
  },
  "language_info": {
   "codemirror_mode": {
    "name": "ipython",
    "version": 3
   },
   "file_extension": ".py",
   "mimetype": "text/x-python",
   "name": "python",
   "nbconvert_exporter": "python",
   "pygments_lexer": "ipython3",
   "version": "3.8.11"
  }
 },
 "nbformat": 4,
 "nbformat_minor": 5
}
